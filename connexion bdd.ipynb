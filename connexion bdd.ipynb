{
 "cells": [
  {
   "cell_type": "code",
   "execution_count": 7,
   "metadata": {},
   "outputs": [],
   "source": [
    "import mysql.connector "
   ]
  },
  {
   "cell_type": "code",
   "execution_count": 19,
   "metadata": {},
   "outputs": [],
   "source": [
    "conn = mysql.connector.connect(host=\"104.155.111.115\",user=\"root\",password=\"corentin\", database=\"chef\")\n",
    "cursor = conn.cursor()\n",
    "#conn.close()"
   ]
  },
  {
   "cell_type": "code",
   "execution_count": 25,
   "metadata": {},
   "outputs": [
    {
     "name": "stdout",
     "output_type": "stream",
     "text": [
      "Kitsuné : T-shirt à écusson tête danimal - https://www.galerieslafayette.com/p/t-shirt+a+ecusson+tete+d+animal-kitsune/50894664/85\n",
      "Harris Wilson : T-shirt manches longues Yarsone - https://www.galerieslafayette.com/p/t-shirt+manches+longues+yarsone-harris+wilson/54905855/103\n",
      "Kitsuné : T-shirt en coton à logo tricolore - https://www.galerieslafayette.com/p/t-shirt+en+coton+a+logo+tricolore-kitsune/50894646/233\n",
      "Zadig & Voltaire : T-shirt Toby Cold Dye - https://www.galerieslafayette.com/p/t-shirt+toby+cold+dye-zadig+voltaire/50818493/122\n",
      "Polo Ralph Lauren : T-shirt en coton custom slim fit - https://www.galerieslafayette.com/p/t-shirt+en+coton+custom+slim+fit-polo+ralph+lauren/55252268/101\n"
     ]
    }
   ],
   "source": [
    "cursor.execute(\"SELECT * FROM Vetement LIMIT 5;\")\n",
    "rows = cursor.fetchall()\n",
    "for row in rows:\n",
    "    print('{0} : {1} - {2}'.format(row[0], row[1], row[2]))"
   ]
  }
 ],
 "metadata": {
  "kernelspec": {
   "display_name": "Python 3",
   "language": "python",
   "name": "python3"
  },
  "language_info": {
   "codemirror_mode": {
    "name": "ipython",
    "version": 3
   },
   "file_extension": ".py",
   "mimetype": "text/x-python",
   "name": "python",
   "nbconvert_exporter": "python",
   "pygments_lexer": "ipython3",
   "version": "3.6.4"
  }
 },
 "nbformat": 4,
 "nbformat_minor": 2
}
