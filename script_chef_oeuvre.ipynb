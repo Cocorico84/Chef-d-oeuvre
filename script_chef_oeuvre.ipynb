{
 "cells": [
  {
   "cell_type": "code",
   "execution_count": 1,
   "metadata": {},
   "outputs": [],
   "source": [
    "import requests\n",
    "import json\n",
    "import mysql.connector"
   ]
  },
  {
   "cell_type": "code",
   "execution_count": 3,
   "metadata": {},
   "outputs": [],
   "source": [
    "conn = mysql.connector.connect(host=\"104.155.111.115\",user=\"root\",password=\"corentin\", database=\"meteo\")\n",
    "cursor = conn.cursor()\n",
    "#conn.close()"
   ]
  },
  {
   "cell_type": "code",
   "execution_count": 4,
   "metadata": {},
   "outputs": [],
   "source": [
    "def convert(kel):\n",
    "    celsius = (kel- 273.15)\n",
    "    return round(celsius, 2)"
   ]
  },
  {
   "cell_type": "code",
   "execution_count": 5,
   "metadata": {},
   "outputs": [],
   "source": [
    "def choix_vetement_h(temp):\n",
    "    if temp < 15:\n",
    "        print(\"Choix T-shirt :\")\n",
    "        cursor.execute(\"SELECT * FROM Vetement WHERE genre ='h' AND item = 'ts' ORDER BY RAND() LIMIT 3;\")\n",
    "        rows = cursor.fetchall()\n",
    "        for row in rows:\n",
    "            print('{0} : {1} - {3}€ - {2}'.format(row[0], row[1], row[2], row[3] ))\n",
    "        print(\"-------------------------------------------------------\")\n",
    "        print(\"Choix Pull :\")\n",
    "        cursor.execute(\"SELECT * FROM Vetement WHERE genre ='h' AND item = 'pull' ORDER BY RAND() LIMIT 3;\")\n",
    "        rows = cursor.fetchall()\n",
    "        for row in rows:\n",
    "            print('{0} : {1} - {3}€ - {2}'.format(row[0], row[1], row[2], row[3] ))\n",
    "        print(\"-------------------------------------------------------\")\n",
    "        print(\"Choix Pantalon :\")\n",
    "        cursor.execute(\"SELECT * FROM Vetement WHERE genre ='h' AND item = 'pant' ORDER BY RAND() LIMIT 3;\")\n",
    "        rows = cursor.fetchall()\n",
    "        for row in rows:\n",
    "            print('{0} : {1} - {3}€ - {2}'.format(row[0], row[1], row[2], row[3] ))  \n",
    "            \n",
    "    if temp >= 15 and temp <= 20:\n",
    "        print(\"Choix T-shirt :\")\n",
    "        cursor.execute(\"SELECT * FROM Vetement WHERE genre ='h' AND item = 'ts' ORDER BY RAND() LIMIT 3;\")\n",
    "        rows = cursor.fetchall()\n",
    "        for row in rows:\n",
    "            print('{0} : {1} - {3}€ - {2}'.format(row[0], row[1], row[2], row[3] ))\n",
    "        print(\"-------------------------------------------------------\")\n",
    "        print(\"Choix Pantalon :\")\n",
    "        cursor.execute(\"SELECT * FROM Vetement WHERE genre ='h' AND item = 'pant' ORDER BY RAND() LIMIT 3;\")\n",
    "        rows = cursor.fetchall()\n",
    "        for row in rows:\n",
    "            print('{0} : {1} - {3}€ - {2}'.format(row[0], row[1], row[2], row[3] ))\n",
    "    if temp > 20:\n",
    "        print(\"Choix Débardeur :\")\n",
    "        cursor.execute(\"SELECT * FROM Vetement WHERE genre ='h' AND item = 'deb' ORDER BY RAND() LIMIT 3;\")\n",
    "        rows = cursor.fetchall()\n",
    "        for row in rows:\n",
    "            print('{0} : {1} - {3}€ - {2}'.format(row[0], row[1], row[2], row[3] ))\n",
    "        print(\"-------------------------------------------------------\")\n",
    "        print(\"Choix Short :\")\n",
    "        cursor.execute(\"SELECT * FROM Vetement WHERE genre ='h' AND item = 'short' ORDER BY RAND() LIMIT 3;\")\n",
    "        rows = cursor.fetchall()\n",
    "        for row in rows:\n",
    "            print('{0} : {1} - {3}€ - {2}'.format(row[0], row[1], row[2], row[3] ))\n",
    "        print(\"-------------------------------------------------------\")\n",
    "    if rain > 0:\n",
    "        print(\"Choix Parapluie :\")\n",
    "        cursor.execute(\"SELECT * FROM Vetement WHERE item = 'para' ORDER BY RAND() LIMIT 3;\")\n",
    "        rows = cursor.fetchall()\n",
    "        for row in rows:\n",
    "            print('{0} : {1} - {3}€ - {2}'.format(row[0], row[1], row[2], row[3] ))     \n",
    "        print(\"-------------------------------------------------------\")\n",
    "    "
   ]
  },
  {
   "cell_type": "code",
   "execution_count": 6,
   "metadata": {},
   "outputs": [],
   "source": [
    "def choix_vetement_f(temp):\n",
    "    if temp < 15:\n",
    "        print(\"Choix T-shirt :\")\n",
    "        cursor.execute(\"SELECT * FROM Vetement WHERE genre ='f' AND item = 'ts' ORDER BY RAND() LIMIT 3;\")\n",
    "        rows = cursor.fetchall()\n",
    "        for row in rows:\n",
    "            print('{0} : {1} - {3}€ - {2}'.format(row[0], row[1], row[2], row[3] ))\n",
    "        print(\"-------------------------------------------------------\")\n",
    "        print(\"Choix Pull :\")\n",
    "        cursor.execute(\"SELECT * FROM Vetement WHERE genre ='f' AND item = 'pull' ORDER BY RAND() LIMIT 3;\")\n",
    "        rows = cursor.fetchall()\n",
    "        for row in rows:\n",
    "            print('{0} : {1} - {3}€ - {2}'.format(row[0], row[1], row[2], row[3] ))\n",
    "        print(\"-------------------------------------------------------\")\n",
    "        print(\"Choix Pantalon :\")\n",
    "        cursor.execute(\"SELECT * FROM Vetement WHERE genre ='f' AND item = 'pant' ORDER BY RAND() LIMIT 3;\")\n",
    "        rows = cursor.fetchall()\n",
    "        for row in rows:\n",
    "            print('{0} : {1} - {3}€ - {2}'.format(row[0], row[1], row[2], row[3] ))  \n",
    "            \n",
    "    if temp >= 15 and temp <= 20:\n",
    "        print(\"Choix T-shirt :\")\n",
    "        cursor.execute(\"SELECT * FROM Vetement WHERE genre ='f' AND item = 'ts' ORDER BY RAND() LIMIT 3;\")\n",
    "        rows = cursor.fetchall()\n",
    "        for row in rows:\n",
    "            print('{0} : {1} - {3}€ - {2}'.format(row[0], row[1], row[2], row[3] ))\n",
    "        print(\"-------------------------------------------------------\")\n",
    "        print(\"Choix Pantalon :\")\n",
    "        cursor.execute(\"SELECT * FROM Vetement WHERE genre ='f' AND item = 'pant' ORDER BY RAND() LIMIT 3;\")\n",
    "        rows = cursor.fetchall()\n",
    "        for row in rows:\n",
    "            print('{0} : {1} - {3}€ - {2}'.format(row[0], row[1], row[2], row[3] ))\n",
    "    if temp > 20:\n",
    "        print(\"Choix Débardeur :\")\n",
    "        cursor.execute(\"SELECT * FROM Vetement WHERE genre ='f' AND item = 'deb' ORDER BY RAND() LIMIT 3;\")\n",
    "        rows = cursor.fetchall()\n",
    "        for row in rows:\n",
    "            print('{0} : {1} - {3}€ - {2}'.format(row[0], row[1], row[2], row[3] ))\n",
    "        print(\"-------------------------------------------------------\")\n",
    "        print(\"Choix Jupe :\")\n",
    "        cursor.execute(\"SELECT * FROM Vetement WHERE genre ='f' AND item = 'jupe' ORDER BY RAND() LIMIT 3;\")\n",
    "        rows = cursor.fetchall()\n",
    "        for row in rows:\n",
    "            print('{0} : {1} - {3}€ - {2}'.format(row[0], row[1], row[2], row[3] ))\n",
    "    if rain > 0:\n",
    "        print(\"Choix Parapluie :\")\n",
    "        cursor.execute(\"SELECT * FROM Vetement WHERE item = 'para' ORDER BY RAND() LIMIT 3;\")\n",
    "        rows = cursor.fetchall()\n",
    "        for row in rows:\n",
    "            print('{0} : {1} - {3}€ - {2}'.format(row[0], row[1], row[2], row[3] ))\n",
    "        print(\"-------------------------------------------------------\")"
   ]
  },
  {
   "cell_type": "code",
   "execution_count": 7,
   "metadata": {},
   "outputs": [],
   "source": [
    "def choix_sexe(sexe):\n",
    "    if sexe == \"h\":\n",
    "        choix_vetement_h(temp)\n",
    "    elif sexe == \"f\":\n",
    "        choix_vetement_f(temp)"
   ]
  },
  {
   "cell_type": "code",
   "execution_count": 8,
   "metadata": {},
   "outputs": [
    {
     "name": "stdout",
     "output_type": "stream",
     "text": [
      "²²²²²² Bienvenue sur Weather Me ! B) ²²²²²²\n",
      "******** Le logiciel de prévision météo des 5 prochains jours. ********\n",
      "Quelle ville souhaitez-vous connaître la météo : paris\n",
      "Code Pays : fr\n",
      "Entrez votre sexe h/f :h\n",
      "Entrée le numéro en deux chiffre (ex: 05, 15) de la journée don vous voulez connaitre les prévision météo: 19\n",
      "Cette fois entrée le mois: 09\n"
     ]
    }
   ],
   "source": [
    "print(\"²²²²²² Bienvenue sur Weather Me ! B) ²²²²²²\")\n",
    "print(\"******** Le logiciel de prévision météo des 5 prochains jours. ********\")\n",
    "\n",
    "ville = input(\"Quelle ville souhaitez-vous connaître la météo : \")\n",
    "ville = ville.lower()\n",
    "\n",
    "code_pays = input(\"Code Pays : \" )\n",
    "code_pays = code_pays.upper()\n",
    "sexe = input(\"Entrez votre sexe h/f :\")\n",
    "sexe = sexe.lower()\n",
    "\n",
    "prev = requests.get(\"http://api.openweathermap.org/data/2.5/forecast?q={},{}&appid=3543ac0c00624ed3bb653359621e5344\".format(ville,code_pays))\n",
    "data_prev = prev.json()\n",
    "\n",
    "date_jour = input(\"Entrée le numéro en deux chiffre (ex: 05, 15) de la journée don vous voulez connaitre les prévision météo: \")\n",
    "date_mois = input(\"Cette fois entrée le mois: \")\n",
    "date = \"2018-\"+date_mois+\"-\"+date_jour\n"
   ]
  },
  {
   "cell_type": "code",
   "execution_count": 9,
   "metadata": {},
   "outputs": [
    {
     "name": "stdout",
     "output_type": "stream",
     "text": [
      "Date: 2018-09-19\n",
      "---------------------------------------\n",
      "Heure: 00:00:00\n",
      "Temperature: 16.48°C\n",
      "Precipitation: 0\n",
      "\n",
      "Heure: 03:00:00\n",
      "Temperature: 15.05°C\n",
      "Precipitation: 0\n",
      "\n",
      "Heure: 06:00:00\n",
      "Temperature: 13.32°C\n",
      "Precipitation: 0\n",
      "\n",
      "Heure: 09:00:00\n",
      "Temperature: 18.74°C\n",
      "Precipitation: 0.0049999999999999\n",
      "\n",
      "Heure: 12:00:00\n",
      "Temperature: 23.17°C\n",
      "Precipitation: 0\n",
      "\n",
      "Heure: 15:00:00\n",
      "Temperature: 25.35°C\n",
      "Precipitation: 0\n",
      "\n",
      "Heure: 18:00:00\n",
      "Temperature: 22.27°C\n",
      "Precipitation: 0\n",
      "\n",
      "Heure: 21:00:00\n",
      "Temperature: 17.6°C\n",
      "Precipitation: 0\n",
      "\n",
      "----------------------------------------\n",
      "Date de la prediction: 2018-09-19\n",
      "Moyenne temperature: 18.9975\n",
      "Total précipitation: 0.005\n",
      "Code pays: FR\n",
      "Ville: paris\n",
      "Sexe indivu: h\n",
      "----------------------------------------\n"
     ]
    }
   ],
   "source": [
    "list_rain = []\n",
    "list_date = []\n",
    "list_celsius = []\n",
    "print(\"Date: \"+date)\n",
    "print(\"---------------------------------------\")\n",
    "for i in range(len(data_prev[\"list\"])):\n",
    "    if date == data_prev[\"list\"][i][\"dt_txt\"][0:10]:\n",
    "        print(\"Heure: \"+data_prev[\"list\"][i][\"dt_txt\"][11:])\n",
    "        print(\"Temperature: \"+str(convert(data_prev[\"list\"][i][\"main\"][\"temp\"]))+\"°C\")\n",
    "        try :\n",
    "            print(\"Precipitation: \"+str(data_prev[\"list\"][i][\"rain\"][\"3h\"]))\n",
    "            list_rain.append(data_prev[\"list\"][i][\"rain\"][\"3h\"])\n",
    "        except KeyError :\n",
    "            print(\"Precipitation: 0\")\n",
    "            list_rain.append(0)\n",
    "        list_date.append(data_prev[\"list\"][i][\"dt_txt\"][11:16])\n",
    "        list_celsius.append(convert(data_prev[\"list\"][i][\"main\"][\"temp\"]))\n",
    "        print(\"\")\n",
    "rain = np.sum(list_rain)\n",
    "temp = np.mean(list_celsius)\n",
    "print(\"----------------------------------------\")\n",
    "print(\"Date de la prediction: \"+date)\n",
    "\n",
    "print(\"Moyenne temperature: \"+str(temp))\n",
    "print(\"Total précipitation: \"+str(rain))\n",
    "print(\"Code pays: \"+code_pays)\n",
    "print(\"Ville: \"+ville)\n",
    "print(\"Sexe indivu: \"+sexe)\n",
    "print(\"----------------------------------------\")"
   ]
  },
  {
   "cell_type": "code",
   "execution_count": 11,
   "metadata": {},
   "outputs": [
    {
     "data": {
      "image/png": "[encoded data removed]",
      "text/plain": [
       "<matplotlib.figure.Figure at 0x7fb317caa940>"
      ]
     },
     "metadata": {},
     "output_type": "display_data"
    }
   ],
   "source": [
    "import matplotlib.pyplot as plt\n",
    "\n",
    "plt.title(ville +\" \"+ date)\n",
    "plt.plot(list_date, list_celsius)\n",
    "plt.xlabel('Temps')\n",
    "plt.ylabel('°C')\n",
    "plt.show()"
   ]
  },
  {
   "cell_type": "code",
   "execution_count": 12,
   "metadata": {},
   "outputs": [
    {
     "name": "stdout",
     "output_type": "stream",
     "text": [
      "Choix T-shirt :\n",
      "5 : T-shirt en coton flammé à bandes contrastantes - 22.5€ - https://www.galerieslafayette.com/p/t-shirt+en+coton+flamme+a+bandes+contrastantes-tommy+jeans/50632478/85\n",
      "59 : T-shirt print motifs géométriques slim fit - 22.5€ - https://www.galerieslafayette.com/p/t-shirt+print+motifs+geometriques+slim+fit-one+step/50731311/119\n",
      "34 : T-shirt droit print fantaisie - 34.5€ - https://www.galerieslafayette.com/p/t-shirt+droit+print+fantaisie-scotch+and+soda/49749349/204\n",
      "-------------------------------------------------------\n",
      "Choix Pantalon :\n",
      "155 : Pantalon chino en coton regular fit - 72.5€ - https://www.galerieslafayette.com/p/pantalon+chino+en+coton+regular+fit-eden+park/52310291/72\n",
      "162 : Best Pressed Insignia Extra Slim - Stretch Sateen - 105.0€ - https://www.galerieslafayette.com/p/best+pressed+insignia+extra+slim+-+stretch+sateen-dockers/33561351/60\n",
      "127 : Pantalon de jogging - 109.0€ - https://www.galerieslafayette.com/p/pantalon+de+jogging-polo+ralph+lauren/54914655/125\n",
      "Choix Parapluie :\n",
      "511 : Parapluie Auto - 19.99€ - https://www.galerieslafayette.com/p/parapluie+auto-galeries+lafayette/36547658/71\n",
      "513 : Parapluie femme télescopique à motif vintage check - 230.0€ - https://www.galerieslafayette.com/p/parapluie+femme+telescopique+a+motif+vintage+check-burberry/54654477/278\n",
      "510 : Parapluie Crook X-TRA-SOLIDE - 36.9€ - https://www.galerieslafayette.com/p/parapluie+crook+x-tra-solide-isotoner/300402953840/320\n",
      "-------------------------------------------------------\n"
     ]
    }
   ],
   "source": [
    "choix_sexe(sexe)"
   ]
  },
  {
   "cell_type": "code",
   "execution_count": 15,
   "metadata": {},
   "outputs": [
    {
     "name": "stdout",
     "output_type": "stream",
     "text": [
      "0\n"
     ]
    },
    {
     "ename": "IntegrityError",
     "evalue": "1452 (23000): Cannot add or update a child row: a foreign key constraint fails (`meteo`.`Ville`, CONSTRAINT `Ville_ibfk_1` FOREIGN KEY (`id_pays`) REFERENCES `Pays` (`id_pays`))",
     "output_type": "error",
     "traceback": [
      "\u001b[0;31m---------------------------------------------------------------------------\u001b[0m",
      "\u001b[0;31mMySQLInterfaceError\u001b[0m                       Traceback (most recent call last)",
      "\u001b[0;32m~/anaconda3/lib/python3.6/site-packages/mysql/connector/connection_cext.py\u001b[0m in \u001b[0;36mcmd_query\u001b[0;34m(self, query, raw, buffered, raw_as_string)\u001b[0m\n\u001b[1;32m    391\u001b[0m                                \u001b[0mraw\u001b[0m\u001b[0;34m=\u001b[0m\u001b[0mraw\u001b[0m\u001b[0;34m,\u001b[0m \u001b[0mbuffered\u001b[0m\u001b[0;34m=\u001b[0m\u001b[0mbuffered\u001b[0m\u001b[0;34m,\u001b[0m\u001b[0;34m\u001b[0m\u001b[0m\n\u001b[0;32m--> 392\u001b[0;31m                                raw_as_string=raw_as_string)\n\u001b[0m\u001b[1;32m    393\u001b[0m         \u001b[0;32mexcept\u001b[0m \u001b[0mMySQLInterfaceError\u001b[0m \u001b[0;32mas\u001b[0m \u001b[0mexc\u001b[0m\u001b[0;34m:\u001b[0m\u001b[0;34m\u001b[0m\u001b[0m\n",
      "\u001b[0;31mMySQLInterfaceError\u001b[0m: Cannot add or update a child row: a foreign key constraint fails (`meteo`.`Ville`, CONSTRAINT `Ville_ibfk_1` FOREIGN KEY (`id_pays`) REFERENCES `Pays` (`id_pays`))",
      "\nDuring handling of the above exception, another exception occurred:\n",
      "\u001b[0;31mIntegrityError\u001b[0m                            Traceback (most recent call last)",
      "\u001b[0;32m<ipython-input-15-372048bf875b>\u001b[0m in \u001b[0;36m<module>\u001b[0;34m()\u001b[0m\n\u001b[1;32m     18\u001b[0m     \u001b[0msql\u001b[0m \u001b[0;34m=\u001b[0m \u001b[0;34m\"INSERT INTO Ville (nom_ville, id_pays) VALUES (%s, %s)\"\u001b[0m\u001b[0;34m\u001b[0m\u001b[0m\n\u001b[1;32m     19\u001b[0m     \u001b[0mval\u001b[0m \u001b[0;34m=\u001b[0m \u001b[0;34m(\u001b[0m\u001b[0mville\u001b[0m\u001b[0;34m,\u001b[0m \u001b[0mcode_pays\u001b[0m\u001b[0;34m)\u001b[0m\u001b[0;34m\u001b[0m\u001b[0m\n\u001b[0;32m---> 20\u001b[0;31m     \u001b[0mmycursor\u001b[0m\u001b[0;34m.\u001b[0m\u001b[0mexecute\u001b[0m\u001b[0;34m(\u001b[0m\u001b[0msql\u001b[0m\u001b[0;34m,\u001b[0m \u001b[0mval\u001b[0m\u001b[0;34m)\u001b[0m\u001b[0;34m\u001b[0m\u001b[0m\n\u001b[0m\u001b[1;32m     21\u001b[0m \u001b[0;34m\u001b[0m\u001b[0m\n\u001b[1;32m     22\u001b[0m     \u001b[0mmydb\u001b[0m\u001b[0;34m.\u001b[0m\u001b[0mcommit\u001b[0m\u001b[0;34m(\u001b[0m\u001b[0;34m)\u001b[0m\u001b[0;34m\u001b[0m\u001b[0m\n",
      "\u001b[0;32m~/anaconda3/lib/python3.6/site-packages/mysql/connector/cursor_cext.py\u001b[0m in \u001b[0;36mexecute\u001b[0;34m(self, operation, params, multi)\u001b[0m\n\u001b[1;32m    262\u001b[0m             result = self._cnx.cmd_query(stmt, raw=self._raw,\n\u001b[1;32m    263\u001b[0m                                          \u001b[0mbuffered\u001b[0m\u001b[0;34m=\u001b[0m\u001b[0mself\u001b[0m\u001b[0;34m.\u001b[0m\u001b[0m_buffered\u001b[0m\u001b[0;34m,\u001b[0m\u001b[0;34m\u001b[0m\u001b[0m\n\u001b[0;32m--> 264\u001b[0;31m                                          raw_as_string=self._raw_as_string)\n\u001b[0m\u001b[1;32m    265\u001b[0m         \u001b[0;32mexcept\u001b[0m \u001b[0mMySQLInterfaceError\u001b[0m \u001b[0;32mas\u001b[0m \u001b[0mexc\u001b[0m\u001b[0;34m:\u001b[0m\u001b[0;34m\u001b[0m\u001b[0m\n\u001b[1;32m    266\u001b[0m             raise errors.get_mysql_exception(msg=exc.msg, errno=exc.errno,\n",
      "\u001b[0;32m~/anaconda3/lib/python3.6/site-packages/mysql/connector/connection_cext.py\u001b[0m in \u001b[0;36mcmd_query\u001b[0;34m(self, query, raw, buffered, raw_as_string)\u001b[0m\n\u001b[1;32m    393\u001b[0m         \u001b[0;32mexcept\u001b[0m \u001b[0mMySQLInterfaceError\u001b[0m \u001b[0;32mas\u001b[0m \u001b[0mexc\u001b[0m\u001b[0;34m:\u001b[0m\u001b[0;34m\u001b[0m\u001b[0m\n\u001b[1;32m    394\u001b[0m             raise errors.get_mysql_exception(exc.errno, msg=exc.msg,\n\u001b[0;32m--> 395\u001b[0;31m                                              sqlstate=exc.sqlstate)\n\u001b[0m\u001b[1;32m    396\u001b[0m         \u001b[0;32mexcept\u001b[0m \u001b[0mAttributeError\u001b[0m\u001b[0;34m:\u001b[0m\u001b[0;34m\u001b[0m\u001b[0m\n\u001b[1;32m    397\u001b[0m             \u001b[0;32mif\u001b[0m \u001b[0mself\u001b[0m\u001b[0;34m.\u001b[0m\u001b[0m_unix_socket\u001b[0m\u001b[0;34m:\u001b[0m\u001b[0;34m\u001b[0m\u001b[0m\n",
      "\u001b[0;31mIntegrityError\u001b[0m: 1452 (23000): Cannot add or update a child row: a foreign key constraint fails (`meteo`.`Ville`, CONSTRAINT `Ville_ibfk_1` FOREIGN KEY (`id_pays`) REFERENCES `Pays` (`id_pays`))"
     ]
    }
   ],
   "source": [
    "conn = mysql.connector.connect(host=\"104.155.111.115\",user=\"root\",password=\"corentin\", database=\"meteo\")\n",
    "cursor = conn.cursor()\n",
    "\n",
    "cursor.execute(\"SELECT * FROM Ville WHERE nom_ville = \\'\"+ville+\"\\' AND id_pays = \\'\"+code_pays+\"\\';\")\n",
    "rows = cursor.fetchall()\n",
    "\n",
    "print(len(rows))\n",
    "if len(rows) == 0:\n",
    "    mydb = mysql.connector.connect(\n",
    "      host=\"104.155.111.115\",\n",
    "      user=\"root\",\n",
    "      passwd=\"corentin\",\n",
    "      database=\"meteo\"\n",
    "    )\n",
    "\n",
    "    mycursor = mydb.cursor()\n",
    "\n",
    "    sql = \"INSERT INTO Ville (nom_ville, id_pays) VALUES (%s, %s)\"\n",
    "    val = (ville, code_pays)\n",
    "    mycursor.execute(sql, val)\n",
    "\n",
    "    mydb.commit()\n",
    "    print(mycursor.rowcount, \"record inserted.\")\n"
   ]
  },
  {
   "cell_type": "code",
   "execution_count": 16,
   "metadata": {},
   "outputs": [],
   "source": [
    "conn = mysql.connector.connect(host=\"104.155.111.115\",user=\"root\",password=\"corentin\", database=\"meteo\")\n",
    "cursor = conn.cursor()\n",
    "#conn.close()\n",
    "cursor.execute(\"SELECT id_ville FROM Ville WHERE nom_ville = \\'\"+ville+\"\\' AND id_pays = \\'\"+code_pays+\"\\';\")\n",
    "id_ville = cursor.fetchall()\n"
   ]
  },
  {
   "cell_type": "code",
   "execution_count": 20,
   "metadata": {},
   "outputs": [],
   "source": [
    "id_ville = id_ville[0][0]\n",
    "rain = np.float64(rain)\n"
   ]
  },
  {
   "cell_type": "code",
   "execution_count": 22,
   "metadata": {},
   "outputs": [
    {
     "name": "stdout",
     "output_type": "stream",
     "text": [
      "1\n",
      "0.04\n"
     ]
    }
   ],
   "source": [
    "print(id_ville)\n",
    "print(rain)"
   ]
  },
  {
   "cell_type": "code",
   "execution_count": 24,
   "metadata": {},
   "outputs": [
    {
     "name": "stdout",
     "output_type": "stream",
     "text": [
      "1 record inserted.\n"
     ]
    }
   ],
   "source": [
    "mydb = mysql.connector.connect(\n",
    "  host=\"104.155.111.115\",\n",
    "  user=\"root\",\n",
    "  passwd=\"corentin\",\n",
    "  database=\"meteo\"\n",
    ")\n",
    "\n",
    "mycursor = mydb.cursor()\n",
    "\n",
    "sql = \"INSERT INTO Meteo (insert_date, temperature, rain, id_ville) VALUES (%s, %s, %s, %s)\"\n",
    "val = (date, temp ,rain, id_ville)\n",
    "mycursor.execute(sql, val)\n",
    "\n",
    "mydb.commit()\n",
    "\n",
    "print(mycursor.rowcount, \"record inserted.\")"
   ]
  }
 ],
 "metadata": {
  "kernelspec": {
   "display_name": "Python 3",
   "language": "python",
   "name": "python3"
  },
  "language_info": {
   "codemirror_mode": {
    "name": "ipython",
    "version": 3
   },
   "file_extension": ".py",
   "mimetype": "text/x-python",
   "name": "python",
   "nbconvert_exporter": "python",
   "pygments_lexer": "ipython3",
   "version": "3.6.4"
  }
 },
 "nbformat": 4,
 "nbformat_minor": 2
}
