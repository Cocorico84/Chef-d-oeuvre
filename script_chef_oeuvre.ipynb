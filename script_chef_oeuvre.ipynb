{
 "cells": [
  {
   "cell_type": "code",
   "execution_count": 32,
   "metadata": {},
   "outputs": [],
   "source": [
    "import requests\n",
    "import json\n",
    "import mysql.connector"
   ]
  },
  {
   "cell_type": "code",
   "execution_count": 33,
   "metadata": {},
   "outputs": [],
   "source": [
    "conn = mysql.connector.connect(host=\"104.155.111.115\",user=\"root\",password=\"corentin\", database=\"chef\")\n",
    "cursor = conn.cursor()\n",
    "#conn.close()"
   ]
  },
  {
   "cell_type": "code",
   "execution_count": 34,
   "metadata": {},
   "outputs": [],
   "source": [
    "def convert(kel):\n",
    "    celsius = (kel- 273.15)\n",
    "    return round(celsius, 2)"
   ]
  },
  {
   "cell_type": "code",
   "execution_count": 35,
   "metadata": {},
   "outputs": [],
   "source": [
    "def choix_vetement_h(temp):\n",
    "    if temp < 15:\n",
    "        print(\"Choix T-shirt :\")\n",
    "        cursor.execute(\"SELECT * FROM Vetement WHERE genre ='h' AND item = 'ts' ORDER BY RAND() LIMIT 3;\")\n",
    "        rows = cursor.fetchall()\n",
    "        for row in rows:\n",
    "            print('{0} : {1} - {3}€ - {2}'.format(row[0], row[1], row[2], row[3] ))\n",
    "        print(\"-------------------------------------------------------\")\n",
    "        print(\"Choix Pull :\")\n",
    "        cursor.execute(\"SELECT * FROM Vetement WHERE genre ='h' AND item = 'pull' ORDER BY RAND() LIMIT 3;\")\n",
    "        rows = cursor.fetchall()\n",
    "        for row in rows:\n",
    "            print('{0} : {1} - {3}€ - {2}'.format(row[0], row[1], row[2], row[3] ))\n",
    "        print(\"-------------------------------------------------------\")\n",
    "        print(\"Choix Pantalon :\")\n",
    "        cursor.execute(\"SELECT * FROM Vetement WHERE genre ='h' AND item = 'pant' ORDER BY RAND() LIMIT 3;\")\n",
    "        rows = cursor.fetchall()\n",
    "        for row in rows:\n",
    "            print('{0} : {1} - {3}€ - {2}'.format(row[0], row[1], row[2], row[3] ))  \n",
    "            \n",
    "    if temp >= 15 and temp <= 20:\n",
    "        print(\"Choix T-shirt :\")\n",
    "        cursor.execute(\"SELECT * FROM Vetement WHERE genre ='h' AND item = 'ts' ORDER BY RAND() LIMIT 3;\")\n",
    "        rows = cursor.fetchall()\n",
    "        for row in rows:\n",
    "            print('{0} : {1} - {3}€ - {2}'.format(row[0], row[1], row[2], row[3] ))\n",
    "        print(\"-------------------------------------------------------\")\n",
    "        print(\"Choix Pantalon :\")\n",
    "        cursor.execute(\"SELECT * FROM Vetement WHERE genre ='h' AND item = 'pant' ORDER BY RAND() LIMIT 3;\")\n",
    "        rows = cursor.fetchall()\n",
    "        for row in rows:\n",
    "            print('{0} : {1} - {3}€ - {2}'.format(row[0], row[1], row[2], row[3] ))\n",
    "    if temp > 20:\n",
    "        print(\"Choix Débardeur :\")\n",
    "        cursor.execute(\"SELECT * FROM Vetement WHERE genre ='h' AND item = 'deb' ORDER BY RAND() LIMIT 3;\")\n",
    "        rows = cursor.fetchall()\n",
    "        for row in rows:\n",
    "            print('{0} : {1} - {3}€ - {2}'.format(row[0], row[1], row[2], row[3] ))\n",
    "        print(\"-------------------------------------------------------\")\n",
    "        print(\"Choix Short :\")\n",
    "        cursor.execute(\"SELECT * FROM Vetement WHERE genre ='h' AND item = 'short' ORDER BY RAND() LIMIT 3;\")\n",
    "        rows = cursor.fetchall()\n",
    "        for row in rows:\n",
    "            print('{0} : {1} - {3}€ - {2}'.format(row[0], row[1], row[2], row[3] ))\n",
    "        print(\"-------------------------------------------------------\")\n",
    "    if rain > 0:\n",
    "        print(\"Choix Parapluie :\")\n",
    "        cursor.execute(\"SELECT * FROM Vetement WHERE item = 'para' ORDER BY RAND() LIMIT 3;\")\n",
    "        rows = cursor.fetchall()\n",
    "        for row in rows:\n",
    "            print('{0} : {1} - {3}€ - {2}'.format(row[0], row[1], row[2], row[3] ))     \n",
    "        print(\"-------------------------------------------------------\")\n",
    "    "
   ]
  },
  {
   "cell_type": "code",
   "execution_count": 36,
   "metadata": {},
   "outputs": [],
   "source": [
    "def choix_vetement_f(temp):\n",
    "    if temp < 15:\n",
    "        print(\"Choix T-shirt :\")\n",
    "        cursor.execute(\"SELECT * FROM Vetement WHERE genre ='f' AND item = 'ts' ORDER BY RAND() LIMIT 3;\")\n",
    "        rows = cursor.fetchall()\n",
    "        for row in rows:\n",
    "            print('{0} : {1} - {3}€ - {2}'.format(row[0], row[1], row[2], row[3] ))\n",
    "        print(\"-------------------------------------------------------\")\n",
    "        print(\"Choix Pull :\")\n",
    "        cursor.execute(\"SELECT * FROM Vetement WHERE genre ='f' AND item = 'pull' ORDER BY RAND() LIMIT 3;\")\n",
    "        rows = cursor.fetchall()\n",
    "        for row in rows:\n",
    "            print('{0} : {1} - {3}€ - {2}'.format(row[0], row[1], row[2], row[3] ))\n",
    "        print(\"-------------------------------------------------------\")\n",
    "        print(\"Choix Pantalon :\")\n",
    "        cursor.execute(\"SELECT * FROM Vetement WHERE genre ='f' AND item = 'pant' ORDER BY RAND() LIMIT 3;\")\n",
    "        rows = cursor.fetchall()\n",
    "        for row in rows:\n",
    "            print('{0} : {1} - {3}€ - {2}'.format(row[0], row[1], row[2], row[3] ))  \n",
    "            \n",
    "    if temp >= 15 and temp <= 20:\n",
    "        print(\"Choix T-shirt :\")\n",
    "        cursor.execute(\"SELECT * FROM Vetement WHERE genre ='f' AND item = 'ts' ORDER BY RAND() LIMIT 3;\")\n",
    "        rows = cursor.fetchall()\n",
    "        for row in rows:\n",
    "            print('{0} : {1} - {3}€ - {2}'.format(row[0], row[1], row[2], row[3] ))\n",
    "        print(\"-------------------------------------------------------\")\n",
    "        print(\"Choix Pantalon :\")\n",
    "        cursor.execute(\"SELECT * FROM Vetement WHERE genre ='f' AND item = 'pant' ORDER BY RAND() LIMIT 3;\")\n",
    "        rows = cursor.fetchall()\n",
    "        for row in rows:\n",
    "            print('{0} : {1} - {3}€ - {2}'.format(row[0], row[1], row[2], row[3] ))\n",
    "    if temp > 20:\n",
    "        print(\"Choix Débardeur :\")\n",
    "        cursor.execute(\"SELECT * FROM Vetement WHERE genre ='f' AND item = 'deb' ORDER BY RAND() LIMIT 3;\")\n",
    "        rows = cursor.fetchall()\n",
    "        for row in rows:\n",
    "            print('{0} : {1} - {3}€ - {2}'.format(row[0], row[1], row[2], row[3] ))\n",
    "        print(\"-------------------------------------------------------\")\n",
    "        print(\"Choix Jupe :\")\n",
    "        cursor.execute(\"SELECT * FROM Vetement WHERE genre ='f' AND item = 'jupe' ORDER BY RAND() LIMIT 3;\")\n",
    "        rows = cursor.fetchall()\n",
    "        for row in rows:\n",
    "            print('{0} : {1} - {3}€ - {2}'.format(row[0], row[1], row[2], row[3] ))\n",
    "    if rain > 0:\n",
    "        print(\"Choix Parapluie :\")\n",
    "        cursor.execute(\"SELECT * FROM Vetement WHERE item = 'para' ORDER BY RAND() LIMIT 3;\")\n",
    "        rows = cursor.fetchall()\n",
    "        for row in rows:\n",
    "            print('{0} : {1} - {3}€ - {2}'.format(row[0], row[1], row[2], row[3] ))\n",
    "        print(\"-------------------------------------------------------\")"
   ]
  },
  {
   "cell_type": "code",
   "execution_count": 37,
   "metadata": {},
   "outputs": [],
   "source": [
    "def choix_sexe(sexe):\n",
    "    if sexe == \"h\":\n",
    "        choix_vetement_h(temp)\n",
    "    elif sexe == \"f\":\n",
    "        choix_vetement_f(temp)"
   ]
  },
  {
   "cell_type": "code",
   "execution_count": null,
   "metadata": {},
   "outputs": [],
   "source": []
  },
  {
   "cell_type": "code",
   "execution_count": 38,
   "metadata": {},
   "outputs": [
    {
     "name": "stdout",
     "output_type": "stream",
     "text": [
      "²²²² Bienvenue sur Weather Me ! B) ²²²²\n",
      "**** Le logiciel de prévision météo des 5 prochains jours. ****\n",
      "Quelle ville souhaitez-vous connaître la météo : nantes\n",
      "Code Pays : fr\n",
      "Entrez votre sexe h/f :h\n",
      "Entrée le numéro en deux chiffre (ex: 05, 15) de la journée don vous voulez connaitre les prévision météo: 05\n",
      "Cette fois entrée le mois: 08\n"
     ]
    }
   ],
   "source": [
    "print(\"²²²²²² Bienvenue sur Weather Me ! B) ²²²²²²\")\n",
    "print(\"******** Le logiciel de prévision météo des 5 prochains jours. ********\")\n",
    "\n",
    "ville = input(\"Quelle ville souhaitez-vous connaître la météo : \")\n",
    "ville = ville.lower()\n",
    "code_pays = input(\"Code Pays : \" )\n",
    "code_pays = code_pays.lower()\n",
    "sexe = input(\"Entrez votre sexe h/f :\")\n",
    "sexe = sexe.lower()\n",
    "\n",
    "prev = requests.get(\"http://api.openweathermap.org/data/2.5/forecast?q={},{}&appid=3543ac0c00624ed3bb653359621e5344\".format(ville,code_pays))\n",
    "data_prev = prev.json()\n",
    "\n",
    "date_jour = input(\"Entrée le numéro en deux chiffre (ex: 05, 15) de la journée don vous voulez connaitre les prévision météo: \")\n",
    "date_mois = input(\"Cette fois entrée le mois: \")\n",
    "date = \"2018-\"+date_mois+\"-\"+date_jour\n"
   ]
  },
  {
   "cell_type": "code",
   "execution_count": 39,
   "metadata": {},
   "outputs": [
    {
     "name": "stdout",
     "output_type": "stream",
     "text": [
      "Date: 2018-08-05\n",
      "---------------------------------------\n",
      "Heure: 00:00:00\n",
      "Temperature: 23.79°C\n",
      "Precipitation: 0\n",
      "\n",
      "Heure: 03:00:00\n",
      "Temperature: 21.64°C\n",
      "Precipitation: 0\n",
      "\n",
      "Heure: 06:00:00\n",
      "Temperature: 21.33°C\n",
      "Precipitation: 0\n",
      "\n",
      "Heure: 09:00:00\n",
      "Temperature: 29.3°C\n",
      "Precipitation: 0\n",
      "\n",
      "Heure: 12:00:00\n",
      "Temperature: 34.04°C\n",
      "Precipitation: 0\n",
      "\n",
      "Heure: 15:00:00\n",
      "Temperature: 35.5°C\n",
      "Precipitation: 0\n",
      "\n",
      "Heure: 18:00:00\n",
      "Temperature: 34.76°C\n",
      "Precipitation: 0\n",
      "\n",
      "Heure: 21:00:00\n",
      "Temperature: 28.19°C\n",
      "Precipitation: 0\n",
      "\n",
      "----------------------------------------\n",
      "Date de la prediction: 2018-08-05\n",
      "Moyenne temperature: 28.56875\n",
      "Total précipitation: 0\n",
      "Code pays: fr\n",
      "Ville: nantes\n",
      "Sexe indivu: h\n",
      "----------------------------------------\n"
     ]
    }
   ],
   "source": [
    "list_rain = []\n",
    "list_date = []\n",
    "list_celsius = []\n",
    "print(\"Date: \"+date)\n",
    "print(\"---------------------------------------\")\n",
    "for i in range(len(data_prev[\"list\"])):\n",
    "    if date == data_prev[\"list\"][i][\"dt_txt\"][0:10]:\n",
    "        print(\"Heure: \"+data_prev[\"list\"][i][\"dt_txt\"][11:])\n",
    "        print(\"Temperature: \"+str(convert(data_prev[\"list\"][i][\"main\"][\"temp\"]))+\"°C\")\n",
    "        try :\n",
    "            print(\"Precipitation: \"+str(data_prev[\"list\"][i][\"rain\"][\"3h\"]))\n",
    "            list_rain.append(data_prev[\"list\"][i][\"rain\"][\"3h\"])\n",
    "        except KeyError :\n",
    "            print(\"Precipitation: 0\")\n",
    "            list_rain.append(0)\n",
    "        list_date.append(data_prev[\"list\"][i][\"dt_txt\"][11:16])\n",
    "        list_celsius.append(convert(data_prev[\"list\"][i][\"main\"][\"temp\"]))\n",
    "        print(\"\")\n",
    "rain = np.sum(list_rain)\n",
    "temp = np.mean(list_celsius)\n",
    "print(\"----------------------------------------\")\n",
    "print(\"Date de la prediction: \"+date)\n",
    "\n",
    "print(\"Moyenne temperature: \"+str(temp))\n",
    "print(\"Total précipitation: \"+str(rain))\n",
    "print(\"Code pays: \"+code_pays)\n",
    "print(\"Ville: \"+ville)\n",
    "print(\"Sexe indivu: \"+sexe)\n",
    "print(\"----------------------------------------\")"
   ]
  },
  {
   "cell_type": "code",
   "execution_count": 40,
   "metadata": {},
   "outputs": [
    {
     "data": {
      "image/png": "[encoded data removed]",
      "text/plain": [
       "<matplotlib.figure.Figure at 0x7f405e82cc88>"
      ]
     },
     "metadata": {},
     "output_type": "display_data"
    }
   ],
   "source": [
    "import matplotlib.pyplot as plt\n",
    "\n",
    "plt.title(\"Meteo\")\n",
    "plt.plot(list_date, list_celsius)\n",
    "plt.xlabel('Temps')\n",
    "plt.ylabel('°C')\n",
    "plt.show()"
   ]
  },
  {
   "cell_type": "code",
   "execution_count": 41,
   "metadata": {},
   "outputs": [
    {
     "name": "stdout",
     "output_type": "stream",
     "text": [
      "Choix Débardeur :\n",
      "Satisfy : Débardeur de running ajouré print homme - 60.0€ - https://www.galerieslafayette.com/p/debardeur+de+running+ajoure+print+homme-satisfy/49226029/85\n",
      "Guy De Berac : Débardeur droit sans manche en laine - 85.0€ - https://www.galerieslafayette.com/p/debardeur+droit+sans+manche+en+laine-guy+de+berac/33937046/2917\n",
      "Scotch And Soda : Débardeur droit uni en coton - 17.5€ - https://www.galerieslafayette.com/p/debardeur+droit+uni+en+coton-scotch+and+soda/49749589/320\n",
      "-------------------------------------------------------\n",
      "Choix Short :\n",
      "The Kooples : Pantalon droit - 198.0€ - https://www.galerieslafayette.com/p/pantalon+droit-the+kooples/42980768/320\n",
      "Teddy Smith : Pantalon chino slim fit - 65.0€ - https://www.galerieslafayette.com/p/pantalon+chino+slim+fit-teddy+smith/29211970/72\n",
      "Dockers : Clean Khaki Marina Slim Tapered - Stretch Twill - 95.0€ - https://www.galerieslafayette.com/p/clean+khaki+marina+slim+tapered+-+stretch+twill-dockers/33561305/60\n",
      "-------------------------------------------------------\n"
     ]
    }
   ],
   "source": [
    "choix_sexe(sexe)"
   ]
  }
 ],
 "metadata": {
  "kernelspec": {
   "display_name": "Python 3",
   "language": "python",
   "name": "python3"
  },
  "language_info": {
   "codemirror_mode": {
    "name": "ipython",
    "version": 3
   },
   "file_extension": ".py",
   "mimetype": "text/x-python",
   "name": "python",
   "nbconvert_exporter": "python",
   "pygments_lexer": "ipython3",
   "version": "3.6.4"
  }
 },
 "nbformat": 4,
 "nbformat_minor": 2
}
