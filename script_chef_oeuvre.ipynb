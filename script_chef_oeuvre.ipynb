{
 "cells": [
  {
   "cell_type": "code",
   "execution_count": 120,
   "metadata": {},
   "outputs": [],
   "source": [
    "import requests\n",
    "import json\n",
    "import mysql.connector"
   ]
  },
  {
   "cell_type": "code",
   "execution_count": 121,
   "metadata": {},
   "outputs": [],
   "source": [
    "conn = mysql.connector.connect(host=\"104.155.111.115\",user=\"root\",password=\"corentin\", database=\"chef\")\n",
    "cursor = conn.cursor()\n",
    "#conn.close()"
   ]
  },
  {
   "cell_type": "code",
   "execution_count": 122,
   "metadata": {},
   "outputs": [],
   "source": [
    "def convert(kel):\n",
    "    celsius = (kel- 273.15)\n",
    "    return round(celsius, 2)"
   ]
  },
  {
   "cell_type": "code",
   "execution_count": 123,
   "metadata": {},
   "outputs": [],
   "source": [
    "def choix_vetement_h(temp):\n",
    "    if temp < 15:\n",
    "        print(\"Choix T-shirt :\")\n",
    "        cursor.execute(\"SELECT * FROM Vetement WHERE genre ='h' AND item = 'ts' ORDER BY RAND() LIMIT 3;\")\n",
    "        rows = cursor.fetchall()\n",
    "        for row in rows:\n",
    "            print('{0} : {1} - {3}€ - {2}'.format(row[0], row[1], row[2], row[3] ))\n",
    "        print(\"-------------------------------------------------------\")\n",
    "        print(\"Choix Pull :\")\n",
    "        cursor.execute(\"SELECT * FROM Vetement WHERE genre ='h' AND item = 'pull' ORDER BY RAND() LIMIT 3;\")\n",
    "        rows = cursor.fetchall()\n",
    "        for row in rows:\n",
    "            print('{0} : {1} - {3}€ - {2}'.format(row[0], row[1], row[2], row[3] ))\n",
    "        print(\"-------------------------------------------------------\")\n",
    "        print(\"Choix Pantalon :\")\n",
    "        cursor.execute(\"SELECT * FROM Vetement WHERE genre ='h' AND item = 'pant' ORDER BY RAND() LIMIT 3;\")\n",
    "        rows = cursor.fetchall()\n",
    "        for row in rows:\n",
    "            print('{0} : {1} - {3}€ - {2}'.format(row[0], row[1], row[2], row[3] ))  \n",
    "            \n",
    "    if temp >= 15 and temp <= 20:\n",
    "        print(\"Choix T-shirt :\")\n",
    "        cursor.execute(\"SELECT * FROM Vetement WHERE genre ='h' AND item = 'ts' ORDER BY RAND() LIMIT 3;\")\n",
    "        rows = cursor.fetchall()\n",
    "        for row in rows:\n",
    "            print('{0} : {1} - {3}€ - {2}'.format(row[0], row[1], row[2], row[3] ))\n",
    "        print(\"-------------------------------------------------------\")\n",
    "        print(\"Choix Pantalon :\")\n",
    "        cursor.execute(\"SELECT * FROM Vetement WHERE genre ='h' AND item = 'pant' ORDER BY RAND() LIMIT 3;\")\n",
    "        rows = cursor.fetchall()\n",
    "        for row in rows:\n",
    "            print('{0} : {1} - {3}€ - {2}'.format(row[0], row[1], row[2], row[3] ))\n",
    "    if temp > 20:\n",
    "        print(\"Choix Débardeur :\")\n",
    "        cursor.execute(\"SELECT * FROM Vetement WHERE genre ='h' AND item = 'deb' ORDER BY RAND() LIMIT 3;\")\n",
    "        rows = cursor.fetchall()\n",
    "        for row in rows:\n",
    "            print('{0} : {1} - {3}€ - {2}'.format(row[0], row[1], row[2], row[3] ))\n",
    "        print(\"-------------------------------------------------------\")\n",
    "        print(\"Choix Short :\")\n",
    "        cursor.execute(\"SELECT * FROM Vetement WHERE genre ='h' AND item = 'short' ORDER BY RAND() LIMIT 3;\")\n",
    "        rows = cursor.fetchall()\n",
    "        for row in rows:\n",
    "            print('{0} : {1} - {3}€ - {2}'.format(row[0], row[1], row[2], row[3] ))\n",
    "        print(\"-------------------------------------------------------\")\n",
    "    if rain > 0:\n",
    "        print(\"Choix Parapluie :\")\n",
    "        cursor.execute(\"SELECT * FROM Vetement WHERE item = 'para' ORDER BY RAND() LIMIT 3;\")\n",
    "        rows = cursor.fetchall()\n",
    "        for row in rows:\n",
    "            print('{0} : {1} - {3}€ - {2}'.format(row[0], row[1], row[2], row[3] ))     \n",
    "        print(\"-------------------------------------------------------\")\n",
    "    "
   ]
  },
  {
   "cell_type": "code",
   "execution_count": 124,
   "metadata": {},
   "outputs": [],
   "source": [
    "def choix_vetement_f(temp):\n",
    "    if temp < 15:\n",
    "        print(\"Choix T-shirt :\")\n",
    "        cursor.execute(\"SELECT * FROM Vetement WHERE genre ='f' AND item = 'ts' ORDER BY RAND() LIMIT 3;\")\n",
    "        rows = cursor.fetchall()\n",
    "        for row in rows:\n",
    "            print('{0} : {1} - {3}€ - {2}'.format(row[0], row[1], row[2], row[3] ))\n",
    "        print(\"-------------------------------------------------------\")\n",
    "        print(\"Choix Pull :\")\n",
    "        cursor.execute(\"SELECT * FROM Vetement WHERE genre ='f' AND item = 'pull' ORDER BY RAND() LIMIT 3;\")\n",
    "        rows = cursor.fetchall()\n",
    "        for row in rows:\n",
    "            print('{0} : {1} - {3}€ - {2}'.format(row[0], row[1], row[2], row[3] ))\n",
    "        print(\"-------------------------------------------------------\")\n",
    "        print(\"Choix Pantalon :\")\n",
    "        cursor.execute(\"SELECT * FROM Vetement WHERE genre ='f' AND item = 'pant' ORDER BY RAND() LIMIT 3;\")\n",
    "        rows = cursor.fetchall()\n",
    "        for row in rows:\n",
    "            print('{0} : {1} - {3}€ - {2}'.format(row[0], row[1], row[2], row[3] ))  \n",
    "            \n",
    "    if temp >= 15 and temp <= 20:\n",
    "        print(\"Choix T-shirt :\")\n",
    "        cursor.execute(\"SELECT * FROM Vetement WHERE genre ='f' AND item = 'ts' ORDER BY RAND() LIMIT 3;\")\n",
    "        rows = cursor.fetchall()\n",
    "        for row in rows:\n",
    "            print('{0} : {1} - {3}€ - {2}'.format(row[0], row[1], row[2], row[3] ))\n",
    "        print(\"-------------------------------------------------------\")\n",
    "        print(\"Choix Pantalon :\")\n",
    "        cursor.execute(\"SELECT * FROM Vetement WHERE genre ='f' AND item = 'pant' ORDER BY RAND() LIMIT 3;\")\n",
    "        rows = cursor.fetchall()\n",
    "        for row in rows:\n",
    "            print('{0} : {1} - {3}€ - {2}'.format(row[0], row[1], row[2], row[3] ))\n",
    "    if temp > 20:\n",
    "        print(\"Choix Débardeur :\")\n",
    "        cursor.execute(\"SELECT * FROM Vetement WHERE genre ='f' AND item = 'deb' ORDER BY RAND() LIMIT 3;\")\n",
    "        rows = cursor.fetchall()\n",
    "        for row in rows:\n",
    "            print('{0} : {1} - {3}€ - {2}'.format(row[0], row[1], row[2], row[3] ))\n",
    "        print(\"-------------------------------------------------------\")\n",
    "        print(\"Choix Jupe :\")\n",
    "        cursor.execute(\"SELECT * FROM Vetement WHERE genre ='f' AND item = 'jupe' ORDER BY RAND() LIMIT 3;\")\n",
    "        rows = cursor.fetchall()\n",
    "        for row in rows:\n",
    "            print('{0} : {1} - {3}€ - {2}'.format(row[0], row[1], row[2], row[3] ))\n",
    "    if rain > 0:\n",
    "        print(\"Choix Parapluie :\")\n",
    "        cursor.execute(\"SELECT * FROM Vetement WHERE item = 'para' ORDER BY RAND() LIMIT 3;\")\n",
    "        rows = cursor.fetchall()\n",
    "        for row in rows:\n",
    "            print('{0} : {1} - {3}€ - {2}'.format(row[0], row[1], row[2], row[3] ))\n",
    "        print(\"-------------------------------------------------------\")"
   ]
  },
  {
   "cell_type": "code",
   "execution_count": 125,
   "metadata": {},
   "outputs": [],
   "source": [
    "def choix_sexe(sexe):\n",
    "    if sexe == \"h\":\n",
    "        choix_vetement_h(temp)\n",
    "    elif sexe == \"f\":\n",
    "        choix_vetement_f(temp)"
   ]
  },
  {
   "cell_type": "code",
   "execution_count": null,
   "metadata": {},
   "outputs": [],
   "source": []
  },
  {
   "cell_type": "code",
   "execution_count": 135,
   "metadata": {},
   "outputs": [
    {
     "name": "stdout",
     "output_type": "stream",
     "text": [
      "²²²²²² Bienvenue sur Weather Me ! B) ²²²²²²\n",
      "******** Le logiciel de prévision météo des 5 prochains jours. ********\n",
      "Quelle ville souhaitez-vous connaître la météo : paris\n",
      "Code Pays : fr\n",
      "Entrez votre sexe h/f :h\n",
      "Entrée le numéro en deux chiffre (ex: 05, 15) de la journée don vous voulez connaitre les prévision météo: 07\n",
      "Cette fois entrée le mois: 08\n"
     ]
    }
   ],
   "source": [
    "print(\"²²²²²² Bienvenue sur Weather Me ! B) ²²²²²²\")\n",
    "print(\"******** Le logiciel de prévision météo des 5 prochains jours. ********\")\n",
    "\n",
    "ville = input(\"Quelle ville souhaitez-vous connaître la météo : \")\n",
    "ville = ville.lower()\n",
    "code_pays = input(\"Code Pays : \" )\n",
    "code_pays = code_pays.upper()\n",
    "sexe = input(\"Entrez votre sexe h/f :\")\n",
    "sexe = sexe.lower()\n",
    "\n",
    "prev = requests.get(\"http://api.openweathermap.org/data/2.5/forecast?q={},{}&appid=3543ac0c00624ed3bb653359621e5344\".format(ville,code_pays))\n",
    "data_prev = prev.json()\n",
    "\n",
    "date_jour = input(\"Entrée le numéro en deux chiffre (ex: 05, 15) de la journée don vous voulez connaitre les prévision météo: \")\n",
    "date_mois = input(\"Cette fois entrée le mois: \")\n",
    "date = \"2018-\"+date_mois+\"-\"+date_jour\n"
   ]
  },
  {
   "cell_type": "code",
   "execution_count": 136,
   "metadata": {},
   "outputs": [
    {
     "name": "stdout",
     "output_type": "stream",
     "text": [
      "Date: 2018-08-07\n",
      "---------------------------------------\n",
      "Heure: 00:00:00\n",
      "Temperature: 22.19°C\n",
      "Precipitation: 0\n",
      "\n",
      "Heure: 03:00:00\n",
      "Temperature: 20.99°C\n",
      "Precipitation: 0\n",
      "\n",
      "Heure: 06:00:00\n",
      "Temperature: 22.18°C\n",
      "Precipitation: 0\n",
      "\n",
      "Heure: 09:00:00\n",
      "Temperature: 29.67°C\n",
      "Precipitation: 0\n",
      "\n",
      "Heure: 12:00:00\n",
      "Temperature: 33.43°C\n",
      "Precipitation: 0\n",
      "\n",
      "Heure: 15:00:00\n",
      "Temperature: 34.9°C\n",
      "Precipitation: 0\n",
      "\n",
      "Heure: 18:00:00\n",
      "Temperature: 32.97°C\n",
      "Precipitation: 0\n",
      "\n",
      "Heure: 21:00:00\n",
      "Temperature: 27.48°C\n",
      "Precipitation: 0\n",
      "\n",
      "----------------------------------------\n",
      "Date de la prediction: 2018-08-07\n",
      "Moyenne temperature: 27.97625\n",
      "Total précipitation: 0\n",
      "Code pays: FR\n",
      "Ville: paris\n",
      "Sexe indivu: h\n",
      "----------------------------------------\n"
     ]
    }
   ],
   "source": [
    "list_rain = []\n",
    "list_date = []\n",
    "list_celsius = []\n",
    "print(\"Date: \"+date)\n",
    "print(\"---------------------------------------\")\n",
    "for i in range(len(data_prev[\"list\"])):\n",
    "    if date == data_prev[\"list\"][i][\"dt_txt\"][0:10]:\n",
    "        print(\"Heure: \"+data_prev[\"list\"][i][\"dt_txt\"][11:])\n",
    "        print(\"Temperature: \"+str(convert(data_prev[\"list\"][i][\"main\"][\"temp\"]))+\"°C\")\n",
    "        try :\n",
    "            print(\"Precipitation: \"+str(data_prev[\"list\"][i][\"rain\"][\"3h\"]))\n",
    "            list_rain.append(data_prev[\"list\"][i][\"rain\"][\"3h\"])\n",
    "        except KeyError :\n",
    "            print(\"Precipitation: 0\")\n",
    "            list_rain.append(0)\n",
    "        list_date.append(data_prev[\"list\"][i][\"dt_txt\"][11:16])\n",
    "        list_celsius.append(convert(data_prev[\"list\"][i][\"main\"][\"temp\"]))\n",
    "        print(\"\")\n",
    "rain = np.sum(list_rain)\n",
    "temp = np.mean(list_celsius)\n",
    "print(\"----------------------------------------\")\n",
    "print(\"Date de la prediction: \"+date)\n",
    "\n",
    "print(\"Moyenne temperature: \"+str(temp))\n",
    "print(\"Total précipitation: \"+str(rain))\n",
    "print(\"Code pays: \"+code_pays)\n",
    "print(\"Ville: \"+ville)\n",
    "print(\"Sexe indivu: \"+sexe)\n",
    "print(\"----------------------------------------\")"
   ]
  },
  {
   "cell_type": "code",
   "execution_count": 128,
   "metadata": {},
   "outputs": [
    {
     "data": {
      "image/png": "[encoded data removed]",
      "text/plain": [
       "<matplotlib.figure.Figure at 0x7f405e9cb208>"
      ]
     },
     "metadata": {},
     "output_type": "display_data"
    }
   ],
   "source": [
    "import matplotlib.pyplot as plt\n",
    "\n",
    "plt.title(ville +\" \"+ date)\n",
    "plt.plot(list_date, list_celsius)\n",
    "plt.xlabel('Temps')\n",
    "plt.ylabel('°C')\n",
    "plt.show()"
   ]
  },
  {
   "cell_type": "code",
   "execution_count": 129,
   "metadata": {},
   "outputs": [
    {
     "name": "stdout",
     "output_type": "stream",
     "text": [
      "Choix T-shirt :\n",
      "Mise Au Green : T-shirt col V 100 - 29.0€ - https://www.galerieslafayette.com/p/t-shirt+col+v+100-mise+au+green/51381250/320\n",
      "Kaporal Jeans : T-shirt Loris - 19.5€ - https://www.galerieslafayette.com/p/t-shirt+loris-kaporal+jeans/49900099/263\n",
      "Teddy Smith : T-shirt Tawax - 19.0€ - https://www.galerieslafayette.com/p/t-shirt+tawax-teddy+smith/29212224/320\n",
      "-------------------------------------------------------\n",
      "Choix Pantalon :\n",
      "The Kooples : Pantalon droit - 198.0€ - https://www.galerieslafayette.com/p/pantalon+droit-the+kooples/42980768/320\n",
      "Eden Park : Pantalon chino en coton regular fit - 72.5€ - https://www.galerieslafayette.com/p/pantalon+chino+en+coton+regular+fit-eden+park/52310291/72\n",
      "Teddy Smith : Pantalon chino slim fit - 65.0€ - https://www.galerieslafayette.com/p/pantalon+chino+slim+fit-teddy+smith/29211970/125\n"
     ]
    }
   ],
   "source": [
    "choix_sexe(sexe)"
   ]
  },
  {
   "cell_type": "code",
   "execution_count": 66,
   "metadata": {},
   "outputs": [
    {
     "name": "stdout",
     "output_type": "stream",
     "text": [
      "1 record inserted.\n"
     ]
    }
   ],
   "source": [
    "mydb = mysql.connector.connect(\n",
    "  host=\"104.155.111.115\",\n",
    "  user=\"root\",\n",
    "  passwd=\"corentin\",\n",
    "  database=\"chef\"\n",
    ")\n",
    "\n",
    "mycursor = mydb.cursor()\n",
    "\n",
    "sql = \"INSERT INTO Ville (nom_ville, id_pays) VALUES (%s, %s)\"\n",
    "val = (ville, code_pays)\n",
    "mycursor.execute(sql, val)\n",
    "\n",
    "mydb.commit()\n",
    "print(mycursor.rowcount, \"record inserted.\")\n"
   ]
  },
  {
   "cell_type": "code",
   "execution_count": 149,
   "metadata": {},
   "outputs": [],
   "source": [
    "ville = \"paris\"\n",
    "code_pays = \"FR\""
   ]
  },
  {
   "cell_type": "code",
   "execution_count": 150,
   "metadata": {},
   "outputs": [
    {
     "name": "stdout",
     "output_type": "stream",
     "text": [
      "7 paris\n",
      "8 paris\n",
      "2\n"
     ]
    }
   ],
   "source": [
    "cursor.execute(\"SELECT * FROM Ville WHERE nom_ville = \\'\"+ville+\"\\' AND id_pays = \\'\"+code_pays+\"\\';\")\n",
    "rows = cursor.fetchall()\n",
    "\n",
    "print(len(rows))\n",
    "\n",
    "\n",
    "\n",
    "mydb = mysql.connector.connect(\n",
    "  host=\"104.155.111.115\",\n",
    "  user=\"root\",\n",
    "  passwd=\"corentin\",\n",
    "  database=\"chef\"\n",
    ")\n",
    "\n",
    "#mycursor = mydb.cursor()\n",
    "\n",
    "#sql = \"IF NOT EXISTS (SELECT * FROM Ville WHERE nom_ville =\"ville \" AND id_pays = %s) BEGIN INSERT INTO Ville (nom_ville, id_pays) VALUES (%s, %s) END\"\n",
    "#val = (ville, code_pays)\n",
    "#mycursor.execute(sql, val)\n",
    "\n",
    "#mydb.commit()\n",
    "#print(mycursor.rowcount, \"record inserted.\")"
   ]
  },
  {
   "cell_type": "code",
   "execution_count": 117,
   "metadata": {},
   "outputs": [],
   "source": [
    "id_ville = 7\n",
    "\n",
    "ville = np.float64(id_ville)\n",
    "rain = np.float64(rain)\n"
   ]
  },
  {
   "cell_type": "code",
   "execution_count": 119,
   "metadata": {},
   "outputs": [
    {
     "name": "stdout",
     "output_type": "stream",
     "text": [
      "1 record inserted.\n"
     ]
    }
   ],
   "source": [
    "#id_ville = 7\n",
    "\n",
    "mydb = mysql.connector.connect(\n",
    "  host=\"104.155.111.115\",\n",
    "  user=\"root\",\n",
    "  passwd=\"corentin\",\n",
    "  database=\"chef\"\n",
    ")\n",
    "\n",
    "mycursor = mydb.cursor()\n",
    "\n",
    "sql = \"INSERT INTO Donnee (insert_date, temperature, rain, id_ville) VALUES (%s, %s, %s, %s)\"\n",
    "val = (date, temp ,rain, id_ville)\n",
    "mycursor.execute(sql, val)\n",
    "\n",
    "mydb.commit()\n",
    "\n",
    "print(mycursor.rowcount, \"record inserted.\")"
   ]
  }
 ],
 "metadata": {
  "kernelspec": {
   "display_name": "Python 3",
   "language": "python",
   "name": "python3"
  },
  "language_info": {
   "codemirror_mode": {
    "name": "ipython",
    "version": 3
   },
   "file_extension": ".py",
   "mimetype": "text/x-python",
   "name": "python",
   "nbconvert_exporter": "python",
   "pygments_lexer": "ipython3",
   "version": "3.6.4"
  }
 },
 "nbformat": 4,
 "nbformat_minor": 2
}
