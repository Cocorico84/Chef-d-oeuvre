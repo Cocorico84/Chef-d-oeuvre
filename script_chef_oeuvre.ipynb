{
 "cells": [
  {
   "cell_type": "code",
   "execution_count": 15,
   "metadata": {},
   "outputs": [],
   "source": [
    "import requests\n",
    "import json\n",
    "import mysql.connector\n",
    "import numpy as np"
   ]
  },
  {
   "cell_type": "code",
   "execution_count": 2,
   "metadata": {},
   "outputs": [],
   "source": [
    "conn = mysql.connector.connect(host=\"104.155.111.115\",user=\"root\",password=\"corentin\", database=\"meteo\")\n",
    "cursor = conn.cursor()\n",
    "#conn.close()"
   ]
  },
  {
   "cell_type": "code",
   "execution_count": 3,
   "metadata": {},
   "outputs": [],
   "source": [
    "def convert(kel):\n",
    "    celsius = (kel- 273.15)\n",
    "    return round(celsius, 2)"
   ]
  },
  {
   "cell_type": "code",
   "execution_count": 4,
   "metadata": {},
   "outputs": [],
   "source": [
    "def choix_vetement_h(temp):\n",
    "    if temp < 15:\n",
    "        print(\"Choix T-shirt :\")\n",
    "        cursor.execute(\"SELECT * FROM Vetement WHERE genre ='h' AND item = 'ts' ORDER BY RAND() LIMIT 3;\")\n",
    "        rows = cursor.fetchall()\n",
    "        for row in rows:\n",
    "            print('{0} : {1} - {3}€ - {2}'.format(row[0], row[1], row[2], row[3] ))\n",
    "        print(\"-------------------------------------------------------\")\n",
    "        print(\"Choix Pull :\")\n",
    "        cursor.execute(\"SELECT * FROM Vetement WHERE genre ='h' AND item = 'pull' ORDER BY RAND() LIMIT 3;\")\n",
    "        rows = cursor.fetchall()\n",
    "        for row in rows:\n",
    "            print('{0} : {1} - {3}€ - {2}'.format(row[0], row[1], row[2], row[3] ))\n",
    "        print(\"-------------------------------------------------------\")\n",
    "        print(\"Choix Pantalon :\")\n",
    "        cursor.execute(\"SELECT * FROM Vetement WHERE genre ='h' AND item = 'pant' ORDER BY RAND() LIMIT 3;\")\n",
    "        rows = cursor.fetchall()\n",
    "        for row in rows:\n",
    "            print('{0} : {1} - {3}€ - {2}'.format(row[0], row[1], row[2], row[3] ))  \n",
    "            \n",
    "    if temp >= 15 and temp <= 20:\n",
    "        print(\"Choix T-shirt :\")\n",
    "        cursor.execute(\"SELECT * FROM Vetement WHERE genre ='h' AND item = 'ts' ORDER BY RAND() LIMIT 3;\")\n",
    "        rows = cursor.fetchall()\n",
    "        for row in rows:\n",
    "            print('{0} : {1} - {3}€ - {2}'.format(row[0], row[1], row[2], row[3] ))\n",
    "        print(\"-------------------------------------------------------\")\n",
    "        print(\"Choix Pantalon :\")\n",
    "        cursor.execute(\"SELECT * FROM Vetement WHERE genre ='h' AND item = 'pant' ORDER BY RAND() LIMIT 3;\")\n",
    "        rows = cursor.fetchall()\n",
    "        for row in rows:\n",
    "            print('{0} : {1} - {3}€ - {2}'.format(row[0], row[1], row[2], row[3] ))\n",
    "    if temp > 20:\n",
    "        print(\"Choix Débardeur :\")\n",
    "        cursor.execute(\"SELECT * FROM Vetement WHERE genre ='h' AND item = 'deb' ORDER BY RAND() LIMIT 3;\")\n",
    "        rows = cursor.fetchall()\n",
    "        for row in rows:\n",
    "            print('{0} : {1} - {3}€ - {2}'.format(row[0], row[1], row[2], row[3] ))\n",
    "        print(\"-------------------------------------------------------\")\n",
    "        print(\"Choix Short :\")\n",
    "        cursor.execute(\"SELECT * FROM Vetement WHERE genre ='h' AND item = 'short' ORDER BY RAND() LIMIT 3;\")\n",
    "        rows = cursor.fetchall()\n",
    "        for row in rows:\n",
    "            print('{0} : {1} - {3}€ - {2}'.format(row[0], row[1], row[2], row[3] ))\n",
    "        print(\"-------------------------------------------------------\")\n",
    "    if rain > 0:\n",
    "        print(\"Choix Parapluie :\")\n",
    "        cursor.execute(\"SELECT * FROM Vetement WHERE item = 'para' ORDER BY RAND() LIMIT 3;\")\n",
    "        rows = cursor.fetchall()\n",
    "        for row in rows:\n",
    "            print('{0} : {1} - {3}€ - {2}'.format(row[0], row[1], row[2], row[3] ))     \n",
    "        print(\"-------------------------------------------------------\")\n",
    "    "
   ]
  },
  {
   "cell_type": "code",
   "execution_count": 5,
   "metadata": {},
   "outputs": [],
   "source": [
    "def choix_vetement_f(temp):\n",
    "    if temp < 15:\n",
    "        print(\"Choix T-shirt :\")\n",
    "        cursor.execute(\"SELECT * FROM Vetement WHERE genre ='f' AND item = 'ts' ORDER BY RAND() LIMIT 3;\")\n",
    "        rows = cursor.fetchall()\n",
    "        for row in rows:\n",
    "            print('{0} : {1} - {3}€ - {2}'.format(row[0], row[1], row[2], row[3] ))\n",
    "        print(\"-------------------------------------------------------\")\n",
    "        print(\"Choix Pull :\")\n",
    "        cursor.execute(\"SELECT * FROM Vetement WHERE genre ='f' AND item = 'pull' ORDER BY RAND() LIMIT 3;\")\n",
    "        rows = cursor.fetchall()\n",
    "        for row in rows:\n",
    "            print('{0} : {1} - {3}€ - {2}'.format(row[0], row[1], row[2], row[3] ))\n",
    "        print(\"-------------------------------------------------------\")\n",
    "        print(\"Choix Pantalon :\")\n",
    "        cursor.execute(\"SELECT * FROM Vetement WHERE genre ='f' AND item = 'pant' ORDER BY RAND() LIMIT 3;\")\n",
    "        rows = cursor.fetchall()\n",
    "        for row in rows:\n",
    "            print('{0} : {1} - {3}€ - {2}'.format(row[0], row[1], row[2], row[3] ))  \n",
    "            \n",
    "    if temp >= 15 and temp <= 20:\n",
    "        print(\"Choix T-shirt :\")\n",
    "        cursor.execute(\"SELECT * FROM Vetement WHERE genre ='f' AND item = 'ts' ORDER BY RAND() LIMIT 3;\")\n",
    "        rows = cursor.fetchall()\n",
    "        for row in rows:\n",
    "            print('{0} : {1} - {3}€ - {2}'.format(row[0], row[1], row[2], row[3] ))\n",
    "        print(\"-------------------------------------------------------\")\n",
    "        print(\"Choix Pantalon :\")\n",
    "        cursor.execute(\"SELECT * FROM Vetement WHERE genre ='f' AND item = 'pant' ORDER BY RAND() LIMIT 3;\")\n",
    "        rows = cursor.fetchall()\n",
    "        for row in rows:\n",
    "            print('{0} : {1} - {3}€ - {2}'.format(row[0], row[1], row[2], row[3] ))\n",
    "    if temp > 20:\n",
    "        print(\"Choix Débardeur :\")\n",
    "        cursor.execute(\"SELECT * FROM Vetement WHERE genre ='f' AND item = 'deb' ORDER BY RAND() LIMIT 3;\")\n",
    "        rows = cursor.fetchall()\n",
    "        for row in rows:\n",
    "            print('{0} : {1} - {3}€ - {2}'.format(row[0], row[1], row[2], row[3] ))\n",
    "        print(\"-------------------------------------------------------\")\n",
    "        print(\"Choix Jupe :\")\n",
    "        cursor.execute(\"SELECT * FROM Vetement WHERE genre ='f' AND item = 'jupe' ORDER BY RAND() LIMIT 3;\")\n",
    "        rows = cursor.fetchall()\n",
    "        for row in rows:\n",
    "            print('{0} : {1} - {3}€ - {2}'.format(row[0], row[1], row[2], row[3] ))\n",
    "    if rain > 0:\n",
    "        print(\"Choix Parapluie :\")\n",
    "        cursor.execute(\"SELECT * FROM Vetement WHERE item = 'para' ORDER BY RAND() LIMIT 3;\")\n",
    "        rows = cursor.fetchall()\n",
    "        for row in rows:\n",
    "            print('{0} : {1} - {3}€ - {2}'.format(row[0], row[1], row[2], row[3] ))\n",
    "        print(\"-------------------------------------------------------\")"
   ]
  },
  {
   "cell_type": "code",
   "execution_count": 6,
   "metadata": {},
   "outputs": [],
   "source": [
    "def choix_sexe(sexe):\n",
    "    if sexe == \"h\":\n",
    "        choix_vetement_h(temp)\n",
    "    elif sexe == \"f\":\n",
    "        choix_vetement_f(temp)"
   ]
  },
  {
   "cell_type": "code",
   "execution_count": 16,
   "metadata": {},
   "outputs": [
    {
     "name": "stdout",
     "output_type": "stream",
     "text": [
      "²²²²²² Bienvenue sur Weather Me ! B) ²²²²²²\n",
      "******** Le logiciel de prévision météo des 5 prochains jours. ********\n",
      "Quelle ville souhaitez-vous connaître la météo : paris\n",
      "Code Pays : fr\n",
      "Entrez votre sexe h/f :h\n",
      "Entrée le numéro en deux chiffre (ex: 05, 15) de la journée don vous voulez connaitre les prévision météo: 05\n",
      "Cette fois entrée le mois: 10\n"
     ]
    }
   ],
   "source": [
    "print(\"²²²²²² Bienvenue sur Weather Me ! B) ²²²²²²\")\n",
    "print(\"******** Le logiciel de prévision météo des 5 prochains jours. ********\")\n",
    "\n",
    "ville = input(\"Quelle ville souhaitez-vous connaître la météo : \")\n",
    "ville = ville.lower()\n",
    "\n",
    "code_pays = input(\"Code Pays : \" )\n",
    "code_pays = code_pays.upper()\n",
    "sexe = input(\"Entrez votre sexe h/f :\")\n",
    "sexe = sexe.lower()\n",
    "\n",
    "prev = requests.get(\"http://api.openweathermap.org/data/2.5/forecast?q={},{}&appid=3543ac0c00624ed3bb653359621e5344\".format(ville,code_pays))\n",
    "data_prev = prev.json()\n",
    "\n",
    "date_jour = input(\"Entrée le numéro en deux chiffre (ex: 05, 15) de la journée don vous voulez connaitre les prévision météo: \")\n",
    "date_mois = input(\"Cette fois entrée le mois: \")\n",
    "date = \"2018-\"+date_mois+\"-\"+date_jour\n"
   ]
  },
  {
   "cell_type": "code",
   "execution_count": 17,
   "metadata": {},
   "outputs": [
    {
     "name": "stdout",
     "output_type": "stream",
     "text": [
      "Date: 2018-10-05\n",
      "---------------------------------------\n",
      "Heure: 00:00:00\n",
      "Temperature: 7.89°C\n",
      "Precipitation: 0\n",
      "\n",
      "Heure: 03:00:00\n",
      "Temperature: 6.8°C\n",
      "Precipitation: 0\n",
      "\n",
      "Heure: 06:00:00\n",
      "Temperature: 5.99°C\n",
      "Precipitation: 0\n",
      "\n",
      "Heure: 09:00:00\n",
      "Temperature: 16.07°C\n",
      "Precipitation: 0\n",
      "\n",
      "Heure: 12:00:00\n",
      "Temperature: 21.81°C\n",
      "Precipitation: 0\n",
      "\n",
      "Heure: 15:00:00\n",
      "Temperature: 23.25°C\n",
      "Precipitation: 0\n",
      "\n",
      "Heure: 18:00:00\n",
      "Temperature: 18.61°C\n",
      "Precipitation: 0\n",
      "\n",
      "Heure: 21:00:00\n",
      "Temperature: 14.41°C\n",
      "Precipitation: 0\n",
      "\n",
      "----------------------------------------\n",
      "Date de la prediction: 2018-10-05\n",
      "Moyenne temperature: 14.35375\n",
      "Total précipitation: 0\n",
      "Code pays: FR\n",
      "Ville: paris\n",
      "Sexe indivu: h\n",
      "----------------------------------------\n"
     ]
    }
   ],
   "source": [
    "list_rain = []\n",
    "list_date = []\n",
    "list_celsius = []\n",
    "print(\"Date: \"+date)\n",
    "print(\"---------------------------------------\")\n",
    "for i in range(len(data_prev[\"list\"])):\n",
    "    if date == data_prev[\"list\"][i][\"dt_txt\"][0:10]:\n",
    "        print(\"Heure: \"+data_prev[\"list\"][i][\"dt_txt\"][11:])\n",
    "        print(\"Temperature: \"+str(convert(data_prev[\"list\"][i][\"main\"][\"temp\"]))+\"°C\")\n",
    "        try :\n",
    "            print(\"Precipitation: \"+str(data_prev[\"list\"][i][\"rain\"][\"3h\"]))\n",
    "            list_rain.append(data_prev[\"list\"][i][\"rain\"][\"3h\"])\n",
    "        except KeyError :\n",
    "            print(\"Precipitation: 0\")\n",
    "            list_rain.append(0)\n",
    "        list_date.append(data_prev[\"list\"][i][\"dt_txt\"][11:16])\n",
    "        list_celsius.append(convert(data_prev[\"list\"][i][\"main\"][\"temp\"]))\n",
    "        print(\"\")\n",
    "rain = np.sum(list_rain)\n",
    "temp = np.mean(list_celsius)\n",
    "print(\"----------------------------------------\")\n",
    "print(\"Date de la prediction: \"+date)\n",
    "\n",
    "print(\"Moyenne temperature: \"+str(temp))\n",
    "print(\"Total précipitation: \"+str(rain))\n",
    "print(\"Code pays: \"+code_pays)\n",
    "print(\"Ville: \"+ville)\n",
    "print(\"Sexe indivu: \"+sexe)\n",
    "print(\"----------------------------------------\")"
   ]
  },
  {
   "cell_type": "code",
   "execution_count": 18,
   "metadata": {},
   "outputs": [
    {
     "data": {
      "image/png": "[encoded data removed]",
      "text/plain": [
       "<Figure size 432x288 with 1 Axes>"
      ]
     },
     "metadata": {},
     "output_type": "display_data"
    }
   ],
   "source": [
    "import matplotlib.pyplot as plt\n",
    "\n",
    "plt.title(ville +\" \"+ date)\n",
    "plt.plot(list_date, list_celsius)\n",
    "plt.xlabel('Temps')\n",
    "plt.ylabel('°C')\n",
    "plt.show()"
   ]
  },
  {
   "cell_type": "code",
   "execution_count": 19,
   "metadata": {},
   "outputs": [
    {
     "name": "stdout",
     "output_type": "stream",
     "text": [
      "Choix T-shirt :\n",
      "2 : T-shirt Charing - 14.0€ - https://www.galerieslafayette.com/p/t-shirt+charing-pepe+jeans/49910495/320\n",
      "21 : T-shirt droit uni col V - 45.0€ - https://www.galerieslafayette.com/p/t-shirt+droit+uni+col+v-eden+park/33707270/125\n",
      "9 : Polo manches courtes Totem - 60.0€ - https://www.galerieslafayette.com/p/polo+manches+courtes+totem-zadig+voltaire/50818519/125\n",
      "-------------------------------------------------------\n",
      "Choix Pull :\n",
      "103 : Sweat en coton à broderie bouclette siglée - 60.0€ - https://www.galerieslafayette.com/p/sweat+en+coton+a+broderie+bouclette+siglee-eden+park/52310049/125\n",
      "100 : Sweat en coton logo - 67.5€ - https://www.galerieslafayette.com/p/sweat+en+coton+logo-polo+ralph+lauren/49910440/101\n",
      "77 : Pull en coton et soie à col V - 59.5€ - https://www.galerieslafayette.com/p/pull+en+coton+et+soie+a+col+v-tommy+hilfiger/48936786/131\n",
      "-------------------------------------------------------\n",
      "Choix Pantalon :\n",
      "172 : Pantalon Chino Slim - 55.0€ - https://www.galerieslafayette.com/p/pantalon+chino+slim-chevignon/300404346509/204\n",
      "176 : Pantalon chino Kadroit straight fit - 24.99€ - https://www.galerieslafayette.com/p/pantalon+chino+kadroit+straight+fit-galeries+lafayette/47955867/266\n",
      "156 : Pantalon chino slim fit - 65.0€ - https://www.galerieslafayette.com/p/pantalon+chino+slim+fit-teddy+smith/29211970/125\n"
     ]
    }
   ],
   "source": [
    "choix_sexe(sexe)"
   ]
  },
  {
   "cell_type": "code",
   "execution_count": 20,
   "metadata": {},
   "outputs": [
    {
     "name": "stdout",
     "output_type": "stream",
     "text": [
      "1\n"
     ]
    }
   ],
   "source": [
    "conn = mysql.connector.connect(host=\"104.155.111.115\",user=\"root\",password=\"corentin\", database=\"meteo\")\n",
    "cursor = conn.cursor()\n",
    "\n",
    "cursor.execute(\"SELECT * FROM Ville WHERE nom_ville = \\'\"+ville+\"\\' AND id_pays = \\'\"+code_pays+\"\\';\")\n",
    "rows = cursor.fetchall()\n",
    "\n",
    "print(len(rows))\n",
    "if len(rows) == 0:\n",
    "    mydb = mysql.connector.connect(\n",
    "      host=\"104.155.111.115\",\n",
    "      user=\"root\",\n",
    "      passwd=\"corentin\",\n",
    "      database=\"meteo\"\n",
    "    )\n",
    "\n",
    "    mycursor = mydb.cursor()\n",
    "\n",
    "    sql = \"INSERT INTO Ville (nom_ville, id_pays) VALUES (%s, %s)\"\n",
    "    val = (ville, code_pays)\n",
    "    mycursor.execute(sql, val)\n",
    "\n",
    "    mydb.commit()\n",
    "    print(mycursor.rowcount, \"record inserted.\")\n"
   ]
  },
  {
   "cell_type": "code",
   "execution_count": 21,
   "metadata": {},
   "outputs": [],
   "source": [
    "conn = mysql.connector.connect(host=\"104.155.111.115\",user=\"root\",password=\"corentin\", database=\"meteo\")\n",
    "cursor = conn.cursor()\n",
    "#conn.close()\n",
    "cursor.execute(\"SELECT id_ville FROM Ville WHERE nom_ville = \\'\"+ville+\"\\' AND id_pays = \\'\"+code_pays+\"\\';\")\n",
    "id_ville = cursor.fetchall()\n"
   ]
  },
  {
   "cell_type": "code",
   "execution_count": 22,
   "metadata": {},
   "outputs": [],
   "source": [
    "id_ville = id_ville[0][0]\n",
    "rain = np.float64(rain)\n"
   ]
  },
  {
   "cell_type": "code",
   "execution_count": 23,
   "metadata": {},
   "outputs": [
    {
     "name": "stdout",
     "output_type": "stream",
     "text": [
      "2\n",
      "0.0\n"
     ]
    }
   ],
   "source": [
    "print(id_ville)\n",
    "print(rain)"
   ]
  },
  {
   "cell_type": "code",
   "execution_count": 24,
   "metadata": {},
   "outputs": [
    {
     "ename": "ProgrammingError",
     "evalue": "Failed processing format-parameters; Python 'float64' cannot be converted to a MySQL type",
     "output_type": "error",
     "traceback": [
      "\u001b[0;31m---------------------------------------------------------------------------\u001b[0m",
      "\u001b[0;31mAttributeError\u001b[0m                            Traceback (most recent call last)",
      "\u001b[0;32m~/anaconda3/lib/python3.6/site-packages/mysql/connector/conversion.py\u001b[0m in \u001b[0;36mto_mysql\u001b[0;34m(self, value)\u001b[0m\n\u001b[1;32m    178\u001b[0m         \u001b[0;32mtry\u001b[0m\u001b[0;34m:\u001b[0m\u001b[0;34m\u001b[0m\u001b[0m\n\u001b[0;32m--> 179\u001b[0;31m             \u001b[0;32mreturn\u001b[0m \u001b[0mgetattr\u001b[0m\u001b[0;34m(\u001b[0m\u001b[0mself\u001b[0m\u001b[0;34m,\u001b[0m \u001b[0;34m\"_{0}_to_mysql\"\u001b[0m\u001b[0;34m.\u001b[0m\u001b[0mformat\u001b[0m\u001b[0;34m(\u001b[0m\u001b[0mtype_name\u001b[0m\u001b[0;34m)\u001b[0m\u001b[0;34m)\u001b[0m\u001b[0;34m(\u001b[0m\u001b[0mvalue\u001b[0m\u001b[0;34m)\u001b[0m\u001b[0;34m\u001b[0m\u001b[0m\n\u001b[0m\u001b[1;32m    180\u001b[0m         \u001b[0;32mexcept\u001b[0m \u001b[0mAttributeError\u001b[0m\u001b[0;34m:\u001b[0m\u001b[0;34m\u001b[0m\u001b[0m\n",
      "\u001b[0;31mAttributeError\u001b[0m: 'MySQLConverter' object has no attribute '_float64_to_mysql'",
      "\nDuring handling of the above exception, another exception occurred:\n",
      "\u001b[0;31mTypeError\u001b[0m                                 Traceback (most recent call last)",
      "\u001b[0;32m~/anaconda3/lib/python3.6/site-packages/mysql/connector/cursor.py\u001b[0m in \u001b[0;36m_process_params\u001b[0;34m(self, params)\u001b[0m\n\u001b[1;32m    416\u001b[0m \u001b[0;34m\u001b[0m\u001b[0m\n\u001b[0;32m--> 417\u001b[0;31m             \u001b[0mres\u001b[0m \u001b[0;34m=\u001b[0m \u001b[0;34m[\u001b[0m\u001b[0mto_mysql\u001b[0m\u001b[0;34m(\u001b[0m\u001b[0mi\u001b[0m\u001b[0;34m)\u001b[0m \u001b[0;32mfor\u001b[0m \u001b[0mi\u001b[0m \u001b[0;32min\u001b[0m \u001b[0mres\u001b[0m\u001b[0;34m]\u001b[0m\u001b[0;34m\u001b[0m\u001b[0m\n\u001b[0m\u001b[1;32m    418\u001b[0m             \u001b[0mres\u001b[0m \u001b[0;34m=\u001b[0m \u001b[0;34m[\u001b[0m\u001b[0mescape\u001b[0m\u001b[0;34m(\u001b[0m\u001b[0mi\u001b[0m\u001b[0;34m)\u001b[0m \u001b[0;32mfor\u001b[0m \u001b[0mi\u001b[0m \u001b[0;32min\u001b[0m \u001b[0mres\u001b[0m\u001b[0;34m]\u001b[0m\u001b[0;34m\u001b[0m\u001b[0m\n",
      "\u001b[0;32m~/anaconda3/lib/python3.6/site-packages/mysql/connector/cursor.py\u001b[0m in \u001b[0;36m<listcomp>\u001b[0;34m(.0)\u001b[0m\n\u001b[1;32m    416\u001b[0m \u001b[0;34m\u001b[0m\u001b[0m\n\u001b[0;32m--> 417\u001b[0;31m             \u001b[0mres\u001b[0m \u001b[0;34m=\u001b[0m \u001b[0;34m[\u001b[0m\u001b[0mto_mysql\u001b[0m\u001b[0;34m(\u001b[0m\u001b[0mi\u001b[0m\u001b[0;34m)\u001b[0m \u001b[0;32mfor\u001b[0m \u001b[0mi\u001b[0m \u001b[0;32min\u001b[0m \u001b[0mres\u001b[0m\u001b[0;34m]\u001b[0m\u001b[0;34m\u001b[0m\u001b[0m\n\u001b[0m\u001b[1;32m    418\u001b[0m             \u001b[0mres\u001b[0m \u001b[0;34m=\u001b[0m \u001b[0;34m[\u001b[0m\u001b[0mescape\u001b[0m\u001b[0;34m(\u001b[0m\u001b[0mi\u001b[0m\u001b[0;34m)\u001b[0m \u001b[0;32mfor\u001b[0m \u001b[0mi\u001b[0m \u001b[0;32min\u001b[0m \u001b[0mres\u001b[0m\u001b[0;34m]\u001b[0m\u001b[0;34m\u001b[0m\u001b[0m\n",
      "\u001b[0;32m~/anaconda3/lib/python3.6/site-packages/mysql/connector/conversion.py\u001b[0m in \u001b[0;36mto_mysql\u001b[0;34m(self, value)\u001b[0m\n\u001b[1;32m    181\u001b[0m             raise TypeError(\"Python '{0}' cannot be converted to a \"\n\u001b[0;32m--> 182\u001b[0;31m                             \"MySQL type\".format(type_name))\n\u001b[0m\u001b[1;32m    183\u001b[0m \u001b[0;34m\u001b[0m\u001b[0m\n",
      "\u001b[0;31mTypeError\u001b[0m: Python 'float64' cannot be converted to a MySQL type",
      "\nDuring handling of the above exception, another exception occurred:\n",
      "\u001b[0;31mProgrammingError\u001b[0m                          Traceback (most recent call last)",
      "\u001b[0;32m<ipython-input-24-5a0ee5eeedef>\u001b[0m in \u001b[0;36m<module>\u001b[0;34m()\u001b[0m\n\u001b[1;32m     10\u001b[0m \u001b[0msql\u001b[0m \u001b[0;34m=\u001b[0m \u001b[0;34m\"INSERT INTO Meteo (insert_date, temperature, rain, id_ville) VALUES (%s, %s, %s, %s)\"\u001b[0m\u001b[0;34m\u001b[0m\u001b[0m\n\u001b[1;32m     11\u001b[0m \u001b[0mval\u001b[0m \u001b[0;34m=\u001b[0m \u001b[0;34m(\u001b[0m\u001b[0mdate\u001b[0m\u001b[0;34m,\u001b[0m \u001b[0mtemp\u001b[0m \u001b[0;34m,\u001b[0m\u001b[0mrain\u001b[0m\u001b[0;34m,\u001b[0m \u001b[0mid_ville\u001b[0m\u001b[0;34m)\u001b[0m\u001b[0;34m\u001b[0m\u001b[0m\n\u001b[0;32m---> 12\u001b[0;31m \u001b[0mmycursor\u001b[0m\u001b[0;34m.\u001b[0m\u001b[0mexecute\u001b[0m\u001b[0;34m(\u001b[0m\u001b[0msql\u001b[0m\u001b[0;34m,\u001b[0m \u001b[0mval\u001b[0m\u001b[0;34m)\u001b[0m\u001b[0;34m\u001b[0m\u001b[0m\n\u001b[0m\u001b[1;32m     13\u001b[0m \u001b[0;34m\u001b[0m\u001b[0m\n\u001b[1;32m     14\u001b[0m \u001b[0mmydb\u001b[0m\u001b[0;34m.\u001b[0m\u001b[0mcommit\u001b[0m\u001b[0;34m(\u001b[0m\u001b[0;34m)\u001b[0m\u001b[0;34m\u001b[0m\u001b[0m\n",
      "\u001b[0;32m~/anaconda3/lib/python3.6/site-packages/mysql/connector/cursor.py\u001b[0m in \u001b[0;36mexecute\u001b[0;34m(self, operation, params, multi)\u001b[0m\n\u001b[1;32m    537\u001b[0m                     stmt, self._process_params_dict(params))\n\u001b[1;32m    538\u001b[0m             \u001b[0;32melif\u001b[0m \u001b[0misinstance\u001b[0m\u001b[0;34m(\u001b[0m\u001b[0mparams\u001b[0m\u001b[0;34m,\u001b[0m \u001b[0;34m(\u001b[0m\u001b[0mlist\u001b[0m\u001b[0;34m,\u001b[0m \u001b[0mtuple\u001b[0m\u001b[0;34m)\u001b[0m\u001b[0;34m)\u001b[0m\u001b[0;34m:\u001b[0m\u001b[0;34m\u001b[0m\u001b[0m\n\u001b[0;32m--> 539\u001b[0;31m                 \u001b[0mpsub\u001b[0m \u001b[0;34m=\u001b[0m \u001b[0m_ParamSubstitutor\u001b[0m\u001b[0;34m(\u001b[0m\u001b[0mself\u001b[0m\u001b[0;34m.\u001b[0m\u001b[0m_process_params\u001b[0m\u001b[0;34m(\u001b[0m\u001b[0mparams\u001b[0m\u001b[0;34m)\u001b[0m\u001b[0;34m)\u001b[0m\u001b[0;34m\u001b[0m\u001b[0m\n\u001b[0m\u001b[1;32m    540\u001b[0m                 \u001b[0mstmt\u001b[0m \u001b[0;34m=\u001b[0m \u001b[0mRE_PY_PARAM\u001b[0m\u001b[0;34m.\u001b[0m\u001b[0msub\u001b[0m\u001b[0;34m(\u001b[0m\u001b[0mpsub\u001b[0m\u001b[0;34m,\u001b[0m \u001b[0mstmt\u001b[0m\u001b[0;34m)\u001b[0m\u001b[0;34m\u001b[0m\u001b[0m\n\u001b[1;32m    541\u001b[0m                 \u001b[0;32mif\u001b[0m \u001b[0mpsub\u001b[0m\u001b[0;34m.\u001b[0m\u001b[0mremaining\u001b[0m \u001b[0;34m!=\u001b[0m \u001b[0;36m0\u001b[0m\u001b[0;34m:\u001b[0m\u001b[0;34m\u001b[0m\u001b[0m\n",
      "\u001b[0;32m~/anaconda3/lib/python3.6/site-packages/mysql/connector/cursor.py\u001b[0m in \u001b[0;36m_process_params\u001b[0;34m(self, params)\u001b[0m\n\u001b[1;32m    420\u001b[0m         \u001b[0;32mexcept\u001b[0m \u001b[0mException\u001b[0m \u001b[0;32mas\u001b[0m \u001b[0merr\u001b[0m\u001b[0;34m:\u001b[0m\u001b[0;34m\u001b[0m\u001b[0m\n\u001b[1;32m    421\u001b[0m             raise errors.ProgrammingError(\n\u001b[0;32m--> 422\u001b[0;31m                 \"Failed processing format-parameters; %s\" % err)\n\u001b[0m\u001b[1;32m    423\u001b[0m         \u001b[0;32melse\u001b[0m\u001b[0;34m:\u001b[0m\u001b[0;34m\u001b[0m\u001b[0m\n\u001b[1;32m    424\u001b[0m             \u001b[0;32mreturn\u001b[0m \u001b[0mtuple\u001b[0m\u001b[0;34m(\u001b[0m\u001b[0mres\u001b[0m\u001b[0;34m)\u001b[0m\u001b[0;34m\u001b[0m\u001b[0m\n",
      "\u001b[0;31mProgrammingError\u001b[0m: Failed processing format-parameters; Python 'float64' cannot be converted to a MySQL type"
     ]
    }
   ],
   "source": [
    "mydb = mysql.connector.connect(\n",
    "  host=\"104.155.111.115\",\n",
    "  user=\"root\",\n",
    "  passwd=\"corentin\",\n",
    "  database=\"meteo\"\n",
    ")\n",
    "\n",
    "mycursor = mydb.cursor()\n",
    "\n",
    "sql = \"INSERT INTO Meteo (insert_date, temperature, rain, id_ville) VALUES (%s, %s, %s, %s)\"\n",
    "val = (date, temp ,rain, id_ville)\n",
    "mycursor.execute(sql, val)\n",
    "\n",
    "mydb.commit()\n",
    "\n",
    "print(mycursor.rowcount, \"record inserted.\")"
   ]
  },
  {
   "cell_type": "code",
   "execution_count": null,
   "metadata": {},
   "outputs": [],
   "source": []
  }
 ],
 "metadata": {
  "kernelspec": {
   "display_name": "Python 3",
   "language": "python",
   "name": "python3"
  },
  "language_info": {
   "codemirror_mode": {
    "name": "ipython",
    "version": 3
   },
   "file_extension": ".py",
   "mimetype": "text/x-python",
   "name": "python",
   "nbconvert_exporter": "python",
   "pygments_lexer": "ipython3",
   "version": "3.6.4"
  }
 },
 "nbformat": 4,
 "nbformat_minor": 2
}
