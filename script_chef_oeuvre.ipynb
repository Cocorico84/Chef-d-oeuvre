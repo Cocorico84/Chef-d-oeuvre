{
 "cells": [
  {
   "cell_type": "code",
   "execution_count": 1,
   "metadata": {},
   "outputs": [],
   "source": [
    "import requests\n",
    "import json\n",
    "import mysql.connector"
   ]
  },
  {
   "cell_type": "code",
   "execution_count": 2,
   "metadata": {},
   "outputs": [],
   "source": [
    "conn = mysql.connector.connect(host=\"104.155.111.115\",user=\"root\",password=\"corentin\", database=\"chef\")\n",
    "cursor = conn.cursor()\n",
    "#conn.close()"
   ]
  },
  {
   "cell_type": "code",
   "execution_count": 3,
   "metadata": {},
   "outputs": [],
   "source": [
    "def convert(kel):\n",
    "    celsius = (kel- 273.15)\n",
    "    return round(celsius, 2)"
   ]
  },
  {
   "cell_type": "code",
   "execution_count": 4,
   "metadata": {},
   "outputs": [],
   "source": [
    "def choix_vetement_h(temp):\n",
    "    if temp < 15:\n",
    "        print(\"Choix T-shirt :\")\n",
    "        cursor.execute(\"SELECT * FROM Vetement WHERE genre ='h' AND item = 'ts' ORDER BY RAND() LIMIT 3;\")\n",
    "        rows = cursor.fetchall()\n",
    "        for row in rows:\n",
    "            print('{0} : {1} - {3}€ - {2}'.format(row[0], row[1], row[2], row[3] ))\n",
    "        print(\"-------------------------------------------------------\")\n",
    "        print(\"Choix Pull :\")\n",
    "        cursor.execute(\"SELECT * FROM Vetement WHERE genre ='h' AND item = 'pull' ORDER BY RAND() LIMIT 3;\")\n",
    "        rows = cursor.fetchall()\n",
    "        for row in rows:\n",
    "            print('{0} : {1} - {3}€ - {2}'.format(row[0], row[1], row[2], row[3] ))\n",
    "        print(\"-------------------------------------------------------\")\n",
    "        print(\"Choix Pantalon :\")\n",
    "        cursor.execute(\"SELECT * FROM Vetement WHERE genre ='h' AND item = 'pant' ORDER BY RAND() LIMIT 3;\")\n",
    "        rows = cursor.fetchall()\n",
    "        for row in rows:\n",
    "            print('{0} : {1} - {3}€ - {2}'.format(row[0], row[1], row[2], row[3] ))  \n",
    "            \n",
    "    if temp >= 15 and temp <= 20:\n",
    "        print(\"Choix T-shirt :\")\n",
    "        cursor.execute(\"SELECT * FROM Vetement WHERE genre ='h' AND item = 'ts' ORDER BY RAND() LIMIT 3;\")\n",
    "        rows = cursor.fetchall()\n",
    "        for row in rows:\n",
    "            print('{0} : {1} - {3}€ - {2}'.format(row[0], row[1], row[2], row[3] ))\n",
    "        print(\"-------------------------------------------------------\")\n",
    "        print(\"Choix Pantalon :\")\n",
    "        cursor.execute(\"SELECT * FROM Vetement WHERE genre ='h' AND item = 'pant' ORDER BY RAND() LIMIT 3;\")\n",
    "        rows = cursor.fetchall()\n",
    "        for row in rows:\n",
    "            print('{0} : {1} - {3}€ - {2}'.format(row[0], row[1], row[2], row[3] ))\n",
    "    if temp > 20:\n",
    "        print(\"Choix Débardeur :\")\n",
    "        cursor.execute(\"SELECT * FROM Vetement WHERE genre ='h' AND item = 'deb' ORDER BY RAND() LIMIT 3;\")\n",
    "        rows = cursor.fetchall()\n",
    "        for row in rows:\n",
    "            print('{0} : {1} - {3}€ - {2}'.format(row[0], row[1], row[2], row[3] ))\n",
    "        print(\"-------------------------------------------------------\")\n",
    "        print(\"Choix Short :\")\n",
    "        cursor.execute(\"SELECT * FROM Vetement WHERE genre ='h' AND item = 'short' ORDER BY RAND() LIMIT 3;\")\n",
    "        rows = cursor.fetchall()\n",
    "        for row in rows:\n",
    "            print('{0} : {1} - {3}€ - {2}'.format(row[0], row[1], row[2], row[3] ))\n",
    "        print(\"-------------------------------------------------------\")\n",
    "    if rain > 0:\n",
    "        print(\"Choix Parapluie :\")\n",
    "        cursor.execute(\"SELECT * FROM Vetement WHERE item = 'para' ORDER BY RAND() LIMIT 3;\")\n",
    "        rows = cursor.fetchall()\n",
    "        for row in rows:\n",
    "            print('{0} : {1} - {3}€ - {2}'.format(row[0], row[1], row[2], row[3] ))     \n",
    "        print(\"-------------------------------------------------------\")\n",
    "    "
   ]
  },
  {
   "cell_type": "code",
   "execution_count": 5,
   "metadata": {},
   "outputs": [],
   "source": [
    "def choix_vetement_f(temp):\n",
    "    if temp < 15:\n",
    "        print(\"Choix T-shirt :\")\n",
    "        cursor.execute(\"SELECT * FROM Vetement WHERE genre ='f' AND item = 'ts' ORDER BY RAND() LIMIT 3;\")\n",
    "        rows = cursor.fetchall()\n",
    "        for row in rows:\n",
    "            print('{0} : {1} - {3}€ - {2}'.format(row[0], row[1], row[2], row[3] ))\n",
    "        print(\"-------------------------------------------------------\")\n",
    "        print(\"Choix Pull :\")\n",
    "        cursor.execute(\"SELECT * FROM Vetement WHERE genre ='f' AND item = 'pull' ORDER BY RAND() LIMIT 3;\")\n",
    "        rows = cursor.fetchall()\n",
    "        for row in rows:\n",
    "            print('{0} : {1} - {3}€ - {2}'.format(row[0], row[1], row[2], row[3] ))\n",
    "        print(\"-------------------------------------------------------\")\n",
    "        print(\"Choix Pantalon :\")\n",
    "        cursor.execute(\"SELECT * FROM Vetement WHERE genre ='f' AND item = 'pant' ORDER BY RAND() LIMIT 3;\")\n",
    "        rows = cursor.fetchall()\n",
    "        for row in rows:\n",
    "            print('{0} : {1} - {3}€ - {2}'.format(row[0], row[1], row[2], row[3] ))  \n",
    "            \n",
    "    if temp >= 15 and temp <= 20:\n",
    "        print(\"Choix T-shirt :\")\n",
    "        cursor.execute(\"SELECT * FROM Vetement WHERE genre ='f' AND item = 'ts' ORDER BY RAND() LIMIT 3;\")\n",
    "        rows = cursor.fetchall()\n",
    "        for row in rows:\n",
    "            print('{0} : {1} - {3}€ - {2}'.format(row[0], row[1], row[2], row[3] ))\n",
    "        print(\"-------------------------------------------------------\")\n",
    "        print(\"Choix Pantalon :\")\n",
    "        cursor.execute(\"SELECT * FROM Vetement WHERE genre ='f' AND item = 'pant' ORDER BY RAND() LIMIT 3;\")\n",
    "        rows = cursor.fetchall()\n",
    "        for row in rows:\n",
    "            print('{0} : {1} - {3}€ - {2}'.format(row[0], row[1], row[2], row[3] ))\n",
    "    if temp > 20:\n",
    "        print(\"Choix Débardeur :\")\n",
    "        cursor.execute(\"SELECT * FROM Vetement WHERE genre ='f' AND item = 'deb' ORDER BY RAND() LIMIT 3;\")\n",
    "        rows = cursor.fetchall()\n",
    "        for row in rows:\n",
    "            print('{0} : {1} - {3}€ - {2}'.format(row[0], row[1], row[2], row[3] ))\n",
    "        print(\"-------------------------------------------------------\")\n",
    "        print(\"Choix Jupe :\")\n",
    "        cursor.execute(\"SELECT * FROM Vetement WHERE genre ='f' AND item = 'jupe' ORDER BY RAND() LIMIT 3;\")\n",
    "        rows = cursor.fetchall()\n",
    "        for row in rows:\n",
    "            print('{0} : {1} - {3}€ - {2}'.format(row[0], row[1], row[2], row[3] ))\n",
    "    if rain > 0:\n",
    "        print(\"Choix Parapluie :\")\n",
    "        cursor.execute(\"SELECT * FROM Vetement WHERE item = 'para' ORDER BY RAND() LIMIT 3;\")\n",
    "        rows = cursor.fetchall()\n",
    "        for row in rows:\n",
    "            print('{0} : {1} - {3}€ - {2}'.format(row[0], row[1], row[2], row[3] ))\n",
    "        print(\"-------------------------------------------------------\")"
   ]
  },
  {
   "cell_type": "code",
   "execution_count": 6,
   "metadata": {},
   "outputs": [],
   "source": [
    "def choix_sexe(sexe):\n",
    "    if sexe == \"h\":\n",
    "        choix_vetement_h(temp)\n",
    "    elif sexe == \"f\":\n",
    "        choix_vetement_f(temp)"
   ]
  },
  {
   "cell_type": "code",
   "execution_count": 7,
   "metadata": {},
   "outputs": [
    {
     "name": "stdout",
     "output_type": "stream",
     "text": [
      "²²²²²² Bienvenue sur Weather Me ! B) ²²²²²²\n",
      "******** Le logiciel de prévision météo des 5 prochains jours. ********\n",
      "Quelle ville souhaitez-vous connaître la météo : paris\n",
      "Code Pays : fr\n",
      "Entrez votre sexe h/f :h\n",
      "Entrée le numéro en deux chiffre (ex: 05, 15) de la journée don vous voulez connaitre les prévision météo: 08\n",
      "Cette fois entrée le mois: 08\n"
     ]
    }
   ],
   "source": [
    "print(\"²²²²²² Bienvenue sur Weather Me ! B) ²²²²²²\")\n",
    "print(\"******** Le logiciel de prévision météo des 5 prochains jours. ********\")\n",
    "\n",
    "ville = input(\"Quelle ville souhaitez-vous connaître la météo : \")\n",
    "ville = ville.lower()\n",
    "\n",
    "code_pays = input(\"Code Pays : \" )\n",
    "code_pays = code_pays.upper()\n",
    "sexe = input(\"Entrez votre sexe h/f :\")\n",
    "sexe = sexe.lower()\n",
    "\n",
    "prev = requests.get(\"http://api.openweathermap.org/data/2.5/forecast?q={},{}&appid=3543ac0c00624ed3bb653359621e5344\".format(ville,code_pays))\n",
    "data_prev = prev.json()\n",
    "\n",
    "date_jour = input(\"Entrée le numéro en deux chiffre (ex: 05, 15) de la journée don vous voulez connaitre les prévision météo: \")\n",
    "date_mois = input(\"Cette fois entrée le mois: \")\n",
    "date = \"2018-\"+date_mois+\"-\"+date_jour\n"
   ]
  },
  {
   "cell_type": "code",
   "execution_count": 8,
   "metadata": {},
   "outputs": [
    {
     "name": "stdout",
     "output_type": "stream",
     "text": [
      "Date: 2018-08-08\n",
      "---------------------------------------\n",
      "Heure: 00:00:00\n",
      "Temperature: 23.12°C\n",
      "Precipitation: 0.04\n",
      "\n",
      "Heure: 03:00:00\n",
      "Temperature: 19.0°C\n",
      "Precipitation: 0\n",
      "\n",
      "Heure: 06:00:00\n",
      "Temperature: 18.46°C\n",
      "Precipitation: 0\n",
      "\n",
      "Heure: 09:00:00\n",
      "Temperature: 21.72°C\n",
      "Precipitation: 0\n",
      "\n",
      "Heure: 12:00:00\n",
      "Temperature: 26.26°C\n",
      "Precipitation: 0\n",
      "\n",
      "Heure: 15:00:00\n",
      "Temperature: 28.48°C\n",
      "Precipitation: 0\n",
      "\n",
      "Heure: 18:00:00\n",
      "Temperature: 28.07°C\n",
      "Precipitation: 0\n",
      "\n",
      "Heure: 21:00:00\n",
      "Temperature: 22.35°C\n",
      "Precipitation: 0\n",
      "\n",
      "----------------------------------------\n",
      "Date de la prediction: 2018-08-08\n",
      "Moyenne temperature: 23.4325\n",
      "Total précipitation: 0.04\n",
      "Code pays: FR\n",
      "Ville: paris\n",
      "Sexe indivu: h\n",
      "----------------------------------------\n"
     ]
    }
   ],
   "source": [
    "list_rain = []\n",
    "list_date = []\n",
    "list_celsius = []\n",
    "print(\"Date: \"+date)\n",
    "print(\"---------------------------------------\")\n",
    "for i in range(len(data_prev[\"list\"])):\n",
    "    if date == data_prev[\"list\"][i][\"dt_txt\"][0:10]:\n",
    "        print(\"Heure: \"+data_prev[\"list\"][i][\"dt_txt\"][11:])\n",
    "        print(\"Temperature: \"+str(convert(data_prev[\"list\"][i][\"main\"][\"temp\"]))+\"°C\")\n",
    "        try :\n",
    "            print(\"Precipitation: \"+str(data_prev[\"list\"][i][\"rain\"][\"3h\"]))\n",
    "            list_rain.append(data_prev[\"list\"][i][\"rain\"][\"3h\"])\n",
    "        except KeyError :\n",
    "            print(\"Precipitation: 0\")\n",
    "            list_rain.append(0)\n",
    "        list_date.append(data_prev[\"list\"][i][\"dt_txt\"][11:16])\n",
    "        list_celsius.append(convert(data_prev[\"list\"][i][\"main\"][\"temp\"]))\n",
    "        print(\"\")\n",
    "rain = np.sum(list_rain)\n",
    "temp = np.mean(list_celsius)\n",
    "print(\"----------------------------------------\")\n",
    "print(\"Date de la prediction: \"+date)\n",
    "\n",
    "print(\"Moyenne temperature: \"+str(temp))\n",
    "print(\"Total précipitation: \"+str(rain))\n",
    "print(\"Code pays: \"+code_pays)\n",
    "print(\"Ville: \"+ville)\n",
    "print(\"Sexe indivu: \"+sexe)\n",
    "print(\"----------------------------------------\")"
   ]
  },
  {
   "cell_type": "code",
   "execution_count": 10,
   "metadata": {},
   "outputs": [
    {
     "data": {
      "image/png": "[encoded data removed]",
      "text/plain": [
       "<matplotlib.figure.Figure at 0x7febf8162400>"
      ]
     },
     "metadata": {},
     "output_type": "display_data"
    }
   ],
   "source": [
    "import matplotlib.pyplot as plt\n",
    "\n",
    "plt.title(ville +\" \"+ date)\n",
    "plt.plot(list_date, list_celsius)\n",
    "plt.xlabel('Temps')\n",
    "plt.ylabel('°C')\n",
    "plt.show()"
   ]
  },
  {
   "cell_type": "code",
   "execution_count": 11,
   "metadata": {},
   "outputs": [
    {
     "name": "stdout",
     "output_type": "stream",
     "text": [
      "Choix Débardeur :\n",
      "Impetus : Débardeur en coton stretch - 21.9€ - https://www.galerieslafayette.com/p/debardeur+en+coton+stretch-impetus/28038030/320\n",
      "Scotch And Soda : Débardeur droit uni en coton - 17.5€ - https://www.galerieslafayette.com/p/debardeur+droit+uni+en+coton-scotch+and+soda/49749589/320\n",
      "Satisfy : Débardeur de running en nylon ajouré - 60.0€ - https://www.galerieslafayette.com/p/debardeur+de+running+en+nylon+ajoure-satisfy/49226035/320\n",
      "-------------------------------------------------------\n",
      "Choix Short :\n",
      "El Ganso : Pantalon à teneur en laine chino uni - 95.0€ - https://www.galerieslafayette.com/p/pantalon+a+teneur+en+laine+chino+uni-el+ganso/47467275/230\n",
      "Chevignon : Pantalon Chino Slim - 55.0€ - https://www.galerieslafayette.com/p/pantalon+chino+slim-chevignon/300404346509/204\n",
      "Chevignon : Pantalon Cargo Straight - 48.0€ - https://www.galerieslafayette.com/p/pantalon+cargo+straight-chevignon/300404346503/60\n",
      "-------------------------------------------------------\n",
      "Choix Parapluie :\n",
      "Esprit : Parapluie - 22.99€ - https://www.galerieslafayette.com/p/parapluie-esprit/57318057/320\n",
      "Jean Paul Gaultier : Parapluie automatique pliant - 49.9€ - https://www.galerieslafayette.com/p/parapluie+automatique+pliant-jean+paul+gaultier/64618531/125\n",
      "Galeries Lafayette : Parapluie Auto - 19.99€ - https://www.galerieslafayette.com/p/parapluie+auto-galeries+lafayette/36547658/71\n",
      "-------------------------------------------------------\n"
     ]
    }
   ],
   "source": [
    "choix_sexe(sexe)"
   ]
  },
  {
   "cell_type": "code",
   "execution_count": 12,
   "metadata": {},
   "outputs": [
    {
     "name": "stdout",
     "output_type": "stream",
     "text": [
      "0\n",
      "1 record inserted.\n"
     ]
    }
   ],
   "source": [
    "conn = mysql.connector.connect(host=\"104.155.111.115\",user=\"root\",password=\"corentin\", database=\"chef\")\n",
    "cursor = conn.cursor()\n",
    "\n",
    "cursor.execute(\"SELECT * FROM Ville WHERE nom_ville = \\'\"+ville+\"\\' AND id_pays = \\'\"+code_pays+\"\\';\")\n",
    "rows = cursor.fetchall()\n",
    "\n",
    "print(len(rows))\n",
    "if len(rows) == 0:\n",
    "    mydb = mysql.connector.connect(\n",
    "      host=\"104.155.111.115\",\n",
    "      user=\"root\",\n",
    "      passwd=\"corentin\",\n",
    "      database=\"chef\"\n",
    "    )\n",
    "\n",
    "    mycursor = mydb.cursor()\n",
    "\n",
    "    sql = \"INSERT INTO Ville (nom_ville, id_pays) VALUES (%s, %s)\"\n",
    "    val = (ville, code_pays)\n",
    "    mycursor.execute(sql, val)\n",
    "\n",
    "    mydb.commit()\n",
    "    print(mycursor.rowcount, \"record inserted.\")\n"
   ]
  },
  {
   "cell_type": "code",
   "execution_count": 16,
   "metadata": {},
   "outputs": [],
   "source": [
    "conn = mysql.connector.connect(host=\"104.155.111.115\",user=\"root\",password=\"corentin\", database=\"chef\")\n",
    "cursor = conn.cursor()\n",
    "#conn.close()\n",
    "cursor.execute(\"SELECT id_ville FROM Ville WHERE nom_ville = \\'\"+ville+\"\\' AND id_pays = \\'\"+code_pays+\"\\';\")\n",
    "id_ville = cursor.fetchall()\n"
   ]
  },
  {
   "cell_type": "code",
   "execution_count": 20,
   "metadata": {},
   "outputs": [],
   "source": [
    "id_ville = id_ville[0][0]\n",
    "rain = np.float64(rain)\n"
   ]
  },
  {
   "cell_type": "code",
   "execution_count": 22,
   "metadata": {},
   "outputs": [
    {
     "name": "stdout",
     "output_type": "stream",
     "text": [
      "1\n",
      "0.04\n"
     ]
    }
   ],
   "source": [
    "print(id_ville)\n",
    "print(rain)"
   ]
  },
  {
   "cell_type": "code",
   "execution_count": 24,
   "metadata": {},
   "outputs": [
    {
     "name": "stdout",
     "output_type": "stream",
     "text": [
      "1 record inserted.\n"
     ]
    }
   ],
   "source": [
    "mydb = mysql.connector.connect(\n",
    "  host=\"104.155.111.115\",\n",
    "  user=\"root\",\n",
    "  passwd=\"corentin\",\n",
    "  database=\"chef\"\n",
    ")\n",
    "\n",
    "mycursor = mydb.cursor()\n",
    "\n",
    "sql = \"INSERT INTO Meteo (insert_date, temperature, rain, id_ville) VALUES (%s, %s, %s, %s)\"\n",
    "val = (date, temp ,rain, id_ville)\n",
    "mycursor.execute(sql, val)\n",
    "\n",
    "mydb.commit()\n",
    "\n",
    "print(mycursor.rowcount, \"record inserted.\")"
   ]
  }
 ],
 "metadata": {
  "kernelspec": {
   "display_name": "Python 3",
   "language": "python",
   "name": "python3"
  },
  "language_info": {
   "codemirror_mode": {
    "name": "ipython",
    "version": 3
   },
   "file_extension": ".py",
   "mimetype": "text/x-python",
   "name": "python",
   "nbconvert_exporter": "python",
   "pygments_lexer": "ipython3",
   "version": "3.6.4"
  }
 },
 "nbformat": 4,
 "nbformat_minor": 2
}
