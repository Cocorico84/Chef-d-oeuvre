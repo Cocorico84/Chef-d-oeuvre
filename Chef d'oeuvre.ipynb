{
 "cells": [
  {
   "cell_type": "code",
   "execution_count": 17,
   "metadata": {},
   "outputs": [
    {
     "data": {
      "text/plain": [
       "dict_keys(['coord', 'weather', 'base', 'main', 'visibility', 'wind', 'clouds', 'dt', 'sys', 'id', 'name', 'cod'])"
      ]
     },
     "execution_count": 17,
     "metadata": {},
     "output_type": "execute_result"
    }
   ],
   "source": [
    "data.keys()"
   ]
  },
  {
   "cell_type": "code",
   "execution_count": 21,
   "metadata": {},
   "outputs": [],
   "source": [
    "tempo = data['main']['temp_max'] - 273.15"
   ]
  },
  {
   "cell_type": "code",
   "execution_count": 22,
   "metadata": {},
   "outputs": [
    {
     "data": {
      "text/plain": [
       "29.0"
      ]
     },
     "execution_count": 22,
     "metadata": {},
     "output_type": "execute_result"
    }
   ],
   "source": [
    "tempo"
   ]
  },
  {
   "cell_type": "code",
   "execution_count": 2,
   "metadata": {},
   "outputs": [],
   "source": [
    "import requests\n",
    "import datetime\n",
    "import json"
   ]
  },
  {
   "cell_type": "code",
   "execution_count": 4,
   "metadata": {},
   "outputs": [
    {
     "name": "stdout",
     "output_type": "stream",
     "text": [
      "Quelle ville souhaitez-vous connaître la météo : paris\n"
     ]
    }
   ],
   "source": [
    "ville = input(\"Quelle ville souhaitez-vous connaître la météo : \")"
   ]
  },
  {
   "cell_type": "code",
   "execution_count": 5,
   "metadata": {},
   "outputs": [
    {
     "name": "stdout",
     "output_type": "stream",
     "text": [
      "{\n",
      "    \"base\": \"stations\",\n",
      "    \"clouds\": {\n",
      "        \"all\": 0\n",
      "    },\n",
      "    \"cod\": 200,\n",
      "    \"coord\": {\n",
      "        \"lat\": 48.86,\n",
      "        \"lon\": 2.35\n",
      "    },\n",
      "    \"dt\": 1530536400,\n",
      "    \"id\": 2988507,\n",
      "    \"main\": {\n",
      "        \"humidity\": 35,\n",
      "        \"pressure\": 1012,\n",
      "        \"temp\": 301.53,\n",
      "        \"temp_max\": 302.15,\n",
      "        \"temp_min\": 301.15\n",
      "    },\n",
      "    \"name\": \"Paris\",\n",
      "    \"sys\": {\n",
      "        \"country\": \"FR\",\n",
      "        \"id\": 5610,\n",
      "        \"message\": 0.0034,\n",
      "        \"sunrise\": 1530503524,\n",
      "        \"sunset\": 1530561426,\n",
      "        \"type\": 1\n",
      "    },\n",
      "    \"visibility\": 10000,\n",
      "    \"weather\": [\n",
      "        {\n",
      "            \"description\": \"clear sky\",\n",
      "            \"icon\": \"01d\",\n",
      "            \"id\": 800,\n",
      "            \"main\": \"Clear\"\n",
      "        }\n",
      "    ],\n",
      "    \"wind\": {\n",
      "        \"deg\": 70,\n",
      "        \"speed\": 4.1\n",
      "    }\n",
      "}\n"
     ]
    }
   ],
   "source": [
    "# météo du jour\n",
    "today = requests.get(\"http://api.openweathermap.org/data/2.5/weather?q={}&appid=3543ac0c00624ed3bb653359621e5344\".format(ville))\n",
    "data = today.json()\n",
    "print(json.dumps(data,sort_keys=True,indent=4))"
   ]
  },
  {
   "cell_type": "code",
   "execution_count": 6,
   "metadata": {},
   "outputs": [
    {
     "name": "stdout",
     "output_type": "stream",
     "text": [
      "2018-07-02 15:00:00\n"
     ]
    }
   ],
   "source": [
    "# Avoir la date\n",
    "ts = data['dt']\n",
    "print(datetime.datetime.fromtimestamp(ts))"
   ]
  },
  {
   "cell_type": "code",
   "execution_count": 7,
   "metadata": {},
   "outputs": [
    {
     "data": {
      "text/plain": [
       "dict_keys(['id', 'main', 'description', 'icon'])"
      ]
     },
     "execution_count": 7,
     "metadata": {},
     "output_type": "execute_result"
    }
   ],
   "source": [
    "data['weather'][0].keys()"
   ]
  },
  {
   "cell_type": "code",
   "execution_count": 8,
   "metadata": {},
   "outputs": [
    {
     "name": "stdout",
     "output_type": "stream",
     "text": [
      "{'cod': '200', 'message': 0.0031, 'cnt': 40, 'list': [{'dt': 1530543600, 'main': {'temp': 301.45, 'temp_min': 301.255, 'temp_max': 301.45, 'pressure': 1013.47, 'sea_level': 1025.23, 'grnd_level': 1013.47, 'humidity': 58, 'temp_kf': 0.2}, 'weather': [{'id': 500, 'main': 'Rain', 'description': 'light rain', 'icon': '10d'}], 'clouds': {'all': 64}, 'wind': {'speed': 2.57, 'deg': 32.0009}, 'rain': {'3h': 0.5}, 'sys': {'pod': 'd'}, 'dt_txt': '2018-07-02 15:00:00'}, {'dt': 1530554400, 'main': {'temp': 301.7, 'temp_min': 301.557, 'temp_max': 301.7, 'pressure': 1013.58, 'sea_level': 1025.34, 'grnd_level': 1013.58, 'humidity': 44, 'temp_kf': 0.15}, 'weather': [{'id': 801, 'main': 'Clouds', 'description': 'few clouds', 'icon': '02d'}], 'clouds': {'all': 12}, 'wind': {'speed': 2.21, 'deg': 15.0021}, 'rain': {}, 'sys': {'pod': 'd'}, 'dt_txt': '2018-07-02 18:00:00'}, {'dt': 1530565200, 'main': {'temp': 296.44, 'temp_min': 296.341, 'temp_max': 296.44, 'pressure': 1014.33, 'sea_level': 1026.23, 'grnd_level': 1014.33, 'humidity': 46, 'temp_kf': 0.1}, 'weather': [{'id': 800, 'main': 'Clear', 'description': 'clear sky', 'icon': '02n'}], 'clouds': {'all': 8}, 'wind': {'speed': 2.72, 'deg': 351.502}, 'rain': {}, 'sys': {'pod': 'n'}, 'dt_txt': '2018-07-02 21:00:00'}, {'dt': 1530576000, 'main': {'temp': 293.11, 'temp_min': 293.059, 'temp_max': 293.11, 'pressure': 1014.97, 'sea_level': 1026.89, 'grnd_level': 1014.97, 'humidity': 57, 'temp_kf': 0.05}, 'weather': [{'id': 801, 'main': 'Clouds', 'description': 'few clouds', 'icon': '02n'}], 'clouds': {'all': 12}, 'wind': {'speed': 1.62, 'deg': 12.5016}, 'rain': {}, 'sys': {'pod': 'n'}, 'dt_txt': '2018-07-03 00:00:00'}, {'dt': 1530586800, 'main': {'temp': 290.792, 'temp_min': 290.792, 'temp_max': 290.792, 'pressure': 1015.39, 'sea_level': 1027.34, 'grnd_level': 1015.39, 'humidity': 68, 'temp_kf': 0}, 'weather': [{'id': 801, 'main': 'Clouds', 'description': 'few clouds', 'icon': '02n'}], 'clouds': {'all': 12}, 'wind': {'speed': 0.92, 'deg': 18.0003}, 'rain': {}, 'sys': {'pod': 'n'}, 'dt_txt': '2018-07-03 03:00:00'}, {'dt': 1530597600, 'main': {'temp': 294.024, 'temp_min': 294.024, 'temp_max': 294.024, 'pressure': 1015.69, 'sea_level': 1027.67, 'grnd_level': 1015.69, 'humidity': 68, 'temp_kf': 0}, 'weather': [{'id': 801, 'main': 'Clouds', 'description': 'few clouds', 'icon': '02d'}], 'clouds': {'all': 12}, 'wind': {'speed': 1.56, 'deg': 10.0008}, 'rain': {}, 'sys': {'pod': 'd'}, 'dt_txt': '2018-07-03 06:00:00'}, {'dt': 1530608400, 'main': {'temp': 298.931, 'temp_min': 298.931, 'temp_max': 298.931, 'pressure': 1016.26, 'sea_level': 1028.1, 'grnd_level': 1016.26, 'humidity': 58, 'temp_kf': 0}, 'weather': [{'id': 800, 'main': 'Clear', 'description': 'clear sky', 'icon': '01d'}], 'clouds': {'all': 0}, 'wind': {'speed': 0.9, 'deg': 31.0012}, 'rain': {}, 'sys': {'pod': 'd'}, 'dt_txt': '2018-07-03 09:00:00'}, {'dt': 1530619200, 'main': {'temp': 302.275, 'temp_min': 302.275, 'temp_max': 302.275, 'pressure': 1015.96, 'sea_level': 1027.7, 'grnd_level': 1015.96, 'humidity': 55, 'temp_kf': 0}, 'weather': [{'id': 800, 'main': 'Clear', 'description': 'clear sky', 'icon': '02d'}], 'clouds': {'all': 8}, 'wind': {'speed': 1.42, 'deg': 306.5}, 'rain': {}, 'sys': {'pod': 'd'}, 'dt_txt': '2018-07-03 12:00:00'}, {'dt': 1530630000, 'main': {'temp': 303.574, 'temp_min': 303.574, 'temp_max': 303.574, 'pressure': 1014.98, 'sea_level': 1026.7, 'grnd_level': 1014.98, 'humidity': 49, 'temp_kf': 0}, 'weather': [{'id': 800, 'main': 'Clear', 'description': 'clear sky', 'icon': '01d'}], 'clouds': {'all': 0}, 'wind': {'speed': 2.07, 'deg': 273}, 'rain': {}, 'sys': {'pod': 'd'}, 'dt_txt': '2018-07-03 15:00:00'}, {'dt': 1530640800, 'main': {'temp': 302.463, 'temp_min': 302.463, 'temp_max': 302.463, 'pressure': 1014.81, 'sea_level': 1026.51, 'grnd_level': 1014.81, 'humidity': 44, 'temp_kf': 0}, 'weather': [{'id': 800, 'main': 'Clear', 'description': 'clear sky', 'icon': '01d'}], 'clouds': {'all': 0}, 'wind': {'speed': 2.96, 'deg': 259.001}, 'rain': {}, 'sys': {'pod': 'd'}, 'dt_txt': '2018-07-03 18:00:00'}, {'dt': 1530651600, 'main': {'temp': 296.712, 'temp_min': 296.712, 'temp_max': 296.712, 'pressure': 1015.55, 'sea_level': 1027.48, 'grnd_level': 1015.55, 'humidity': 55, 'temp_kf': 0}, 'weather': [{'id': 800, 'main': 'Clear', 'description': 'clear sky', 'icon': '01n'}], 'clouds': {'all': 0}, 'wind': {'speed': 2.46, 'deg': 280.001}, 'rain': {}, 'sys': {'pod': 'n'}, 'dt_txt': '2018-07-03 21:00:00'}, {'dt': 1530662400, 'main': {'temp': 292.822, 'temp_min': 292.822, 'temp_max': 292.822, 'pressure': 1015.89, 'sea_level': 1027.84, 'grnd_level': 1015.89, 'humidity': 74, 'temp_kf': 0}, 'weather': [{'id': 800, 'main': 'Clear', 'description': 'clear sky', 'icon': '02n'}], 'clouds': {'all': 8}, 'wind': {'speed': 1.66, 'deg': 261.007}, 'rain': {}, 'sys': {'pod': 'n'}, 'dt_txt': '2018-07-04 00:00:00'}, {'dt': 1530673200, 'main': {'temp': 290.865, 'temp_min': 290.865, 'temp_max': 290.865, 'pressure': 1015.48, 'sea_level': 1027.44, 'grnd_level': 1015.48, 'humidity': 82, 'temp_kf': 0}, 'weather': [{'id': 800, 'main': 'Clear', 'description': 'clear sky', 'icon': '01n'}], 'clouds': {'all': 0}, 'wind': {'speed': 1.57, 'deg': 248.5}, 'rain': {}, 'sys': {'pod': 'n'}, 'dt_txt': '2018-07-04 03:00:00'}, {'dt': 1530684000, 'main': {'temp': 293.208, 'temp_min': 293.208, 'temp_max': 293.208, 'pressure': 1015.65, 'sea_level': 1027.56, 'grnd_level': 1015.65, 'humidity': 65, 'temp_kf': 0}, 'weather': [{'id': 800, 'main': 'Clear', 'description': 'clear sky', 'icon': '01d'}], 'clouds': {'all': 0}, 'wind': {'speed': 2.11, 'deg': 256.5}, 'rain': {}, 'sys': {'pod': 'd'}, 'dt_txt': '2018-07-04 06:00:00'}, {'dt': 1530694800, 'main': {'temp': 299.083, 'temp_min': 299.083, 'temp_max': 299.083, 'pressure': 1015.54, 'sea_level': 1027.34, 'grnd_level': 1015.54, 'humidity': 57, 'temp_kf': 0}, 'weather': [{'id': 800, 'main': 'Clear', 'description': 'clear sky', 'icon': '01d'}], 'clouds': {'all': 0}, 'wind': {'speed': 3.01, 'deg': 267.503}, 'rain': {}, 'sys': {'pod': 'd'}, 'dt_txt': '2018-07-04 09:00:00'}, {'dt': 1530705600, 'main': {'temp': 302.301, 'temp_min': 302.301, 'temp_max': 302.301, 'pressure': 1014.54, 'sea_level': 1026.17, 'grnd_level': 1014.54, 'humidity': 51, 'temp_kf': 0}, 'weather': [{'id': 801, 'main': 'Clouds', 'description': 'few clouds', 'icon': '02d'}], 'clouds': {'all': 12}, 'wind': {'speed': 3.61, 'deg': 296.503}, 'rain': {}, 'sys': {'pod': 'd'}, 'dt_txt': '2018-07-04 12:00:00'}, {'dt': 1530716400, 'main': {'temp': 302.769, 'temp_min': 302.769, 'temp_max': 302.769, 'pressure': 1013.04, 'sea_level': 1024.79, 'grnd_level': 1013.04, 'humidity': 43, 'temp_kf': 0}, 'weather': [{'id': 802, 'main': 'Clouds', 'description': 'scattered clouds', 'icon': '03d'}], 'clouds': {'all': 32}, 'wind': {'speed': 4, 'deg': 305.501}, 'rain': {}, 'sys': {'pod': 'd'}, 'dt_txt': '2018-07-04 15:00:00'}, {'dt': 1530727200, 'main': {'temp': 295.183, 'temp_min': 295.183, 'temp_max': 295.183, 'pressure': 1014.49, 'sea_level': 1026.1, 'grnd_level': 1014.49, 'humidity': 84, 'temp_kf': 0}, 'weather': [{'id': 500, 'main': 'Rain', 'description': 'light rain', 'icon': '10d'}], 'clouds': {'all': 44}, 'wind': {'speed': 5.11, 'deg': 256}, 'rain': {'3h': 2.04}, 'sys': {'pod': 'd'}, 'dt_txt': '2018-07-04 18:00:00'}, {'dt': 1530738000, 'main': {'temp': 292.77, 'temp_min': 292.77, 'temp_max': 292.77, 'pressure': 1014.62, 'sea_level': 1026.4, 'grnd_level': 1014.62, 'humidity': 82, 'temp_kf': 0}, 'weather': [{'id': 500, 'main': 'Rain', 'description': 'light rain', 'icon': '10n'}], 'clouds': {'all': 64}, 'wind': {'speed': 3.88, 'deg': 255.002}, 'rain': {'3h': 0.38}, 'sys': {'pod': 'n'}, 'dt_txt': '2018-07-04 21:00:00'}, {'dt': 1530748800, 'main': {'temp': 291.162, 'temp_min': 291.162, 'temp_max': 291.162, 'pressure': 1015.95, 'sea_level': 1027.75, 'grnd_level': 1015.95, 'humidity': 89, 'temp_kf': 0}, 'weather': [{'id': 500, 'main': 'Rain', 'description': 'light rain', 'icon': '10n'}], 'clouds': {'all': 48}, 'wind': {'speed': 4.16, 'deg': 238.001}, 'rain': {'3h': 0.38}, 'sys': {'pod': 'n'}, 'dt_txt': '2018-07-05 00:00:00'}, {'dt': 1530759600, 'main': {'temp': 290.271, 'temp_min': 290.271, 'temp_max': 290.271, 'pressure': 1016.31, 'sea_level': 1028.23, 'grnd_level': 1016.31, 'humidity': 90, 'temp_kf': 0}, 'weather': [{'id': 802, 'main': 'Clouds', 'description': 'scattered clouds', 'icon': '03n'}], 'clouds': {'all': 32}, 'wind': {'speed': 3.06, 'deg': 247.501}, 'rain': {}, 'sys': {'pod': 'n'}, 'dt_txt': '2018-07-05 03:00:00'}, {'dt': 1530770400, 'main': {'temp': 290.951, 'temp_min': 290.951, 'temp_max': 290.951, 'pressure': 1017.17, 'sea_level': 1029.14, 'grnd_level': 1017.17, 'humidity': 75, 'temp_kf': 0}, 'weather': [{'id': 803, 'main': 'Clouds', 'description': 'broken clouds', 'icon': '04d'}], 'clouds': {'all': 76}, 'wind': {'speed': 2.58, 'deg': 294.003}, 'rain': {}, 'sys': {'pod': 'd'}, 'dt_txt': '2018-07-05 06:00:00'}, {'dt': 1530781200, 'main': {'temp': 293.799, 'temp_min': 293.799, 'temp_max': 293.799, 'pressure': 1018.38, 'sea_level': 1030.18, 'grnd_level': 1018.38, 'humidity': 64, 'temp_kf': 0}, 'weather': [{'id': 803, 'main': 'Clouds', 'description': 'broken clouds', 'icon': '04d'}], 'clouds': {'all': 64}, 'wind': {'speed': 2.51, 'deg': 307.504}, 'rain': {}, 'sys': {'pod': 'd'}, 'dt_txt': '2018-07-05 09:00:00'}, {'dt': 1530792000, 'main': {'temp': 297.675, 'temp_min': 297.675, 'temp_max': 297.675, 'pressure': 1018.43, 'sea_level': 1030.24, 'grnd_level': 1018.43, 'humidity': 57, 'temp_kf': 0}, 'weather': [{'id': 802, 'main': 'Clouds', 'description': 'scattered clouds', 'icon': '03d'}], 'clouds': {'all': 36}, 'wind': {'speed': 2.57, 'deg': 294.505}, 'rain': {}, 'sys': {'pod': 'd'}, 'dt_txt': '2018-07-05 12:00:00'}, {'dt': 1530802800, 'main': {'temp': 298.54, 'temp_min': 298.54, 'temp_max': 298.54, 'pressure': 1017.89, 'sea_level': 1029.65, 'grnd_level': 1017.89, 'humidity': 56, 'temp_kf': 0}, 'weather': [{'id': 802, 'main': 'Clouds', 'description': 'scattered clouds', 'icon': '03d'}], 'clouds': {'all': 32}, 'wind': {'speed': 2.77, 'deg': 267.5}, 'rain': {}, 'sys': {'pod': 'd'}, 'dt_txt': '2018-07-05 15:00:00'}, {'dt': 1530813600, 'main': {'temp': 295.538, 'temp_min': 295.538, 'temp_max': 295.538, 'pressure': 1018.36, 'sea_level': 1030.18, 'grnd_level': 1018.36, 'humidity': 76, 'temp_kf': 0}, 'weather': [{'id': 500, 'main': 'Rain', 'description': 'light rain', 'icon': '10d'}], 'clouds': {'all': 48}, 'wind': {'speed': 3.76, 'deg': 262.001}, 'rain': {'3h': 1.68}, 'sys': {'pod': 'd'}, 'dt_txt': '2018-07-05 18:00:00'}, {'dt': 1530824400, 'main': {'temp': 292.939, 'temp_min': 292.939, 'temp_max': 292.939, 'pressure': 1019.4, 'sea_level': 1031.3, 'grnd_level': 1019.4, 'humidity': 78, 'temp_kf': 0}, 'weather': [{'id': 802, 'main': 'Clouds', 'description': 'scattered clouds', 'icon': '03n'}], 'clouds': {'all': 44}, 'wind': {'speed': 2.32, 'deg': 285.505}, 'rain': {}, 'sys': {'pod': 'n'}, 'dt_txt': '2018-07-05 21:00:00'}, {'dt': 1530835200, 'main': {'temp': 291.447, 'temp_min': 291.447, 'temp_max': 291.447, 'pressure': 1020.12, 'sea_level': 1032.06, 'grnd_level': 1020.12, 'humidity': 77, 'temp_kf': 0}, 'weather': [{'id': 802, 'main': 'Clouds', 'description': 'scattered clouds', 'icon': '03n'}], 'clouds': {'all': 44}, 'wind': {'speed': 3.02, 'deg': 315.001}, 'rain': {}, 'sys': {'pod': 'n'}, 'dt_txt': '2018-07-06 00:00:00'}, {'dt': 1530846000, 'main': {'temp': 290.23, 'temp_min': 290.23, 'temp_max': 290.23, 'pressure': 1020.37, 'sea_level': 1032.48, 'grnd_level': 1020.37, 'humidity': 75, 'temp_kf': 0}, 'weather': [{'id': 803, 'main': 'Clouds', 'description': 'broken clouds', 'icon': '04n'}], 'clouds': {'all': 64}, 'wind': {'speed': 2.07, 'deg': 324.011}, 'rain': {}, 'sys': {'pod': 'n'}, 'dt_txt': '2018-07-06 03:00:00'}, {'dt': 1530856800, 'main': {'temp': 291.214, 'temp_min': 291.214, 'temp_max': 291.214, 'pressure': 1021.47, 'sea_level': 1033.44, 'grnd_level': 1021.47, 'humidity': 70, 'temp_kf': 0}, 'weather': [{'id': 802, 'main': 'Clouds', 'description': 'scattered clouds', 'icon': '03d'}], 'clouds': {'all': 36}, 'wind': {'speed': 2.31, 'deg': 315.512}, 'rain': {}, 'sys': {'pod': 'd'}, 'dt_txt': '2018-07-06 06:00:00'}, {'dt': 1530867600, 'main': {'temp': 294.89, 'temp_min': 294.89, 'temp_max': 294.89, 'pressure': 1022.29, 'sea_level': 1034.16, 'grnd_level': 1022.29, 'humidity': 71, 'temp_kf': 0}, 'weather': [{'id': 801, 'main': 'Clouds', 'description': 'few clouds', 'icon': '02d'}], 'clouds': {'all': 12}, 'wind': {'speed': 2.13, 'deg': 301.001}, 'rain': {}, 'sys': {'pod': 'd'}, 'dt_txt': '2018-07-06 09:00:00'}, {'dt': 1530878400, 'main': {'temp': 298.017, 'temp_min': 298.017, 'temp_max': 298.017, 'pressure': 1022.14, 'sea_level': 1034.07, 'grnd_level': 1022.14, 'humidity': 65, 'temp_kf': 0}, 'weather': [{'id': 800, 'main': 'Clear', 'description': 'clear sky', 'icon': '01d'}], 'clouds': {'all': 0}, 'wind': {'speed': 3.11, 'deg': 276.004}, 'rain': {}, 'sys': {'pod': 'd'}, 'dt_txt': '2018-07-06 12:00:00'}, {'dt': 1530889200, 'main': {'temp': 299.185, 'temp_min': 299.185, 'temp_max': 299.185, 'pressure': 1021.46, 'sea_level': 1033.34, 'grnd_level': 1021.46, 'humidity': 55, 'temp_kf': 0}, 'weather': [{'id': 801, 'main': 'Clouds', 'description': 'few clouds', 'icon': '02d'}], 'clouds': {'all': 12}, 'wind': {'speed': 2.91, 'deg': 279.01}, 'rain': {}, 'sys': {'pod': 'd'}, 'dt_txt': '2018-07-06 15:00:00'}, {'dt': 1530900000, 'main': {'temp': 298.501, 'temp_min': 298.501, 'temp_max': 298.501, 'pressure': 1021.62, 'sea_level': 1033.45, 'grnd_level': 1021.62, 'humidity': 51, 'temp_kf': 0}, 'weather': [{'id': 803, 'main': 'Clouds', 'description': 'broken clouds', 'icon': '04d'}], 'clouds': {'all': 64}, 'wind': {'speed': 3.16, 'deg': 310.002}, 'rain': {}, 'sys': {'pod': 'd'}, 'dt_txt': '2018-07-06 18:00:00'}, {'dt': 1530910800, 'main': {'temp': 295.631, 'temp_min': 295.631, 'temp_max': 295.631, 'pressure': 1022.67, 'sea_level': 1034.61, 'grnd_level': 1022.67, 'humidity': 55, 'temp_kf': 0}, 'weather': [{'id': 802, 'main': 'Clouds', 'description': 'scattered clouds', 'icon': '03n'}], 'clouds': {'all': 32}, 'wind': {'speed': 2.25, 'deg': 330.504}, 'rain': {}, 'sys': {'pod': 'n'}, 'dt_txt': '2018-07-06 21:00:00'}, {'dt': 1530921600, 'main': {'temp': 292.43, 'temp_min': 292.43, 'temp_max': 292.43, 'pressure': 1023.59, 'sea_level': 1035.54, 'grnd_level': 1023.59, 'humidity': 60, 'temp_kf': 0}, 'weather': [{'id': 801, 'main': 'Clouds', 'description': 'few clouds', 'icon': '02n'}], 'clouds': {'all': 12}, 'wind': {'speed': 3.36, 'deg': 334.008}, 'rain': {}, 'sys': {'pod': 'n'}, 'dt_txt': '2018-07-07 00:00:00'}, {'dt': 1530932400, 'main': {'temp': 289.892, 'temp_min': 289.892, 'temp_max': 289.892, 'pressure': 1023.89, 'sea_level': 1035.93, 'grnd_level': 1023.89, 'humidity': 71, 'temp_kf': 0}, 'weather': [{'id': 800, 'main': 'Clear', 'description': 'clear sky', 'icon': '01n'}], 'clouds': {'all': 0}, 'wind': {'speed': 2.96, 'deg': 336.009}, 'rain': {}, 'sys': {'pod': 'n'}, 'dt_txt': '2018-07-07 03:00:00'}, {'dt': 1530943200, 'main': {'temp': 291.11, 'temp_min': 291.11, 'temp_max': 291.11, 'pressure': 1024.46, 'sea_level': 1036.5, 'grnd_level': 1024.46, 'humidity': 69, 'temp_kf': 0}, 'weather': [{'id': 800, 'main': 'Clear', 'description': 'clear sky', 'icon': '01d'}], 'clouds': {'all': 0}, 'wind': {'speed': 2.62, 'deg': 342.005}, 'rain': {}, 'sys': {'pod': 'd'}, 'dt_txt': '2018-07-07 06:00:00'}, {'dt': 1530954000, 'main': {'temp': 296.953, 'temp_min': 296.953, 'temp_max': 296.953, 'pressure': 1024.76, 'sea_level': 1036.64, 'grnd_level': 1024.76, 'humidity': 64, 'temp_kf': 0}, 'weather': [{'id': 800, 'main': 'Clear', 'description': 'clear sky', 'icon': '01d'}], 'clouds': {'all': 0}, 'wind': {'speed': 1.92, 'deg': 335.005}, 'rain': {}, 'sys': {'pod': 'd'}, 'dt_txt': '2018-07-07 09:00:00'}, {'dt': 1530964800, 'main': {'temp': 299.957, 'temp_min': 299.957, 'temp_max': 299.957, 'pressure': 1024.29, 'sea_level': 1036.13, 'grnd_level': 1024.29, 'humidity': 56, 'temp_kf': 0}, 'weather': [{'id': 800, 'main': 'Clear', 'description': 'clear sky', 'icon': '01d'}], 'clouds': {'all': 0}, 'wind': {'speed': 2.47, 'deg': 306.002}, 'rain': {}, 'sys': {'pod': 'd'}, 'dt_txt': '2018-07-07 12:00:00'}], 'city': {'id': 2988507, 'name': 'Paris', 'coord': {'lat': 48.8566, 'lon': 2.3515}, 'country': 'FR', 'population': 2138551}}\n"
     ]
    }
   ],
   "source": [
    "# prévision pour 5 jours et 3 heures\n",
    "prev = requests.get(\"http://api.openweathermap.org/data/2.5/forecast?q={}&appid=3543ac0c00624ed3bb653359621e5344\".format(ville))\n",
    "data_prev = prev.json()\n",
    "\n",
    "print(data_prev)"
   ]
  },
  {
   "cell_type": "code",
   "execution_count": 83,
   "metadata": {},
   "outputs": [
    {
     "name": "stdout",
     "output_type": "stream",
     "text": [
      "Quel jour souhaitez-vous connaître la météo (entre 0 et 4): 4\n"
     ]
    },
    {
     "data": {
      "text/plain": [
       "'2018-06-30 03:00:00'"
      ]
     },
     "execution_count": 83,
     "metadata": {},
     "output_type": "execute_result"
    }
   ],
   "source": [
    "jour_prev = input(\"Quel jour souhaitez-vous connaître la météo (entre 0 et 4): \")\n",
    "ts2 = data_prev['list'][int(jour_prev)]['dt_txt']\n",
    "ts2"
   ]
  },
  {
   "cell_type": "code",
   "execution_count": 46,
   "metadata": {},
   "outputs": [
    {
     "data": {
      "text/plain": [
       "1530273600"
      ]
     },
     "execution_count": 46,
     "metadata": {},
     "output_type": "execute_result"
    }
   ],
   "source": [
    "ts2"
   ]
  },
  {
   "cell_type": "code",
   "execution_count": 78,
   "metadata": {},
   "outputs": [],
   "source": [
    "def habit():\n",
    "    if temp < 0:\n",
    "        print(\"Habille-toi chaudement avec un gros pull!\")\n",
    "    elif temp < 10:\n",
    "        print(\"Mets un pull\")\n",
    "    elif temp < 20:\n",
    "        print(\"Un pull léger est recommandé\")\n",
    "    elif temp < 30:\n",
    "        print(\"Un t-shirt suffit\")"
   ]
  },
  {
   "cell_type": "code",
   "execution_count": null,
   "metadata": {},
   "outputs": [],
   "source": []
  }
 ],
 "metadata": {
  "kernelspec": {
   "display_name": "Python 3",
   "language": "python",
   "name": "python3"
  },
  "language_info": {
   "codemirror_mode": {
    "name": "ipython",
    "version": 3
   },
   "file_extension": ".py",
   "mimetype": "text/x-python",
   "name": "python",
   "nbconvert_exporter": "python",
   "pygments_lexer": "ipython3",
   "version": "3.6.4"
  }
 },
 "nbformat": 4,
 "nbformat_minor": 2
}
