{
 "cells": [
  {
   "cell_type": "code",
   "execution_count": 5,
   "metadata": {},
   "outputs": [
    {
     "name": "stdout",
     "output_type": "stream",
     "text": [
      "1 1\n"
     ]
    }
   ],
   "source": [
    "import pyodbc\n",
    "server = \"simplon.database.windows.net\"\n",
    "database = \"chef\"\n",
    "username = \"Coco\"\n",
    "password = \"Corentin1992@\"\n",
    "driver = \"{ODBC Driver 13 for SQL Server}\"\n",
    "cnxn = pyodbc.connect('DRIVER='+driver+';SERVER='+server+';PORT=1433;DATABASE='+database+';UID='+username+';PWD='+ password)\n",
    "cursor = cnxn.cursor()\n",
    "cursor.execute(\"SELECT * FROM pays;\")\n",
    "row = cursor.fetchone()\n",
    "while row:\n",
    "    print (str(row[0]) + \" \" + str(row[1]))\n",
    "    row = cursor.fetchone()"
   ]
  }
 ],
 "metadata": {
  "kernelspec": {
   "display_name": "Python 3",
   "language": "python",
   "name": "python3"
  },
  "language_info": {
   "codemirror_mode": {
    "name": "ipython",
    "version": 3
   },
   "file_extension": ".py",
   "mimetype": "text/x-python",
   "name": "python",
   "nbconvert_exporter": "python",
   "pygments_lexer": "ipython3",
   "version": "3.6.4"
  }
 },
 "nbformat": 4,
 "nbformat_minor": 2
}
