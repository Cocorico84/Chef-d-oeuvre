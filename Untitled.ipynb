{
 "cells": [
  {
   "cell_type": "code",
   "execution_count": 1,
   "metadata": {},
   "outputs": [],
   "source": [
    "import requests\n",
    "import json\n",
    "import mysql.connector\n",
    "import pandas as pd\n",
    "import matplotlib.pyplot as plt"
   ]
  },
  {
   "cell_type": "code",
   "execution_count": 2,
   "metadata": {},
   "outputs": [],
   "source": [
    "conn = mysql.connector.connect(host=\"104.155.111.115\",user=\"root\",password=\"corentin\", database=\"meteo\")\n",
    "cursor = conn.cursor()\n",
    "#conn.close()"
   ]
  },
  {
   "cell_type": "code",
   "execution_count": 3,
   "metadata": {},
   "outputs": [],
   "source": [
    "Date=[]\n",
    "Temperature=[]\n",
    "Precipitation=[]\n",
    "cursor.execute(\"SELECT m.insert_date, m.temperature, m.rain FROM Meteo m JOIN Ville v on v.id_ville=m.id_ville WHERE v.nom_ville = 'paris';\")\n",
    "rows = cursor.fetchall()\n",
    "for row in rows:\n",
    "            Date.append('{0}'.format(row[0]))\n",
    "            Temperature.append('{0}'.format(row[1]))\n",
    "            Precipitation.append('{0}'.format(row[2]))\n",
    "            "
   ]
  },
  {
   "cell_type": "code",
   "execution_count": 4,
   "metadata": {},
   "outputs": [],
   "source": [
    "item = []\n",
    "genre = []\n",
    "prix = []\n",
    "cursor.execute(\"SELECT v.item,v.genre,v.prix FROM Vetement v\")\n",
    "rows = cursor.fetchall()\n",
    "for row in rows:\n",
    "            item.append('{0}'.format(row[0]))\n",
    "            genre.append('{0}'.format(row[1]))\n",
    "            prix.append('{0}'.format(row[2]))"
   ]
  },
  {
   "cell_type": "code",
   "execution_count": 5,
   "metadata": {},
   "outputs": [],
   "source": [
    "df_v = pd.DataFrame({\"item\" : item, \"genre\" : genre, \"prix\" : prix} , columns = [\"item\", \"genre\", \"prix\"] )"
   ]
  },
  {
   "cell_type": "code",
   "execution_count": 6,
   "metadata": {},
   "outputs": [
    {
     "data": {
      "text/html": [
       "<div>\n",
       "<style scoped>\n",
       "    .dataframe tbody tr th:only-of-type {\n",
       "        vertical-align: middle;\n",
       "    }\n",
       "\n",
       "    .dataframe tbody tr th {\n",
       "        vertical-align: top;\n",
       "    }\n",
       "\n",
       "    .dataframe thead th {\n",
       "        text-align: right;\n",
       "    }\n",
       "</style>\n",
       "<table border=\"1\" class=\"dataframe\">\n",
       "  <thead>\n",
       "    <tr style=\"text-align: right;\">\n",
       "      <th></th>\n",
       "      <th>item</th>\n",
       "      <th>genre</th>\n",
       "      <th>prix</th>\n",
       "    </tr>\n",
       "  </thead>\n",
       "  <tbody>\n",
       "    <tr>\n",
       "      <th>0</th>\n",
       "      <td>ts</td>\n",
       "      <td>h</td>\n",
       "      <td>14.0</td>\n",
       "    </tr>\n",
       "    <tr>\n",
       "      <th>1</th>\n",
       "      <td>ts</td>\n",
       "      <td>h</td>\n",
       "      <td>14.0</td>\n",
       "    </tr>\n",
       "    <tr>\n",
       "      <th>2</th>\n",
       "      <td>ts</td>\n",
       "      <td>h</td>\n",
       "      <td>59.0</td>\n",
       "    </tr>\n",
       "    <tr>\n",
       "      <th>3</th>\n",
       "      <td>ts</td>\n",
       "      <td>h</td>\n",
       "      <td>42.0</td>\n",
       "    </tr>\n",
       "    <tr>\n",
       "      <th>4</th>\n",
       "      <td>ts</td>\n",
       "      <td>h</td>\n",
       "      <td>22.5</td>\n",
       "    </tr>\n",
       "  </tbody>\n",
       "</table>\n",
       "</div>"
      ],
      "text/plain": [
       "  item genre  prix\n",
       "0   ts     h  14.0\n",
       "1   ts     h  14.0\n",
       "2   ts     h  59.0\n",
       "3   ts     h  42.0\n",
       "4   ts     h  22.5"
      ]
     },
     "execution_count": 6,
     "metadata": {},
     "output_type": "execute_result"
    }
   ],
   "source": [
    "df_v.head()"
   ]
  },
  {
   "cell_type": "code",
   "execution_count": 7,
   "metadata": {},
   "outputs": [],
   "source": [
    "val_genre = df_v.genre.value_counts()"
   ]
  },
  {
   "cell_type": "code",
   "execution_count": 8,
   "metadata": {},
   "outputs": [
    {
     "data": {
      "text/plain": [
       "h    242\n",
       "f    242\n",
       "p     33\n",
       "Name: genre, dtype: int64"
      ]
     },
     "execution_count": 8,
     "metadata": {},
     "output_type": "execute_result"
    }
   ],
   "source": [
    "val_genre"
   ]
  },
  {
   "cell_type": "code",
   "execution_count": 9,
   "metadata": {},
   "outputs": [
    {
     "data": {
      "image/png": "[encoded data removed]",
      "text/plain": [
       "<Figure size 432x288 with 1 Axes>"
      ]
     },
     "metadata": {},
     "output_type": "display_data"
    }
   ],
   "source": [
    "fig1,ax = plt.subplots()\n",
    "ax.pie(val_genre,labels=[\"hommes\",\"femmes\",\"parapluies\"],autopct='%1.1f%%',startangle=90)\n",
    "plt.title(\"Pourcentage du nombre d'articles en fonction du sexe\")\n",
    "ax.axis('equal')\n",
    "plt.show()"
   ]
  },
  {
   "cell_type": "code",
   "execution_count": 10,
   "metadata": {},
   "outputs": [
    {
     "data": {
      "text/plain": [
       "pull     118\n",
       "pant     118\n",
       "ts       118\n",
       "short     59\n",
       "jupe      59\n",
       "para      33\n",
       "deb       12\n",
       "Name: item, dtype: int64"
      ]
     },
     "execution_count": 10,
     "metadata": {},
     "output_type": "execute_result"
    }
   ],
   "source": [
    "nb_vet = df_v['item'].value_counts()\n",
    "nb_vet"
   ]
  },
  {
   "cell_type": "code",
   "execution_count": 11,
   "metadata": {},
   "outputs": [],
   "source": [
    "df_vet = pd.DataFrame(nb_vet)"
   ]
  },
  {
   "cell_type": "code",
   "execution_count": 12,
   "metadata": {
    "scrolled": true
   },
   "outputs": [
    {
     "data": {
      "image/png": "[encoded data removed]",
      "text/plain": [
       "<Figure size 1152x360 with 1 Axes>"
      ]
     },
     "metadata": {},
     "output_type": "display_data"
    }
   ],
   "source": [
    "df_vet.plot(y='item',figsize=(16,5), kind='bar')\n",
    "plt.show()"
   ]
  },
  {
   "cell_type": "code",
   "execution_count": 13,
   "metadata": {},
   "outputs": [],
   "source": [
    "df_vet_prix = pd.DataFrame({'item': item,'prix':prix},columns=['item','prix'])\n",
    "df_vet_prix.prix = pd.to_numeric(df_vet_prix.prix)"
   ]
  },
  {
   "cell_type": "code",
   "execution_count": 14,
   "metadata": {},
   "outputs": [],
   "source": [
    "df4 = df_vet_prix['prix'].groupby(df_vet_prix['item'])"
   ]
  },
  {
   "cell_type": "code",
   "execution_count": 15,
   "metadata": {},
   "outputs": [
    {
     "data": {
      "text/html": [
       "<div>\n",
       "<style scoped>\n",
       "    .dataframe tbody tr th:only-of-type {\n",
       "        vertical-align: middle;\n",
       "    }\n",
       "\n",
       "    .dataframe tbody tr th {\n",
       "        vertical-align: top;\n",
       "    }\n",
       "\n",
       "    .dataframe thead th {\n",
       "        text-align: right;\n",
       "    }\n",
       "</style>\n",
       "<table border=\"1\" class=\"dataframe\">\n",
       "  <thead>\n",
       "    <tr style=\"text-align: right;\">\n",
       "      <th></th>\n",
       "      <th>count</th>\n",
       "      <th>mean</th>\n",
       "      <th>std</th>\n",
       "      <th>min</th>\n",
       "      <th>25%</th>\n",
       "      <th>50%</th>\n",
       "      <th>75%</th>\n",
       "      <th>max</th>\n",
       "    </tr>\n",
       "    <tr>\n",
       "      <th>item</th>\n",
       "      <th></th>\n",
       "      <th></th>\n",
       "      <th></th>\n",
       "      <th></th>\n",
       "      <th></th>\n",
       "      <th></th>\n",
       "      <th></th>\n",
       "      <th></th>\n",
       "    </tr>\n",
       "  </thead>\n",
       "  <tbody>\n",
       "    <tr>\n",
       "      <th>deb</th>\n",
       "      <td>12.0</td>\n",
       "      <td>43.850000</td>\n",
       "      <td>27.053163</td>\n",
       "      <td>17.40</td>\n",
       "      <td>19.375</td>\n",
       "      <td>40.95</td>\n",
       "      <td>60.0000</td>\n",
       "      <td>85.0</td>\n",
       "    </tr>\n",
       "    <tr>\n",
       "      <th>jupe</th>\n",
       "      <td>59.0</td>\n",
       "      <td>71.285085</td>\n",
       "      <td>66.179532</td>\n",
       "      <td>11.97</td>\n",
       "      <td>35.300</td>\n",
       "      <td>46.62</td>\n",
       "      <td>78.9500</td>\n",
       "      <td>395.0</td>\n",
       "    </tr>\n",
       "    <tr>\n",
       "      <th>pant</th>\n",
       "      <td>118.0</td>\n",
       "      <td>71.122797</td>\n",
       "      <td>32.828789</td>\n",
       "      <td>19.95</td>\n",
       "      <td>49.500</td>\n",
       "      <td>63.75</td>\n",
       "      <td>95.0000</td>\n",
       "      <td>198.0</td>\n",
       "    </tr>\n",
       "    <tr>\n",
       "      <th>para</th>\n",
       "      <td>33.0</td>\n",
       "      <td>40.159394</td>\n",
       "      <td>39.033999</td>\n",
       "      <td>17.94</td>\n",
       "      <td>22.990</td>\n",
       "      <td>31.90</td>\n",
       "      <td>36.9000</td>\n",
       "      <td>230.0</td>\n",
       "    </tr>\n",
       "    <tr>\n",
       "      <th>pull</th>\n",
       "      <td>118.0</td>\n",
       "      <td>66.317373</td>\n",
       "      <td>33.700505</td>\n",
       "      <td>15.99</td>\n",
       "      <td>44.750</td>\n",
       "      <td>61.25</td>\n",
       "      <td>79.7125</td>\n",
       "      <td>185.0</td>\n",
       "    </tr>\n",
       "    <tr>\n",
       "      <th>short</th>\n",
       "      <td>59.0</td>\n",
       "      <td>72.115763</td>\n",
       "      <td>36.949730</td>\n",
       "      <td>24.99</td>\n",
       "      <td>49.500</td>\n",
       "      <td>63.00</td>\n",
       "      <td>95.0000</td>\n",
       "      <td>198.0</td>\n",
       "    </tr>\n",
       "    <tr>\n",
       "      <th>ts</th>\n",
       "      <td>118.0</td>\n",
       "      <td>34.566356</td>\n",
       "      <td>16.599120</td>\n",
       "      <td>7.99</td>\n",
       "      <td>22.500</td>\n",
       "      <td>31.50</td>\n",
       "      <td>45.5000</td>\n",
       "      <td>98.0</td>\n",
       "    </tr>\n",
       "  </tbody>\n",
       "</table>\n",
       "</div>"
      ],
      "text/plain": [
       "       count       mean        std    min     25%    50%      75%    max\n",
       "item                                                                    \n",
       "deb     12.0  43.850000  27.053163  17.40  19.375  40.95  60.0000   85.0\n",
       "jupe    59.0  71.285085  66.179532  11.97  35.300  46.62  78.9500  395.0\n",
       "pant   118.0  71.122797  32.828789  19.95  49.500  63.75  95.0000  198.0\n",
       "para    33.0  40.159394  39.033999  17.94  22.990  31.90  36.9000  230.0\n",
       "pull   118.0  66.317373  33.700505  15.99  44.750  61.25  79.7125  185.0\n",
       "short   59.0  72.115763  36.949730  24.99  49.500  63.00  95.0000  198.0\n",
       "ts     118.0  34.566356  16.599120   7.99  22.500  31.50  45.5000   98.0"
      ]
     },
     "execution_count": 15,
     "metadata": {},
     "output_type": "execute_result"
    }
   ],
   "source": [
    "df5 = df4.describe()\n",
    "df5"
   ]
  },
  {
   "cell_type": "code",
   "execution_count": 18,
   "metadata": {},
   "outputs": [
    {
     "data": {
      "image/png": "[encoded data removed]",
      "text/plain": [
       "<Figure size 432x288 with 1 Axes>"
      ]
     },
     "metadata": {},
     "output_type": "display_data"
    }
   ],
   "source": [
    "plt.boxplot(df5,labels=[\"deb\",\"jupe\",\"pant\",\"para\",\"pull\",\"short\",\"ts\"])\n",
    "plt.title(\"Comparatif de prix en fonction du type d'habit\")\n",
    "plt.xlabel(\"type d'habit\")\n",
    "plt.ylabel('prix en euros')\n",
    "plt.show()"
   ]
  },
  {
   "cell_type": "code",
   "execution_count": null,
   "metadata": {},
   "outputs": [],
   "source": [
    "print(Date)\n",
    "print(Temperature)\n",
    "print(Precipitation)"
   ]
  },
  {
   "cell_type": "code",
   "execution_count": null,
   "metadata": {},
   "outputs": [],
   "source": [
    "df = pd.DataFrame({\"Date\" : Date, \"Temperature\" : Temperature, \"Precipitation\" : Precipitation} , columns = [\"Date\", \"Temperature\", \"Precipitation\"] )"
   ]
  },
  {
   "cell_type": "code",
   "execution_count": null,
   "metadata": {},
   "outputs": [],
   "source": [
    "df.tail()"
   ]
  }
 ],
 "metadata": {
  "kernelspec": {
   "display_name": "Python 3",
   "language": "python",
   "name": "python3"
  },
  "language_info": {
   "codemirror_mode": {
    "name": "ipython",
    "version": 3
   },
   "file_extension": ".py",
   "mimetype": "text/x-python",
   "name": "python",
   "nbconvert_exporter": "python",
   "pygments_lexer": "ipython3",
   "version": "3.6.4"
  }
 },
 "nbformat": 4,
 "nbformat_minor": 2
}
