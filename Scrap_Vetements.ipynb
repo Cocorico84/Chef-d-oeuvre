{
 "cells": [
  {
   "cell_type": "code",
   "execution_count": 2,
   "metadata": {},
   "outputs": [],
   "source": [
    "from urllib.request import urlopen\n",
    "from bs4 import BeautifulSoup"
   ]
  },
  {
   "cell_type": "markdown",
   "metadata": {},
   "source": [
    "# HOMME"
   ]
  },
  {
   "cell_type": "markdown",
   "metadata": {},
   "source": [
    "# T-SHIRT"
   ]
  },
  {
   "cell_type": "code",
   "execution_count": 3,
   "metadata": {},
   "outputs": [
    {
     "name": "stdout",
     "output_type": "stream",
     "text": [
      "60\n",
      "60\n",
      "60\n",
      "60\n"
     ]
    }
   ],
   "source": [
    "#listes utilisé pour le scrapping\n",
    "marque_htshirt = []\n",
    "desc_htshirt = []\n",
    "lien_htshirt = []\n",
    "prix_htshirt = []\n",
    "\n",
    "#Utilisation de beautifulSoup avec l'HTML adapté\n",
    "html = urlopen(\"https://www.galerieslafayette.com/c/homme-pret-a-porter-t-shirts+et+polos/f/t-shirts\")\n",
    "soup = BeautifulSoup(html, \"html.parser\")\n",
    "\n",
    "#Scrapping de la marque, lien et description des produits de la pages(ici T-shirt)\n",
    "for marque in soup.find_all('strong',attrs={\"class\" :\"pdt-brand bold-large-title-marque one\"}):\n",
    "    marque_htshirt.append((marque).get_text())\n",
    "for link in soup.find_all('a',class_=\"js-pdt-link js-recommendation-event\"):\n",
    "    lien_htshirt.append(\"https://www.galerieslafayette.com\" + link.get('href'))\n",
    "for desc in soup.find_all('span',class_=\"pdt-name three\"):\n",
    "    desc_htshirt.append((desc).get_text())\n",
    "\n",
    "\n",
    "prix_htshirt_temp = []\n",
    "#Scrapping du prix en normalisant avec le regex\n",
    "for price in soup.find_all('span',attrs={\"class\" :\"price\"}):\n",
    "    prix_htshirt_temp.append(re.findall(r\"\\d+,\\d{2}\",str(price)))\n",
    "for elem in prix_htshirt_temp:\n",
    "    prix_htshirt.append(\" \".join(elem))  \n",
    "    \n",
    "print(len(marque_htshirt))\n",
    "print(len(desc_htshirt))\n",
    "print(len(lien_htshirt))\n",
    "print(len(prix_htshirt))"
   ]
  },
  {
   "cell_type": "code",
   "execution_count": 4,
   "metadata": {},
   "outputs": [
    {
     "name": "stdout",
     "output_type": "stream",
     "text": [
      "INSERT INTO Vetement (marque, description, lien, prix, genre, temperature)\n",
      "VALUES\n",
      "(\"Polo Ralph Lauren\", \"T-shirt en tissu technique avec logo floqué\", \"https://www.galerieslafayette.com/p/t-shirt+en+tissu+technique+avec+logo+floque-polo+ralph+lauren/49845176/230\", 34,50, \"h\", 2),\n",
      "(\"Calvin Klein\", \"T-shirt à rectangle contrastant siglé\", \"https://www.galerieslafayette.com/p/t-shirt+a+rectangle+contrastant+sigle-calvin+klein/50689057/125\", 24,50, \"h\", 2),\n",
      "(\"Polo Ralph Lauren\", \"T-shirt uni à logo poney brodé\", \"https://www.galerieslafayette.com/p/t-shirt+uni+a+logo+poney+brode-polo+ralph+lauren/49845211/125\", 29,50, \"h\", 2),\n",
      "(\"Nike\", \"T-shirt d'entrainement Nike F.C\", \"https://www.galerieslafayette.com/p/t-shirt+d+entrainement+nike+f+c-nike/53810484/306\", 85,00, \"h\", 2),\n",
      "(\"Zadig & Voltaire\", \"T-shirt en coton Tommy\", \"https://www.galerieslafayette.com/p/t-shirt+en+coton+tommy-zadig+voltaire/51134795/320\", 85,00, \"h\", 2),\n",
      "(\"Burberry\", \"T-shirt homme en jersey de coton à motif dévoré \", \"https://www.galerieslafayette.com/p/t-shirt+homme+en+jersey+de+coton+a+motif+devore-burberry/48908466/101\", 75,00, \"h\", 2),\n",
      "(\"Guess\", \"T-SHIRT BOUTONS MICRO-MOTIF\", \"https://www.galerieslafayette.com/p/t-shirt+boutons+micro-motif-guess/300404453218/85\", 18,00, \"h\", 2),\n",
      "(\"Levi'S\", \"T-shirt droit logotypé print aigle\", \"https://www.galerieslafayette.com/p/t-shirt+droit+logotype+print+aigle-levi+s/40855407/85\", 17,50, \"h\", 2),\n",
      "(\"Polo Ralph Lauren\", \"T-shirt en tissu technique avec logo floqué\", \"https://www.galerieslafayette.com/p/t-shirt+en+tissu+technique+avec+logo+floque-polo+ralph+lauren/49845182/320\", 34,50, \"h\", 2),\n",
      "(\"Tommy Hilfiger\", \"T-shirt en coton flammé\", \"https://www.galerieslafayette.com/p/t-shirt+en+coton+flamme-tommy+hilfiger/50596429/356\", 33,00, \"h\", 2),\n",
      "(\"Polo Ralph Lauren\", \"T-shirt droit uni logotypé\", \"https://www.galerieslafayette.com/p/t-shirt+droit+uni+logotype-polo+ralph+lauren/45855565/85\", 59,00, \"h\", 2),\n",
      "(\"Polo Ralph Lauren\", \"T-shirt uni à logo poney brodé\", \"https://www.galerieslafayette.com/p/t-shirt+uni+a+logo+poney+brode-polo+ralph+lauren/49845238/402\", 29,50, \"h\", 2),\n",
      "(\"Polo Ralph Lauren\", \"T-shirt uni à poche poitrine custom fit\", \"https://www.galerieslafayette.com/p/t-shirt+uni+a+poche+poitrine+custom+fit-polo+ralph+lauren/48928833/402\", 29,50, \"h\", 2),\n",
      "(\"Pepe Jeans\", \"T-shirt Darren\", \"https://www.galerieslafayette.com/p/t-shirt+darren-pepe+jeans/49900520/101\", 14,95, \"h\", 2),\n",
      "(\"Levi'S\", \"T-shirt Housemark Graphic \", \"https://www.galerieslafayette.com/p/t-shirt+housemark+graphic-levi+s/54335373/322\", 29,00, \"h\", 2),\n",
      "(\"Lacoste\", \"T-shirt en coton pima uni\", \"https://www.galerieslafayette.com/p/t-shirt+en+coton+pima+uni-lacoste/46021332/125\", 55,00, \"h\", 2),\n",
      "(\"Calvin Klein\", \"T-shirt logotypé slim fit\", \"https://www.galerieslafayette.com/p/t-shirt+logotype+slim+fit-calvin+klein/50068531/320\", 27,50, \"h\", 2),\n",
      "(\"Polo Ralph Lauren\", \"T-shirt à col tunisien print 67\", \"https://www.galerieslafayette.com/p/t-shirt+a+col+tunisien+print+67-polo+ralph+lauren/49845896/106\", 52,50, \"h\", 2),\n",
      "(\"Tommy Hilfiger\", \"T-shirt en coton print initiales de la marque\", \"https://www.galerieslafayette.com/p/t-shirt+en+coton+print+initiales+de+la+marque-tommy+hilfiger/50596885/232\", 25,20, \"h\", 2),\n",
      "(\"Calvin Klein\", \"T-shirt à rectangle contrastant siglé\", \"https://www.galerieslafayette.com/p/t-shirt+a+rectangle+contrastant+sigle-calvin+klein/50689057/230\", 24,50, \"h\", 2),\n",
      "(\"Tommy Hilfiger\", \"T-shirt print cercle floral logotypé\", \"https://www.galerieslafayette.com/p/t-shirt+print+cercle+floral+logotype-tommy+hilfiger/54382473/128\", 45,00, \"h\", 2),\n",
      "(\"Lacoste\", \"T-shirt droit en jersey et coton piqué\", \"https://www.galerieslafayette.com/p/t-shirt+droit+en+jersey+et+coton+pique-lacoste/49796389/101\", 45,50, \"h\", 2),\n",
      "(\"Armani Exchange\", \"T-shirt logotypé slim fit\", \"https://www.galerieslafayette.com/p/t-shirt+logotype+slim+fit-armani+exchange/54673794/85\", 45,00, \"h\", 2),\n",
      "(\"Calvin Klein\", \"T-shirt à imprimé rectangle contrastant effet fondu slim fit\", \"https://www.galerieslafayette.com/p/t-shirt+a+imprime+rectangle+contrastant+effet+fondu+slim+fit-calvin+klein/50068645/85\", 22,50, \"h\", 2),\n",
      "(\"Hackett London\", \"T-shirt Aston Martin\", \"https://www.galerieslafayette.com/p/t-shirt+aston+martin-hackett+london/51575731/85\", 45,50, \"h\", 2),\n",
      "(\"Pepe Jeans\", \"T-shirt Darren\", \"https://www.galerieslafayette.com/p/t-shirt+darren-pepe+jeans/49900520/85\", 14,95, \"h\", 2),\n",
      "(\"Nike\", \"T-shirt uni à manches longues\", \"https://www.galerieslafayette.com/p/t-shirt+uni+a+manches+longues-nike/50985333/320\", 42,00, \"h\", 2),\n",
      "(\"Lacoste\", \"T-shirt droit en coton piqué logo brodé\", \"https://www.galerieslafayette.com/p/t-shirt+droit+en+coton+pique+logo+brode-lacoste/49796407/125\", 42,00, \"h\", 2),\n",
      "(\"Chevignon\", \"Tshirt Manches Courtes Straight Col V\", \"https://www.galerieslafayette.com/p/tshirt+manches+courtes+straight+col+v-chevignon/300404345974/125\", 21,00, \"h\", 2),\n",
      "(\"Polo Ralph Lauren\", \"T-shirt Custom slim fit\", \"https://www.galerieslafayette.com/p/t-shirt+custom+slim+fit-polo+ralph+lauren/49945192/119\", 41,30, \"h\", 2),\n",
      "(\"American Vintage\", \"T-shirt Jacksonville\", \"https://www.galerieslafayette.com/p/t-shirt+jacksonville-american+vintage/51284822/85\", 40,00, \"h\", 2),\n",
      "(\"Polo Ralph Lauren\", \"T-shirt droit en coton\", \"https://www.galerieslafayette.com/p/t-shirt+droit+en+coton-polo+ralph+lauren/50979890/232\", 40,00, \"h\", 2),\n",
      "(\"Tommy Jeans\", \"T-shirt droit en coton chiné et logo brodé\", \"https://www.galerieslafayette.com/p/t-shirt+droit+en+coton+chine+et+logo+brode-tommy+jeans/54413948/101\", 39,00, \"h\", 2),\n",
      "(\"Guess\", \"T-SHIRT BOUTONS FRONTAUX\", \"https://www.galerieslafayette.com/p/t-shirt+boutons+frontaux-guess/300404446247/85\", 18,00, \"h\", 2),\n",
      "(\"Fred Perry\", \"T-shirt à rayures façon marinière\", \"https://www.galerieslafayette.com/p/t-shirt+a+rayures+facon+mariniere-fred+perry/51107083/101\", 35,00, \"h\", 2),\n",
      "(\"Replay\", \"T-shirt droit en coton uni à col V\", \"https://www.galerieslafayette.com/p/t-shirt+droit+en+coton+uni+a+col+v-replay/54482882/320\", 35,00, \"h\", 2),\n",
      "(\"Kaporal Jeans\", \"T-shirt Gibre\", \"https://www.galerieslafayette.com/p/t-shirt+gibre-kaporal+jeans/49900026/402\", 17,50, \"h\", 2),\n",
      "(\"Pepe Jeans\", \"T-shirt Hatton\", \"https://www.galerieslafayette.com/p/t-shirt+hatton-pepe+jeans/49900596/85\", 17,50, \"h\", 2),\n",
      "(\"Pepe Jeans\", \"T-shirt Horst\", \"https://www.galerieslafayette.com/p/t-shirt+horst-pepe+jeans/49900551/101\", 17,50, \"h\", 2),\n",
      "(\"Replay\", \"T-shirt droit en coton uni\", \"https://www.galerieslafayette.com/p/t-shirt+droit+en+coton+uni-replay/54482875/85\", 35,00, \"h\", 2),\n",
      "(\"Sisley\", \"T-shirt droit en coton flammé à col tunisien\", \"https://www.galerieslafayette.com/p/t-shirt+droit+en+coton+flamme+a+col+tunisien-sisley/51314969/125\", 17,40, \"h\", 2),\n",
      "(\"Tommy Hilfiger\", \"T-shirt à poche poitrine à carreaux\", \"https://www.galerieslafayette.com/p/t-shirt+a+poche+poitrine+a+carreaux-tommy+hilfiger/50596775/85\", 33,00, \"h\", 2),\n",
      "(\"Compagnie du Lin\", \"T-shirt en coton et lin à imprimé feuilles en all over\", \"https://www.galerieslafayette.com/p/t-shirt+en+coton+et+lin+a+imprime+feuilles+en+all+over-compagnie+du+lin/53979653/125\", 33,60, \"h\", 2),\n",
      "(\"Tommy Hilfiger\", \"T-shirt à imprimé fleurs et feuillages\", \"https://www.galerieslafayette.com/p/t-shirt+a+imprime+fleurs+et+feuillages-tommy+hilfiger/50596602/2895\", 33,00, \"h\", 2),\n",
      "(\"Lacoste\", \"T-shirt en jersey logotypé print lettrage\", \"https://www.galerieslafayette.com/p/t-shirt+en+jersey+logotype+print+lettrage-lacoste/49796503/85\", 31,50, \"h\", 2),\n",
      "(\"Ikks\", \"T-shirt en coton flammé print fleurs fantaisie\", \"https://www.galerieslafayette.com/p/t-shirt+en+coton+flamme+print+fleurs+fantaisie-ikks/50030703/1890\", 30,00, \"h\", 2),\n",
      "(\"Ikks\", \"T-shirt en coton et lin\", \"https://www.galerieslafayette.com/p/t-shirt+en+coton+et+lin-ikks/50029822/267\", 30,00, \"h\", 2),\n",
      "(\"Polo Ralph Lauren\", \"T-shirt uni à poche poitrine custom fit\", \"https://www.galerieslafayette.com/p/t-shirt+uni+a+poche+poitrine+custom+fit-polo+ralph+lauren/48928819/103\", 29,50, \"h\", 2),\n",
      "(\"Guess\", \"T-SHIRT RAYÉ À POCHE\", \"https://www.galerieslafayette.com/p/t-shirt+raye+a+poche-guess/300404318012/320\", 29,50, \"h\", 2),\n",
      "(\"Polo Ralph Lauren\", \"T-shirt en coton logo\", \"https://www.galerieslafayette.com/p/t-shirt+en+coton+logo-polo+ralph+lauren/49889753/103\", 29,50, \"h\", 2),\n",
      "(\"G-Star\", \"T-shirt logotypé\", \"https://www.galerieslafayette.com/p/t-shirt+logotype-g-star/50069294/85\", 14,96, \"h\", 2),\n",
      "(\"Polo Ralph Lauren\", \"T-shirt à rayures custom fit\", \"https://www.galerieslafayette.com/p/t-shirt+a+rayures+custom+fit-polo+ralph+lauren/48928839/101\", 29,50, \"h\", 2),\n",
      "(\"Polo Ralph Lauren\", \"T-shirt uni à poche poitrine custom fit\", \"https://www.galerieslafayette.com/p/t-shirt+uni+a+poche+poitrine+custom+fit-polo+ralph+lauren/48928826/457\", 29,50, \"h\", 2),\n",
      "(\"Polo Ralph Lauren\", \"T-shirt en coton avec une poche\", \"https://www.galerieslafayette.com/p/t-shirt+en+coton+avec+une+poche-polo+ralph+lauren/49889759/230\", 29,50, \"h\", 2),\n",
      "(\"Pepe Jeans\", \"T-shirt Amersham\", \"https://www.galerieslafayette.com/p/t-shirt+amersham-pepe+jeans/49900546/85\", 14,00, \"h\", 2),\n",
      "(\"La Compagnie du Lin\", \"T-shirt droit en coton et lin à col V\", \"https://www.galerieslafayette.com/p/t-shirt+droit+en+coton+et+lin+a+col+v-la+compagnie+du+lin/53979666/85\", 27,30, \"h\", 2),\n",
      "(\"Calvin Klein\", \"T-shirt Tronic\", \"https://www.galerieslafayette.com/p/t-shirt+tronic-calvin+klein/48571349/320\", 27,50, \"h\", 2),\n",
      "(\"Calvin Klein\", \"T-shirt sérigraphié \", \"https://www.galerieslafayette.com/p/t-shirt+serigraphie-calvin+klein/50068552/498\", 27,50, \"h\", 2),\n",
      "(\"Tommy Hilfiger\", \"T-shirt en coton logotypé\", \"https://www.galerieslafayette.com/p/t-shirt+en+coton+logotype-tommy+hilfiger/50596703/101, 25,20\", \"h\", 2);\n"
     ]
    }
   ],
   "source": [
    "length = (len(prix_htshirt))\n",
    "print(\"INSERT INTO Vetement (marque, description, lien, prix, genre, temperature)\")\n",
    "print(\"VALUES\")\n",
    "for i in range(length-2):\n",
    "    print(\"(\\\"\"+marque_htshirt[i]+\"\\\", \\\"\"+desc_htshirt[i]+\"\\\", \\\"\"+lien_htshirt[i]+\"\\\", \"+prix_htshirt[i]+\", \\\"h\\\", 2),\")\n",
    "print(\"(\\\"\"+marque_htshirt[length-1]+\"\\\", \\\"\"+desc_htshirt[length-1]+\"\\\", \\\"\"+lien_htshirt[length-1]+\", \"+prix_htshirt[length-1]+\"\\\", \\\"h\\\", 2);\")"
   ]
  },
  {
   "cell_type": "markdown",
   "metadata": {},
   "source": [
    "# DEBARDEUR"
   ]
  },
  {
   "cell_type": "code",
   "execution_count": 5,
   "metadata": {},
   "outputs": [
    {
     "name": "stdout",
     "output_type": "stream",
     "text": [
      "9\n",
      "9\n",
      "9\n",
      "9\n",
      "9\n"
     ]
    }
   ],
   "source": [
    "marque_hdeb = []\n",
    "desc_hdeb = []\n",
    "lien_hdeb = []\n",
    "html = urlopen(\"https://www.galerieslafayette.com/c/homme-pret-a-porter-t-shirts+et+polos/f/debardeurs\")\n",
    "soup = BeautifulSoup(html, \"html.parser\")\n",
    "for marque in soup.find_all('strong',attrs={\"class\" :\"pdt-brand bold-large-title-marque one\"}):\n",
    "    marque_hdeb.append((marque).get_text())\n",
    "\n",
    "for link in soup.find_all('a',class_=\"js-pdt-link js-recommendation-event\"):\n",
    "    lien_hdeb.append(\"https://www.galerieslafayette.com\" + link.get('href'))\n",
    "for desc in soup.find_all('span',class_=\"pdt-name three\"):\n",
    "    desc_hdeb.append((desc).get_text())\n",
    "    \n",
    "prix_hdeb = []\n",
    "prix_hdeb_temp = []\n",
    "\n",
    "for price in soup.find_all('span',attrs={\"class\" :\"price\"}):\n",
    "    prix_hdeb_temp.append(re.findall(r\"\\d+,\\d{2}\",str(price)))\n",
    "for elem in prix_hdeb_temp:\n",
    "    prix_hdeb.append(\" \".join(elem)) \n",
    "\n",
    "print(len(marque_hdeb))\n",
    "print(len(desc_hdeb))\n",
    "print(len(lien_hdeb))\n",
    "print(len(prix_hdeb))\n",
    "print(len(prix_hdeb_temp))"
   ]
  },
  {
   "cell_type": "code",
   "execution_count": 6,
   "metadata": {},
   "outputs": [
    {
     "name": "stdout",
     "output_type": "stream",
     "text": [
      "INSERT INTO Vetement (marque, description, lien, prix, genre, temperature)\n",
      "VALUES\n",
      "(\"Scotch And Soda\", \"Débardeur droit uni en coton\", \"https://www.galerieslafayette.com/p/debardeur+droit+uni+en+coton-scotch+and+soda/49749589/320\", 17,50, \"h\", 3),\n",
      "(\"Impetus\", \"Débardeur en coton stretch\", \"https://www.galerieslafayette.com/p/debardeur+en+coton+stretch-impetus/28038030/320\", 21,90, \"h\", 3),\n",
      "(\"Guy De Berac\", \"Débardeur droit sans manche en laine\", \"https://www.galerieslafayette.com/p/debardeur+droit+sans+manche+en+laine-guy+de+berac/33937046/2917\", 85,00, \"h\", 3),\n",
      "(\"Jack & Jones\", \"Débardeur droit print lettrage et nom de la marque\", \"https://www.galerieslafayette.com/p/debardeur+droit+print+lettrage+et+nom+de+la+marque-jack+jones/49891320/140\", 10,79, \"h\", 3),\n",
      "(\"Impetus\", \"Débardeur en coton stretch\", \"https://www.galerieslafayette.com/p/debardeur+en+coton+stretch-impetus/28038030/85\", 21,90, \"h\", 3),\n",
      "(\"Volcom\", \"Débardeur Sherwood\", \"https://www.galerieslafayette.com/p/debardeur+sherwood-volcom/300404699437/320\", 20,00, \"h\", 3),\n",
      "(\"Pull-In\", \"Débardeur homme GOODBOY\", \"https://www.galerieslafayette.com/p/debardeur+homme+goodboy-pull-in/300404666557/230\", 29,00, \"h\", 3),\n",
      "(\"Volcom\", \"Débardeur Threezy\", \"https://www.galerieslafayette.com/p/debardeur+threezy-volcom/300404699443/378, 24,00\", \"h\", 3);\n"
     ]
    }
   ],
   "source": [
    "length = (len(prix_hdeb))\n",
    "print(\"INSERT INTO Vetement (marque, description, lien, prix, genre, temperature)\")\n",
    "print(\"VALUES\")\n",
    "for i in range(length-2):\n",
    "    print(\"(\\\"\"+marque_hdeb[i]+\"\\\", \\\"\"+desc_hdeb[i]+\"\\\", \\\"\"+lien_hdeb[i]+\"\\\", \"+prix_hdeb[i]+\", \\\"h\\\", 3),\")\n",
    "print(\"(\\\"\"+marque_hdeb[length-1]+\"\\\", \\\"\"+desc_hdeb[length-1]+\"\\\", \\\"\"+lien_hdeb[length-1]+\", \"+prix_hdeb[length-1]+\"\\\", \\\"h\\\", 3);\")"
   ]
  },
  {
   "cell_type": "markdown",
   "metadata": {},
   "source": [
    "# PULL"
   ]
  },
  {
   "cell_type": "code",
   "execution_count": 7,
   "metadata": {},
   "outputs": [],
   "source": [
    "marque_hpull = []\n",
    "desc_hpull = []\n",
    "lien_hpull = []\n",
    "html = urlopen(\"https://www.galerieslafayette.com/c/homme-pret-a-porter-maille\")\n",
    "soup = BeautifulSoup(html, \"html.parser\")\n",
    "for marque in soup.find_all('strong',attrs={\"class\" :\"pdt-brand bold-large-title-marque one\"}):\n",
    "    marque_hpull.append((marque).get_text())\n",
    "\n",
    "for link in soup.find_all('a',class_=\"js-pdt-link js-recommendation-event\"):\n",
    "    lien_hpull.append(\"https://www.galerieslafayette.com\" + link.get('href'))\n",
    "for desc in soup.find_all('span',class_=\"pdt-name three\"):\n",
    "    desc_hpull.append((desc).get_text())\n",
    "\n",
    "prix_hpull = []\n",
    "prix_hpull_temp = []\n",
    "\n",
    "for price in soup.find_all('span',attrs={\"class\" :\"price\"}):\n",
    "    prix_hpull_temp.append(re.findall(r\"\\d+,\\d{2}\",str(price)))\n",
    "for elem in prix_hpull_temp:\n",
    "    prix_hpull.append(\" \".join(elem)) "
   ]
  },
  {
   "cell_type": "code",
   "execution_count": 8,
   "metadata": {},
   "outputs": [
    {
     "name": "stdout",
     "output_type": "stream",
     "text": [
      "INSERT INTO Vetement (marque, description, lien, prix, genre, temperature)\n",
      "VALUES\n",
      "(\"Burberry\", \"Sweat homme en jersey à imprimé Doodle\", \"https://www.galerieslafayette.com/p/sweat+homme+en+jersey+a+imprime+doodle-burberry/48898397/320\", 175,00, \"h\",1),\n",
      "(\"Polo Ralph Lauren\", \"Sweat zippé à capuche\", \"https://www.galerieslafayette.com/p/sweat+zippe+a+capuche-polo+ralph+lauren/49945112/230\", 72,50, \"h\",1),\n",
      "(\"Calvin Klein\", \"Sweat Box Hotoro\", \"https://www.galerieslafayette.com/p/sweat+box+hotoro-calvin+klein/50068457/113\", 52,50, \"h\",1),\n",
      "(\"Napapijri\", \"Sweat Blike\", \"https://www.galerieslafayette.com/p/sweat+blike-napapijri/49520759/120\", 92,00, \"h\",1),\n",
      "(\"Polo Ralph Lauren\", \"Sweat zippé à capuche\", \"https://www.galerieslafayette.com/p/sweat+zippe+a+capuche-polo+ralph+lauren/49845066/101\", 82,50, \"h\",1),\n",
      "(\"Sandro\", \"Pull gaufré\", \"https://www.galerieslafayette.com/p/pull+gaufre-sandro/49831271/101\", 82,50, \"h\",1),\n",
      "(\"Polo Ralph Lauren\", \"Pull en coton pima piqué col montant zippé\", \"https://www.galerieslafayette.com/p/pull+en+coton+pima+pique+col+montant+zippe-polo+ralph+lauren/48928992/104\", 79,50, \"h\",1),\n",
      "(\"Polo Ralph Lauren\", \"Pull en coton pima texturé\", \"https://www.galerieslafayette.com/p/pull+en+coton+pima+texture-polo+ralph+lauren/49942989/230\", 74,50, \"h\",1),\n",
      "(\"Tommy Hilfiger\", \"Gilet zippé col montant en coton et soie\", \"https://www.galerieslafayette.com/p/gilet+zippe+col+montant+en+coton+et+soie-tommy+hilfiger/48936725/119\", 69,50, \"h\",1),\n",
      "(\"Tommy Hilfiger\", \"Gilet zippé col montant en coton et soie\", \"https://www.galerieslafayette.com/p/gilet+zippe+col+montant+en+coton+et+soie-tommy+hilfiger/48936725/232\", 69,50, \"h\",1),\n",
      "(\"Ikks\", \"Gilet zippé en coton léger à capuche\", \"https://www.galerieslafayette.com/p/gilet+zippe+en+coton+leger+a+capuche-ikks/50029815/233\", 67,50, \"h\",1),\n",
      "(\"Polo Ralph Lauren\", \"Sweat en molleton uni\", \"https://www.galerieslafayette.com/p/sweat+en+molleton+uni-polo+ralph+lauren/48928859/85\", 67,50, \"h\",1),\n",
      "(\"Sandro\", \"Sweat imprimé\", \"https://www.galerieslafayette.com/p/sweat+imprime-sandro/49827056/103\", 67,50, \"h\",1),\n",
      "(\"Calvin Klein\", \"Sweat Homer\", \"https://www.galerieslafayette.com/p/sweat+homer-calvin+klein/50068479/230\", 64,50, \"h\",1),\n",
      "(\"Tommy Hilfiger\", \"Pull en coton et soie à col V\", \"https://www.galerieslafayette.com/p/pull+en+coton+et+soie+a+col+v-tommy+hilfiger/48936786/103\", 59,50, \"h\",1),\n",
      "(\"Tommy Hilfiger\", \"Pull en coton et soie à col V\", \"https://www.galerieslafayette.com/p/pull+en+coton+et+soie+a+col+v-tommy+hilfiger/48936786/356\", 59,50, \"h\",1),\n",
      "(\"Polo Ralph Lauren\", \"Pull en coton effet chiné\", \"https://www.galerieslafayette.com/p/pull+en+coton+effet+chine-polo+ralph+lauren/48929026/244\", 59,50, \"h\",1),\n",
      "(\"Tommy Hilfiger\", \"Pull en coton et soie à col V\", \"https://www.galerieslafayette.com/p/pull+en+coton+et+soie+a+col+v-tommy+hilfiger/48936786/385\", 57,50, \"h\",1),\n",
      "(\"Tommy Jeans\", \"Sweat tricolore logotypé à col châle croisé\", \"https://www.galerieslafayette.com/p/sweat+tricolore+logotype+a+col+chale+croise-tommy+jeans/50632098/117\", 57,50, \"h\",1),\n",
      "(\"Tommy Jeans\", \"Sweat en molleton relaxed fit\", \"https://www.galerieslafayette.com/p/sweat+en+molleton+relaxed+fit-tommy+jeans/50632076/125\", 52,50, \"h\",1),\n",
      "(\"Mise Au Green\", \"Sweat zippé à col montant\", \"https://www.galerieslafayette.com/p/sweat+zippe+a+col+montant-mise+au+green/52137785/125\", 49,00, \"h\",1),\n",
      "(\"Galeries Lafayette\", \"Pull cachemire Muloica\", \"https://www.galerieslafayette.com/p/pull+cachemire+muloica-galeries+lafayette/48362379/320\", 23,99, \"h\",1),\n",
      "(\"Galeries Lafayette\", \"Pull cachemire Muloica\", \"https://www.galerieslafayette.com/p/pull+cachemire+muloica-galeries+lafayette/48362379/457\", 23,99, \"h\",1),\n",
      "(\"Tommy Jeans\", \"Sweat à manches siglées relaxed fit\", \"https://www.galerieslafayette.com/p/sweat+a+manches+siglees+relaxed+fit-tommy+jeans/50632143/230\", 42,50, \"h\",1),\n",
      "(\"Faguo\", \"Sweat DARNEY Coton Voilà\", \"https://www.galerieslafayette.com/p/sweat+darney+coton+voila-faguo/300404263413/230\", 42,00, \"h\",1),\n",
      "(\"Faguo\", \"Sweat Darney coton\", \"https://www.galerieslafayette.com/p/sweat+darney+coton-faguo/300404454970/60\", 42,00, \"h\",1),\n",
      "(\"Kaporal Jeans\", \"Sweat Sino\", \"https://www.galerieslafayette.com/p/sweat+sino-kaporal+jeans/49900005/120\", 39,50, \"h\",1),\n",
      "(\"Petrol Industries\", \"Sweat à capuche en coton mélangé imprimé logo\", \"https://www.galerieslafayette.com/p/sweat+a+capuche+en+coton+melange+imprime+logo-petrol+industries/49389771/103\", 24,97, \"h\",1),\n",
      "(\"Galeries Lafayette\", \"Pull cachemire Muloica\", \"https://www.galerieslafayette.com/p/pull+cachemire+muloica-galeries+lafayette/48362379/385\", 23,99, \"h\",1),\n",
      "(\"Comptoir GL\", \"Pull Linon\", \"https://www.galerieslafayette.com/p/pull+linon-comptoir+gl/48108845/405\", 23,99, \"h\",1),\n",
      "(\"Galeries Lafayette\", \"Gilet Multonca\", \"https://www.galerieslafayette.com/p/gilet+multonca-galeries+lafayette/48029792/232\", 21,99, \"h\",1),\n",
      "(\"Galeries Lafayette\", \"Pull Marlaye\", \"https://www.galerieslafayette.com/p/pull+marlaye-galeries+lafayette/49236954/232\", 19,99, \"h\",1),\n",
      "(\"Galeries Lafayette\", \"Pull Merilzip\", \"https://www.galerieslafayette.com/p/pull+merilzip-galeries+lafayette/47969952/232\", 17,99, \"h\",1),\n",
      "(\"Galeries Lafayette\", \"Pull Kulneck\", \"https://www.galerieslafayette.com/p/pull+kulneck-galeries+lafayette/48048282/101\", 17,99, \"h\",1),\n",
      "(\"Galeries Lafayette\", \"Pull Merilzip\", \"https://www.galerieslafayette.com/p/pull+merilzip-galeries+lafayette/47969952/320\", 17,99, \"h\",1),\n",
      "(\"Galeries Lafayette\", \"Gilet Merilgi\", \"https://www.galerieslafayette.com/p/gilet+merilgi-galeries+lafayette/47969933/125\", 17,99, \"h\",1),\n",
      "(\"Galeries Lafayette\", \"Gilet Merilgi\", \"https://www.galerieslafayette.com/p/gilet+merilgi-galeries+lafayette/47969933/232\", 17,99, \"h\",1),\n",
      "(\"Polo Ralph Lauren\", \"Pull en coton pima slim fit\", \"https://www.galerieslafayette.com/p/pull+en+coton+pima+slim+fit-polo+ralph+lauren/49888400/357\", 72,50, \"h\",1),\n",
      "(\"Tommy Hilfiger\", \"Sweat droit molletonné à capuche\", \"https://www.galerieslafayette.com/p/sweat+droit+molletonne+a+capuche-tommy+hilfiger/54382032/125\", 109,00, \"h\",1),\n",
      "(\"Jack & Jones\", \"Sweat zippé Premium By Jack & Jones\", \"https://www.galerieslafayette.com/p/sweat+zippe+premium+by+jack+jones-jack+jones/49891315/125\", 35,98, \"h\",1),\n",
      "(\"Polo Ralph Lauren\", \"Pull en coton pima slim fit\", \"https://www.galerieslafayette.com/p/pull+en+coton+pima+slim+fit-polo+ralph+lauren/49888446/410\", 72,50, \"h\",1),\n",
      "(\"Polo Ralph Lauren\", \"Sweat zippé à capuche \", \"https://www.galerieslafayette.com/p/sweat+zippe+a+capuche-polo+ralph+lauren/31485188/232\", 145,00, \"h\",1),\n",
      "(\"Salsa\", \"Pull en maille à col roulé\", \"https://www.galerieslafayette.com/p/pull+en+maille+a+col+roule-salsa/300404990081/320\", 41,94, \"h\",1),\n",
      "(\"Galeries Lafayette\", \"Pull Multon\", \"https://www.galerieslafayette.com/p/pull+multon-galeries+lafayette/48029757/459\", 15,99, \"h\",1),\n",
      "(\"Schott\", \"Sweatshirt SCHOTT\", \"https://www.galerieslafayette.com/p/sweatshirt+schott-schott/300404392295/318\", 75,00, \"h\",1),\n",
      "(\"Salsa\", \"Pull en maille\", \"https://www.galerieslafayette.com/p/pull+en+maille-salsa/300404990067/320\", 29,94, \"h\",1),\n",
      "(\"Scotch And Soda\", \"Pull droit graphique\", \"https://www.galerieslafayette.com/p/pull+droit+graphique-scotch+and+soda/49386400/125\", 56,50, \"h\",1),\n",
      "(\"Polo Ralph Lauren\", \"Pull en coton pima slim fit\", \"https://www.galerieslafayette.com/p/pull+en+coton+pima+slim+fit-polo+ralph+lauren/49888406/453\", 72,50, \"h\",1),\n",
      "(\"Montagut\", \"Pull col petit V en laine mérinos Bibiane\", \"https://www.galerieslafayette.com/p/pull+col+petit+v+en+laine+merinos+bibiane-montagut/300401660430/401\", 90,30, \"h\",1),\n",
      "(\"Guess\", \"PULL MOTIF RAYÉ\", \"https://www.galerieslafayette.com/p/pull+motif+raye-guess/300404015398/453\", 59,90, \"h\",1),\n",
      "(\"Sandro\", \"Sweat inscription Hero\", \"https://www.galerieslafayette.com/p/sweat+inscription+hero-sandro/54979798/232\", 135,00, \"h\",1),\n",
      "(\"Nike\", \"Sweat zippé Sportswear Tech Fleece Windrunner\", \"https://www.galerieslafayette.com/p/sweat+zippe+sportswear+tech+fleece+windrunner-nike/53810609/459\", 100,00, \"h\",1),\n",
      "(\"Galeries Lafayette\", \"Pull Kublori\", \"https://www.galerieslafayette.com/p/pull+kublori-galeries+lafayette/48362373/119\", 23,99, \"h\",1),\n",
      "(\"Scotch And Soda\", \"Pull en coton effet moucheté\", \"https://www.galerieslafayette.com/p/pull+en+coton+effet+mouchete-scotch+and+soda/49749124/106\", 39,50, \"h\",1),\n",
      "(\"Faguo\", \"Pull Lucio coton\", \"https://www.galerieslafayette.com/p/pull+lucio+coton-faguo/300404455012/401\", 51,00, \"h\",1),\n",
      "(\"Tommy Hilfiger\", \"Sweat en molleton à capuche siglée\", \"https://www.galerieslafayette.com/p/sweat+en+molleton+a+capuche+siglee-tommy+hilfiger/50594877/232\", 67,50, \"h\",1),\n",
      "(\"Salsa\", \"Pull bicolore\", \"https://www.galerieslafayette.com/p/pull+bicolore-salsa/300404990074/453\", 35,94, \"h\",1),\n",
      "(\"Galeries Lafayette\", \"Pull Multonbi\", \"https://www.galerieslafayette.com/p/pull+multonbi-galeries+lafayette/48029780/125\", 15,99, \"h\",1),\n",
      "(\"The Kooples Sport\", \"Sweat zippé uni à capuche\", \"https://www.galerieslafayette.com/p/sweat+zippe+uni+a+capuche-the+kooples+sport/49920889/320, 74,00\", \"h\", 1);\n"
     ]
    }
   ],
   "source": [
    "length = (len(prix_hpull))\n",
    "print(\"INSERT INTO Vetement (marque, description, lien, prix, genre, temperature)\")\n",
    "print(\"VALUES\")\n",
    "for i in range(length-2):\n",
    "    print(\"(\\\"\"+marque_hpull[i]+\"\\\", \\\"\"+desc_hpull[i]+\"\\\", \\\"\"+lien_hpull[i]+\"\\\", \"+prix_hpull[i]+\", \\\"h\\\",1),\")\n",
    "print(\"(\\\"\"+marque_hpull[length-1]+\"\\\", \\\"\"+desc_hpull[length-1]+\"\\\", \\\"\"+lien_hpull[length-1]+\", \"+prix_hpull[length-1]+\"\\\", \\\"h\\\", 1);\")"
   ]
  },
  {
   "cell_type": "markdown",
   "metadata": {},
   "source": [
    "# PANTALON"
   ]
  },
  {
   "cell_type": "code",
   "execution_count": 10,
   "metadata": {},
   "outputs": [],
   "source": [
    "marque_hpant = []\n",
    "desc_hpant = []\n",
    "lien_hpant = []\n",
    "html = urlopen(\"https://www.galerieslafayette.com/c/homme-pret-a-porter-pantalons+et+shorts\")\n",
    "soup = BeautifulSoup(html, \"html.parser\")\n",
    "for marque in soup.find_all('strong',attrs={\"class\" :\"pdt-brand bold-large-title-marque one\"}):\n",
    "    marque_hpant.append((marque).get_text())\n",
    "\n",
    "for link in soup.find_all('a',class_=\"js-pdt-link js-recommendation-event\"):\n",
    "    lien_hpant.append(\"https://www.galerieslafayette.com\" + link.get('href'))\n",
    "for desc in soup.find_all('span',class_=\"pdt-name three\"):\n",
    "    desc_hpant.append((desc).get_text())\n",
    "    \n",
    "prix_hpant = []\n",
    "prix_hpant_temp = []\n",
    "\n",
    "for price in soup.find_all('span',attrs={\"class\" :\"price\"}):\n",
    "    prix_hpant_temp.append(re.findall(r\"\\d+,\\d{2}\",str(price)))\n",
    "for elem in prix_hpant_temp:\n",
    "    prix_hpant.append(\" \".join(elem)) "
   ]
  },
  {
   "cell_type": "code",
   "execution_count": 12,
   "metadata": {},
   "outputs": [
    {
     "name": "stdout",
     "output_type": "stream",
     "text": [
      "INSERT INTO Vetement (marque, description, lien, prix, genre, temperature)\n",
      "VALUES\n",
      "(\"Ikks\", \"Pantalon chino slim fit\", \"https://www.galerieslafayette.com/p/pantalon+chino+slim+fit-ikks/50029629/106\", 67,50, \"h\",1),\n",
      "(\"Pepe Jeans\", \"Pantalon chino Sloane\", \"https://www.galerieslafayette.com/p/pantalon+chino+sloane-pepe+jeans/49910485/60\", 32,50, \"h\",1),\n",
      "(\"Tommy Hilfiger\", \"Pantalon chino Denton straight fit\", \"https://www.galerieslafayette.com/p/pantalon+chino+denton+straight+fit-tommy+hilfiger/50597778/131\", 74,50, \"h\",1),\n",
      "(\"Sandro\", \"Pantalon en laine taille élastiquée\", \"https://www.galerieslafayette.com/p/pantalon+en+laine+taille+elastiquee-sandro/49830286/60\", 122,50, \"h\",1),\n",
      "(\"Sandro\", \"Pantalon en laine taille élastiquée\", \"https://www.galerieslafayette.com/p/pantalon+en+laine+taille+elastiquee-sandro/49830286/125\", 122,50, \"h\",1),\n",
      "(\"Galeries Lafayette\", \"Pantalon chino Kadroit straight fit\", \"https://www.galerieslafayette.com/p/pantalon+chino+kadroit+straight+fit-galeries+lafayette/47955867/279\", 24,99, \"h\",1),\n",
      "(\"Polo Ralph Lauren\", \"Pantalon chino stretch slim fit\", \"https://www.galerieslafayette.com/p/pantalon+chino+stretch+slim+fit-polo+ralph+lauren/49889839/453\", 72,50, \"h\",1),\n",
      "(\"Marciano Guess\", \"PANTALON MARCIANO MODELE 5 POCHES\", \"https://www.galerieslafayette.com/p/pantalon+marciano+modele+5+poches-marciano+guess/300404474834/230\", 71,00, \"h\",1),\n",
      "(\"Ikks\", \"Pantalon chino slim fit\", \"https://www.galerieslafayette.com/p/pantalon+chino+slim+fit-ikks/50029629/60\", 67,50, \"h\",1),\n",
      "(\"Chevignon\", \"Pantalon Chino Straight\", \"https://www.galerieslafayette.com/p/pantalon+chino+straight-chevignon/300404346474/101\", 55,00, \"h\",1),\n",
      "(\"Element\", \"Pantalon chino Krewson slim fit\", \"https://www.galerieslafayette.com/p/pantalon+chino+krewson+slim+fit-element/48958120/279\", 32,50, \"h\",1),\n",
      "(\"Tommy Hilfiger\", \"Pantalon chino Denton en coton stretch straight fit\", \"https://www.galerieslafayette.com/p/pantalon+chino+denton+en+coton+stretch+straight+fit-tommy+hilfiger/50598430/131\", 64,50, \"h\",1),\n",
      "(\"Galeries Lafayette\", \"Pantalon Kajolin\", \"https://www.galerieslafayette.com/p/pantalon+kajolin-galeries+lafayette/48819829/125\", 29,99, \"h\",1),\n",
      "(\"Dockers\", \"Pantalon Alpha slim fit\", \"https://www.galerieslafayette.com/p/pantalon+alpha+slim+fit-dockers/49223572/101\", 57,00, \"h\",1),\n",
      "(\"Levi'S\", \"Pantalon 511 stretch slim fit\", \"https://www.galerieslafayette.com/p/pantalon+511+stretch+slim+fit-levi+s/48917299/104\", 53,40, \"h\",1),\n",
      "(\"Galeries Lafayette\", \"Pantalon Karelax\", \"https://www.galerieslafayette.com/p/pantalon+karelax-galeries+lafayette/47955914/154\", 24,99, \"h\",1),\n",
      "(\"Polo Ralph Lauren\", \"Pantalon chino slim\", \"https://www.galerieslafayette.com/p/pantalon+chino+slim-polo+ralph+lauren/49910467/101\", 49,50, \"h\",1),\n",
      "(\"Napapijri\", \"Pantalon chino Mana Stretch\", \"https://www.galerieslafayette.com/p/pantalon+chino+mana+stretch-napapijri/49521183/125\", 49,50, \"h\",1),\n",
      "(\"Napapijri\", \"Pantalon chino Mana Stretch\", \"https://www.galerieslafayette.com/p/pantalon+chino+mana+stretch-napapijri/49521183/85\", 49,50, \"h\",1),\n",
      "(\"Napapijri\", \"Pantalon chino Mana Stretch\", \"https://www.galerieslafayette.com/p/pantalon+chino+mana+stretch-napapijri/49521183/62\", 49,50, \"h\",1),\n",
      "(\"Galeries Lafayette\", \"Pantalon Karelax\", \"https://www.galerieslafayette.com/p/pantalon+karelax-galeries+lafayette/47955914/60\", 24,99, \"h\",1),\n",
      "(\"Galeries Lafayette\", \"Pantalon Katwill slim fit\", \"https://www.galerieslafayette.com/p/pantalon+katwill+slim+fit-galeries+lafayette/47955942/60\", 19,99, \"h\",1),\n",
      "(\"Galeries Lafayette\", \"Pantalon Katwill slim fit\", \"https://www.galerieslafayette.com/p/pantalon+katwill+slim+fit-galeries+lafayette/47955942/119\", 19,99, \"h\",1),\n",
      "(\"Jack & Jones\", \"Pantalon chino Cody\", \"https://www.galerieslafayette.com/p/pantalon+chino+cody-jack+jones/49891189/131\", 34,99, \"h\",1),\n",
      "(\"Comptoir GL\", \"Pantalon Lecce slim fit\", \"https://www.galerieslafayette.com/p/pantalon+lecce+slim+fit-comptoir+gl/48108982/60\", 32,50, \"h\",1),\n",
      "(\"Galeries Lafayette\", \"Pantalon Kajolin\", \"https://www.galerieslafayette.com/p/pantalon+kajolin-galeries+lafayette/48819829/85\", 29,99, \"h\",1),\n",
      "(\"Petrol Industries\", \"Pantalon chino regular fit\", \"https://www.galerieslafayette.com/p/pantalon+chino+regular+fit-petrol+industries/49389568/71\", 29,97, \"h\",1),\n",
      "(\"Galeries Lafayette\", \"Pantalon chino Kadroit straight fit\", \"https://www.galerieslafayette.com/p/pantalon+chino+kadroit+straight+fit-galeries+lafayette/47955867/266\", 24,99, \"h\",1),\n",
      "(\"Galeries Lafayette\", \"Pantalon chino Kadroit straight fit\", \"https://www.galerieslafayette.com/p/pantalon+chino+kadroit+straight+fit-galeries+lafayette/47955867/101\", 24,99, \"h\",1),\n",
      "(\"Galeries Lafayette\", \"Pantalon chino Kalight slim fit\", \"https://www.galerieslafayette.com/p/pantalon+chino+kalight+slim+fit-galeries+lafayette/49237049/131\", 24,99, \"h\",1),\n",
      "(\"Galeries Lafayette\", \"Pantalon chino Kadroit straight fit\", \"https://www.galerieslafayette.com/p/pantalon+chino+kadroit+straight+fit-galeries+lafayette/47955867/401\", 24,99, \"h\",1),\n",
      "(\"Galeries Lafayette\", \"Pantalon chino Kaslim slim fit\", \"https://www.galerieslafayette.com/p/pantalon+chino+kaslim+slim+fit-galeries+lafayette/47955822/119\", 24,99, \"h\",1),\n",
      "(\"Galeries Lafayette\", \"Pantalon chino Kadroit straight fit\", \"https://www.galerieslafayette.com/p/pantalon+chino+kadroit+straight+fit-galeries+lafayette/47955867/119\", 24,99, \"h\",1),\n",
      "(\"Galeries Lafayette\", \"Pantalon chino Kalight slim fit\", \"https://www.galerieslafayette.com/p/pantalon+chino+kalight+slim+fit-galeries+lafayette/49237049/62\", 24,99, \"h\",1),\n",
      "(\"Napapijri\", \"Pantalon chino Mana Stretch\", \"https://www.galerieslafayette.com/p/pantalon+chino+mana+stretch-napapijri/49521183/393\", 49,50, \"h\",1),\n",
      "(\"Pull-In\", \"Pantalon homme DENING JUMP STATUE\", \"https://www.galerieslafayette.com/p/pantalon+homme+dening+jump+statue-pull-in/300403996364/230\", 99,00, \"h\",1),\n",
      "(\"Galeries Lafayette\", \"Pantalon chino Rarelax relaxed fit\", \"https://www.galerieslafayette.com/p/pantalon+chino+rarelax+relaxed+fit-galeries+lafayette/52764548/405\", 49,99, \"h\",1),\n",
      "(\"Scotch And Soda\", \"Pantalon chino slim\", \"https://www.galerieslafayette.com/p/pantalon+chino+slim-scotch+and+soda/49749156/103\", 44,50, \"h\",1),\n",
      "(\"Sandro\", \"Jeans Sandro slim fit\", \"https://www.galerieslafayette.com/p/jeans+sandro+slim+fit-sandro/41783501/230\", 145,00, \"h\",1),\n",
      "(\"Carhartt Wip\", \"Pantalon chino Sid slim fit\", \"https://www.galerieslafayette.com/p/pantalon+chino+sid+slim+fit-carhartt+wip/37719414/60\", 89,00, \"h\",1),\n",
      "(\"Dockers\", \"Bic Alpha Original Slim Tapered - Stretch Twill\", \"https://www.galerieslafayette.com/p/bic+alpha+original+slim+tapered+-+stretch+twill-dockers/33561506/62\", 95,00, \"h\",1),\n",
      "(\"Galeries Lafayette\", \"Pantalon chino Kaslim slim fit\", \"https://www.galerieslafayette.com/p/pantalon+chino+kaslim+slim+fit-galeries+lafayette/47955822/263\", 24,99, \"h\",1),\n",
      "(\"The Kooples\", \"Pantalon droit\", \"https://www.galerieslafayette.com/p/pantalon+droit-the+kooples/42980768/320\", 198,00, \"h\",1),\n",
      "(\"The Kooples Sport\", \"Pantalon de jogging en molleton\", \"https://www.galerieslafayette.com/p/pantalon+de+jogging+en+molleton-the+kooples+sport/43378856/244\", 140,00, \"h\",1),\n",
      "(\"Tommy Hilfiger\", \"Pantalon chino Denton straight fit\", \"https://www.galerieslafayette.com/p/pantalon+chino+denton+straight+fit-tommy+hilfiger/43277525/125\", 129,00, \"h\",1),\n",
      "(\"Schott\", \"Pantalon Schott\", \"https://www.galerieslafayette.com/p/pantalon+schott-schott/300402895203/60\", 59,50, \"h\",1),\n",
      "(\"Eleven Paris\", \"Pantalon Charlie\", \"https://www.galerieslafayette.com/p/pantalon+charlie-eleven+paris/92549963/405\", 34,50, \"h\",1),\n",
      "(\"Pull-In\", \"Pantalon homme DENING EPIC EPICDUSTY\", \"https://www.galerieslafayette.com/p/pantalon+homme+dening+epic+epicdusty-pull-in/300404152752/119\", 109,00, \"h\",1),\n",
      "(\"Dockers\", \"Clean Khaki Marina Slim Tapered - Stretch Twill\", \"https://www.galerieslafayette.com/p/clean+khaki+marina+slim+tapered+-+stretch+twill-dockers/33561300/435\", 95,00, \"h\",1),\n",
      "(\"Chevignon\", \"Pantalon Chino Slim à Pois\", \"https://www.galerieslafayette.com/p/pantalon+chino+slim+a+pois-chevignon/300404372424/125\", 72,00, \"h\",1),\n",
      "(\"Carhartt Wip\", \"Pantalon chino Sid slim fit\", \"https://www.galerieslafayette.com/p/pantalon+chino+sid+slim+fit-carhartt+wip/37719414/154\", 89,00, \"h\",1),\n",
      "(\"Dockers\", \"Pantalon Bic Alpha Original Slim \", \"https://www.galerieslafayette.com/p/pantalon+bic+alpha+original+slim-dockers/33561400/125\", 95,00, \"h\",1),\n",
      "(\"Carhartt Wip\", \"Pantalon chino Sid slim fit\", \"https://www.galerieslafayette.com/p/pantalon+chino+sid+slim+fit-carhartt+wip/37719414/320\", 89,00, \"h\",1),\n",
      "(\"The Kooples Sport\", \"Pantalon de jogging en molleton\", \"https://www.galerieslafayette.com/p/pantalon+de+jogging+en+molleton-the+kooples+sport/43378856/233\", 140,00, \"h\",1),\n",
      "(\"Sandro\", \"Pantalon taille élastique à teneur en laine\", \"https://www.galerieslafayette.com/p/pantalon+taille+elastique+a+teneur+en+laine-sandro/45968896/125\", 195,00, \"h\",1),\n",
      "(\"Polo Ralph Lauren\", \"Pantalon chino en coton stretch slim fit\", \"https://www.galerieslafayette.com/p/pantalon+chino+en+coton+stretch+slim+fit-polo+ralph+lauren/49890427/457\", 72,50, \"h\",1),\n",
      "(\"Dockers\", \"Best Pressed Insignia Extra Slim - Stretch Sateen\", \"https://www.galerieslafayette.com/p/best+pressed+insignia+extra+slim+-+stretch+sateen-dockers/33561331/125\", 105,00, \"h\",1),\n",
      "(\"G-Star\", \"Pantalon Bronson G Star x Pharrel Williams\", \"https://www.galerieslafayette.com/p/pantalon+bronson+g+star+x+pharrel+williams-g-star/45108659/127\", 139,95, \"h\",1),\n",
      "(\"Galeries Lafayette\", \"Pantalon chino Radroit straight fit\", \"https://www.galerieslafayette.com/p/pantalon+chino+radroit+straight+fit-galeries+lafayette/52764392/263, 49,99\", \"h\", 2);\n"
     ]
    }
   ],
   "source": [
    "length = (len(prix_hpant))\n",
    "print(\"INSERT INTO Vetement (marque, description, lien, prix, genre, temperature)\")\n",
    "print(\"VALUES\")\n",
    "for i in range(length-2):\n",
    "    print(\"(\\\"\"+marque_hpant[i]+\"\\\", \\\"\"+desc_hpant[i]+\"\\\", \\\"\"+lien_hpant[i]+\"\\\", \"+prix_hpant[i]+\", \\\"h\\\",1),\")\n",
    "print(\"(\\\"\"+marque_hpant[length-1]+\"\\\", \\\"\"+desc_hpant[length-1]+\"\\\", \\\"\"+lien_hpant[length-1]+\", \"+prix_hpant[length-1]+\"\\\", \\\"h\\\", 2);\")"
   ]
  },
  {
   "cell_type": "markdown",
   "metadata": {},
   "source": [
    "# SHORT"
   ]
  },
  {
   "cell_type": "code",
   "execution_count": null,
   "metadata": {},
   "outputs": [],
   "source": [
    "marque_hshort = []\n",
    "desc_hshort = []\n",
    "lien_hshort = []\n",
    "html = urlopen(\"https://www.galerieslafayette.com/c/homme-pret-a-porter-pantalons+et+shorts\")\n",
    "soup = BeautifulSoup(html, \"html.parser\")\n",
    "for marque in soup.find_all('strong',attrs={\"class\" :\"pdt-brand bold-large-title-marque one\"}):\n",
    "    marque_hshort.append((marque).get_text())\n",
    "\n",
    "for link in soup.find_all('a',class_=\"js-pdt-link js-recommendation-event\"):\n",
    "    lien_hshort.append(\"https://www.galerieslafayette.com\" + link.get('href'))\n",
    "for desc in soup.find_all('span',class_=\"pdt-name three\"):\n",
    "    desc_hshort.append((desc).get_text())\n",
    "    \n",
    "prix_hshort = []\n",
    "prix_hshort_temp = []\n",
    "\n",
    "for price in soup.find_all('span',attrs={\"class\" :\"price\"}):\n",
    "    prix_hshort_temp.append(re.findall(r\"\\d+,\\d{2}\",str(price)))\n",
    "for elem in prix_hshort_temp:\n",
    "    prix_hshort.append(\" \".join(elem)) "
   ]
  },
  {
   "cell_type": "code",
   "execution_count": null,
   "metadata": {},
   "outputs": [],
   "source": [
    "length = (len(prix_hshort))\n",
    "print(\"INSERT INTO Vetement (marque, description, lien, prix, genre, temperature)\")\n",
    "print(\"VALUES\")\n",
    "for i in range(length-2):\n",
    "    print(\"(\\\"\"+marque_hshort[i]+\"\\\", \\\"\"+desc_hshort[i]+\"\\\", \\\"\"+lien_hshort[i]+\"\\\", \"+prix_hshort[i]+\", \\\"h\\\",3),\")\n",
    "print(\"(\\\"\"+marque_hshort[length-1]+\"\\\", \\\"\"+desc_hshort[length-1]+\"\\\", \\\"\"+lien_hshort[length-1]+\", \"+prix_hshort[length-1]+\"\\\", \\\"h\\\", 3);\")"
   ]
  },
  {
   "cell_type": "markdown",
   "metadata": {},
   "source": [
    "# FEMME"
   ]
  },
  {
   "cell_type": "markdown",
   "metadata": {},
   "source": [
    "# T-SHIRT"
   ]
  },
  {
   "cell_type": "code",
   "execution_count": null,
   "metadata": {},
   "outputs": [],
   "source": [
    "marque_ftshirt = []\n",
    "desc_ftshirt = []\n",
    "lien_ftshirt = []\n",
    "prix_ftshirt = []\n",
    "html = urlopen(\"https://www.galerieslafayette.com/c/femme-pret-a-porter-tops+et+t-shirts/f/t-shirts\")\n",
    "soup = BeautifulSoup(html, \"html.parser\")\n",
    "for marque in soup.find_all('strong',attrs={\"class\" :\"pdt-brand bold-large-title-marque one\"}):\n",
    "    marque_ftshirt.append((marque).get_text())\n",
    "\n",
    "for link in soup.find_all('a',class_=\"js-pdt-link js-recommendation-event\"):\n",
    "    lien_ftshirt.append(\"https://www.galerieslafayette.com\" + link.get('href'))\n",
    "for desc in soup.find_all('span',class_=\"pdt-name three\"):\n",
    "    desc_ftshirt.append((desc).get_text())\n",
    "    \n",
    "prix_ftshirt = []\n",
    "prix_ftshirt_temp = []\n",
    "\n",
    "for price in soup.find_all('span',attrs={\"class\" :\"price promotion\"}):\n",
    "    prix_ftshirt_temp.append(re.findall(r\"\\d+,\\d{2}\",str(price)))\n",
    "for elem in prix_ftshirt_temp:\n",
    "    prix_ftshirt.append(\" \".join(elem))  "
   ]
  },
  {
   "cell_type": "markdown",
   "metadata": {},
   "source": [
    "# DEBARDEUR"
   ]
  },
  {
   "cell_type": "code",
   "execution_count": null,
   "metadata": {},
   "outputs": [],
   "source": [
    "marque_fdeb =[]\n",
    "desc_fdeb = []\n",
    "lien_fdeb = []\n",
    "html = urlopen(\"https://www.galerieslafayette.com/c/homme-pret-a-porter-t-shirts+et+polos/f/debardeurs\")\n",
    "soup = BeautifulSoup(html, \"html.parser\")\n",
    "for marque in soup.find_all('strong',attrs={\"class\" :\"pdt-brand bold-large-title-marque one\"}):\n",
    "    marque_fdeb.append((marque).get_text())\n",
    "\n",
    "for link in soup.find_all('a',class_=\"js-pdt-link js-recommendation-event\"):\n",
    "    lien_fdeb.append(\"https://www.galerieslafayette.com\" + link.get('href'))\n",
    "for desc in soup.find_all('span',class_=\"pdt-name three\"):\n",
    "    desc_fdeb.append((desc).get_text())\n",
    "\n",
    "prix_fdeb = []\n",
    "prix_fdeb_temp = []\n",
    "\n",
    "for price in soup.find_all('span',attrs={\"class\" :\"price promotion\"}):\n",
    "    prix_fdeb_temp.append(re.findall(r\"\\d+,\\d{2}\",str(price)))\n",
    "for elem in prix_fdeb_temp:\n",
    "    prix_fdeb.append(\" \".join(elem))  "
   ]
  },
  {
   "cell_type": "markdown",
   "metadata": {},
   "source": [
    "# PULL"
   ]
  },
  {
   "cell_type": "code",
   "execution_count": null,
   "metadata": {},
   "outputs": [],
   "source": [
    "marque_fpull = []\n",
    "desc_fpull = []\n",
    "lien_fpull = []\n",
    "html = urlopen(\"https://www.galerieslafayette.com/c/homme-pret-a-porter-maille\")\n",
    "soup = BeautifulSoup(html, \"html.parser\")\n",
    "for marque in soup.find_all('strong',attrs={\"class\" :\"pdt-brand bold-large-title-marque one\"}):\n",
    "    marque_fpull.append((marque).get_text())\n",
    "\n",
    "for link in soup.find_all('a',class_=\"js-pdt-link js-recommendation-event\"):\n",
    "    lien_fpull.append(\"https://www.galerieslafayette.com\" + link.get('href'))\n",
    "for desc in soup.find_all('span',class_=\"pdt-name three\"):\n",
    "    desc_fpull.append((desc).get_text())\n",
    "\n",
    "prix_fpull = []\n",
    "prix_fpull_temp = []\n",
    "\n",
    "for price in soup.find_all('span',attrs={\"class\" :\"price promotion\"}):\n",
    "    prix_fpull_temp.append(re.findall(r\"\\d+,\\d{2}\",str(price)))\n",
    "for elem in prix_ftpull_temp:\n",
    "    prix_fpull.append(\" \".join(elem))  "
   ]
  },
  {
   "cell_type": "markdown",
   "metadata": {},
   "source": [
    "# PANTALON"
   ]
  },
  {
   "cell_type": "code",
   "execution_count": null,
   "metadata": {},
   "outputs": [],
   "source": [
    "marque_fpant = []\n",
    "desc_fpant = []\n",
    "lien_fpant = []\n",
    "html = urlopen(\"https://www.galerieslafayette.com/c/femme-pret-a-porter-jeans\")\n",
    "soup = BeautifulSoup(html, \"html.parser\")\n",
    "for marque in soup.find_all('strong',attrs={\"class\" :\"pdt-brand bold-large-title-marque one\"}):\n",
    "    marque_fpant.append((marque).get_text())\n",
    "\n",
    "for link in soup.find_all('a',class_=\"js-pdt-link js-recommendation-event\"):\n",
    "    lien_fpant.append(\"https://www.galerieslafayette.com\" + link.get('href'))\n",
    "for desc in soup.find_all('span',class_=\"pdt-name three\"):\n",
    "    desc_fpant.append((desc).get_text())\n",
    "    \n",
    "prix_fpant = []\n",
    "prix_fpant_temp = []\n",
    "\n",
    "for price in soup.find_all('span',attrs={\"class\" :\"price promotion\"}):\n",
    "    prix_fpant_temp.append(re.findall(r\"\\d+,\\d{2}\",str(price)))\n",
    "for elem in prix_ftshirt_temp:\n",
    "    prix_fpant.append(\" \".join(elem))  "
   ]
  },
  {
   "cell_type": "markdown",
   "metadata": {},
   "source": [
    "# JUPE"
   ]
  },
  {
   "cell_type": "code",
   "execution_count": null,
   "metadata": {},
   "outputs": [],
   "source": [
    "marque_fjupe = []\n",
    "desc_fjupe = []\n",
    "lien_fjupe = []\n",
    "html = urlopen(\"https://www.galerieslafayette.com/c/femme-pret-a-porter-jupes\")\n",
    "soup = BeautifulSoup(html, \"html.parser\")\n",
    "for marque in soup.find_all('strong',attrs={\"class\" :\"pdt-brand bold-large-title-marque one\"}):\n",
    "    marque_fjupe.append((marque).get_text())\n",
    "\n",
    "for link in soup.find_all('a',class_=\"js-pdt-link js-recommendation-event\"):\n",
    "    lien_fjupe.append(\"https://www.galerieslafayette.com\" + link.get('href'))\n",
    "for desc in soup.find_all('span',class_=\"pdt-name three\"):\n",
    "    desc_fjupe.append((desc).get_text())\n",
    "    \n",
    "prix_fjupe = []\n",
    "prix_fjupe_temp = []\n",
    "\n",
    "for price in soup.find_all('span',attrs={\"class\" :\"price promotion\"}):\n",
    "    prix_fjupe_temp.append(re.findall(r\"\\d+,\\d{2}\",str(price)))\n",
    "for elem in prix_ftshirt_temp:\n",
    "    prix_fjupe.append(\" \".join(elem))  "
   ]
  },
  {
   "cell_type": "markdown",
   "metadata": {},
   "source": [
    "# PARAPLUIE"
   ]
  },
  {
   "cell_type": "code",
   "execution_count": null,
   "metadata": {},
   "outputs": [],
   "source": [
    "marque_para = []\n",
    "desc_para = []\n",
    "lien_para = []\n",
    "html = urlopen(\"https://www.galerieslafayette.com/s/parapluies+automatiques/f/parapluies+automatiques\")\n",
    "soup = BeautifulSoup(html, \"html.parser\")\n",
    "for marque in soup.find_all('strong',attrs={\"class\" :\"pdt-brand bold-large-title-marque one\"}):\n",
    "    marque_para.append((marque).get_text())\n",
    "\n",
    "for link in soup.find_all('a',class_=\"js-pdt-link js-recommendation-event\"):\n",
    "    lien_para.append(\"https://www.galerieslafayette.com\" + link.get('href'))\n",
    "for desc in soup.find_all('span',class_=\"pdt-name three\"):\n",
    "    desc_para.append((desc).get_text())\n",
    "\n",
    "prix_para = []\n",
    "prix_para_temp = []\n",
    "\n",
    "for price in soup.find_all('span',attrs={\"class\" :\"price promotion\"}):\n",
    "    prix_para_temp.append(re.findall(r\"\\d+,\\d{2}\",str(price)))\n",
    "for elem in prix_ftshirt_temp:\n",
    "    prix_para.append(\" \".join(elem)) "
   ]
  }
 ],
 "metadata": {
  "kernelspec": {
   "display_name": "Python 3",
   "language": "python",
   "name": "python3"
  },
  "language_info": {
   "codemirror_mode": {
    "name": "ipython",
    "version": 3
   },
   "file_extension": ".py",
   "mimetype": "text/x-python",
   "name": "python",
   "nbconvert_exporter": "python",
   "pygments_lexer": "ipython3",
   "version": "3.6.4"
  }
 },
 "nbformat": 4,
 "nbformat_minor": 2
}
