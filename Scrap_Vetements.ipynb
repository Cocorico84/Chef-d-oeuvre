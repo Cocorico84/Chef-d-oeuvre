{
 "cells": [
  {
   "cell_type": "code",
   "execution_count": 1,
   "metadata": {},
   "outputs": [],
   "source": [
    "from urllib.request import urlopen\n",
    "from bs4 import BeautifulSoup"
   ]
  },
  {
   "cell_type": "markdown",
   "metadata": {},
   "source": [
    "# HOMME"
   ]
  },
  {
   "cell_type": "markdown",
   "metadata": {},
   "source": [
    "# T-SHIRT"
   ]
  },
  {
   "cell_type": "code",
   "execution_count": 2,
   "metadata": {},
   "outputs": [
    {
     "name": "stdout",
     "output_type": "stream",
     "text": [
      "60\n",
      "60\n",
      "60\n",
      "60\n"
     ]
    }
   ],
   "source": [
    "#listes utilisé pour le scrapping\n",
    "marque_htshirt = []\n",
    "desc_htshirt = []\n",
    "lien_htshirt = []\n",
    "prix_htshirt = []\n",
    "\n",
    "#Utilisation de beautifulSoup avec l'HTML adapté\n",
    "html = urlopen('https://www.galerieslafayette.com/c/homme-pret-a-porter-t-shirts+et+polos/f/t-shirts')\n",
    "soup = BeautifulSoup(html, \"html.parser\")\n",
    "\n",
    "#Scrapping de la marque, lien et description des produits de la pages(ici T-shirt)\n",
    "for marque in soup.find_all('strong',attrs={'class' : 'pdt-brand bold-large-title-marque one'}):\n",
    "    marque_htshirt.append((marque).get_text())\n",
    "for link in soup.find_all('a',class_='js-pdt-link js-recommendation-event'):\n",
    "    lien_htshirt.append('https://www.galerieslafayette.com' + link.get('href'))\n",
    "for desc in soup.find_all('span',class_='pdt-name three'):\n",
    "    desc_htshirt.append((desc).get_text())\n",
    "\n",
    "\n",
    "prix_htshirt_temp = []\n",
    "#Scrapping du prix en normalisant avec le regex\n",
    "for price in soup.find_all('span',attrs={'class' :'price'}):\n",
    "    prix_htshirt_temp.append(re.findall(r'\\d+,\\d{2}',str(price)))\n",
    "for elem in prix_htshirt_temp:\n",
    "    prix_htshirt.append(' '.join(elem))  "
   ]
  },
  {
   "cell_type": "code",
   "execution_count": 4,
   "metadata": {},
   "outputs": [
    {
     "name": "stdout",
     "output_type": "stream",
     "text": [
      "INSERT INTO Vetement (marque, description, lien, prix, sexe, genre)\n",
      "VALUES\n",
      "('Eden Park', 'T-shirt droit uni col V\\, 'https://www.galerieslafayette.com/p/t-shirt+droit+uni+col+v-eden+park/33707270/125', 45,00, 'h', ts),\n",
      "('Calvin Klein', 'T-shirt Tronic\\, 'https://www.galerieslafayette.com/p/t-shirt+tronic-calvin+klein/48571349/320', 27,50, 'h', ts),\n",
      "('Replay', 'T-shirt droit en coton uni\\, 'https://www.galerieslafayette.com/p/t-shirt+droit+en+coton+uni-replay/54482861/140', 35,00, 'h', ts),\n",
      "('Calvin Klein', 'T-shirt en coton uni slim fit\\, 'https://www.galerieslafayette.com/p/t-shirt+en+coton+uni+slim+fit-calvin+klein/50689031/320', 22,50, 'h', ts),\n",
      "('Polo Ralph Lauren', 'T-shirt chiné\\, 'https://www.galerieslafayette.com/p/t-shirt+chine-polo+ralph+lauren/55252248/125', 59,00, 'h', ts),\n",
      "('Polo Ralph Lauren', 'T-shirt en coton custom slim fit\\, 'https://www.galerieslafayette.com/p/t-shirt+en+coton+custom+slim+fit-polo+ralph+lauren/55252268/101', 59,00, 'h', ts),\n",
      "('Polo Ralph Lauren', 'T-shirt uni à col V custom slim fit\\, 'https://www.galerieslafayette.com/p/t-shirt+uni+a+col+v+custom+slim+fit-polo+ralph+lauren/54492014/125', 59,00, 'h', ts),\n",
      "('Calvin Klein', 'T-shirt en coton uni slim fit\\, 'https://www.galerieslafayette.com/p/t-shirt+en+coton+uni+slim+fit-calvin+klein/50689031/125', 22,50, 'h', ts),\n",
      "('Eden Park', 'T-shirt droit uni col V\\, 'https://www.galerieslafayette.com/p/t-shirt+droit+uni+col+v-eden+park/33602813/385', 45,00, 'h', ts),\n",
      "('Polo Ralph Lauren', 'T-shirt à rayures contrastantes custom fit\\, 'https://www.galerieslafayette.com/p/t-shirt+a+rayures+contrastantes+custom+fit-polo+ralph+lauren/49889719/101', 41,30, 'h', ts),\n",
      "('Polo Ralph Lauren', 'T-shirt en coton logo\\, 'https://www.galerieslafayette.com/p/t-shirt+en+coton+logo-polo+ralph+lauren/49889659/103', 41,30, 'h', ts),\n",
      "('Polo Ralph Lauren', 'T-shirt en coton flammé à col V custom slim fit\\, 'https://www.galerieslafayette.com/p/t-shirt+en+coton+flamme+a+col+v+custom+slim+fit-polo+ralph+lauren/49889713/119', 41,30, 'h', ts),\n",
      "('Calvin Klein', 'T-shirt en coton à message\\, 'https://www.galerieslafayette.com/p/t-shirt+en+coton+a+message-calvin+klein/50068545/320', 20,00, 'h', ts),\n",
      "('G-Star', 'T-shirt Zost\\, 'https://www.galerieslafayette.com/p/t-shirt+zost-g-star/50069280/263', 19,96, 'h', ts),\n",
      "('Galeries Lafayette', 'T-shirt Mishev\\, 'https://www.galerieslafayette.com/p/t-shirt+mishev-galeries+lafayette/48362519/320', 7,49, 'h', ts),\n",
      "('Replay', 'T-shirt droit en coton uni\\, 'https://www.galerieslafayette.com/p/t-shirt+droit+en+coton+uni-replay/54482868/125', 35,00, 'h', ts),\n",
      "('The Kooples', 'T-shirt avec collier chaînette amovible à pendentif tête de mort\\, 'https://www.galerieslafayette.com/p/t-shirt+avec+collier+chainette+amovible+a+pendentif+tete+de+mort-the+kooples/49994548/85', 34,00, 'h', ts),\n",
      "('Polo Ralph Lauren', 'T-shirt print paysages en all over custom slim fit\\, 'https://www.galerieslafayette.com/p/t-shirt+print+paysages+en+all+over+custom+slim+fit-polo+ralph+lauren/49889779/2895', 34,50, 'h', ts),\n",
      "('Ikks', 'T-shirt rayé à col tunisien et manches longues\\, 'https://www.galerieslafayette.com/p/t-shirt+raye+a+col+tunisien+et+manches+longues-ikks/50030585/99', 34,00, 'h', ts),\n",
      "('Schott', 'T-shirt Schott\\, 'https://www.galerieslafayette.com/p/t-shirt+schott-schott/300404392427/92', 30,00, 'h', ts),\n",
      "('Galeries Lafayette', 'T-shirt Tishron\\, 'https://www.galerieslafayette.com/p/t-shirt+tishron-galeries+lafayette/52564413/85', 14,99, 'h', ts),\n",
      "('Levi'S', 'T-shirt Housemark Retro \\, 'https://www.galerieslafayette.com/p/t-shirt+housemark+retro-levi+s/54335746/125', 29,00, 'h', ts),\n",
      "('Marciano Guess', 'T-SHIRT MARCIANO LOGO\\, 'https://www.galerieslafayette.com/p/t-shirt+marciano+logo-marciano+guess/300405169361/85', 29,00, 'h', ts),\n",
      "('Harris Wilson', 'T-shirt Kome\\, 'https://www.galerieslafayette.com/p/t-shirt+kome-harris+wilson/50677497/206', 29,40, 'h', ts),\n",
      "('Guess', 'T-SHIRT LOGO TRIANGLE\\, 'https://www.galerieslafayette.com/p/t-shirt+logo+triangle-guess/300404195670/230', 29,90, 'h', ts),\n",
      "('Armani Exchange', 'T-shirt logotypé print floral loose fit\\, 'https://www.galerieslafayette.com/p/t-shirt+logotype+print+floral+loose+fit-armani+exchange/50589543/125', 29,50, 'h', ts),\n",
      "('Timberland', 'T-shirt col V\\, 'https://www.galerieslafayette.com/p/t-shirt+col+v-timberland/50322516/85', 29,00, 'h', ts),\n",
      "('La Compagnie du Lin', 'T-shirt droit en coton et lin à col V\\, 'https://www.galerieslafayette.com/p/t-shirt+droit+en+coton+et+lin+a+col+v-la+compagnie+du+lin/53979666/410', 27,30, 'h', ts),\n",
      "('Harris Wilson', 'T-shirt Kristian\\, 'https://www.galerieslafayette.com/p/t-shirt+kristian-harris+wilson/50677565/125', 27,00, 'h', ts),\n",
      "('Calvin Klein', 'T-shirt sérigraphié \\, 'https://www.galerieslafayette.com/p/t-shirt+serigraphie-calvin+klein/50068552/498', 27,50, 'h', ts),\n",
      "('Marc O’Polo', 'T-shirt droit en coton flammé\\, 'https://www.galerieslafayette.com/p/t-shirt+droit+en+coton+flamme-marc+o+polo/53372816/85', 26,96, 'h', ts),\n",
      "('Tommy Hilfiger', 'T-shirt en coton uni à flocage contrastant\\, 'https://www.galerieslafayette.com/p/t-shirt+en+coton+uni+a+flocage+contrastant-tommy+hilfiger/50597051/263', 25,20, 'h', ts),\n",
      "('Calvin Klein', 'T-shirt à lettrage en velours slim fit\\, 'https://www.galerieslafayette.com/p/t-shirt+a+lettrage+en+velours+slim+fit-calvin+klein/50689085/85', 24,50, 'h', ts),\n",
      "('Calvin Klein', 'T-shirt à rectangle contrastant siglé\\, 'https://www.galerieslafayette.com/p/t-shirt+a+rectangle+contrastant+sigle-calvin+klein/50689057/230', 24,50, 'h', ts),\n",
      "('Redskins', 'T-shirt Wire Calder\\, 'https://www.galerieslafayette.com/p/t-shirt+wire+calder-redskins/51216391/125', 24,50, 'h', ts),\n",
      "('Michael Kors', 'T-shirt en coton marinière\\, 'https://www.galerieslafayette.com/p/t-shirt+en+coton+mariniere-michael+kors/49543802/88', 24,50, 'h', ts),\n",
      "('Guess', 'POLO MANCHE LONGUE\\, 'https://www.galerieslafayette.com/p/polo+manche+longue-guess/300404156025/320', 24,50, 'h', ts),\n",
      "('Marc O’Polo', 'T-shirt en coton uni shaped fit\\, 'https://www.galerieslafayette.com/p/t-shirt+en+coton+uni+shaped+fit-marc+o+polo/53372803/204', 23,96, 'h', ts),\n",
      "('Napapijri', 'T-shirt Sancy\\, 'https://www.galerieslafayette.com/p/t-shirt+sancy-napapijri/49520876/356', 22,00, 'h', ts),\n",
      "('Napapijri', 'T-shirt Sancy\\, 'https://www.galerieslafayette.com/p/t-shirt+sancy-napapijri/49520876/104', 22,00, 'h', ts),\n",
      "('Calvin Klein', 'T-shirt Boros\\, 'https://www.galerieslafayette.com/p/t-shirt+boros-calvin+klein/50068657/320', 22,50, 'h', ts),\n",
      "('Scotch And Soda', 'T-shirt droit Capsule Felix le Chat\\, 'https://www.galerieslafayette.com/p/t-shirt+droit+capsule+felix+le+chat-scotch+and+soda/49386524/384', 22,50, 'h', ts),\n",
      "('Guess', 'T-SHIRT BOUTONS MICRO-MOTIF\\, 'https://www.galerieslafayette.com/p/t-shirt+boutons+micro-motif-guess/300404453218/101', 22,50, 'h', ts),\n",
      "('Calvin Klein', 'T-shirt en coton uni slim fit\\, 'https://www.galerieslafayette.com/p/t-shirt+en+coton+uni+slim+fit-calvin+klein/50689031/85', 22,50, 'h', ts),\n",
      "('Levi'S', 'T-shirt en coton logotypé\\, 'https://www.galerieslafayette.com/p/t-shirt+en+coton+logotype-levi+s/37375644/85', 20,00, 'h', ts),\n",
      "('Kaporal Jeans', 'T-shirt Loris\\, 'https://www.galerieslafayette.com/p/t-shirt+loris-kaporal+jeans/49900099/263', 19,50, 'h', ts),\n",
      "('Guess', 'T-SHIRT IMPRIME FRONTAL\\, 'https://www.galerieslafayette.com/p/t-shirt+imprime+frontal-guess/300404898161/320', 19,50, 'h', ts),\n",
      "('Guess', 'T-SHIRT COL EN V POCHE DE POITRINE\\, 'https://www.galerieslafayette.com/p/t-shirt+col+en+v+poche+de+poitrine-guess/300404898171/453', 19,50, 'h', ts),\n",
      "('Diesel', 'T-shirt T-Diego\\, 'https://www.galerieslafayette.com/p/t-shirt+t-diego-diesel/48812211/85', 19,50, 'h', ts),\n",
      "('Guess', 'T-SHIRT LOGO RELIEF PALMIER\\, 'https://www.galerieslafayette.com/p/t-shirt+logo+relief+palmier-guess/300405178594/101', 18,00, 'h', ts),\n",
      "('Chevignon', 'Tee Shirt Ml Straight Col Tunisien\\, 'https://www.galerieslafayette.com/p/tee+shirt+ml+straight+col+tunisien-chevignon/300404372475/320', 18,00, 'h', ts),\n",
      "('Sisley', 'T-shirt droit en coton flammé à col tunisien\\, 'https://www.galerieslafayette.com/p/t-shirt+droit+en+coton+flamme+a+col+tunisien-sisley/51314969/320', 17,40, 'h', ts),\n",
      "('G-Star', 'T-shirt Bellar\\, 'https://www.galerieslafayette.com/p/t-shirt+bellar-g-star/52614857/125', 17,50, 'h', ts),\n",
      "('Sisley', 'T-shirt manches longues en coton flammé\\, 'https://www.galerieslafayette.com/p/t-shirt+manches+longues+en+coton+flamme-sisley/51314944/125', 17,40, 'h', ts),\n",
      "('Teddy Smith', 'T-shirt Ticlass\\, 'https://www.galerieslafayette.com/p/t-shirt+ticlass-teddy+smith/49291780/99', 17,50, 'h', ts),\n",
      "('Sisley', 'T-shirt droit en coton flammé à col tunisien\\, 'https://www.galerieslafayette.com/p/t-shirt+droit+en+coton+flamme+a+col+tunisien-sisley/51314969/85', 17,40, 'h', ts),\n",
      "('Teddy Smith', 'T-shirt Ticlass\\, 'https://www.galerieslafayette.com/p/t-shirt+ticlass-teddy+smith/49291780/401', 17,50, 'h', ts),\n",
      "('Sisley', 'T-shirt droit en coton flammé\\, 'https://www.galerieslafayette.com/p/t-shirt+droit+en+coton+flamme-sisley/43319898/85', 17,40, 'h', ts),\n",
      "('Kaporal Jeans', 'T-shirt Habot', 'https://www.galerieslafayette.com/p/t-shirt+habot-kaporal+jeans/49900035/125, 17,50', 'h', ts);\n"
     ]
    }
   ],
   "source": [
    "length = (len(prix_htshirt))\n",
    "print('INSERT INTO Vetement (marque, description, lien, prix, sexe, genre)')\n",
    "print('VALUES')\n",
    "for i in range(length-2):\n",
    "    print('(\\''+marque_htshirt[i]+'\\', \\''+desc_htshirt[i]+'\\, \\''+lien_htshirt[i]+'\\', '+prix_htshirt[i]+', \\'h\\', ts),')\n",
    "print('(\\''+marque_htshirt[length-1]+'\\', \\''+desc_htshirt[length-1]+'\\', \\''+lien_htshirt[length-1]+', '+prix_htshirt[length-1]+'\\', \\'h\\', ts);')"
   ]
  },
  {
   "cell_type": "markdown",
   "metadata": {},
   "source": [
    "# DEBARDEUR"
   ]
  },
  {
   "cell_type": "code",
   "execution_count": 6,
   "metadata": {},
   "outputs": [
    {
     "name": "stdout",
     "output_type": "stream",
     "text": [
      "7\n",
      "7\n",
      "7\n",
      "7\n",
      "7\n"
     ]
    }
   ],
   "source": [
    "marque_hdeb = []\n",
    "desc_hdeb = []\n",
    "lien_hdeb = []\n",
    "html = urlopen(\"https://www.galerieslafayette.com/c/homme-pret-a-porter-t-shirts+et+polos/f/debardeurs\")\n",
    "soup = BeautifulSoup(html, \"html.parser\")\n",
    "for marque in soup.find_all('strong',attrs={\"class\" :\"pdt-brand bold-large-title-marque one\"}):\n",
    "    marque_hdeb.append((marque).get_text())\n",
    "\n",
    "for link in soup.find_all('a',class_=\"js-pdt-link js-recommendation-event\"):\n",
    "    lien_hdeb.append(\"https://www.galerieslafayette.com\" + link.get('href'))\n",
    "for desc in soup.find_all('span',class_=\"pdt-name three\"):\n",
    "    desc_hdeb.append((desc).get_text())\n",
    "    \n",
    "prix_hdeb = []\n",
    "prix_hdeb_temp = []\n",
    "\n",
    "for price in soup.find_all('span',attrs={\"class\" :\"price\"}):\n",
    "    prix_hdeb_temp.append(re.findall(r\"\\d+,\\d{2}\",str(price)))\n",
    "for elem in prix_hdeb_temp:\n",
    "    prix_hdeb.append(\" \".join(elem)) \n",
    "\n",
    "print(len(marque_hdeb))\n",
    "print(len(desc_hdeb))\n",
    "print(len(lien_hdeb))\n",
    "print(len(prix_hdeb))\n",
    "print(len(prix_hdeb_temp))"
   ]
  },
  {
   "cell_type": "code",
   "execution_count": 7,
   "metadata": {},
   "outputs": [
    {
     "name": "stdout",
     "output_type": "stream",
     "text": [
      "INSERT INTO Vetement (marque, description, lien, prix, sexe, genre)\n",
      "VALUES\n",
      "('Impetus', 'Débardeur en coton stretch', 'https://www.galerieslafayette.com/p/debardeur+en+coton+stretch-impetus/28038030/320', 21,90, 'h', deb),\n",
      "('Satisfy', 'Débardeur de running en nylon ajouré', 'https://www.galerieslafayette.com/p/debardeur+de+running+en+nylon+ajoure-satisfy/49226035/320', 60,00, 'h', deb),\n",
      "('Satisfy', 'Débardeur de running ajouré print homme', 'https://www.galerieslafayette.com/p/debardeur+de+running+ajoure+print+homme-satisfy/49226029/85', 60,00, 'h', deb),\n",
      "('Guy De Berac', 'Débardeur droit sans manche en laine', 'https://www.galerieslafayette.com/p/debardeur+droit+sans+manche+en+laine-guy+de+berac/33937046/2917', 85,00, 'h', deb),\n",
      "('Scotch And Soda', 'Débardeur droit uni en coton', 'https://www.galerieslafayette.com/p/debardeur+droit+uni+en+coton-scotch+and+soda/49749589/320', 17,50, 'h', deb),\n",
      "('Volcom', 'Débardeur Sherwood', 'https://www.galerieslafayette.com/p/debardeur+sherwood-volcom/300404699437/320, 20,00', 'h', deb);\n"
     ]
    }
   ],
   "source": [
    "length = (len(prix_hdeb))\n",
    "print('INSERT INTO Vetement (marque, description, lien, prix, sexe, genre)')\n",
    "print('VALUES')\n",
    "for i in range(length-2):\n",
    "    print('(\\''+marque_hdeb[i]+'\\', \\''+desc_hdeb[i]+'\\', \\''+lien_hdeb[i]+'\\', '+prix_hdeb[i]+', \\'h\\', deb),')\n",
    "print('(\\''+marque_hdeb[length-1]+'\\', \\''+desc_hdeb[length-1]+'\\', \\''+lien_hdeb[length-1]+', '+prix_hdeb[length-1]+'\\', \\'h\\', deb);')"
   ]
  },
  {
   "cell_type": "markdown",
   "metadata": {},
   "source": [
    "# PULL"
   ]
  },
  {
   "cell_type": "code",
   "execution_count": null,
   "metadata": {},
   "outputs": [],
   "source": [
    "marque_hpull = []\n",
    "desc_hpull = []\n",
    "lien_hpull = []\n",
    "html = urlopen(\"https://www.galerieslafayette.com/c/homme-pret-a-porter-maille\")\n",
    "soup = BeautifulSoup(html, \"html.parser\")\n",
    "for marque in soup.find_all('strong',attrs={\"class\" :\"pdt-brand bold-large-title-marque one\"}):\n",
    "    marque_hpull.append((marque).get_text())\n",
    "\n",
    "for link in soup.find_all('a',class_=\"js-pdt-link js-recommendation-event\"):\n",
    "    lien_hpull.append(\"https://www.galerieslafayette.com\" + link.get('href'))\n",
    "for desc in soup.find_all('span',class_=\"pdt-name three\"):\n",
    "    desc_hpull.append((desc).get_text())\n",
    "\n",
    "prix_hpull = []\n",
    "prix_hpull_temp = []\n",
    "\n",
    "for price in soup.find_all('span',attrs={\"class\" :\"price promotion\"}):\n",
    "    prix_hpull_temp.append(re.findall(r\"\\d+,\\d{2}\",str(price)))\n",
    "for elem in prix_hpull_temp:\n",
    "    prix_hpull.append(\" \".join(elem)) "
   ]
  },
  {
   "cell_type": "code",
   "execution_count": null,
   "metadata": {},
   "outputs": [],
   "source": [
    "length = (len(prix_hpull))\n",
    "print('INSERT INTO Vetement (marque, description, lien, prix, sexe, genre)')\n",
    "print('VALUES')\n",
    "for i in range(length-2):\n",
    "    print('(\\''+marque_hdeb[i]+'\\', \\''+desc_hdeb[i]+'\\', \\''+lien_hdeb[i]+'\\', '+prix_hdeb[i]+', \\'h\\', pull),')\n",
    "print('(\\''+marque_hdeb[length-1]+'\\', \\''+desc_hdeb[length-1]+'\\', \\''+lien_hdeb[length-1]+', '+prix_hdeb[length-1]+'\\', \\'h\\', pull);')"
   ]
  },
  {
   "cell_type": "markdown",
   "metadata": {},
   "source": [
    "# PANTALON"
   ]
  },
  {
   "cell_type": "code",
   "execution_count": 12,
   "metadata": {},
   "outputs": [],
   "source": [
    "marque_hpant = []\n",
    "desc_hpant = []\n",
    "lien_hpant = []\n",
    "html = urlopen(\"https://www.galerieslafayette.com/c/homme-pret-a-porter-pantalons+et+shorts\")\n",
    "soup = BeautifulSoup(html, \"html.parser\")\n",
    "for marque in soup.find_all('strong',attrs={\"class\" :\"pdt-brand bold-large-title-marque one\"}):\n",
    "    marque_hpant.append((marque).get_text())\n",
    "\n",
    "for link in soup.find_all('a',class_=\"js-pdt-link js-recommendation-event\"):\n",
    "    lien_hpant.append(\"https://www.galerieslafayette.com\" + link.get('href'))\n",
    "for desc in soup.find_all('span',class_=\"pdt-name three\"):\n",
    "    desc_hpant.append((desc).get_text())\n",
    "    \n",
    "prix_hpant = []\n",
    "prix_hpant_temp = []\n",
    "\n",
    "for price in soup.find_all('span',attrs={\"class\" :\"price\"}):\n",
    "    prix_hpant_temp.append(re.findall(r\"\\d+,\\d{2}\",str(price)))\n",
    "for elem in prix_hpant_temp:\n",
    "    prix_hpant.append(\" \".join(elem)) "
   ]
  },
  {
   "cell_type": "code",
   "execution_count": 13,
   "metadata": {},
   "outputs": [
    {
     "name": "stdout",
     "output_type": "stream",
     "text": [
      "INSERT INTO Vetement (marque, description, lien, prix, sexe, genre)\n",
      "VALUES\n",
      "('The Kooples', 'Pantalon de costume Psychedelic Diamond', 'https://www.galerieslafayette.com/p/pantalon+de+costume+psychedelic+diamond-the+kooples/49994228/101', 99,00, 'h', 'pant'),\n",
      "('The Kooples', 'Pantalon chino coupe carotte', 'https://www.galerieslafayette.com/p/pantalon+chino+coupe+carotte-the+kooples/49920731/320', 79,00, 'h', 'pant'),\n",
      "('The Kooples', 'Pantalon chino en laine fitted', 'https://www.galerieslafayette.com/p/pantalon+chino+en+laine+fitted-the+kooples/49994287/320', 99,00, 'h', 'pant'),\n",
      "('Marciano Guess', 'PANTALON MARCIANO CORDELETTE', 'https://www.galerieslafayette.com/p/pantalon+marciano+cordelette-marciano+guess/300404422529/278', 41,50, 'h', 'pant'),\n",
      "('Tommy Hilfiger', 'Pantalon chino à micro losanges slim fit', 'https://www.galerieslafayette.com/p/pantalon+chino+a+micro+losanges+slim+fit-tommy+hilfiger/50633527/230', 75,00, 'h', 'pant'),\n",
      "('Polo Ralph Lauren', 'Pantalon chino en coton', 'https://www.galerieslafayette.com/p/pantalon+chino+en+coton-polo+ralph+lauren/49890440/104', 72,50, 'h', 'pant'),\n",
      "('Eden Park', 'Pantalon chino en coton regular fit', 'https://www.galerieslafayette.com/p/pantalon+chino+en+coton+regular+fit-eden+park/52310291/72', 72,50, 'h', 'pant'),\n",
      "('Chevignon', 'Pantalon Chino Straight Coton Lin', 'https://www.galerieslafayette.com/p/pantalon+chino+straight+coton+lin-chevignon/300404677477/204', 63,00, 'h', 'pant'),\n",
      "('Ikks', 'Pantalon uni à revers slim fit', 'https://www.galerieslafayette.com/p/pantalon+uni+a+revers+slim+fit-ikks/50029839/119', 62,00, 'h', 'pant'),\n",
      "('El Ganso', 'Pantalon chino uni ', 'https://www.galerieslafayette.com/p/pantalon+chino+uni-el+ganso/51149393/230', 55,00, 'h', 'pant'),\n",
      "('Scotch And Soda', 'Pantalon chino slim', 'https://www.galerieslafayette.com/p/pantalon+chino+slim-scotch+and+soda/49749142/119', 54,50, 'h', 'pant'),\n",
      "('Timberland', 'Pantalon chino', 'https://www.galerieslafayette.com/p/pantalon+chino-timberland/50322075/62', 53,40, 'h', 'pant'),\n",
      "('Napapijri', 'Pantalon chino Mana Stretch', 'https://www.galerieslafayette.com/p/pantalon+chino+mana+stretch-napapijri/49521183/85', 49,50, 'h', 'pant'),\n",
      "('Polo Ralph Lauren', 'Pantalon chino slim', 'https://www.galerieslafayette.com/p/pantalon+chino+slim-polo+ralph+lauren/49910467/101', 49,50, 'h', 'pant'),\n",
      "('Scotch And Soda', 'Pantalon chino slim', 'https://www.galerieslafayette.com/p/pantalon+chino+slim-scotch+and+soda/49749156/306', 44,50, 'h', 'pant'),\n",
      "('Guess', 'JOGGING LOGO TRIANGULAIRE', 'https://www.galerieslafayette.com/p/jogging+logo+triangulaire-guess/300404324287/230', 39,50, 'h', 'pant'),\n",
      "('Element', 'Pantalon chino Krewson slim fit', 'https://www.galerieslafayette.com/p/pantalon+chino+krewson+slim+fit-element/48958120/279', 32,50, 'h', 'pant'),\n",
      "('Galeries Lafayette', 'Pantalon Kajolin', 'https://www.galerieslafayette.com/p/pantalon+kajolin-galeries+lafayette/48819829/125', 29,99, 'h', 'pant'),\n",
      "('Galeries Lafayette', 'Pantalon chino Kadroit straight fit', 'https://www.galerieslafayette.com/p/pantalon+chino+kadroit+straight+fit-galeries+lafayette/47955867/119', 24,99, 'h', 'pant'),\n",
      "('Galeries Lafayette', 'Pantalon chino Kaslim slim fit', 'https://www.galerieslafayette.com/p/pantalon+chino+kaslim+slim+fit-galeries+lafayette/47955822/119', 24,99, 'h', 'pant'),\n",
      "('Lacoste', 'Pantalon chino slim fit', 'https://www.galerieslafayette.com/p/pantalon+chino+slim+fit-lacoste/49796676/104', 77,00, 'h', 'pant'),\n",
      "('The Kooples', 'Pantalon chino coupe carotte', 'https://www.galerieslafayette.com/p/pantalon+chino+coupe+carotte-the+kooples/49920731/125', 79,00, 'h', 'pant'),\n",
      "('Sandro', 'Pantalon de ville à ceinture contrastante', 'https://www.galerieslafayette.com/p/pantalon+de+ville+a+ceinture+contrastante-sandro/50037402/125', 157,50, 'h', 'pant'),\n",
      "('Polo Ralph Lauren', 'Pantalon chino en coton stretch slim fit', 'https://www.galerieslafayette.com/p/pantalon+chino+en+coton+stretch+slim+fit-polo+ralph+lauren/46333870/453', 139,00, 'h', 'pant'),\n",
      "('Galeries Lafayette', 'Pantalon Tarpent ', 'https://www.galerieslafayette.com/p/pantalon+tarpent-galeries+lafayette/53230065/320', 49,99, 'h', 'pant'),\n",
      "('G-Star', 'Pantalon Aefon 3D tapered fit', 'https://www.galerieslafayette.com/p/pantalon+aefon+3d+tapered+fit-g-star/50069062/264', 64,96, 'h', 'pant'),\n",
      "('Dockers', 'Clean Khaki Marina Slim Tapered - Stretch Twill', 'https://www.galerieslafayette.com/p/clean+khaki+marina+slim+tapered+-+stretch+twill-dockers/33561305/60', 95,00, 'h', 'pant'),\n",
      "('Pull-In', 'Pantalon homme DENING JUMP CROW', 'https://www.galerieslafayette.com/p/pantalon+homme+dening+jump+crow-pull-in/300403998616/320', 59,40, 'h', 'pant'),\n",
      "('El Ganso', 'Pantalon chino coton, taille haute', 'https://www.galerieslafayette.com/p/pantalon+chino+coton+taille+haute-el+ganso/47467271/263', 85,00, 'h', 'pant'),\n",
      "('Napapijri', 'Pantalon chino Mana Stretch', 'https://www.galerieslafayette.com/p/pantalon+chino+mana+stretch-napapijri/49521183/104', 49,50, 'h', 'pant'),\n",
      "('Polo Ralph Lauren', 'Pantalon chino stretch slim fit', 'https://www.galerieslafayette.com/p/pantalon+chino+stretch+slim+fit-polo+ralph+lauren/49889861/119', 72,50, 'h', 'pant'),\n",
      "('One Step', 'Pantalon chino casual fit', 'https://www.galerieslafayette.com/p/pantalon+chino+casual+fit-one+step/50731465/357', 47,50, 'h', 'pant'),\n",
      "('Pull-In', 'Pantalon homme DENING JUMP CEDAR', 'https://www.galerieslafayette.com/p/pantalon+homme+dening+jump+cedar-pull-in/300403998776/263', 99,00, 'h', 'pant'),\n",
      "('The Kooples Sport', 'Pantalon de jogging en molleton', 'https://www.galerieslafayette.com/p/pantalon+de+jogging+en+molleton-the+kooples+sport/43378856/233', 140,00, 'h', 'pant'),\n",
      "('Pull-In', 'Pantalon homme DENING EPIC MOOD', 'https://www.galerieslafayette.com/p/pantalon+homme+dening+epic+mood-pull-in/300403998728/119', 77,40, 'h', 'pant'),\n",
      "('The Kooples', 'Pantalon imprimé rétro fitted THE KOOPLES x SUNRISE', 'https://www.galerieslafayette.com/p/pantalon+imprime+retro+fitted+the+kooples+x+sunrise-the+kooples/45448505/3025', 198,00, 'h', 'pant'),\n",
      "('El Ganso', 'Pantalon chino coton, taille haute', 'https://www.galerieslafayette.com/p/pantalon+chino+coton+taille+haute-el+ganso/47467271/123', 85,00, 'h', 'pant'),\n",
      "('Pull-In', 'Pantalon homme DENING EPIC WORN', 'https://www.galerieslafayette.com/p/pantalon+homme+dening+epic+worn-pull-in/300404152720/230', 59,40, 'h', 'pant'),\n",
      "('Galeries Lafayette', 'Pantalon chino Kaslim slim fit', 'https://www.galerieslafayette.com/p/pantalon+chino+kaslim+slim+fit-galeries+lafayette/47955822/233', 24,99, 'h', 'pant'),\n",
      "('Polo Ralph Lauren', 'Pantalon chino 7/8', 'https://www.galerieslafayette.com/p/pantalon+chino+7+8-polo+ralph+lauren/49890404/101', 72,50, 'h', 'pant'),\n",
      "('Scotch And Soda', 'Pantalon à pinces Blake slim fit', 'https://www.galerieslafayette.com/p/pantalon+a+pinces+blake+slim+fit-scotch+and+soda/49749207/60', 49,50, 'h', 'pant'),\n",
      "('Tommy Hilfiger', 'Pantalon en laine slim fit', 'https://www.galerieslafayette.com/p/pantalon+en+laine+slim+fit-tommy+hilfiger/50633476/233', 85,00, 'h', 'pant'),\n",
      "('Chevignon', 'Pantalon Chino Slim', 'https://www.galerieslafayette.com/p/pantalon+chino+slim-chevignon/300404346509/401', 55,00, 'h', 'pant'),\n",
      "('La Compagnie du Lin', 'Pantalon droit en lin', 'https://www.galerieslafayette.com/p/pantalon+droit+en+lin-la+compagnie+du+lin/53979699/85', 80,00, 'h', 'pant'),\n",
      "('Tommy Hilfiger', 'Pantalon chino en coton stretch extra slim fit', 'https://www.galerieslafayette.com/p/pantalon+chino+en+coton+stretch+extra+slim+fit-tommy+hilfiger/50633444/85', 65,00, 'h', 'pant'),\n",
      "('Galeries Lafayette', 'Pantalon chino Kaslim slim fit', 'https://www.galerieslafayette.com/p/pantalon+chino+kaslim+slim+fit-galeries+lafayette/47955822/145', 24,99, 'h', 'pant'),\n",
      "('Tommy Hilfiger', 'Pantalon chino Denton stretch straight fit', 'https://www.galerieslafayette.com/p/pantalon+chino+denton+stretch+straight+fit-tommy+hilfiger/53688395/125', 129,00, 'h', 'pant'),\n",
      "('Dockers', 'Clean Khaki Marina Slim Tapered - Stretch Twill', 'https://www.galerieslafayette.com/p/clean+khaki+marina+slim+tapered+-+stretch+twill-dockers/33561344/320', 95,00, 'h', 'pant'),\n",
      "('Galeries Lafayette', 'Pantalon chino Raslim ', 'https://www.galerieslafayette.com/p/pantalon+chino+raslim-galeries+lafayette/52764507/57071', 49,99, 'h', 'pant'),\n",
      "('The Kooples Sport', 'Pantalon de jogging en molleton', 'https://www.galerieslafayette.com/p/pantalon+de+jogging+en+molleton-the+kooples+sport/43378856/320', 140,00, 'h', 'pant'),\n",
      "('Polo Ralph Lauren', 'Pantalon chino stretch slim fit', 'https://www.galerieslafayette.com/p/pantalon+chino+stretch+slim+fit-polo+ralph+lauren/48929510/244', 72,50, 'h', 'pant'),\n",
      "('El Ganso', 'Pantalon chino délavé', 'https://www.galerieslafayette.com/p/pantalon+chino+delave-el+ganso/51150824/125', 59,00, 'h', 'pant'),\n",
      "('Sandro', 'Jeans Sandro slim fit', 'https://www.galerieslafayette.com/p/jeans+sandro+slim+fit-sandro/41783501/230', 145,00, 'h', 'pant'),\n",
      "('Agnes B.', 'jeans ringo denim', 'https://www.galerieslafayette.com/p/jeans+ringo+denim-agnes+b+/300404078569/101', 160,00, 'h', 'pant'),\n",
      "('Schott', 'Pantalon Schott', 'https://www.galerieslafayette.com/p/pantalon+schott-schott/300404392344/85', 59,50, 'h', 'pant'),\n",
      "('Dockers', 'Best Pressed Insignia Extra Slim - Stretch Sateen', 'https://www.galerieslafayette.com/p/best+pressed+insignia+extra+slim+-+stretch+sateen-dockers/33561371/320', 105,00, 'h', 'pant'),\n",
      "('Napapijri', 'Pantalon chino Mana Stretch', 'https://www.galerieslafayette.com/p/pantalon+chino+mana+stretch-napapijri/49521183/62', 49,50, 'h', 'pant'),\n",
      "('Pull-In', 'Pantalon homme DENING JUMP JUMPTOBACCO', 'https://www.galerieslafayette.com/p/pantalon+homme+dening+jump+jumptobacco-pull-in/300404152768/278', 69,30, 'h', 'pant'),\n",
      "('Replay', 'Pantalon chino Zeumar slim fit', 'https://www.galerieslafayette.com/p/pantalon+chino+zeumar+slim+fit-replay/54482530/119, 149,00', 'h', 'pant');\n"
     ]
    }
   ],
   "source": [
    "length = (len(prix_hpant))\n",
    "print('INSERT INTO Vetement (marque, description, lien, prix, sexe, genre)')\n",
    "print('VALUES')\n",
    "for i in range(length-2):\n",
    "    print('(\\''+marque_hpant[i]+'\\', \\''+desc_hpant[i]+'\\', \\''+lien_hpant[i]+'\\', '+prix_hpant[i]+', \\'h\\', \\'pant\\'),')\n",
    "print('(\\''+marque_hpant[length-1]+'\\', \\''+desc_hpant[length-1]+'\\', \\''+lien_hpant[length-1]+', '+prix_hpant[length-1]+'\\', \\'h\\', \\'pant\\');')"
   ]
  },
  {
   "cell_type": "markdown",
   "metadata": {},
   "source": [
    "# SHORT"
   ]
  },
  {
   "cell_type": "code",
   "execution_count": null,
   "metadata": {},
   "outputs": [],
   "source": [
    "marque_hshort = []\n",
    "desc_hshort = []\n",
    "lien_hshort = []\n",
    "html = urlopen(\"https://www.galerieslafayette.com/c/homme-pret-a-porter-pantalons+et+shorts\")\n",
    "soup = BeautifulSoup(html, \"html.parser\")\n",
    "for marque in soup.find_all('strong',attrs={\"class\" :\"pdt-brand bold-large-title-marque one\"}):\n",
    "    marque_hshort.append((marque).get_text())\n",
    "\n",
    "for link in soup.find_all('a',class_=\"js-pdt-link js-recommendation-event\"):\n",
    "    lien_hshort.append(\"https://www.galerieslafayette.com\" + link.get('href'))\n",
    "for desc in soup.find_all('span',class_=\"pdt-name three\"):\n",
    "    desc_hshort.append((desc).get_text())\n",
    "\n",
    "prix_hshort = []\n",
    "prix_hshort_temp = []\n",
    "\n",
    "for price in soup.find_all('span',attrs={\"class\" :\"price\"}):\n",
    "    prix_hshort_temp.append(re.findall(r\"\\d+,\\d{2}\",str(price)))\n",
    "for elem in prix_hshort_temp:\n",
    "    prix_hshort.append(\" \".join(elem)) "
   ]
  },
  {
   "cell_type": "code",
   "execution_count": null,
   "metadata": {},
   "outputs": [],
   "source": [
    "length = (len(prix_hshort))\n",
    "print('INSERT INTO Vetement (marque, description, lien, prix, sexe, genre)')\n",
    "print('VALUES')\n",
    "for i in range(length-2):\n",
    "    print('(\\''+marque_hshort[i]+'\\', \\''+desc_hshort[i]+'\\', \\''+lien_hshort[i]+'\\', '+prix_hshort[i]+', \\'h\\', \\'short\\'),')\n",
    "print('(\\''+marque_hshort[length-1]+'\\', \\''+desc_hshort[length-1]+'\\', \\''+lien_hshort[length-1]+', '+prix_hshort[length-1]+\"\\', \\'h\\', \\'short\\');')"
   ]
  },
  {
   "cell_type": "markdown",
   "metadata": {},
   "source": [
    "# FEMME"
   ]
  },
  {
   "cell_type": "markdown",
   "metadata": {},
   "source": [
    "# T-SHIRT"
   ]
  },
  {
   "cell_type": "code",
   "execution_count": null,
   "metadata": {},
   "outputs": [],
   "source": [
    "marque_ftshirt = []\n",
    "desc_ftshirt = []\n",
    "lien_ftshirt = []\n",
    "prix_ftshirt = []\n",
    "html = urlopen(\"https://www.galerieslafayette.com/c/femme-pret-a-porter-tops+et+t-shirts/f/t-shirts\")\n",
    "soup = BeautifulSoup(html, \"html.parser\")\n",
    "for marque in soup.find_all('strong',attrs={\"class\" :\"pdt-brand bold-large-title-marque one\"}):\n",
    "    marque_ftshirt.append((marque).get_text())\n",
    "\n",
    "for link in soup.find_all('a',class_=\"js-pdt-link js-recommendation-event\"):\n",
    "    lien_ftshirt.append(\"https://www.galerieslafayette.com\" + link.get('href'))\n",
    "for desc in soup.find_all('span',class_=\"pdt-name three\"):\n",
    "    desc_ftshirt.append((desc).get_text())\n",
    "    \n",
    "prix_ftshirt = []\n",
    "prix_ftshirt_temp = []\n",
    "\n",
    "for price in soup.find_all('span',attrs={\"class\" :\"price\"}):\n",
    "    prix_ftshirt_temp.append(re.findall(r\"\\d+,\\d{2}\",str(price)))\n",
    "for elem in prix_ftshirt_temp:\n",
    "    prix_ftshirt.append(\" \".join(elem))  "
   ]
  },
  {
   "cell_type": "code",
   "execution_count": null,
   "metadata": {},
   "outputs": [],
   "source": [
    "length = (len(prix_ftshirt))\n",
    "print('INSERT INTO Vetement (marque, description, lien, prix, sexe, genre)')\n",
    "print('VALUES')\n",
    "for i in range(length-2):\n",
    "    print('(\\''+marque_ftshirt[i]+'\\', \\''+desc_ftshirt[i]+'\\', \\''+lien_ftshirt[i]+'\\', '+prix_ftshirt[i]+', \\'f\\', \\'ts\\'),')\n",
    "print('(\\''+marque_ftshirt[length-1]+'\\', \\''+desc_ftshirt[length-1]+'\\', \\''+lien_ftshirt[length-1]+', '+prix_ftshirt[length-1]+'\\', \\'f\\', \\'ts\\');')"
   ]
  },
  {
   "cell_type": "markdown",
   "metadata": {},
   "source": [
    "# DEBARDEUR"
   ]
  },
  {
   "cell_type": "code",
   "execution_count": 14,
   "metadata": {},
   "outputs": [],
   "source": [
    "marque_fdeb =[]\n",
    "desc_fdeb = []\n",
    "lien_fdeb = []\n",
    "html = urlopen(\"https://www.galerieslafayette.com/c/homme-pret-a-porter-t-shirts+et+polos/f/debardeurs\")\n",
    "soup = BeautifulSoup(html, \"html.parser\")\n",
    "for marque in soup.find_all('strong',attrs={\"class\" :\"pdt-brand bold-large-title-marque one\"}):\n",
    "    marque_fdeb.append((marque).get_text())\n",
    "\n",
    "for link in soup.find_all('a',class_=\"js-pdt-link js-recommendation-event\"):\n",
    "    lien_fdeb.append(\"https://www.galerieslafayette.com\" + link.get('href'))\n",
    "for desc in soup.find_all('span',class_=\"pdt-name three\"):\n",
    "    desc_fdeb.append((desc).get_text())\n",
    "\n",
    "prix_fdeb = []\n",
    "prix_fdeb_temp = []\n",
    "\n",
    "for price in soup.find_all('span',attrs={\"class\" :\"price\"}):\n",
    "    prix_fdeb_temp.append(re.findall(r\"\\d+,\\d{2}\",str(price)))\n",
    "for elem in prix_fdeb_temp:\n",
    "    prix_fdeb.append(\" \".join(elem))  "
   ]
  },
  {
   "cell_type": "code",
   "execution_count": 15,
   "metadata": {},
   "outputs": [
    {
     "name": "stdout",
     "output_type": "stream",
     "text": [
      "INSERT INTO Vetement (marque, description, lien, prix, sexe, genre)\n",
      "VALUES\n",
      "('Impetus', 'Débardeur en coton stretch', 'https://www.galerieslafayette.com/p/debardeur+en+coton+stretch-impetus/28038030/320', 60,00, 'f', 'ts'),\n",
      "('Satisfy', 'Débardeur de running en nylon ajouré', 'https://www.galerieslafayette.com/p/debardeur+de+running+en+nylon+ajoure-satisfy/49226035/320', 60,00, 'f', 'ts'),\n",
      "('Satisfy', 'Débardeur de running ajouré print homme', 'https://www.galerieslafayette.com/p/debardeur+de+running+ajoure+print+homme-satisfy/49226029/85', 17,50, 'f', 'ts'),\n",
      "('Scotch And Soda', 'Débardeur droit uni en coton', 'https://www.galerieslafayette.com/p/debardeur+droit+uni+en+coton-scotch+and+soda/49749589/320, 20,00', 'f', 'ts');\n"
     ]
    }
   ],
   "source": [
    "length = (len(prix_fdeb))\n",
    "print('INSERT INTO Vetement (marque, description, lien, prix, sexe, genre)')\n",
    "print('VALUES')\n",
    "for i in range(length-2):\n",
    "    print('(\\''+marque_fdeb[i]+'\\', \\''+desc_fdeb[i]+'\\', \\''+lien_fdeb[i]+'\\', '+prix_fdeb[i]+', \\'f\\', \\'deb\\'),')\n",
    "print('(\\''+marque_fdeb[length-1]+'\\', \\''+desc_fdeb[length-1]+'\\', \\''+lien_fdeb[length-1]+', '+prix_fdeb[length-1]+'\\', \\'f\\', \\'deb\\');')"
   ]
  },
  {
   "cell_type": "markdown",
   "metadata": {},
   "source": [
    "# PULL"
   ]
  },
  {
   "cell_type": "code",
   "execution_count": null,
   "metadata": {},
   "outputs": [],
   "source": [
    "marque_fpull = []\n",
    "desc_fpull = []\n",
    "lien_fpull = []\n",
    "html = urlopen(\"https://www.galerieslafayette.com/c/homme-pret-a-porter-maille\")\n",
    "soup = BeautifulSoup(html, \"html.parser\")\n",
    "for marque in soup.find_all('strong',attrs={\"class\" :\"pdt-brand bold-large-title-marque one\"}):\n",
    "    marque_fpull.append((marque).get_text())\n",
    "\n",
    "for link in soup.find_all('a',class_=\"js-pdt-link js-recommendation-event\"):\n",
    "    lien_fpull.append(\"https://www.galerieslafayette.com\" + link.get('href'))\n",
    "for desc in soup.find_all('span',class_=\"pdt-name three\"):\n",
    "    desc_fpull.append((desc).get_text())\n",
    "\n",
    "prix_fpull = []\n",
    "prix_fpull_temp = []\n",
    "\n",
    "for price in soup.find_all('span',attrs={\"class\" :\"price\"}):\n",
    "    prix_fpull_temp.append(re.findall(r\"\\d+,\\d{2}\",str(price)))\n",
    "for elem in prix_ftpull_temp:\n",
    "    prix_fpull.append(\" \".join(elem))  "
   ]
  },
  {
   "cell_type": "code",
   "execution_count": null,
   "metadata": {},
   "outputs": [],
   "source": [
    "length = (len(prix_fpull))\n",
    "print('INSERT INTO Vetement (marque, description, lien, prix, sexe, genre)')\n",
    "print('VALUES')\n",
    "for i in range(length-2):\n",
    "    print('(\\''+marque_fpull[i]+'\\', \\''+desc_fpull[i]+'\\', \\''+lien_fpull[i]+'\\', '+prix_fpull[i]+', \\'f\\', \\'pull\\'),')\n",
    "print('(\\''+marque_fpull[length-1]+'\\', \\''+desc_fpull[length-1]+'\\', \\''+lien_fpull[length-1]+', '+prix_fpull[length-1]+'\\', \\'f\\', \\'pull\\');')"
   ]
  },
  {
   "cell_type": "markdown",
   "metadata": {},
   "source": [
    "# PANTALON"
   ]
  },
  {
   "cell_type": "code",
   "execution_count": 17,
   "metadata": {},
   "outputs": [],
   "source": [
    "marque_fpant = []\n",
    "desc_fpant = []\n",
    "lien_fpant = []\n",
    "html = urlopen(\"https://www.galerieslafayette.com/c/femme-pret-a-porter-jeans\")\n",
    "soup = BeautifulSoup(html, \"html.parser\")\n",
    "for marque in soup.find_all('strong',attrs={\"class\" :\"pdt-brand bold-large-title-marque one\"}):\n",
    "    marque_fpant.append((marque).get_text())\n",
    "\n",
    "for link in soup.find_all('a',class_=\"js-pdt-link js-recommendation-event\"):\n",
    "    lien_fpant.append(\"https://www.galerieslafayette.com\" + link.get('href'))\n",
    "for desc in soup.find_all('span',class_=\"pdt-name three\"):\n",
    "    desc_fpant.append((desc).get_text())\n",
    "    \n",
    "prix_fpant = []\n",
    "prix_fpant_temp = []\n",
    "\n",
    "for price in soup.find_all('span',attrs={\"class\" :\"price\"}):\n",
    "    prix_fpant_temp.append(re.findall(r\"\\d+,\\d{2}\",str(price)))\n",
    "for elem in prix_fpant_temp:\n",
    "    prix_fpant.append(\" \".join(elem))  "
   ]
  },
  {
   "cell_type": "code",
   "execution_count": 18,
   "metadata": {},
   "outputs": [
    {
     "name": "stdout",
     "output_type": "stream",
     "text": [
      "INSERT INTO Vetement (marque, description, lien, prix, sexe, genre)\n",
      "VALUES\n",
      "('Levi'S', 'Jeans Levi's 714 straight', 'https://www.galerieslafayette.com/p/jeans+levi+s+714+straight-levi+s/48938175/106', 59,40, 'f', 'pant'),\n",
      "('Levi'S', 'Jeans Levi's 711 skinny fit', 'https://www.galerieslafayette.com/p/jeans+levi+s+711+skinny+fit-levi+s/44772745/101', 65,40, 'f', 'pant'),\n",
      "('Levi'S', 'Jeans Levi's 714 straight', 'https://www.galerieslafayette.com/p/jeans+levi+s+714+straight-levi+s/27728928/320', 59,40, 'f', 'pant'),\n",
      "('Emporio Armani', 'Jeans Emporio Armani J28 skinny fit', 'https://www.galerieslafayette.com/p/jeans+emporio+armani+j28+skinny+fit-emporio+armani/50358983/104', 113,40, 'f', 'pant'),\n",
      "('Ikks', 'Jeans Ikks skinny fit', 'https://www.galerieslafayette.com/p/jeans+ikks+skinny+fit-ikks/49681475/233', 54,00, 'f', 'pant'),\n",
      "('Guess', 'Jeans Guess Curve X skinny mid', 'https://www.galerieslafayette.com/p/jeans+guess+curve+x+skinny+mid-guess/52759821/320', 49,95, 'f', 'pant'),\n",
      "('Diesel', 'Jeans Diesel Gracey skinny', 'https://www.galerieslafayette.com/p/jeans+diesel+gracey+skinny-diesel/49371114/104', 85,00, 'f', 'pant'),\n",
      "('Claudie Pierlot', 'Jeans Claudie Pierlot Poeme skinny fit', 'https://www.galerieslafayette.com/p/jeans+claudie+pierlot+poeme+skinny+fit-claudie+pierlot/45760883/125', 81,00, 'f', 'pant'),\n",
      "('Please', 'Jeans Please Aloe carrot', 'https://www.galerieslafayette.com/p/jeans+please+aloe+carrot-please/52573822/263', 39,50, 'f', 'pant'),\n",
      "('Levi'S', 'Jeans Levi's 711 skinny', 'https://www.galerieslafayette.com/p/jeans+levi+s+711+skinny-levi+s/48938041/106', 71,40, 'f', 'pant'),\n",
      "('Levi'S', 'Jeans Levi's Mile High skinny', 'https://www.galerieslafayette.com/p/jeans+levi+s+mile+high+skinny-levi+s/48938073/106', 65,40, 'f', 'pant'),\n",
      "('Levi'S', 'Jeans Levi's 712 slim', 'https://www.galerieslafayette.com/p/jeans+levi+s+712+slim-levi+s/48938227/106', 65,40, 'f', 'pant'),\n",
      "('Salsa', 'Jeans Secret Capri, enduits', 'https://www.galerieslafayette.com/p/jeans+secret+capri+enduits-salsa/300404723551/230', 59,50, 'f', 'pant'),\n",
      "('Levi'S', 'Jeans Levi's 501 Taper', 'https://www.galerieslafayette.com/p/jeans+levi+s+501+taper-levi+s/44772948/101', 59,40, 'f', 'pant'),\n",
      "('Levi'S', 'Jeans Levi's 715 bootcut', 'https://www.galerieslafayette.com/p/jeans+levi+s+715+bootcut-levi+s/27723362/119', 59,40, 'f', 'pant'),\n",
      "('Calvin Klein', 'Jeans Calvin Klein Jeans Carven skinny fit', 'https://www.galerieslafayette.com/p/jeans+calvin+klein+jeans+carven+skinny+fit-calvin+klein/49590344/230', 59,95, 'f', 'pant'),\n",
      "('Guess', 'Jeans Guess Stralet skinny low', 'https://www.galerieslafayette.com/p/jeans+guess+stralet+skinny+low-guess/49539945/101', 49,95, 'f', 'pant'),\n",
      "('Le Temps Des Cerises', 'Jeans Le Temps Des Cerises Pulp WA163 regular fit', 'https://www.galerieslafayette.com/p/jeans+le+temps+des+cerises+pulp+wa163+regular+fit-le+temps+des+cerises/49797105/119', 49,95, 'f', 'pant'),\n",
      "('Salsa', 'Nouveau', 'https://www.galerieslafayette.com/p/nouveau-salsa/300404724837/101', 49,95, 'f', 'pant'),\n",
      "('Salsa', 'Jeans Wonder Push Up taille haute délavage premium', 'https://www.galerieslafayette.com/p/jeans+wonder+push+up+taille+haute+delavage+premium-salsa/300404403976/101', 49,95, 'f', 'pant'),\n",
      "('Le Temps Des Cerises', 'Jeans Le temps des Cerises Pulp slim', 'https://www.galerieslafayette.com/p/jeans+le+temps+des+cerises+pulp+slim-le+temps+des+cerises/49797077/230', 49,95, 'f', 'pant'),\n",
      "('Levi'S', 'Jeans Levi's 721 high rise skinny', 'https://www.galerieslafayette.com/p/jeans+levi+s+721+high+rise+skinny-levi+s/52847754/119', 49,50, 'f', 'pant'),\n",
      "('Guess', 'Jeans Guess Curve X skinny mid', 'https://www.galerieslafayette.com/p/jeans+guess+curve+x+skinny+mid-guess/51308406/320', 49,95, 'f', 'pant'),\n",
      "('DDP', 'Jeans DDP 7/8 slim fit', 'https://www.galerieslafayette.com/p/jeans+ddp+7+8+slim+fit-ddp/50468036/101', 47,58, 'f', 'pant'),\n",
      "('Caroll', 'Jeans Caroll Nelson straight', 'https://www.galerieslafayette.com/p/jeans+caroll+nelson+straight-caroll/52637150/106', 45,00, 'f', 'pant'),\n",
      "('Le Temps Des Cerises', 'Jeans skinny Power WA146', 'https://www.galerieslafayette.com/p/jeans+skinny+power+wa146-le+temps+des+cerises/49797040/101', 44,95, 'f', 'pant'),\n",
      "('Salsa', 'Jeans Wonder Push Up Capri avec détail en simili cuir', 'https://www.galerieslafayette.com/p/jeans+wonder+push+up+capri+avec+detail+en+simili+cuir-salsa/300404724962/101', 44,95, 'f', 'pant'),\n",
      "('Caroll', 'Jeans Caroll Seth slim', 'https://www.galerieslafayette.com/p/jeans+caroll+seth+slim-caroll/52636566/102', 42,50, 'f', 'pant'),\n",
      "('Karl Marc John', 'Jeans slim Karl Marc John Pomme', 'https://www.galerieslafayette.com/p/jeans+slim+karl+marc+john+pomme-karl+marc+john/52762048/320', 39,00, 'f', 'pant'),\n",
      "('Guess', 'JEANS CURVE X DÉCHIRÉ', 'https://www.galerieslafayette.com/p/jeans+curve+x+dechire-guess/300404317690/244', 38,50, 'f', 'pant'),\n",
      "('Caroll', 'Jeans Caroll Livio large', 'https://www.galerieslafayette.com/p/jeans+caroll+livio+large-caroll/52636504/106', 38,00, 'f', 'pant'),\n",
      "('Caroll', 'Jeans Caroll Malo boyfriend', 'https://www.galerieslafayette.com/p/jeans+caroll+malo+boyfriend-caroll/52636011/106', 36,00, 'f', 'pant'),\n",
      "('Caroll', 'Jeans Caroll Caleb 7/8 slim fit', 'https://www.galerieslafayette.com/p/jeans+caroll+caleb+7+8+slim+fit-caroll/52638481/104', 28,00, 'f', 'pant'),\n",
      "('Jodhpur', 'Jeans Jodhpur Calada straight fit', 'https://www.galerieslafayette.com/p/jeans+jodhpur+calada+straight+fit-jodhpur/47826563/119', 24,99, 'f', 'pant'),\n",
      "('Galeries Lafayette', 'Jeans Galeries Lafayette Gank 2 regular fit', 'https://www.galerieslafayette.com/p/jeans+galeries+lafayette+gank+2+regular+fit-galeries+lafayette/48043748/102', 17,99, 'f', 'pant'),\n",
      "('Pepe Jeans', 'Jeans Pepe Jeans Regent 45 Years skinny', 'https://www.galerieslafayette.com/p/jeans+pepe+jeans+regent+45+years+skinny-pepe+jeans/49776080/104', 39,95, 'f', 'pant'),\n",
      "('Guess', 'JEANS SKINNY DÉCHIRÉ', 'https://www.galerieslafayette.com/p/jeans+skinny+dechire-guess/300405178482/101', 24,99, 'f', 'pant'),\n",
      "('Jodhpur', 'Jeans Jodhpur Calcuta slim fit', 'https://www.galerieslafayette.com/p/jeans+jodhpur+calcuta+slim+fit-jodhpur/47826580/102', 99,95, 'f', 'pant'),\n",
      "('Marc O’Polo', 'Jean LULEA slim', 'https://www.galerieslafayette.com/p/jean+lulea+slim-marc+o+polo/300404349747/453', 32,50, 'f', 'pant'),\n",
      "('Salsa', 'Jeans Wonder Push Up Skinny denim clair', 'https://www.galerieslafayette.com/p/jeans+wonder+push+up+skinny+denim+clair-salsa/300404724883/101', 89,50, 'f', 'pant'),\n",
      "('Comptoir Des Cotonniers', 'Jeans Comptoir des Cotonniers Ginisko skinny cropped 7/8 fit', 'https://www.galerieslafayette.com/p/jeans+comptoir+des+cotonniers+ginisko+skinny+cropped+7+8+fit-comptoir+des+cotonniers/54961292/131', 61,83, 'f', 'pant'),\n",
      "('Noppies', 'Jean slim Mila', 'https://www.galerieslafayette.com/p/jean+slim+mila-noppies/300404690749/101, 19,99', 'f', 'pant');\n"
     ]
    }
   ],
   "source": [
    "length = (len(prix_fpant))\n",
    "print('INSERT INTO Vetement (marque, description, lien, prix, sexe, genre)')\n",
    "print('VALUES')\n",
    "for i in range(length-2):\n",
    "    print('(\\''+marque_fpant[i]+'\\', \\''+desc_fpant[i]+'\\', \\''+lien_fpant[i]+'\\', '+prix_fpant[i]+', \\'f\\', \\'pant\\'),')\n",
    "print('(\\''+marque_fpant[length-1]+'\\', \\''+desc_fpant[length-1]+'\\', \\''+lien_fpant[length-1]+', '+prix_fpant[length-1]+'\\', \\'f\\', \\'pant\\');')"
   ]
  },
  {
   "cell_type": "markdown",
   "metadata": {},
   "source": [
    "# JUPE"
   ]
  },
  {
   "cell_type": "code",
   "execution_count": 20,
   "metadata": {},
   "outputs": [],
   "source": [
    "marque_fjupe = []\n",
    "desc_fjupe = []\n",
    "lien_fjupe = []\n",
    "html = urlopen(\"https://www.galerieslafayette.com/c/femme-pret-a-porter-jupes\")\n",
    "soup = BeautifulSoup(html, \"html.parser\")\n",
    "for marque in soup.find_all('strong',attrs={\"class\" :\"pdt-brand bold-large-title-marque one\"}):\n",
    "    marque_fjupe.append((marque).get_text())\n",
    "\n",
    "for link in soup.find_all('a',class_=\"js-pdt-link js-recommendation-event\"):\n",
    "    lien_fjupe.append(\"https://www.galerieslafayette.com\" + link.get('href'))\n",
    "for desc in soup.find_all('span',class_=\"pdt-name three\"):\n",
    "    desc_fjupe.append((desc).get_text())\n",
    "    \n",
    "prix_fjupe = []\n",
    "prix_fjupe_temp = []\n",
    "\n",
    "for price in soup.find_all('span',attrs={\"class\" :\"price\"}):\n",
    "    prix_fjupe_temp.append(re.findall(r\"\\d+,\\d{2}\",str(price)))\n",
    "for elem in prix_fjupe_temp:\n",
    "    prix_fjupe.append(\" \".join(elem))  "
   ]
  },
  {
   "cell_type": "code",
   "execution_count": 21,
   "metadata": {},
   "outputs": [
    {
     "name": "stdout",
     "output_type": "stream",
     "text": [
      "INSERT INTO Vetement (marque, description, lien, prix, sexe, genre)\n",
      "VALUES\n",
      "('Maje', 'Jupe Jupette', 'https://www.galerieslafayette.com/p/jupe+jupette-maje/50035927/453', 135,00, 'f', 'jupe'),\n",
      "('Claudie Pierlot', 'Jupe Sonate', 'https://www.galerieslafayette.com/p/jupe+sonate-claudie+pierlot/49824130/320', 111,00, 'f', 'jupe'),\n",
      "('Jodhpur', 'Jupe Cesar', 'https://www.galerieslafayette.com/p/jupe+cesar-jodhpur/47826513/102', 24,99, 'f', 'jupe'),\n",
      "('Sinequanone', 'Jupe patineuse Stripes', 'https://www.galerieslafayette.com/p/jupe+patineuse+stripes-sinequanone/300404450476/320', 60,00, 'f', 'jupe'),\n",
      "('Levi'S', 'Jupe courte en denim', 'https://www.galerieslafayette.com/p/jupe+courte+en+denim-levi+s/54477038/105', 52,00, 'f', 'jupe'),\n",
      "('Sinequanone', 'Jupe midi plissée Happy', 'https://www.galerieslafayette.com/p/jupe+midi+plissee+happy-sinequanone/300404957187/85', 50,00, 'f', 'jupe'),\n",
      "('Comptoir Des Cotonniers', 'Jupe en jaquard pied de poule', 'https://www.galerieslafayette.com/p/jupe+en+jaquard+pied+de+poule-comptoir+des+cotonniers/49918382/306', 45,00, 'f', 'jupe'),\n",
      "('Sinequanone', 'Jupe popeline volantée West', 'https://www.galerieslafayette.com/p/jupe+popeline+volantee+west-sinequanone/300404468418/101', 42,50, 'f', 'jupe'),\n",
      "('Caroll', 'Jupe Olivia', 'https://www.galerieslafayette.com/p/jupe+olivia-caroll/52635432/230', 37,50, 'f', 'jupe'),\n",
      "('Pepe Jeans', 'Jupe Taylor', 'https://www.galerieslafayette.com/p/jupe+taylor-pepe+jeans/49776181/106', 36,00, 'f', 'jupe'),\n",
      "('Sinequanone', 'Jupe crayon maille Pipa', 'https://www.galerieslafayette.com/p/jupe+crayon+maille+pipa-sinequanone/300404333308/322', 35,99, 'f', 'jupe'),\n",
      "('Esprit', 'Jupe midi rayée', 'https://www.galerieslafayette.com/p/jupe+midi+rayee-esprit/49930572/384', 34,99, 'f', 'jupe'),\n",
      "('Galeries Lafayette', 'Jupe Perangère ', 'https://www.galerieslafayette.com/p/jupe+perangere-galeries+lafayette/49326191/306', 32,50, 'f', 'jupe'),\n",
      "('Frnch', 'Jupe elvira', 'https://www.galerieslafayette.com/p/jupe+elvira-frnch/300404692023/320', 31,49, 'f', 'jupe'),\n",
      "('Naf Naf', 'Jupe Tony', 'https://www.galerieslafayette.com/p/jupe+tony-naf+naf/54833278/401', 29,98, 'f', 'jupe'),\n",
      "('Jodhpur', 'Jupe Charme', 'https://www.galerieslafayette.com/p/jupe+charme-jodhpur/47969229/125', 27,98, 'f', 'jupe'),\n",
      "('Galeries Lafayette', 'Jupe Ghym', 'https://www.galerieslafayette.com/p/jupe+ghym-galeries+lafayette/48051531/356', 11,99, 'f', 'jupe'),\n",
      "('Galeries Lafayette', 'Jupe Smooth', 'https://www.galerieslafayette.com/p/jupe+smooth-galeries+lafayette/49073434/125', 20,99, 'f', 'jupe'),\n",
      "('Galeries Lafayette', 'Jupe Perangere', 'https://www.galerieslafayette.com/p/jupe+perangere-galeries+lafayette/48048802/116', 34,93, 'f', 'jupe'),\n",
      "('La Fiancée du Mekong', 'Jupe fluide doublée Sora', 'https://www.galerieslafayette.com/p/jupe+fluide+doublee+sora-la+fiancee+du+mekong/300404370929/306', 29,99, 'f', 'jupe'),\n",
      "('Esprit Maternity', 'Jupe en jean', 'https://www.galerieslafayette.com/p/jupe+en+jean-esprit+maternity/300402838460/106', 53,40, 'f', 'jupe'),\n",
      "('Naf Naf', 'Jupe midi brodée', 'https://www.galerieslafayette.com/p/jupe+midi+brodee-naf+naf/53354241/401', 135,00, 'f', 'jupe'),\n",
      "('Suncoo', 'Jupe Fala', 'https://www.galerieslafayette.com/p/jupe+fala-suncoo/49231142/104', 11,97, 'f', 'jupe'),\n",
      "('Marciano Guess', 'JUPE PLISSEE MARCIANO', 'https://www.galerieslafayette.com/p/jupe+plissee+marciano-marciano+guess/300403047659/320', 27,93, 'f', 'jupe'),\n",
      "('Balsamik', 'Balsamik - Jupe hanches larges, stature - d'1,60m', 'https://www.galerieslafayette.com/p/balsamik+-+jupe+hanches+larges+stature+-+d+1+60m-balsamik/300404408634/125', 105,00, 'f', 'jupe'),\n",
      "('Guess', 'JUPE LONGUE PLISSEE', 'https://www.galerieslafayette.com/p/jupe+longue+plissee-guess/300403044433/225', 72,50, 'f', 'jupe'),\n",
      "('Weill', 'Jupe courte droite en tweed CHAZA', 'https://www.galerieslafayette.com/p/jupe+courte+droite+en+tweed+chaza-weill/300404312222/256', 112,50, 'f', 'jupe'),\n",
      "('American Vintage', 'Jupe Meadow', 'https://www.galerieslafayette.com/p/jupe+meadow-american+vintage/54136948/160', 245,00, 'f', 'jupe'),\n",
      "('Supermom', 'Jupe', 'https://www.galerieslafayette.com/p/jupe-supermom/300403937899/320', 100,80, 'f', 'jupe'),\n",
      "('Closed', 'Jupe culotte Maja', 'https://www.galerieslafayette.com/p/jupe+culotte+maja-closed/45153035/384', 14,97, 'f', 'jupe'),\n",
      "('La Fiancée du Mekong', 'Jupe courte Minato', 'https://www.galerieslafayette.com/p/jupe+courte+minato-la+fiancee+du+mekong/300404371039/60', 67,50, 'f', 'jupe'),\n",
      "('La Fiancée du Mekong', 'Jupe courte Minato', 'https://www.galerieslafayette.com/p/jupe+courte+minato-la+fiancee+du+mekong/300404371045/306', 124,00, 'f', 'jupe'),\n",
      "('Maje', 'Jupe Jelsi', 'https://www.galerieslafayette.com/p/jupe+jelsi-maje/49825955/154', 57,60, 'f', 'jupe'),\n",
      "('Liu Jo', 'Jupe courte « Kalisa »', 'https://www.galerieslafayette.com/p/jupe+courte+kalisa+-liu+jo/300405194640/320', 44,95, 'f', 'jupe'),\n",
      "('Levi'S', 'Jupe en jean', 'https://www.galerieslafayette.com/p/jupe+en+jean-levi+s/54477033/101, 122,50', 'f', 'jupe');\n"
     ]
    }
   ],
   "source": [
    "length = (len(prix_fjupe))\n",
    "print('INSERT INTO Vetement (marque, description, lien, prix, sexe, genre)')\n",
    "print('VALUES')\n",
    "for i in range(length-2):\n",
    "    print('(\\''+marque_fjupe[i]+'\\', \\''+desc_fjupe[i]+'\\', \\''+lien_fjupe[i]+'\\', '+prix_fjupe[i]+', \\'f\\', \\'jupe\\'),')\n",
    "print('(\\''+marque_fjupe[length-1]+'\\', \\''+desc_fjupe[length-1]+'\\', \\''+lien_fjupe[length-1]+', '+prix_fjupe[length-1]+'\\', \\'f\\', \\'jupe\\');')"
   ]
  },
  {
   "cell_type": "markdown",
   "metadata": {},
   "source": [
    "# PARAPLUIE"
   ]
  },
  {
   "cell_type": "code",
   "execution_count": 25,
   "metadata": {},
   "outputs": [],
   "source": [
    "marque_para = []\n",
    "desc_para = []\n",
    "lien_para = []\n",
    "html = urlopen(\"https://www.galerieslafayette.com/s/parapluies+automatiques/f/parapluies+automatiques\")\n",
    "soup = BeautifulSoup(html, \"html.parser\")\n",
    "for marque in soup.find_all('strong',attrs={\"class\" :\"pdt-brand bold-large-title-marque one\"}):\n",
    "    marque_para.append((marque).get_text())\n",
    "\n",
    "for link in soup.find_all('a',class_=\"js-pdt-link js-recommendation-event\"):\n",
    "    lien_para.append(\"https://www.galerieslafayette.com\" + link.get('href'))\n",
    "for desc in soup.find_all('span',class_=\"pdt-name three\"):\n",
    "    desc_para.append((desc).get_text())\n",
    "\n",
    "prix_para = []\n",
    "prix_para_temp = []\n",
    "\n",
    "for price in soup.find_all('span',attrs={\"class\" :\"price\"}):\n",
    "    prix_para_temp.append(re.findall(r\"\\d+,\\d{2}\",str(price)))\n",
    "for elem in prix_para_temp:\n",
    "    prix_para.append(\" \".join(elem)) "
   ]
  },
  {
   "cell_type": "code",
   "execution_count": 26,
   "metadata": {},
   "outputs": [
    {
     "name": "stdout",
     "output_type": "stream",
     "text": [
      "INSERT INTO Vetement (marque, description, lien, prix, sexe, genre)\n",
      "VALUES\n",
      "('Esprit', 'Parapluie', 'https://www.galerieslafayette.com/p/parapluie-esprit/32541781/320', 22,99, 'p', 'para'),\n",
      "('Guy De Jean', 'Parapluie long', 'https://www.galerieslafayette.com/p/parapluie+long-guy+de+jean/99469694/320', 125,00, 'p', 'para'),\n",
      "('Galeries Lafayette', 'Parapluie Auto', 'https://www.galerieslafayette.com/p/parapluie+auto-galeries+lafayette/36547658/320', 19,99, 'p', 'para'),\n",
      "('Galeries Lafayette', 'Parapluie Auto', 'https://www.galerieslafayette.com/p/parapluie+auto-galeries+lafayette/36547658/71', 19,99, 'p', 'para'),\n",
      "('Galeries Lafayette', 'Parapluie', 'https://www.galerieslafayette.com/p/parapluie-galeries+lafayette/28945046/320', 22,99, 'p', 'para'),\n",
      "('Galeries Lafayette', 'Parapluie Auto', 'https://www.galerieslafayette.com/p/parapluie+auto-galeries+lafayette/36547658/401', 19,99, 'p', 'para'),\n",
      "('Galeries Lafayette', 'Parapluie Keclair', 'https://www.galerieslafayette.com/p/parapluie+keclair-galeries+lafayette/47607604/320', 24,99, 'p', 'para'),\n",
      "('Galeries Lafayette', 'Parapluie', 'https://www.galerieslafayette.com/p/parapluie-galeries+lafayette/28945491/320', 24,99, 'p', 'para'),\n",
      "('Pierre Vaux', 'Parapluie pliant automatique à housse zippée', 'https://www.galerieslafayette.com/p/parapluie+pliant+automatique+a+housse+zippee-pierre+vaux/74069956/320', 50,20, 'p', 'para'),\n",
      "('Esprit', 'Parapluie long manuel', 'https://www.galerieslafayette.com/p/parapluie+long+manuel-esprit/57317208/320', 24,99, 'p', 'para'),\n",
      "('Pierre Vaux', 'Parapluie pliant automatique à poignée courbe', 'https://www.galerieslafayette.com/p/parapluie+pliant+automatique+a+poignee+courbe-pierre+vaux/14255517/320', 47,20, 'p', 'para'),\n",
      "('Esprit', 'Parapluie', 'https://www.galerieslafayette.com/p/parapluie-esprit/57318057/320', 22,99, 'p', 'para'),\n",
      "('Galeries Lafayette', 'Parapluie Kropois', 'https://www.galerieslafayette.com/p/parapluie+kropois-galeries+lafayette/47607607/92', 24,99, 'p', 'para'),\n",
      "('Jean Paul Gaultier', 'Parapluie automatique pliant', 'https://www.galerieslafayette.com/p/parapluie+automatique+pliant-jean+paul+gaultier/64618531/125', 49,90, 'p', 'para'),\n",
      "('Galeries Lafayette', 'Parapluie', 'https://www.galerieslafayette.com/p/parapluie-galeries+lafayette/28946317/320', 22,99, 'p', 'para'),\n",
      "('Esprit', 'Parapluie automatique long', 'https://www.galerieslafayette.com/p/parapluie+automatique+long-esprit/57316960/320', 19,99, 'p', 'para'),\n",
      "('Esprit', 'Parapluie long manuel', 'https://www.galerieslafayette.com/p/parapluie+long+manuel-esprit/57317208/119', 24,99, 'p', 'para'),\n",
      "('Burberry', 'Parapluie femme télescopique à motif vintage check', 'https://www.galerieslafayette.com/p/parapluie+femme+telescopique+a+motif+vintage+check-burberry/54654477/278', 230,00, 'p', 'para'),\n",
      "('Pierre Vaux', 'Parapluie de golf pliant automatique', 'https://www.galerieslafayette.com/p/parapluie+de+golf+pliant+automatique-pierre+vaux/96505466/320, 35,35', 'p', 'para');\n"
     ]
    }
   ],
   "source": [
    "length = (len(prix_para))\n",
    "print('INSERT INTO Vetement (marque, description, lien, prix, sexe, genre)')\n",
    "print('VALUES')\n",
    "for i in range(length-2):\n",
    "    print('(\\''+marque_para[i]+'\\', \\''+desc_para[i]+'\\', \\''+lien_para[i]+'\\', '+prix_para[i]+', \\'p\\', \\'para\\'),')\n",
    "print('(\\''+marque_para[length-1]+'\\', \\''+desc_para[length-1]+'\\', \\''+lien_para[length-1]+', '+prix_para[length-1]+'\\', \\'p\\', \\'para\\');')"
   ]
  }
 ],
 "metadata": {
  "kernelspec": {
   "display_name": "Python 3",
   "language": "python",
   "name": "python3"
  },
  "language_info": {
   "codemirror_mode": {
    "name": "ipython",
    "version": 3
   },
   "file_extension": ".py",
   "mimetype": "text/x-python",
   "name": "python",
   "nbconvert_exporter": "python",
   "pygments_lexer": "ipython3",
   "version": "3.6.4"
  }
 },
 "nbformat": 4,
 "nbformat_minor": 2
}
