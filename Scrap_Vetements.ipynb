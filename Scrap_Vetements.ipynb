{
 "cells": [
  {
   "cell_type": "code",
   "execution_count": 8,
   "metadata": {},
   "outputs": [],
   "source": [
    "from urllib.request import urlopen\n",
    "from bs4 import BeautifulSoup"
   ]
  },
  {
   "cell_type": "markdown",
   "metadata": {},
   "source": [
    "# HOMME"
   ]
  },
  {
   "cell_type": "markdown",
   "metadata": {},
   "source": [
    "# T-SHIRT"
   ]
  },
  {
   "cell_type": "code",
   "execution_count": 21,
   "metadata": {},
   "outputs": [
    {
     "name": "stdout",
     "output_type": "stream",
     "text": [
      "60\n",
      "60\n",
      "60\n",
      "60\n"
     ]
    }
   ],
   "source": [
    "#listes utilisé pour le scrapping\n",
    "marque_htshirt = []\n",
    "desc_htshirt = []\n",
    "lien_htshirt = []\n",
    "prix_htshirt = []\n",
    "\n",
    "#Utilisation de beautifulSoup avec l'HTML adapté\n",
    "html = urlopen(\"https://www.galerieslafayette.com/c/homme-pret-a-porter-t-shirts+et+polos/f/t-shirts\")\n",
    "soup = BeautifulSoup(html, \"html.parser\")\n",
    "\n",
    "#Scrapping de la marque, lien et description des produits de la pages(ici T-shirt)\n",
    "for marque in soup.find_all('strong',attrs={\"class\" :\"pdt-brand bold-large-title-marque one\"}):\n",
    "    marque_htshirt.append((marque).get_text())\n",
    "for link in soup.find_all('a',class_=\"js-pdt-link js-recommendation-event\"):\n",
    "    lien_htshirt.append(\"https://www.galerieslafayette.com\" + link.get('href'))\n",
    "for desc in soup.find_all('span',class_=\"pdt-name three\"):\n",
    "    desc_htshirt.append((desc).get_text())\n",
    "\n",
    "\n",
    "prix_htshirt_temp = []\n",
    "#Scrapping du prix en normalisant avec le regex\n",
    "for price in soup.find_all('span',attrs={\"class\" :\"price\"}):\n",
    "    prix_htshirt_temp.append(re.findall(r\"\\d+,\\d{2}\",str(price)))\n",
    "for elem in prix_htshirt_temp:\n",
    "    prix_htshirt.append(\" \".join(elem))  \n",
    "    \n",
    "print(len(marque_htshirt))\n",
    "print(len(desc_htshirt))\n",
    "print(len(lien_htshirt))\n",
    "print(len(prix_htshirt))"
   ]
  },
  {
   "cell_type": "code",
   "execution_count": 22,
   "metadata": {},
   "outputs": [
    {
     "name": "stdout",
     "output_type": "stream",
     "text": [
      "INSERT INTO Vetement (marque, description, lien, prix, genre, temperature)\n",
      "VALUES\n",
      "(\"Eden Park\", \"T-shirt droit à poche poitrine en coton piqué print floral\", \"https://www.galerieslafayette.com/p/t-shirt+droit+a+poche+poitrine+en+coton+pique+print+floral-eden+park/52187160/85\", 33,00, \"h\", 2),\n",
      "(\"Levi'S\", \"T-shirt uni à poche poitrine\", \"https://www.galerieslafayette.com/p/t-shirt+uni+a+poche+poitrine-levi+s/48917550/101\", 21,00, \"h\", 2),\n",
      "(\"Galeries Lafayette\", \"T-shirt Mishraye\", \"https://www.galerieslafayette.com/p/t-shirt+mishraye-galeries+lafayette/48362627/393\", 7,49, \"h\", 2),\n",
      "(\"Calvin Klein\", \"T-shirt à rectangle contrastant siglé\", \"https://www.galerieslafayette.com/p/t-shirt+a+rectangle+contrastant+sigle-calvin+klein/50689057/230\", 24,50, \"h\", 2),\n",
      "(\"Tommy Hilfiger\", \"T-shirt en coton print initiales de la marque\", \"https://www.galerieslafayette.com/p/t-shirt+en+coton+print+initiales+de+la+marque-tommy+hilfiger/50596885/85\", 25,20, \"h\", 2),\n",
      "(\"Polo Ralph Lauren\", \"T-shirt lettrage\", \"https://www.galerieslafayette.com/p/t-shirt+lettrage-polo+ralph+lauren/49845658/125\", 34,50, \"h\", 2),\n",
      "(\"Polo Ralph Lauren\", \"T-shirt droit uni logotypé\", \"https://www.galerieslafayette.com/p/t-shirt+droit+uni+logotype-polo+ralph+lauren/45855565/85\", 59,00, \"h\", 2),\n",
      "(\"Sandro\", \"Polo col rayé\", \"https://www.galerieslafayette.com/p/polo+col+raye-sandro/49829947/125\", 87,50, \"h\", 2),\n",
      "(\"Polo Ralph Lauren\", \"T-shirt à rayures custom fit\", \"https://www.galerieslafayette.com/p/t-shirt+a+rayures+custom+fit-polo+ralph+lauren/48928839/101\", 29,50, \"h\", 2),\n",
      "(\"Calvin Klein\", \"T-shirt à poche poitrine siglée slim fit\", \"https://www.galerieslafayette.com/p/t-shirt+a+poche+poitrine+siglee+slim+fit-calvin+klein/50689071/320\", 17,50, \"h\", 2),\n",
      "(\"Guess\", \"POLO MOTIF RAYÉ\", \"https://www.galerieslafayette.com/p/polo+motif+raye-guess/300404015352/453\", 69,90, \"h\", 2),\n",
      "(\"Calvin Klein\", \"T-shirt à imprimé rectangle contrastant effet fondu slim fit\", \"https://www.galerieslafayette.com/p/t-shirt+a+imprime+rectangle+contrastant+effet+fondu+slim+fit-calvin+klein/50068645/85\", 22,50, \"h\", 2),\n",
      "(\"Calvin Klein\", \"T-shirt en coton uni slim fit\", \"https://www.galerieslafayette.com/p/t-shirt+en+coton+uni+slim+fit-calvin+klein/50689031/85\", 22,50, \"h\", 2),\n",
      "(\"Hackett London\", \"T-shirt Aston Martin\", \"https://www.galerieslafayette.com/p/t-shirt+aston+martin-hackett+london/51575731/85\", 45,50, \"h\", 2),\n",
      "(\"Chevignon\", \"Tshirt Manches Courtes Straight Col Rond\", \"https://www.galerieslafayette.com/p/tshirt+manches+courtes+straight+col+rond-chevignon/300404345891/247\", 21,00, \"h\", 2),\n",
      "(\"Polo Ralph Lauren\", \"T-shirt uni à poche poitrine custom fit\", \"https://www.galerieslafayette.com/p/t-shirt+uni+a+poche+poitrine+custom+fit-polo+ralph+lauren/54502962/125\", 59,00, \"h\", 2),\n",
      "(\"Tommy Hilfiger\", \"T-shirt en coton print initiales de la marque\", \"https://www.galerieslafayette.com/p/t-shirt+en+coton+print+initiales+de+la+marque-tommy+hilfiger/50596885/232\", 25,20, \"h\", 2),\n",
      "(\"Lacoste\", \"T-shirt en coton pima uni\", \"https://www.galerieslafayette.com/p/t-shirt+en+coton+pima+uni-lacoste/54769389/401\", 55,00, \"h\", 2),\n",
      "(\"Lacoste\", \"T-shirt en coton pima uni\", \"https://www.galerieslafayette.com/p/t-shirt+en+coton+pima+uni-lacoste/46021332/125\", 55,00, \"h\", 2),\n",
      "(\"Calvin Klein\", \"T-shirt logotypé à manches longues\", \"https://www.galerieslafayette.com/p/t-shirt+logotype+a+manches+longues-calvin+klein/50068664/320\", 24,50, \"h\", 2),\n",
      "(\"Polo Ralph Lauren\", \"T-shirt print paysages en all over custom slim fit\", \"https://www.galerieslafayette.com/p/t-shirt+print+paysages+en+all+over+custom+slim+fit-polo+ralph+lauren/49889779/2895\", 34,50, \"h\", 2),\n",
      "(\"Polo Ralph Lauren\", \"T-shirt print îles palmiers et oursons custom slim fit\", \"https://www.galerieslafayette.com/p/t-shirt+print+iles+palmiers+et+oursons+custom+slim+fit-polo+ralph+lauren/49889772/453\", 34,50, \"h\", 2),\n",
      "(\"Pepe Jeans\", \"T-shirt Aldgate\", \"https://www.galerieslafayette.com/p/t-shirt+aldgate-pepe+jeans/49900591/244\", 19,95, \"h\", 2),\n",
      "(\"The Kooples\", \"T-shirt en coton avec guitare et pin's amovibles\", \"https://www.galerieslafayette.com/p/t-shirt+en+coton+avec+guitare+et+pin+s+amovibles-the+kooples/49994279/232\", 46,50, \"h\", 2),\n",
      "(\"Hackett London\", \"T-shirt Aston Martin\", \"https://www.galerieslafayette.com/p/t-shirt+aston+martin-hackett+london/51575731/125\", 45,50, \"h\", 2),\n",
      "(\"Eden Park\", \"T-shirt droit uni col V\", \"https://www.galerieslafayette.com/p/t-shirt+droit+uni+col+v-eden+park/33602813/385\", 45,00, \"h\", 2),\n",
      "(\"Tommy Hilfiger\", \"T-shirt logotypé print floral\", \"https://www.galerieslafayette.com/p/t-shirt+logotype+print+floral-tommy+hilfiger/54382415/103\", 45,00, \"h\", 2),\n",
      "(\"Element\", \"T-shirt print ours fantaisie et lettrage\", \"https://www.galerieslafayette.com/p/t-shirt+print+ours+fantaisie+et+lettrage-element/48958275/320\", 17,50, \"h\", 2),\n",
      "(\"Teddy Smith\", \"T-shirt Tisbe\", \"https://www.galerieslafayette.com/p/t-shirt+tisbe-teddy+smith/49291837/230\", 17,50, \"h\", 2),\n",
      "(\"Lacoste\", \"T-shirt droit à fines rayures contrastantes\", \"https://www.galerieslafayette.com/p/t-shirt+droit+a+fines+rayures+contrastantes-lacoste/49796423/101\", 42,00, \"h\", 2),\n",
      "(\"Chevignon\", \"Tshirt Manches Courtes Straight Col V\", \"https://www.galerieslafayette.com/p/tshirt+manches+courtes+straight+col+v-chevignon/300404345974/125\", 21,00, \"h\", 2),\n",
      "(\"Fred Perry\", \"T-shirt à rayures façon marinière\", \"https://www.galerieslafayette.com/p/t-shirt+a+rayures+facon+mariniere-fred+perry/51107083/101\", 35,00, \"h\", 2),\n",
      "(\"Tommy Jeans\", \"T-shirt en coton logotypé slim fit\", \"https://www.galerieslafayette.com/p/t-shirt+en+coton+logotype+slim+fit-tommy+jeans/48935224/232\", 17,50, \"h\", 2),\n",
      "(\"Levi'S\", \"T-shirt en coton supima effet chiné\", \"https://www.galerieslafayette.com/p/t-shirt+en+coton+supima+effet+chine-levi+s/48917560/384\", 21,00, \"h\", 2),\n",
      "(\"Tommy Hilfiger\", \"T-shirt droit en coton stretch uni\", \"https://www.galerieslafayette.com/p/t-shirt+droit+en+coton+stretch+uni-tommy+hilfiger/53688373/85\", 42,00, \"h\", 2),\n",
      "(\"Lacoste\", \"T-shirt droit en coton piqué logo brodé\", \"https://www.galerieslafayette.com/p/t-shirt+droit+en+coton+pique+logo+brode-lacoste/49796407/401\", 42,00, \"h\", 2),\n",
      "(\"Marciano Guess\", \"POLO MARCIANO DETAILS MANCHES\", \"https://www.galerieslafayette.com/p/polo+marciano+details+manches-marciano+guess/300404474893/101\", 41,00, \"h\", 2),\n",
      "(\"Polo Ralph Lauren\", \"T-shirt en coton logo\", \"https://www.galerieslafayette.com/p/t-shirt+en+coton+logo-polo+ralph+lauren/49889732/244\", 29,50, \"h\", 2),\n",
      "(\"Polo Ralph Lauren\", \"T-shirt uni à poche poitrine custom fit\", \"https://www.galerieslafayette.com/p/t-shirt+uni+a+poche+poitrine+custom+fit-polo+ralph+lauren/48928819/103\", 29,50, \"h\", 2),\n",
      "(\"Polo Ralph Lauren\", \"T-shirt en tissu technique logotypé à imprimé camouflage\", \"https://www.galerieslafayette.com/p/t-shirt+en+tissu+technique+logotype+a+imprime+camouflage-polo+ralph+lauren/49845129/119\", 34,50, \"h\", 2),\n",
      "(\"Polo Ralph Lauren\", \"T-shirt en coton\", \"https://www.galerieslafayette.com/p/t-shirt+en+coton-polo+ralph+lauren/49889739/263\", 29,50, \"h\", 2),\n",
      "(\"Polo Ralph Lauren\", \"T-shirt en coton avec une poche\", \"https://www.galerieslafayette.com/p/t-shirt+en+coton+avec+une+poche-polo+ralph+lauren/49889765/101\", 29,50, \"h\", 2),\n",
      "(\"Polo Ralph Lauren\", \"T-shirt en coton avec une poche\", \"https://www.galerieslafayette.com/p/t-shirt+en+coton+avec+une+poche-polo+ralph+lauren/49889759/230\", 29,50, \"h\", 2),\n",
      "(\"Hilfiger Denim\", \"T-shirt droit en coton à rayures\", \"https://www.galerieslafayette.com/p/t-shirt+droit+en+coton+a+rayures-hilfiger+denim/48935211/88\", 40,00, \"h\", 2),\n",
      "(\"Scotch And Soda\", \"T-shirt à imprimé motifs fantaisie\", \"https://www.galerieslafayette.com/p/t-shirt+a+imprime+motifs+fantaisie-scotch+and+soda/49749037/94\", 19,50, \"h\", 2),\n",
      "(\"Tommy Hilfiger\", \"T-shirt à imprimé fleurs et feuillages\", \"https://www.galerieslafayette.com/p/t-shirt+a+imprime+fleurs+et+feuillages-tommy+hilfiger/50596602/2895\", 33,00, \"h\", 2),\n",
      "(\"Lacoste\", \"T-shirt en coton pima uni\", \"https://www.galerieslafayette.com/p/t-shirt+en+coton+pima+uni-lacoste/49796363/453\", 38,50, \"h\", 2),\n",
      "(\"Lacoste\", \"T-shirt en coton pima uni\", \"https://www.galerieslafayette.com/p/t-shirt+en+coton+pima+uni-lacoste/49796363/101\", 38,50, \"h\", 2),\n",
      "(\"Fred Perry\", \"T-shirt en coton uni à bords contrastants\", \"https://www.galerieslafayette.com/p/t-shirt+en+coton+uni+a+bords+contrastants-fred+perry/49558024/101\", 30,00, \"h\", 2),\n",
      "(\"Ikks\", \"T-shirt en coton flammé print bandes contrastantes et visage\", \"https://www.galerieslafayette.com/p/t-shirt+en+coton+flamme+print+bandes+contrastantes+et+visage-ikks/50354830/103\", 30,00, \"h\", 2),\n",
      "(\"Ikks\", \"T-shirt à rayures contrastantes effet fondu\", \"https://www.galerieslafayette.com/p/t-shirt+a+rayures+contrastantes+effet+fondu-ikks/50029632/325\", 30,00, \"h\", 2),\n",
      "(\"American Vintage\", \"T-shirt Denver\", \"https://www.galerieslafayette.com/p/t-shirt+denver-american+vintage/51284134/230\", 35,00, \"h\", 2),\n",
      "(\"Calvin Klein\", \"T-shirt Toreos\", \"https://www.galerieslafayette.com/p/t-shirt+toreos-calvin+klein/48571385/85\", 29,50, \"h\", 2),\n",
      "(\"Pepe Jeans\", \"T-shirt Darren\", \"https://www.galerieslafayette.com/p/t-shirt+darren-pepe+jeans/49900520/85\", 14,95, \"h\", 2),\n",
      "(\"Tommy Jeans\", \"T-shirt en coton flammé logotypé\", \"https://www.galerieslafayette.com/p/t-shirt+en+coton+flamme+logotype-tommy+jeans/50632492/85\", 17,50, \"h\", 2),\n",
      "(\"Galeries Lafayette\", \"T-shirt Mishik\", \"https://www.galerieslafayette.com/p/t-shirt+mishik-galeries+lafayette/48048352/119\", 12,49, \"h\", 2),\n",
      "(\"Ea7\", \"T-shirt à imprimé graphique et sérigraphie logo\", \"https://www.galerieslafayette.com/p/t-shirt+a+imprime+graphique+et+serigraphie+logo-ea7/50356691/244\", 34,50, \"h\", 2),\n",
      "(\"Armani Exchange\", \"T-shirt droit à poche poitrine bordée de bandes siglées\", \"https://www.galerieslafayette.com/p/t-shirt+droit+a+poche+poitrine+bordee+de+bandes+siglees-armani+exchange/50589493/402\", 32,50, \"h\", 2),\n",
      "(\"Galeries Lafayette\", \"T-shirt Mishon\", \"https://www.galerieslafayette.com/p/t-shirt+mishon-galeries+lafayette/48362565/320, 7,49\", \"h\", 2);\n"
     ]
    }
   ],
   "source": [
    "length = (len(prix_htshirt))\n",
    "print(\"INSERT INTO Vetement (marque, description, lien, prix, genre, temperature)\")\n",
    "print(\"VALUES\")\n",
    "for i in range(length-2):\n",
    "    print(\"(\\\"\"+marque_htshirt[i]+\"\\\", \\\"\"+desc_htshirt[i]+\"\\\", \\\"\"+lien_htshirt[i]+\"\\\", \"+prix_htshirt[i]+\", \\\"h\\\", 2),\")\n",
    "print(\"(\\\"\"+marque_htshirt[length-1]+\"\\\", \\\"\"+desc_htshirt[length-1]+\"\\\", \\\"\"+lien_htshirt[length-1]+\", \"+prix_htshirt[length-1]+\"\\\", \\\"h\\\", 2);\")"
   ]
  },
  {
   "cell_type": "markdown",
   "metadata": {},
   "source": [
    "# DEBARDEUR"
   ]
  },
  {
   "cell_type": "code",
   "execution_count": 23,
   "metadata": {},
   "outputs": [
    {
     "name": "stdout",
     "output_type": "stream",
     "text": [
      "9\n",
      "9\n",
      "9\n",
      "9\n",
      "9\n"
     ]
    }
   ],
   "source": [
    "marque_hdeb = []\n",
    "desc_hdeb = []\n",
    "lien_hdeb = []\n",
    "html = urlopen(\"https://www.galerieslafayette.com/c/homme-pret-a-porter-t-shirts+et+polos/f/debardeurs\")\n",
    "soup = BeautifulSoup(html, \"html.parser\")\n",
    "for marque in soup.find_all('strong',attrs={\"class\" :\"pdt-brand bold-large-title-marque one\"}):\n",
    "    marque_hdeb.append((marque).get_text())\n",
    "\n",
    "for link in soup.find_all('a',class_=\"js-pdt-link js-recommendation-event\"):\n",
    "    lien_hdeb.append(\"https://www.galerieslafayette.com\" + link.get('href'))\n",
    "for desc in soup.find_all('span',class_=\"pdt-name three\"):\n",
    "    desc_hdeb.append((desc).get_text())\n",
    "    \n",
    "prix_hdeb = []\n",
    "prix_hdeb_temp = []\n",
    "\n",
    "for price in soup.find_all('span',attrs={\"class\" :\"price\"}):\n",
    "    prix_hdeb_temp.append(re.findall(r\"\\d+,\\d{2}\",str(price)))\n",
    "for elem in prix_hdeb_temp:\n",
    "    prix_hdeb.append(\" \".join(elem)) \n",
    "\n",
    "print(len(marque_hdeb))\n",
    "print(len(desc_hdeb))\n",
    "print(len(lien_hdeb))\n",
    "print(len(prix_hdeb))\n",
    "print(len(prix_hdeb_temp))"
   ]
  },
  {
   "cell_type": "code",
   "execution_count": 16,
   "metadata": {},
   "outputs": [
    {
     "name": "stdout",
     "output_type": "stream",
     "text": [
      "INSERT INTO Vetement (marque, description, lien, prix, genre, temperature)\n",
      "VALUES\n",
      "(\"Guy De Berac\", \"Débardeur droit sans manche en laine\", \"https://www.galerieslafayette.com/p/debardeur+droit+sans+manche+en+laine-guy+de+berac/33937046/2917\", 17,50, \"h\", 3),\n",
      "(\"Scotch And Soda\", \"Débardeur droit uni en coton\", \"https://www.galerieslafayette.com/p/debardeur+droit+uni+en+coton-scotch+and+soda/49749589/320\", 10,79, \"h\", 3),\n",
      "(\"Impetus\", \"Débardeur en coton stretch\", \"https://www.galerieslafayette.com/p/debardeur+en+coton+stretch-impetus/28038030/320\", 28,00, \"h\", 3),\n",
      "(\"Impetus\", \"Débardeur en coton stretch\", \"https://www.galerieslafayette.com/p/debardeur+en+coton+stretch-impetus/28038030/85, 17,50\", \"h\", 3);\n"
     ]
    }
   ],
   "source": [
    "length = (len(prix_hdeb))\n",
    "print(\"INSERT INTO Vetement (marque, description, lien, prix, genre, temperature)\")\n",
    "print(\"VALUES\")\n",
    "for i in range(length-2):\n",
    "    print(\"(\\\"\"+marque_hdeb[i]+\"\\\", \\\"\"+desc_hdeb[i]+\"\\\", \\\"\"+lien_hdeb[i]+\"\\\", \"+prix_hdeb[i]+\", \\\"h\\\", 3),\")\n",
    "print(\"(\\\"\"+marque_hdeb[length-1]+\"\\\", \\\"\"+desc_hdeb[length-1]+\"\\\", \\\"\"+lien_hdeb[length-1]+\", \"+prix_hdeb[length-1]+\"\\\", \\\"h\\\", 3);\")"
   ]
  },
  {
   "cell_type": "markdown",
   "metadata": {},
   "source": [
    "# PULL"
   ]
  },
  {
   "cell_type": "code",
   "execution_count": null,
   "metadata": {},
   "outputs": [],
   "source": [
    "marque_hpull = []\n",
    "desc_hpull = []\n",
    "lien_hpull = []\n",
    "html = urlopen(\"https://www.galerieslafayette.com/c/homme-pret-a-porter-maille\")\n",
    "soup = BeautifulSoup(html, \"html.parser\")\n",
    "for marque in soup.find_all('strong',attrs={\"class\" :\"pdt-brand bold-large-title-marque one\"}):\n",
    "    marque_hpull.append((marque).get_text())\n",
    "\n",
    "for link in soup.find_all('a',class_=\"js-pdt-link js-recommendation-event\"):\n",
    "    lien_hpull.append(\"https://www.galerieslafayette.com\" + link.get('href'))\n",
    "for desc in soup.find_all('span',class_=\"pdt-name three\"):\n",
    "    desc_hpull.append((desc).get_text())\n",
    "\n",
    "prix_hpull = []\n",
    "prix_hpull_temp = []\n",
    "\n",
    "for price in soup.find_all('span',attrs={\"class\" :\"price promotion\"}):\n",
    "    prix_hpull_temp.append(re.findall(r\"\\d+,\\d{2}\",str(price)))\n",
    "for elem in prix_hpull_temp:\n",
    "    prix_hpull.append(\" \".join(elem)) "
   ]
  },
  {
   "cell_type": "markdown",
   "metadata": {},
   "source": [
    "# PANTALON"
   ]
  },
  {
   "cell_type": "code",
   "execution_count": null,
   "metadata": {},
   "outputs": [],
   "source": [
    "marque_hpant = []\n",
    "desc_hpant = []\n",
    "lien_hpant = []\n",
    "html = urlopen(\"https://www.galerieslafayette.com/c/homme-pret-a-porter-pantalons+et+shorts\")\n",
    "soup = BeautifulSoup(html, \"html.parser\")\n",
    "for marque in soup.find_all('strong',attrs={\"class\" :\"pdt-brand bold-large-title-marque one\"}):\n",
    "    marque_hpant.append((marque).get_text())\n",
    "\n",
    "for link in soup.find_all('a',class_=\"js-pdt-link js-recommendation-event\"):\n",
    "    lien_hpant.append(\"https://www.galerieslafayette.com\" + link.get('href'))\n",
    "for desc in soup.find_all('span',class_=\"pdt-name three\"):\n",
    "    desc_hpant.append((desc).get_text())"
   ]
  },
  {
   "cell_type": "markdown",
   "metadata": {},
   "source": [
    "# SHORT"
   ]
  },
  {
   "cell_type": "code",
   "execution_count": null,
   "metadata": {},
   "outputs": [],
   "source": [
    "marque_hshort = []\n",
    "desc_hshort = []\n",
    "lien_hshort = []\n",
    "html = urlopen(\"https://www.galerieslafayette.com/c/homme-pret-a-porter-pantalons+et+shorts\")\n",
    "soup = BeautifulSoup(html, \"html.parser\")\n",
    "for marque in soup.find_all('strong',attrs={\"class\" :\"pdt-brand bold-large-title-marque one\"}):\n",
    "    marque_hshort.append((marque).get_text())\n",
    "\n",
    "for link in soup.find_all('a',class_=\"js-pdt-link js-recommendation-event\"):\n",
    "    lien_hshort.append(\"https://www.galerieslafayette.com\" + link.get('href'))\n",
    "for desc in soup.find_all('span',class_=\"pdt-name three\"):\n",
    "    desc_hshort.append((desc).get_text())"
   ]
  },
  {
   "cell_type": "markdown",
   "metadata": {},
   "source": [
    "# FEMME"
   ]
  },
  {
   "cell_type": "markdown",
   "metadata": {},
   "source": [
    "# T-SHIRT"
   ]
  },
  {
   "cell_type": "code",
   "execution_count": null,
   "metadata": {},
   "outputs": [],
   "source": [
    "marque_ftshirt = []\n",
    "desc_ftshirt = []\n",
    "lien_ftshirt = []\n",
    "prix_ftshirt = []\n",
    "html = urlopen(\"https://www.galerieslafayette.com/c/femme-pret-a-porter-tops+et+t-shirts/f/t-shirts\")\n",
    "soup = BeautifulSoup(html, \"html.parser\")\n",
    "for marque in soup.find_all('strong',attrs={\"class\" :\"pdt-brand bold-large-title-marque one\"}):\n",
    "    marque_ftshirt.append((marque).get_text())\n",
    "\n",
    "for link in soup.find_all('a',class_=\"js-pdt-link js-recommendation-event\"):\n",
    "    lien_ftshirt.append(\"https://www.galerieslafayette.com\" + link.get('href'))\n",
    "for desc in soup.find_all('span',class_=\"pdt-name three\"):\n",
    "    desc_ftshirt.append((desc).get_text())\n",
    "    \n",
    "prix_ftshirt = []\n",
    "prix_ftshirt_temp = []\n",
    "\n",
    "for price in soup.find_all('span',attrs={\"class\" :\"price promotion\"}):\n",
    "    prix_ftshirt_temp.append(re.findall(r\"\\d+,\\d{2}\",str(price)))\n",
    "for elem in prix_ftshirt_temp:\n",
    "    prix_ftshirt.append(\" \".join(elem))  "
   ]
  },
  {
   "cell_type": "markdown",
   "metadata": {},
   "source": [
    "# DEBARDEUR"
   ]
  },
  {
   "cell_type": "code",
   "execution_count": null,
   "metadata": {},
   "outputs": [],
   "source": [
    "marque_fdeb =[]\n",
    "desc_fdeb = []\n",
    "lien_fdeb = []\n",
    "html = urlopen(\"https://www.galerieslafayette.com/c/homme-pret-a-porter-t-shirts+et+polos/f/debardeurs\")\n",
    "soup = BeautifulSoup(html, \"html.parser\")\n",
    "for marque in soup.find_all('strong',attrs={\"class\" :\"pdt-brand bold-large-title-marque one\"}):\n",
    "    marque_fdeb.append((marque).get_text())\n",
    "\n",
    "for link in soup.find_all('a',class_=\"js-pdt-link js-recommendation-event\"):\n",
    "    lien_fdeb.append(\"https://www.galerieslafayette.com\" + link.get('href'))\n",
    "for desc in soup.find_all('span',class_=\"pdt-name three\"):\n",
    "    desc_fdeb.append((desc).get_text())\n",
    "\n",
    "prix_fdeb = []\n",
    "prix_fdeb_temp = []\n",
    "\n",
    "for price in soup.find_all('span',attrs={\"class\" :\"price promotion\"}):\n",
    "    prix_fdeb_temp.append(re.findall(r\"\\d+,\\d{2}\",str(price)))\n",
    "for elem in prix_fdeb_temp:\n",
    "    prix_fdeb.append(\" \".join(elem))  "
   ]
  },
  {
   "cell_type": "markdown",
   "metadata": {},
   "source": [
    "# PULL"
   ]
  },
  {
   "cell_type": "code",
   "execution_count": null,
   "metadata": {},
   "outputs": [],
   "source": [
    "marque_fpull = []\n",
    "desc_fpull = []\n",
    "lien_fpull = []\n",
    "html = urlopen(\"https://www.galerieslafayette.com/c/homme-pret-a-porter-maille\")\n",
    "soup = BeautifulSoup(html, \"html.parser\")\n",
    "for marque in soup.find_all('strong',attrs={\"class\" :\"pdt-brand bold-large-title-marque one\"}):\n",
    "    marque_fpull.append((marque).get_text())\n",
    "\n",
    "for link in soup.find_all('a',class_=\"js-pdt-link js-recommendation-event\"):\n",
    "    lien_fpull.append(\"https://www.galerieslafayette.com\" + link.get('href'))\n",
    "for desc in soup.find_all('span',class_=\"pdt-name three\"):\n",
    "    desc_fpull.append((desc).get_text())\n",
    "\n",
    "prix_fpull = []\n",
    "prix_fpull_temp = []\n",
    "\n",
    "for price in soup.find_all('span',attrs={\"class\" :\"price promotion\"}):\n",
    "    prix_fpull_temp.append(re.findall(r\"\\d+,\\d{2}\",str(price)))\n",
    "for elem in prix_ftpull_temp:\n",
    "    prix_fpull.append(\" \".join(elem))  "
   ]
  },
  {
   "cell_type": "markdown",
   "metadata": {},
   "source": [
    "# PANTALON"
   ]
  },
  {
   "cell_type": "code",
   "execution_count": null,
   "metadata": {},
   "outputs": [],
   "source": [
    "marque_fpant = []\n",
    "desc_fpant = []\n",
    "lien_fpant = []\n",
    "html = urlopen(\"https://www.galerieslafayette.com/c/femme-pret-a-porter-jeans\")\n",
    "soup = BeautifulSoup(html, \"html.parser\")\n",
    "for marque in soup.find_all('strong',attrs={\"class\" :\"pdt-brand bold-large-title-marque one\"}):\n",
    "    marque_fpant.append((marque).get_text())\n",
    "\n",
    "for link in soup.find_all('a',class_=\"js-pdt-link js-recommendation-event\"):\n",
    "    lien_fpant.append(\"https://www.galerieslafayette.com\" + link.get('href'))\n",
    "for desc in soup.find_all('span',class_=\"pdt-name three\"):\n",
    "    desc_fpant.append((desc).get_text())\n",
    "    \n",
    "prix_fpant = []\n",
    "prix_fpant_temp = []\n",
    "\n",
    "for price in soup.find_all('span',attrs={\"class\" :\"price promotion\"}):\n",
    "    prix_fpant_temp.append(re.findall(r\"\\d+,\\d{2}\",str(price)))\n",
    "for elem in prix_ftshirt_temp:\n",
    "    prix_fpant.append(\" \".join(elem))  "
   ]
  },
  {
   "cell_type": "markdown",
   "metadata": {},
   "source": [
    "# JUPE"
   ]
  },
  {
   "cell_type": "code",
   "execution_count": null,
   "metadata": {},
   "outputs": [],
   "source": [
    "marque_fjupe = []\n",
    "desc_fjupe = []\n",
    "lien_fjupe = []\n",
    "html = urlopen(\"https://www.galerieslafayette.com/c/femme-pret-a-porter-jupes\")\n",
    "soup = BeautifulSoup(html, \"html.parser\")\n",
    "for marque in soup.find_all('strong',attrs={\"class\" :\"pdt-brand bold-large-title-marque one\"}):\n",
    "    marque_fjupe.append((marque).get_text())\n",
    "\n",
    "for link in soup.find_all('a',class_=\"js-pdt-link js-recommendation-event\"):\n",
    "    lien_fjupe.append(\"https://www.galerieslafayette.com\" + link.get('href'))\n",
    "for desc in soup.find_all('span',class_=\"pdt-name three\"):\n",
    "    desc_fjupe.append((desc).get_text())\n",
    "    \n",
    "prix_fjupe = []\n",
    "prix_fjupe_temp = []\n",
    "\n",
    "for price in soup.find_all('span',attrs={\"class\" :\"price promotion\"}):\n",
    "    prix_fjupe_temp.append(re.findall(r\"\\d+,\\d{2}\",str(price)))\n",
    "for elem in prix_ftshirt_temp:\n",
    "    prix_fjupe.append(\" \".join(elem))  "
   ]
  },
  {
   "cell_type": "markdown",
   "metadata": {},
   "source": [
    "# PARAPLUIE"
   ]
  },
  {
   "cell_type": "code",
   "execution_count": null,
   "metadata": {},
   "outputs": [],
   "source": [
    "marque_para = []\n",
    "desc_para = []\n",
    "lien_para = []\n",
    "html = urlopen(\"https://www.galerieslafayette.com/s/parapluies+automatiques/f/parapluies+automatiques\")\n",
    "soup = BeautifulSoup(html, \"html.parser\")\n",
    "for marque in soup.find_all('strong',attrs={\"class\" :\"pdt-brand bold-large-title-marque one\"}):\n",
    "    marque_para.append((marque).get_text())\n",
    "\n",
    "for link in soup.find_all('a',class_=\"js-pdt-link js-recommendation-event\"):\n",
    "    lien_para.append(\"https://www.galerieslafayette.com\" + link.get('href'))\n",
    "for desc in soup.find_all('span',class_=\"pdt-name three\"):\n",
    "    desc_para.append((desc).get_text())\n",
    "\n",
    "prix_para = []\n",
    "prix_para_temp = []\n",
    "\n",
    "for price in soup.find_all('span',attrs={\"class\" :\"price promotion\"}):\n",
    "    prix_para_temp.append(re.findall(r\"\\d+,\\d{2}\",str(price)))\n",
    "for elem in prix_ftshirt_temp:\n",
    "    prix_para.append(\" \".join(elem)) "
   ]
  }
 ],
 "metadata": {
  "kernelspec": {
   "display_name": "Python 3",
   "language": "python",
   "name": "python3"
  },
  "language_info": {
   "codemirror_mode": {
    "name": "ipython",
    "version": 3
   },
   "file_extension": ".py",
   "mimetype": "text/x-python",
   "name": "python",
   "nbconvert_exporter": "python",
   "pygments_lexer": "ipython3",
   "version": "3.6.4"
  }
 },
 "nbformat": 4,
 "nbformat_minor": 2
}
