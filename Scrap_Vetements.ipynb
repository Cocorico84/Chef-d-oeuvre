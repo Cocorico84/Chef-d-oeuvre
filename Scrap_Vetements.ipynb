{
 "cells": [
  {
   "cell_type": "code",
   "execution_count": 1,
   "metadata": {},
   "outputs": [],
   "source": [
    "# importation des librairies\n",
    "\n",
    "from urllib.request import urlopen\n",
    "from bs4 import BeautifulSoup\n",
    "import re"
   ]
  },
  {
   "cell_type": "markdown",
   "metadata": {},
   "source": [
    "# HOMME"
   ]
  },
  {
   "cell_type": "markdown",
   "metadata": {},
   "source": [
    "# T-SHIRT"
   ]
  },
  {
   "cell_type": "code",
   "execution_count": 2,
   "metadata": {},
   "outputs": [],
   "source": [
    "#listes utilisé pour le scrapping\n",
    "marque_htshirt = []\n",
    "desc_htshirt = []\n",
    "lien_htshirt = []\n",
    "prix_htshirt = []\n",
    "\n",
    "#Utilisation de beautifulSoup avec l'HTML adapté\n",
    "html = urlopen('https://www.galerieslafayette.com/c/homme-pret-a-porter-t-shirts+et+polos/f/t-shirts')\n",
    "soup = BeautifulSoup(html, \"html.parser\")\n",
    "\n",
    "#Scrapping de la marque, lien et description des produits de la pages(ici T-shirt)\n",
    "for marque in soup.find_all('strong',attrs={'class' : 'pdt-brand bold-large-title-marque one'}):\n",
    "    marque_htshirt.append((marque).get_text())\n",
    "for link in soup.find_all('a',class_='js-pdt-link js-recommendation-event'):\n",
    "    lien_htshirt.append('https://www.galerieslafayette.com' + link.get('href'))\n",
    "for desc in soup.find_all('span',class_='pdt-name three'):\n",
    "    desc_htshirt.append((desc).get_text())\n",
    "\n",
    "\n",
    "prix_htshirt_temp = []\n",
    "#Scrapping du prix en normalisant avec le regex\n",
    "for price in soup.find_all('span',attrs={'class' :'price'}):\n",
    "    prix_htshirt_temp.append(re.findall(r'\\d+,\\d{2}',str(price)))\n",
    "for elem in prix_htshirt_temp:\n",
    "    prix_htshirt.append(' '.join(elem))  "
   ]
  },
  {
   "cell_type": "code",
   "execution_count": 3,
   "metadata": {},
   "outputs": [],
   "source": [
    "# changement de la virgule par un point nécessaire pour sql\n",
    "\n",
    "prix_htshirt2 = []\n",
    "for i in prix_htshirt:\n",
    "    prix_htshirt2.append(i.replace(\",\",\".\"))"
   ]
  },
  {
   "cell_type": "code",
   "execution_count": 4,
   "metadata": {},
   "outputs": [
    {
     "name": "stdout",
     "output_type": "stream",
     "text": [
      "INSERT INTO Vetement (marque, description, lien, prix, genre, item)\n",
      "VALUES\n",
      "('Pepe Jeans', 'T-shirt en coton logo', 'https://www.galerieslafayette.com/p/t-shirt+en+coton+logo-pepe+jeans/53134690/85', 14.00, 'h', 'ts'),\n",
      "('Pepe Jeans', 'T-shirt Charing', 'https://www.galerieslafayette.com/p/t-shirt+charing-pepe+jeans/49910495/320', 14.00, 'h', 'ts'),\n",
      "('Polo Ralph Lauren', 'T-shirt droit uni logotypé', 'https://www.galerieslafayette.com/p/t-shirt+droit+uni+logotype-polo+ralph+lauren/45855565/85', 59.00, 'h', 'ts'),\n",
      "('Ikks', 'T-shirt 2 en 1 à manches longues', 'https://www.galerieslafayette.com/p/t-shirt+2+en+1+a+manches+longues-ikks/50029751/206', 42.00, 'h', 'ts'),\n",
      "('Tommy Jeans', 'T-shirt en coton flammé à bandes contrastantes', 'https://www.galerieslafayette.com/p/t-shirt+en+coton+flamme+a+bandes+contrastantes-tommy+jeans/50632478/85', 22.50, 'h', 'ts'),\n",
      "('Zadig & Voltaire', 'T-shirt en coton Toby', 'https://www.galerieslafayette.com/p/t-shirt+en+coton+toby-zadig+voltaire/51134378/85', 63.00, 'h', 'ts'),\n",
      "('Zadig & Voltaire', 'T-shirt Hectorio', 'https://www.galerieslafayette.com/p/t-shirt+hectorio-zadig+voltaire/50818486/125', 63.00, 'h', 'ts'),\n",
      "('Levi'S', 'T-shirt en coton logotypé', 'https://www.galerieslafayette.com/p/t-shirt+en+coton+logotype-levi+s/37375644/85', 20.00, 'h', 'ts'),\n",
      "('Zadig & Voltaire', 'Polo manches courtes Totem', 'https://www.galerieslafayette.com/p/polo+manches+courtes+totem-zadig+voltaire/50818519/125', 60.00, 'h', 'ts'),\n",
      "('Polo Ralph Lauren', 'T-shirt logotypé en coton', 'https://www.galerieslafayette.com/p/t-shirt+logotype+en+coton-polo+ralph+lauren/45855572/125', 59.00, 'h', 'ts'),\n",
      "('Polo Ralph Lauren', 'T-shirt effet chiné custom fit', 'https://www.galerieslafayette.com/p/t-shirt+effet+chine+custom+fit-polo+ralph+lauren/48928786/320', 59.00, 'h', 'ts'),\n",
      "('Sandro', 'T-shirt rayé lin', 'https://www.galerieslafayette.com/p/t-shirt+raye+lin-sandro/49830202/88', 59.50, 'h', 'ts'),\n",
      "('Lacoste', 'T-shirt en coton pima uni', 'https://www.galerieslafayette.com/p/t-shirt+en+coton+pima+uni-lacoste/46021332/125', 55.00, 'h', 'ts'),\n",
      "('Guess', 'T-SHIRT BOUTONS MICRO-MOTIF', 'https://www.galerieslafayette.com/p/t-shirt+boutons+micro-motif-guess/300404453218/85', 18.00, 'h', 'ts'),\n",
      "('Polo Ralph Lauren', 'T-shirt à col tunisien print 67', 'https://www.galerieslafayette.com/p/t-shirt+a+col+tunisien+print+67-polo+ralph+lauren/49845896/106', 52.50, 'h', 'ts'),\n",
      "('Sandro', 'T-shirt droit en lin', 'https://www.galerieslafayette.com/p/t-shirt+droit+en+lin-sandro/11393979/457', 52.50, 'h', 'ts'),\n",
      "('Calvin Klein', 'T-shirt en coton print contrastant rectangle 1978 ', 'https://www.galerieslafayette.com/p/t-shirt+en+coton+print+contrastant+rectangle+1978-calvin+klein/50068651/320', 24.50, 'h', 'ts'),\n",
      "('Michael Kors', 'T-shirt en jersey uni', 'https://www.galerieslafayette.com/p/t-shirt+en+jersey+uni-michael+kors/45654132/85', 49.00, 'h', 'ts'),\n",
      "('Michael Kors', 'T-shirt en jersey uni', 'https://www.galerieslafayette.com/p/t-shirt+en+jersey+uni-michael+kors/45654132/320', 49.00, 'h', 'ts'),\n",
      "('Michael Kors', 'T-shirt en jersey uni', 'https://www.galerieslafayette.com/p/t-shirt+en+jersey+uni-michael+kors/45654132/101', 49.00, 'h', 'ts'),\n",
      "('Eden Park', 'T-shirt droit uni col V', 'https://www.galerieslafayette.com/p/t-shirt+droit+uni+col+v-eden+park/33707270/125', 45.00, 'h', 'ts'),\n",
      "('Calvin Klein', 'T-shirt Boros', 'https://www.galerieslafayette.com/p/t-shirt+boros-calvin+klein/50068657/320', 22.50, 'h', 'ts'),\n",
      "('Hackett London', 'T-shirt bicolore Aston martin Racing', 'https://www.galerieslafayette.com/p/t-shirt+bicolore+aston+martin+racing-hackett+london/49304083/85', 45.50, 'h', 'ts'),\n",
      "('Armani Exchange', 'T-shirt logotypé slim fit', 'https://www.galerieslafayette.com/p/t-shirt+logotype+slim+fit-armani+exchange/54673794/125', 45.00, 'h', 'ts'),\n",
      "('Lacoste', 'T-shirt droit en jersey et coton piqué', 'https://www.galerieslafayette.com/p/t-shirt+droit+en+jersey+et+coton+pique-lacoste/49796389/401', 45.50, 'h', 'ts'),\n",
      "('Lacoste', 'T-shirt droit à fines rayures contrastantes', 'https://www.galerieslafayette.com/p/t-shirt+droit+a+fines+rayures+contrastantes-lacoste/49796423/101', 42.00, 'h', 'ts'),\n",
      "('Lacoste', 'T-shirt droit en coton piqué logo brodé', 'https://www.galerieslafayette.com/p/t-shirt+droit+en+coton+pique+logo+brode-lacoste/49796407/401', 42.00, 'h', 'ts'),\n",
      "('Ikks', 'T-shirt 2 en 1 à manches longues', 'https://www.galerieslafayette.com/p/t-shirt+2+en+1+a+manches+longues-ikks/50029751/263', 42.00, 'h', 'ts'),\n",
      "('Guess', 'T-SHIRT MOTIF PALMIERS', 'https://www.galerieslafayette.com/p/t-shirt+motif+palmiers-guess/300405208436/101', 19.50, 'h', 'ts'),\n",
      "('Guess', 'T-SHIRT LOGO FRONTAL', 'https://www.galerieslafayette.com/p/t-shirt+logo+frontal-guess/300405213103/230', 39.90, 'h', 'ts'),\n",
      "('Napapijri', 'T-shirt Sandy', 'https://www.galerieslafayette.com/p/t-shirt+sandy-napapijri/49520849/232', 37.00, 'h', 'ts'),\n",
      "('Tommy Jeans', 'T-shirt en coton flammé logotypé', 'https://www.galerieslafayette.com/p/t-shirt+en+coton+flamme+logotype-tommy+jeans/50632492/401', 17.50, 'h', 'ts'),\n",
      "('Calvin Klein', 'T-shirt droit en coton à poche poitrine logotypée', 'https://www.galerieslafayette.com/p/t-shirt+droit+en+coton+a+poche+poitrine+logotypee-calvin+klein/53896626/125', 35.00, 'h', 'ts'),\n",
      "('Scotch And Soda', 'T-shirt droit print fantaisie', 'https://www.galerieslafayette.com/p/t-shirt+droit+print+fantaisie-scotch+and+soda/49749349/204', 34.50, 'h', 'ts'),\n",
      "('Polo Ralph Lauren', 'T-shirt en tissu technique logotypé à imprimé camouflage', 'https://www.galerieslafayette.com/p/t-shirt+en+tissu+technique+logotype+a+imprime+camouflage-polo+ralph+lauren/49845129/119', 34.50, 'h', 'ts'),\n",
      "('Mise Au Green', 'T-shirt Image', 'https://www.galerieslafayette.com/p/t-shirt+image-mise+au+green/51381380/85', 34.00, 'h', 'ts'),\n",
      "('Chevignon', 'Tee Shirt Mc Straight Impimé', 'https://www.galerieslafayette.com/p/tee+shirt+mc+straight+impime-chevignon/300404346053/233', 31.50, 'h', 'ts'),\n",
      "('Kaporal Jeans', 'T-shirt Twik', 'https://www.galerieslafayette.com/p/t-shirt+twik-kaporal+jeans/49900134/320', 15.00, 'h', 'ts'),\n",
      "('Guess', 'T-SHIRT LOGO TRIANGLE', 'https://www.galerieslafayette.com/p/t-shirt+logo+triangle-guess/300404972179/85', 29.90, 'h', 'ts'),\n",
      "('Galeries Lafayette', 'T-shirt Tishron', 'https://www.galerieslafayette.com/p/t-shirt+tishron-galeries+lafayette/52564413/85', 14.99, 'h', 'ts'),\n",
      "('Kaporal Jeans', 'T-shirt foot Espagne ', 'https://www.galerieslafayette.com/p/t-shirt+foot+espagne-kaporal+jeans/54693935/401', 29.00, 'h', 'ts'),\n",
      "('Carhartt Wip', 'T-shirt droit uni poche poitrine siglée', 'https://www.galerieslafayette.com/p/t-shirt+droit+uni+poche+poitrine+siglee-carhartt+wip/54815145/85', 29.00, 'h', 'ts'),\n",
      "('Marciano Guess', 'T-SHIRT MARCIANO LOGO', 'https://www.galerieslafayette.com/p/t-shirt+marciano+logo-marciano+guess/300405169361/85', 29.00, 'h', 'ts'),\n",
      "('Galeries Lafayette', 'T-shirt Tishve', 'https://www.galerieslafayette.com/p/t-shirt+tishve-galeries+lafayette/52564368/125', 14.99, 'h', 'ts'),\n",
      "('Marciano Guess', 'T-SHIRT MARCIANO LOGO', 'https://www.galerieslafayette.com/p/t-shirt+marciano+logo-marciano+guess/300404422573/230', 29.50, 'h', 'ts'),\n",
      "('Teddy Smith', 'T-shirt Twiga', 'https://www.galerieslafayette.com/p/t-shirt+twiga-teddy+smith/49291856/233', 14.50, 'h', 'ts'),\n",
      "('Scotch And Soda', 'T-shirt droit print timbre', 'https://www.galerieslafayette.com/p/t-shirt+droit+print+timbre-scotch+and+soda/49386270/306', 28.00, 'h', 'ts'),\n",
      "('Calvin Klein', 'T-shirt Tanav', 'https://www.galerieslafayette.com/p/t-shirt+tanav-calvin+klein/50068558/101', 27.50, 'h', 'ts'),\n",
      "('Jack & Jones', 'T-shirt Jed Premium By Jack & Jones', 'https://www.galerieslafayette.com/p/t-shirt+jed+premium+by+jack+jones-jack+jones/49891349/88', 13.99, 'h', 'ts'),\n",
      "('Tommy Hilfiger', 'T-shirt en coton uni à flocage contrastant', 'https://www.galerieslafayette.com/p/t-shirt+en+coton+uni+a+flocage+contrastant-tommy+hilfiger/50597051/256', 25.20, 'h', 'ts'),\n",
      "('Levi'S', 'T-shirt Baseball', 'https://www.galerieslafayette.com/p/t-shirt+baseball-levi+s/37718959/88', 24.50, 'h', 'ts'),\n",
      "('Galeries Lafayette', 'T-shirt Mishlin', 'https://www.galerieslafayette.com/p/t-shirt+mishlin-galeries+lafayette/49736597/263', 24.99, 'h', 'ts'),\n",
      "('Calvin Klein', 'T-shirt à lettrage en velours slim fit', 'https://www.galerieslafayette.com/p/t-shirt+a+lettrage+en+velours+slim+fit-calvin+klein/50689085/125', 24.50, 'h', 'ts'),\n",
      "('One Step', 'T-shirt en coton à larges rayures regular', 'https://www.galerieslafayette.com/p/t-shirt+en+coton+a+larges+rayures+regular-one+step/50731703/235', 24.00, 'h', 'ts'),\n",
      "('Calvin Klein', 'T-shirt logotypé à manches longues', 'https://www.galerieslafayette.com/p/t-shirt+logotype+a+manches+longues-calvin+klein/50068664/320', 24.50, 'h', 'ts'),\n",
      "('Galeries Lafayette', 'T-shirt Mishlin', 'https://www.galerieslafayette.com/p/t-shirt+mishlin-galeries+lafayette/49736597/101', 24.99, 'h', 'ts'),\n",
      "('Kaporal Jeans', 'T-shirt Halir', 'https://www.galerieslafayette.com/p/t-shirt+halir-kaporal+jeans/49900041/104', 23.40, 'h', 'ts'),\n",
      "('Element', 'T-shirt label sur la poche', 'https://www.galerieslafayette.com/p/t-shirt+label+sur+la+poche-element/54702148/140', 22.50, 'h', 'ts'),\n",
      "('One Step', 'T-shirt print motifs géométriques slim fit', 'https://www.galerieslafayette.com/p/t-shirt+print+motifs+geometriques+slim+fit-one+step/50731311/119', 22.50, 'h', 'ts');\n"
     ]
    }
   ],
   "source": [
    "length = (len(prix_htshirt))\n",
    "print('INSERT INTO Vetement (marque, description, lien, prix, genre, item)')\n",
    "print('VALUES')\n",
    "for i in range(length-2):\n",
    "    print('(\\''+marque_htshirt[i]+'\\', \\''+desc_htshirt[i]+'\\', \\''+lien_htshirt[i]+'\\', '+prix_htshirt2[i]+', \\'h\\', \\'ts\\'),')\n",
    "print('(\\''+marque_htshirt[length-1]+'\\', \\''+desc_htshirt[length-1]+'\\', \\''+lien_htshirt[length-1]+'\\', '+prix_htshirt2[length-1]+', \\'h\\', \\'ts\\');')"
   ]
  },
  {
   "cell_type": "markdown",
   "metadata": {},
   "source": [
    "# DEBARDEUR"
   ]
  },
  {
   "cell_type": "code",
   "execution_count": 5,
   "metadata": {},
   "outputs": [
    {
     "name": "stdout",
     "output_type": "stream",
     "text": [
      "7\n",
      "7\n",
      "7\n",
      "7\n",
      "7\n"
     ]
    }
   ],
   "source": [
    "marque_hdeb = []\n",
    "desc_hdeb = []\n",
    "lien_hdeb = []\n",
    "html = urlopen(\"https://www.galerieslafayette.com/c/homme-pret-a-porter-t-shirts+et+polos/f/debardeurs\")\n",
    "soup = BeautifulSoup(html, \"html.parser\")\n",
    "for marque in soup.find_all('strong',attrs={\"class\" :\"pdt-brand bold-large-title-marque one\"}):\n",
    "    marque_hdeb.append((marque).get_text())\n",
    "\n",
    "for link in soup.find_all('a',class_=\"js-pdt-link js-recommendation-event\"):\n",
    "    lien_hdeb.append(\"https://www.galerieslafayette.com\" + link.get('href'))\n",
    "for desc in soup.find_all('span',class_=\"pdt-name three\"):\n",
    "    desc_hdeb.append((desc).get_text())\n",
    "    \n",
    "prix_hdeb = []\n",
    "prix_hdeb_temp = []\n",
    "\n",
    "for price in soup.find_all('span',attrs={\"class\" :\"price\"}):\n",
    "    prix_hdeb_temp.append(re.findall(r\"\\d+,\\d{2}\",str(price)))\n",
    "for elem in prix_hdeb_temp:\n",
    "    prix_hdeb.append(\" \".join(elem)) \n",
    "\n",
    "print(len(marque_hdeb))\n",
    "print(len(desc_hdeb))\n",
    "print(len(lien_hdeb))\n",
    "print(len(prix_hdeb))\n",
    "print(len(prix_hdeb_temp))"
   ]
  },
  {
   "cell_type": "code",
   "execution_count": 6,
   "metadata": {},
   "outputs": [],
   "source": [
    "# changement de la virgule par un point nécessaire pour sql\n",
    "\n",
    "prix_hdeb2 = []\n",
    "for i in prix_hdeb:\n",
    "    prix_hdeb2.append(i.replace(\",\",\".\"))"
   ]
  },
  {
   "cell_type": "code",
   "execution_count": 7,
   "metadata": {},
   "outputs": [
    {
     "name": "stdout",
     "output_type": "stream",
     "text": [
      "INSERT INTO Vetement (marque, description, lien, prix, genre, item)\n",
      "VALUES\n",
      "('Impetus', 'Débardeur en coton stretch', 'https://www.galerieslafayette.com/p/debardeur+en+coton+stretch-impetus/28038030/320', 21.90, 'h', 'deb'),\n",
      "('Scotch And Soda', 'Débardeur droit uni en coton', 'https://www.galerieslafayette.com/p/debardeur+droit+uni+en+coton-scotch+and+soda/49749589/320', 17.50, 'h', 'deb'),\n",
      "('Satisfy', 'Débardeur de running en nylon ajouré', 'https://www.galerieslafayette.com/p/debardeur+de+running+en+nylon+ajoure-satisfy/49226035/320', 60.00, 'h', 'deb'),\n",
      "('Guy De Berac', 'Débardeur droit sans manche en laine', 'https://www.galerieslafayette.com/p/debardeur+droit+sans+manche+en+laine-guy+de+berac/33937046/2917', 85.00, 'h', 'deb'),\n",
      "('Satisfy', 'Débardeur de running ajouré print homme', 'https://www.galerieslafayette.com/p/debardeur+de+running+ajoure+print+homme-satisfy/49226029/85', 60.00, 'h', 'deb'),\n",
      "('Pull-In', 'Débardeur homme GOODBOY', 'https://www.galerieslafayette.com/p/debardeur+homme+goodboy-pull-in/300404666557/230', 17.40, 'h', 'deb');\n"
     ]
    }
   ],
   "source": [
    "length = (len(prix_hdeb))\n",
    "print('INSERT INTO Vetement (marque, description, lien, prix, genre, item)')\n",
    "print('VALUES')\n",
    "for i in range(length-2):\n",
    "    print('(\\''+marque_hdeb[i]+'\\', \\''+desc_hdeb[i]+'\\', \\''+lien_hdeb[i]+'\\', '+prix_hdeb2[i]+', \\'h\\', \\'deb\\'),')\n",
    "print('(\\''+marque_hdeb[length-1]+'\\', \\''+desc_hdeb[length-1]+'\\', \\''+lien_hdeb[length-1]+'\\', '+prix_hdeb2[length-1]+', \\'h\\', \\'deb\\');')"
   ]
  },
  {
   "cell_type": "markdown",
   "metadata": {},
   "source": [
    "# PULL"
   ]
  },
  {
   "cell_type": "code",
   "execution_count": 8,
   "metadata": {},
   "outputs": [],
   "source": [
    "marque_hpull = []\n",
    "desc_hpull = []\n",
    "lien_hpull = []\n",
    "html = urlopen(\"https://www.galerieslafayette.com/c/homme-pret-a-porter-maille\")\n",
    "soup = BeautifulSoup(html, \"html.parser\")\n",
    "for marque in soup.find_all('strong',attrs={\"class\" :\"pdt-brand bold-large-title-marque one\"}):\n",
    "    marque_hpull.append((marque).get_text())\n",
    "\n",
    "for link in soup.find_all('a',class_=\"js-pdt-link js-recommendation-event\"):\n",
    "    lien_hpull.append(\"https://www.galerieslafayette.com\" + link.get('href'))\n",
    "for desc in soup.find_all('span',class_=\"pdt-name three\"):\n",
    "    desc_hpull.append((desc).get_text())\n",
    "\n",
    "prix_hpull = []\n",
    "prix_hpull_temp = []\n",
    "\n",
    "for price in soup.find_all('span',attrs={\"class\" :\"price\"}):\n",
    "    prix_hpull_temp.append(re.findall(r\"\\d+,\\d{2}\",str(price)))\n",
    "for elem in prix_hpull_temp:\n",
    "    prix_hpull.append(\" \".join(elem)) "
   ]
  },
  {
   "cell_type": "code",
   "execution_count": 9,
   "metadata": {},
   "outputs": [],
   "source": [
    "# changement de la virgule par un point nécessaire pour sql\n",
    "\n",
    "prix_hpull2 = []\n",
    "for i in prix_hpull:\n",
    "    prix_hpull2.append(i.replace(\",\",\".\"))"
   ]
  },
  {
   "cell_type": "code",
   "execution_count": 10,
   "metadata": {},
   "outputs": [
    {
     "name": "stdout",
     "output_type": "stream",
     "text": [
      "INSERT INTO Vetement (marque, description, lien, prix, genre, item)\n",
      "VALUES\n",
      "('Polo Ralph Lauren', 'Sweat à lettre brodée', 'https://www.galerieslafayette.com/p/sweat+a+lettre+brodee-polo+ralph+lauren/49890808/230', 72.50, 'h', 'pull'),\n",
      "('Sandro', 'Pull droit en laine mérinos', 'https://www.galerieslafayette.com/p/pull+droit+en+laine+merinos-sandro/45968325/119', 97.50, 'h', 'pull'),\n",
      "('Lacoste', 'Gilet droit zippé et molletonné', 'https://www.galerieslafayette.com/p/gilet+droit+zippe+et+molletonne-lacoste/54820595/230', 95.00, 'h', 'pull'),\n",
      "('Tommy Hilfiger', 'Pull en coton à fines rayures', 'https://www.galerieslafayette.com/p/pull+en+coton+a+fines+rayures-tommy+hilfiger/50594813/125', 62.50, 'h', 'pull'),\n",
      "('Polo Ralph Lauren', 'Pull en maille motif drapeau', 'https://www.galerieslafayette.com/p/pull+en+maille+motif+drapeau-polo+ralph+lauren/49845504/101', 174.50, 'h', 'pull'),\n",
      "('Polo Ralph Lauren', 'Sweat éponge', 'https://www.galerieslafayette.com/p/sweat+eponge-polo+ralph+lauren/49888474/125', 52.50, 'h', 'pull'),\n",
      "('Tommy Jeans', 'Sweat en molleton relaxed fit', 'https://www.galerieslafayette.com/p/sweat+en+molleton+relaxed+fit-tommy+jeans/50632076/125', 52.50, 'h', 'pull'),\n",
      "('Polo Ralph Lauren', 'Pull en coton pima slim fit', 'https://www.galerieslafayette.com/p/pull+en+coton+pima+slim+fit-polo+ralph+lauren/49888453/101', 72.50, 'h', 'pull'),\n",
      "('G-Star', 'Sweat Carnix slim fit', 'https://www.galerieslafayette.com/p/sweat+carnix+slim+fit-g-star/50069158/320', 34.96, 'h', 'pull'),\n",
      "('Hackett London', 'Sweat à capuche en coton éponge Aston Martin', 'https://www.galerieslafayette.com/p/sweat+a+capuche+en+coton+eponge+aston+martin-hackett+london/49304200/125', 136.50, 'h', 'pull'),\n",
      "('Tommy Hilfiger', 'Pull droit en maille texturée', 'https://www.galerieslafayette.com/p/pull+droit+en+maille+texturee-tommy+hilfiger/50594819/125', 62.50, 'h', 'pull'),\n",
      "('Tommy Hilfiger', 'Pull en coton et soie à col V', 'https://www.galerieslafayette.com/p/pull+en+coton+et+soie+a+col+v-tommy+hilfiger/48936786/131', 59.50, 'h', 'pull'),\n",
      "('Ikks', 'Pull en coton à détails côtes ', 'https://www.galerieslafayette.com/p/pull+en+coton+a+details+cotes-ikks/50030034/233', 50.00, 'h', 'pull'),\n",
      "('Polo Ralph Lauren', 'Pull en lin et coton à motifs jacquard', 'https://www.galerieslafayette.com/p/pull+en+lin+et+coton+a+motifs+jacquard-polo+ralph+lauren/49888413/125', 99.50, 'h', 'pull'),\n",
      "('Napapijri', 'Sweat à capuche Biner', 'https://www.galerieslafayette.com/p/sweat+a+capuche+biner-napapijri/49520945/125', 99.50, 'h', 'pull'),\n",
      "('Hackett London', 'Pull coton et soie', 'https://www.galerieslafayette.com/p/pull+coton+et+soie-hackett+london/51575400/125', 94.50, 'h', 'pull'),\n",
      "('Eden Park', 'Gilet zippé en maille texturée à capuche', 'https://www.galerieslafayette.com/p/gilet+zippe+en+maille+texturee+a+capuche-eden+park/52186208/125', 87.00, 'h', 'pull'),\n",
      "('Vicomte A.', 'Pull Gabriel', 'https://www.galerieslafayette.com/p/pull+gabriel-vicomte+a+/52640329/104', 81.00, 'h', 'pull'),\n",
      "('The Kooples', 'Pull droit en laine mérinos à col V', 'https://www.galerieslafayette.com/p/pull+droit+en+laine+merinos+a+col+v-the+kooples/49994572/230', 79.00, 'h', 'pull'),\n",
      "('Lacoste', 'Pull en jersey de coton', 'https://www.galerieslafayette.com/p/pull+en+jersey+de+coton-lacoste/49795531/104', 77.00, 'h', 'pull'),\n",
      "('Levi'S', 'Sweat tricolore droit à capuche', 'https://www.galerieslafayette.com/p/sweat+tricolore+droit+a+capuche-levi+s/54335852/117', 75.00, 'h', 'pull'),\n",
      "('Gant', 'Pull à col camionneur zippé et liserés contrastants', 'https://www.galerieslafayette.com/p/pull+a+col+camionneur+zippe+et+liseres+contrastants-gant/51050436/125', 74.50, 'h', 'pull'),\n",
      "('Tommy Hilfiger', 'Pull droit en coton à lettrage', 'https://www.galerieslafayette.com/p/pull+droit+en+coton+a+lettrage-tommy+hilfiger/48936771/125', 74.50, 'h', 'pull'),\n",
      "('Gant', 'Gilet droit zippé col montant', 'https://www.galerieslafayette.com/p/gilet+droit+zippe+col+montant-gant/51105824/125', 74.50, 'h', 'pull'),\n",
      "('Polo Ralph Lauren', 'Pull en coton pima slim fit', 'https://www.galerieslafayette.com/p/pull+en+coton+pima+slim+fit-polo+ralph+lauren/49888440/119', 72.50, 'h', 'pull'),\n",
      "('Polo Ralph Lauren', 'Pull en coton pima slim fit', 'https://www.galerieslafayette.com/p/pull+en+coton+pima+slim+fit-polo+ralph+lauren/49888446/410', 72.50, 'h', 'pull'),\n",
      "('Polo Ralph Lauren', 'Pull en coton pima à col V', 'https://www.galerieslafayette.com/p/pull+en+coton+pima+a+col+v-polo+ralph+lauren/49888393/101', 72.50, 'h', 'pull'),\n",
      "('Polo Ralph Lauren', 'Pull en maille torsadée', 'https://www.galerieslafayette.com/p/pull+en+maille+torsadee-polo+ralph+lauren/49888353/125', 72.50, 'h', 'pull'),\n",
      "('Polo Ralph Lauren', 'Pull rayé', 'https://www.galerieslafayette.com/p/pull+raye-polo+ralph+lauren/49845903/125', 72.50, 'h', 'pull'),\n",
      "('Polo Ralph Lauren', 'Sweat molletonné zippé à capuche', 'https://www.galerieslafayette.com/p/sweat+molletonne+zippe+a+capuche-polo+ralph+lauren/49888500/401', 72.50, 'h', 'pull'),\n",
      "('Polo Ralph Lauren', 'Sweat réversible à col montant zippé', 'https://www.galerieslafayette.com/p/sweat+reversible+a+col+montant+zippe-polo+ralph+lauren/48928886/120', 69.50, 'h', 'pull'),\n",
      "('Polo Ralph Lauren', 'Sweat en molleton uni', 'https://www.galerieslafayette.com/p/sweat+en+molleton+uni-polo+ralph+lauren/48928859/85', 67.50, 'h', 'pull'),\n",
      "('Tommy Hilfiger', 'Sweat en molleton à capuche siglée', 'https://www.galerieslafayette.com/p/sweat+en+molleton+a+capuche+siglee-tommy+hilfiger/50594877/322', 67.50, 'h', 'pull'),\n",
      "('Tommy Hilfiger', 'Pull tricolore en coton', 'https://www.galerieslafayette.com/p/pull+tricolore+en+coton-tommy+hilfiger/50594751/206', 67.50, 'h', 'pull'),\n",
      "('Polo Ralph Lauren', 'Sweat en coton logo', 'https://www.galerieslafayette.com/p/sweat+en+coton+logo-polo+ralph+lauren/49910440/101', 67.50, 'h', 'pull'),\n",
      "('Chevignon', 'Pull Col V En Coton', 'https://www.galerieslafayette.com/p/pull+col+v+en+coton-chevignon/300404345829/233', 32.00, 'h', 'pull'),\n",
      "('Chevignon', 'Pull Col V En Coton', 'https://www.galerieslafayette.com/p/pull+col+v+en+coton-chevignon/300404345829/101', 32.00, 'h', 'pull'),\n",
      "('Eden Park', 'Sweat en coton à broderie bouclette siglée', 'https://www.galerieslafayette.com/p/sweat+en+coton+a+broderie+bouclette+siglee-eden+park/52310049/125', 60.00, 'h', 'pull'),\n",
      "('Eden Park', 'Pull en coton uni à col V', 'https://www.galerieslafayette.com/p/pull+en+coton+uni+a+col+v-eden+park/52186223/402', 60.00, 'h', 'pull'),\n",
      "('Polo Ralph Lauren', 'Pull en coton uni', 'https://www.galerieslafayette.com/p/pull+en+coton+uni-polo+ralph+lauren/48929032/60', 59.50, 'h', 'pull'),\n",
      "('Tommy Hilfiger', 'Pull en coton et soie à col V', 'https://www.galerieslafayette.com/p/pull+en+coton+et+soie+a+col+v-tommy+hilfiger/48936786/103', 59.50, 'h', 'pull'),\n",
      "('Tommy Hilfiger', 'Pull en coton et soie à col V', 'https://www.galerieslafayette.com/p/pull+en+coton+et+soie+a+col+v-tommy+hilfiger/48936786/356', 59.50, 'h', 'pull'),\n",
      "('Tommy Hilfiger', 'Pull en coton et soie à col V', 'https://www.galerieslafayette.com/p/pull+en+coton+et+soie+a+col+v-tommy+hilfiger/48936786/104', 59.50, 'h', 'pull'),\n",
      "('Ikks', 'Pull en coton à col tunisien à liseré effet cuir', 'https://www.galerieslafayette.com/p/pull+en+coton+a+col+tunisien+a+lisere+effet+cuir-ikks/50029591/263', 58.00, 'h', 'pull'),\n",
      "('Ikks', 'Pull en coton à col tunisien à liseré effet cuir', 'https://www.galerieslafayette.com/p/pull+en+coton+a+col+tunisien+a+lisere+effet+cuir-ikks/50029591/320', 58.00, 'h', 'pull'),\n",
      "('Tommy Jeans', 'Sweat en coton flammé logotypé relaxed fit', 'https://www.galerieslafayette.com/p/sweat+en+coton+flamme+logotype+relaxed+fit-tommy+jeans/50632105/125', 57.50, 'h', 'pull'),\n",
      "('Tommy Hilfiger', 'Sweat zippé à capuche et lettrage en velours', 'https://www.galerieslafayette.com/p/sweat+zippe+a+capuche+et+lettrage+en+velours-tommy+hilfiger/50594890/131', 57.50, 'h', 'pull'),\n",
      "('Timberland', 'Pull 1/2 zip', 'https://www.galerieslafayette.com/p/pull+1+2+zip-timberland/50322480/101', 51.00, 'h', 'pull'),\n",
      "('Calvin Klein', 'Pull droit en coton à patch contrastant siglé', 'https://www.galerieslafayette.com/p/pull+droit+en+coton+a+patch+contrastant+sigle-calvin+klein/50689000/320', 49.95, 'h', 'pull'),\n",
      "('Teddy Smith', 'Sweat Strat', 'https://www.galerieslafayette.com/p/sweat+strat-teddy+smith/49407272/125', 22.50, 'h', 'pull'),\n",
      "('Schott', 'Sweat logo', 'https://www.galerieslafayette.com/p/sweat+logo-schott/49982601/232', 45.50, 'h', 'pull'),\n",
      "('Levi'S', 'Sweat zippé façon bombers', 'https://www.galerieslafayette.com/p/sweat+zippe+facon+bombers-levi+s/48917483/119', 44.50, 'h', 'pull'),\n",
      "('Levi'S', 'Sweat mollletonné zippé à capuche', 'https://www.galerieslafayette.com/p/sweat+mollletonne+zippe+a+capuche-levi+s/48917584/230', 41.40, 'h', 'pull'),\n",
      "('Schott', 'Veste polaire col montant', 'https://www.galerieslafayette.com/p/veste+polaire+col+montant-schott/64914294/320', 39.50, 'h', 'pull'),\n",
      "('Galeries Lafayette', 'Pull Kulneck', 'https://www.galerieslafayette.com/p/pull+kulneck-galeries+lafayette/48048282/232', 17.99, 'h', 'pull'),\n",
      "('Galeries Lafayette', 'Pull Kulneck', 'https://www.galerieslafayette.com/p/pull+kulneck-galeries+lafayette/48048282/101', 17.99, 'h', 'pull'),\n",
      "('Galeries Lafayette', 'Pull Kumartin', 'https://www.galerieslafayette.com/p/pull+kumartin-galeries+lafayette/48055525/233', 31.98, 'h', 'pull'),\n",
      "('Element', 'Sweat molletonné logotypé à capuche', 'https://www.galerieslafayette.com/p/sweat+molletonne+logotype+a+capuche-element/48958194/320', 30.00, 'h', 'pull'),\n",
      "('Teddy Smith', 'Sweat Squat', 'https://www.galerieslafayette.com/p/sweat+squat-teddy+smith/49961475/119', 27.50, 'h', 'pull');\n"
     ]
    }
   ],
   "source": [
    "length = (len(prix_hpull))\n",
    "print('INSERT INTO Vetement (marque, description, lien, prix, genre, item)')\n",
    "print('VALUES')\n",
    "for i in range(length-2):\n",
    "    print('(\\''+marque_hpull[i]+'\\', \\''+desc_hpull[i]+'\\', \\''+lien_hpull[i]+'\\', '+prix_hpull2[i]+', \\'h\\', \\'pull\\'),')\n",
    "print('(\\''+marque_hpull[length-1]+'\\', \\''+desc_hpull[length-1]+'\\', \\''+lien_hpull[length-1]+'\\', '+prix_hpull2[length-1]+', \\'h\\', \\'pull\\');')"
   ]
  },
  {
   "cell_type": "markdown",
   "metadata": {},
   "source": [
    "# PANTALON"
   ]
  },
  {
   "cell_type": "code",
   "execution_count": 62,
   "metadata": {},
   "outputs": [],
   "source": [
    "marque_hpant = []\n",
    "desc_hpant = []\n",
    "lien_hpant = []\n",
    "html = urlopen(\"https://www.galerieslafayette.com/c/homme-pret-a-porter-pantalons+et+shorts\")\n",
    "soup = BeautifulSoup(html, \"html.parser\")\n",
    "for marque in soup.find_all('strong',attrs={\"class\" :\"pdt-brand bold-large-title-marque one\"}):\n",
    "    marque_hpant.append((marque).get_text())\n",
    "\n",
    "for link in soup.find_all('a',class_=\"js-pdt-link js-recommendation-event\"):\n",
    "    lien_hpant.append(\"https://www.galerieslafayette.com\" + link.get('href'))\n",
    "for desc in soup.find_all('span',class_=\"pdt-name three\"):\n",
    "    desc_hpant.append((desc).get_text())\n",
    "    \n",
    "prix_hpant = []\n",
    "prix_hpant_temp = []\n",
    "\n",
    "for price in soup.find_all('span',attrs={\"class\" :\"price\"}):\n",
    "    prix_hpant_temp.append(re.findall(r\"\\d+,\\d{2}\",str(price)))\n",
    "for elem in prix_hpant_temp:\n",
    "    prix_hpant.append(\" \".join(elem)) "
   ]
  },
  {
   "cell_type": "code",
   "execution_count": 63,
   "metadata": {},
   "outputs": [],
   "source": [
    "# changement de la virgule par un point nécessaire pour sql\n",
    "\n",
    "prix_hpant2 = []\n",
    "for i in prix_hpant:\n",
    "    prix_hpant2.append(i.replace(\",\",\".\"))"
   ]
  },
  {
   "cell_type": "code",
   "execution_count": 67,
   "metadata": {},
   "outputs": [
    {
     "name": "stdout",
     "output_type": "stream",
     "text": [
      "INSERT INTO Vetement (marque, description, lien, prix, sexe, genre)\n",
      "VALUES\n",
      "('The Kooples', 'Pantalon de costume Psychedelic Diamond', 'https://www.galerieslafayette.com/p/pantalon+de+costume+psychedelic+diamond-the+kooples/49994228/101', 99.00, 'h', 'pant'),\n",
      "('The Kooples', 'Pantalon chino coupe carotte', 'https://www.galerieslafayette.com/p/pantalon+chino+coupe+carotte-the+kooples/49920731/320', 79.00, 'h', 'pant'),\n",
      "('Polo Ralph Lauren', 'Pantalon de jogging', 'https://www.galerieslafayette.com/p/pantalon+de+jogging-polo+ralph+lauren/54914655/125', 109.00, 'h', 'pant'),\n",
      "('La Compagnie du Lin', 'Pantalon droit en lin', 'https://www.galerieslafayette.com/p/pantalon+droit+en+lin-la+compagnie+du+lin/53979699/85', 80.00, 'h', 'pant'),\n",
      "('Tommy Hilfiger', 'Pantalon chino Denton straight fit', 'https://www.galerieslafayette.com/p/pantalon+chino+denton+straight+fit-tommy+hilfiger/50597778/131', 74.50, 'h', 'pant'),\n",
      "('Dockers', 'Pantalon chino Alpha slim tapered fit', 'https://www.galerieslafayette.com/p/pantalon+chino+alpha+slim+tapered+fit-dockers/49223544/457', 59.40, 'h', 'pant'),\n",
      "('Calvin Klein', 'Pantalon chino à ceinture élastiquée', 'https://www.galerieslafayette.com/p/pantalon+chino+a+ceinture+elastiquee-calvin+klein/50068349/125', 54.95, 'h', 'pant'),\n",
      "('Galeries Lafayette', 'Pantalon chino Kalight slim fit', 'https://www.galerieslafayette.com/p/pantalon+chino+kalight+slim+fit-galeries+lafayette/49237049/62', 24.99, 'h', 'pant'),\n",
      "('Scotch And Soda', 'Pantalon chino Mott skinny fit', 'https://www.galerieslafayette.com/p/pantalon+chino+mott+skinny+fit-scotch+and+soda/49749193/264', 49.50, 'h', 'pant'),\n",
      "('Polo Ralph Lauren', 'Pantalon chino slim', 'https://www.galerieslafayette.com/p/pantalon+chino+slim-polo+ralph+lauren/49910467/101', 49.50, 'h', 'pant'),\n",
      "('Chevignon', 'Pantalon Cargo Straight', 'https://www.galerieslafayette.com/p/pantalon+cargo+straight-chevignon/300404346503/60', 48.00, 'h', 'pant'),\n",
      "('Jack & Jones', 'Pantalon chino Cody', 'https://www.galerieslafayette.com/p/pantalon+chino+cody-jack+jones/49891189/131', 34.99, 'h', 'pant'),\n",
      "('Galeries Lafayette', 'Pantalon Kajolin', 'https://www.galerieslafayette.com/p/pantalon+kajolin-galeries+lafayette/48819829/85', 29.99, 'h', 'pant'),\n",
      "('Galeries Lafayette', 'Pantalon Kajolin', 'https://www.galerieslafayette.com/p/pantalon+kajolin-galeries+lafayette/48819829/125', 29.99, 'h', 'pant'),\n",
      "('Galeries Lafayette', 'Pantalon chino Kadroit straight fit', 'https://www.galerieslafayette.com/p/pantalon+chino+kadroit+straight+fit-galeries+lafayette/47955867/279', 24.99, 'h', 'pant'),\n",
      "('Galeries Lafayette', 'Pantalon Karelax', 'https://www.galerieslafayette.com/p/pantalon+karelax-galeries+lafayette/47955914/60', 24.99, 'h', 'pant'),\n",
      "('Galeries Lafayette', 'Pantalon Karelax', 'https://www.galerieslafayette.com/p/pantalon+karelax-galeries+lafayette/47955914/119', 24.99, 'h', 'pant'),\n",
      "('Dockers', 'Bic Alpha Original Slim Tapered - Stretch Twill', 'https://www.galerieslafayette.com/p/bic+alpha+original+slim+tapered+-+stretch+twill-dockers/33561506/62', 95.00, 'h', 'pant'),\n",
      "('Dockers', 'Best Pressed Insignia Extra Slim - Stretch Sateen', 'https://www.galerieslafayette.com/p/best+pressed+insignia+extra+slim+-+stretch+sateen-dockers/33561331/125', 105.00, 'h', 'pant'),\n",
      "('One Step', 'Pantalon chino casual fit', 'https://www.galerieslafayette.com/p/pantalon+chino+casual+fit-one+step/50731465/357', 47.50, 'h', 'pant'),\n",
      "('Dockers', 'Bic Alpha Original Slim Tapered - Stretch Twill', 'https://www.galerieslafayette.com/p/bic+alpha+original+slim+tapered+-+stretch+twill-dockers/28340550/322', 95.00, 'h', 'pant'),\n",
      "('Napapijri', 'Pantalon chino Mana Stretch', 'https://www.galerieslafayette.com/p/pantalon+chino+mana+stretch-napapijri/49521183/356', 49.50, 'h', 'pant'),\n",
      "('Dockers', 'Pantalon chino Alpha Khaki skinny fit', 'https://www.galerieslafayette.com/p/pantalon+chino+alpha+khaki+skinny+fit-dockers/49223553/71', 99.00, 'h', 'pant'),\n",
      "('Tommy Hilfiger', 'Pantalon chino Denton straight fit', 'https://www.galerieslafayette.com/p/pantalon+chino+denton+straight+fit-tommy+hilfiger/45107850/401', 129.00, 'h', 'pant'),\n",
      "('Faguo', 'Chino Brix coton', 'https://www.galerieslafayette.com/p/chino+brix+coton-faguo/300404456081/457', 48.00, 'h', 'pant'),\n",
      "('Chevignon', 'Pantalon Chino Straight Coton Lin', 'https://www.galerieslafayette.com/p/pantalon+chino+straight+coton+lin-chevignon/300404677477/384', 63.00, 'h', 'pant'),\n",
      "('Agnes B.', 'jeans ringo denim', 'https://www.galerieslafayette.com/p/jeans+ringo+denim-agnes+b+/300404078569/101', 160.00, 'h', 'pant'),\n",
      "('Napapijri', 'Pantalon chino Mana Stretch', 'https://www.galerieslafayette.com/p/pantalon+chino+mana+stretch-napapijri/49521183/104', 49.50, 'h', 'pant'),\n",
      "('Galeries Lafayette', 'Pantalon chino Radroit straight fit', 'https://www.galerieslafayette.com/p/pantalon+chino+radroit+straight+fit-galeries+lafayette/52764392/405', 49.99, 'h', 'pant'),\n",
      "('G-Star', 'Pantalon Bronson Sport loose fit', 'https://www.galerieslafayette.com/p/pantalon+bronson+sport+loose+fit-g-star/52614749/125', 59.95, 'h', 'pant'),\n",
      "('Eden Park', 'Pantalon chino en coton regular fit', 'https://www.galerieslafayette.com/p/pantalon+chino+en+coton+regular+fit-eden+park/52310291/72', 72.50, 'h', 'pant'),\n",
      "('Teddy Smith', 'Pantalon chino slim fit', 'https://www.galerieslafayette.com/p/pantalon+chino+slim+fit-teddy+smith/29211970/125', 65.00, 'h', 'pant'),\n",
      "('Scotch And Soda', 'Pantalon à pinces Blake slim fit', 'https://www.galerieslafayette.com/p/pantalon+a+pinces+blake+slim+fit-scotch+and+soda/49749207/60', 49.50, 'h', 'pant'),\n",
      "('Galeries Lafayette', 'Pantalon chino Kaslim slim fit', 'https://www.galerieslafayette.com/p/pantalon+chino+kaslim+slim+fit-galeries+lafayette/47955822/119', 24.99, 'h', 'pant'),\n",
      "('Chevignon', 'Pantalon Chino Straight Coton Lin', 'https://www.galerieslafayette.com/p/pantalon+chino+straight+coton+lin-chevignon/300404677477/125', 63.00, 'h', 'pant'),\n",
      "('El Ganso', 'Pantalon chino coton, taille haute', 'https://www.galerieslafayette.com/p/pantalon+chino+coton+taille+haute-el+ganso/47467271/123', 85.00, 'h', 'pant'),\n",
      "('Dockers', 'Clean Khaki Marina Slim Tapered - Stretch Twill', 'https://www.galerieslafayette.com/p/clean+khaki+marina+slim+tapered+-+stretch+twill-dockers/33561305/60', 95.00, 'h', 'pant'),\n",
      "('Dockers', 'Best Pressed Insignia Extra Slim - Stretch Sateen', 'https://www.galerieslafayette.com/p/best+pressed+insignia+extra+slim+-+stretch+sateen-dockers/33561351/60', 105.00, 'h', 'pant'),\n",
      "('Pull-In', 'Pantalon homme DENING RIDE RIDESMOKE', 'https://www.galerieslafayette.com/p/pantalon+homme+dening+ride+ridesmoke-pull-in/300403998528/320', 59.50, 'h', 'pant'),\n",
      "('Replay', 'Pantalon chino Zeumar slim fit', 'https://www.galerieslafayette.com/p/pantalon+chino+zeumar+slim+fit-replay/54482530/119', 149.00, 'h', 'pant'),\n",
      "('The Kooples', 'Pantalon droit', 'https://www.galerieslafayette.com/p/pantalon+droit-the+kooples/42980768/320', 198.00, 'h', 'pant'),\n",
      "('Dockers', 'Pantalon chino Alpha slim tapered fit', 'https://www.galerieslafayette.com/p/pantalon+chino+alpha+slim+tapered+fit-dockers/47783502/125', 99.00, 'h', 'pant'),\n",
      "('Teddy Smith', 'Pantalon chino slim fit', 'https://www.galerieslafayette.com/p/pantalon+chino+slim+fit-teddy+smith/29211970/72', 65.00, 'h', 'pant'),\n",
      "('Pull-In', 'Pantalon homme DENING JUMP PATRIOT', 'https://www.galerieslafayette.com/p/pantalon+homme+dening+jump+patriot-pull-in/300403998592/119', 77.40, 'h', 'pant'),\n",
      "('G-Star', 'Pantalon chino Bronson slim fit', 'https://www.galerieslafayette.com/p/pantalon+chino+bronson+slim+fit-g-star/54410372/62', 99.95, 'h', 'pant'),\n",
      "('El Ganso', 'Pantalon skinny', 'https://www.galerieslafayette.com/p/pantalon+skinny-el+ganso/47467340/60', 85.00, 'h', 'pant'),\n",
      "('El Ganso', 'Pantalon à teneur en laine chino uni', 'https://www.galerieslafayette.com/p/pantalon+a+teneur+en+laine+chino+uni-el+ganso/47467275/230', 95.00, 'h', 'pant'),\n",
      "('Chevignon', 'Pantalon Chino Slim', 'https://www.galerieslafayette.com/p/pantalon+chino+slim-chevignon/300404346509/204', 55.00, 'h', 'pant'),\n",
      "('Pull-In', 'Pantalon homme DENING RIDE RIDEDARKBLUE', 'https://www.galerieslafayette.com/p/pantalon+homme+dening+ride+ridedarkblue-pull-in/300403998760/119', 64.50, 'h', 'pant'),\n",
      "('Tommy Jeans', 'Pantalon chino slim fit', 'https://www.galerieslafayette.com/p/pantalon+chino+slim+fit-tommy+jeans/50632742/104', 52.50, 'h', 'pant'),\n",
      "('Replay', 'Pantalon Anbass Corduroy slim fit', 'https://www.galerieslafayette.com/p/pantalon+anbass+corduroy+slim+fit-replay/54482421/279', 145.00, 'h', 'pant'),\n",
      "('Galeries Lafayette', 'Pantalon chino Kadroit straight fit', 'https://www.galerieslafayette.com/p/pantalon+chino+kadroit+straight+fit-galeries+lafayette/47955867/266', 24.99, 'h', 'pant'),\n",
      "('Galeries Lafayette', 'Pantalon chino Kaslim slim fit', 'https://www.galerieslafayette.com/p/pantalon+chino+kaslim+slim+fit-galeries+lafayette/47955822/233', 24.99, 'h', 'pant'),\n",
      "('Pull-In', 'Pantalon homme DENING JUMP JUMPRAW', 'https://www.galerieslafayette.com/p/pantalon+homme+dening+jump+jumpraw-pull-in/300404002793/320', 129.00, 'h', 'pant'),\n",
      "('Pull-In', 'Pantalon homme DENING JUMP SAND', 'https://www.galerieslafayette.com/p/pantalon+homme+dening+jump+sand-pull-in/300403998512/60', 59.40, 'h', 'pant'),\n",
      "('Dockers', 'Pantalon chino Alpha slim tapered fit', 'https://www.galerieslafayette.com/p/pantalon+chino+alpha+slim+tapered+fit-dockers/47783496/60', 99.00, 'h', 'pant'),\n",
      "('Chevignon', 'Pantalon Chino Straight', 'https://www.galerieslafayette.com/p/pantalon+chino+straight-chevignon/300404346474/453', 55.00, 'h', 'pant'),\n",
      "('Pull-In', 'Pantalon homme DENING EPIC WORN', 'https://www.galerieslafayette.com/p/pantalon+homme+dening+epic+worn-pull-in/300404152720/230', 59.40, 'h', 'pant'),\n",
      "('Galeries Lafayette', 'Pantalon chino Rarelax relaxed fit', 'https://www.galerieslafayette.com/p/pantalon+chino+rarelax+relaxed+fit-galeries+lafayette/52764548/125', 49.99, 'h', 'pant');\n"
     ]
    }
   ],
   "source": [
    "length = (len(prix_hpant))\n",
    "print('INSERT INTO Vetement (marque, description, lien, prix, genre, item)')\n",
    "print('VALUES')\n",
    "for i in range(length-2):\n",
    "    print('(\\''+marque_hpant[i]+'\\', \\''+desc_hpant[i]+'\\', \\''+lien_hpant[i]+'\\', '+prix_hpant2[i]+', \\'h\\', \\'pant\\'),')\n",
    "print('(\\''+marque_hpant[length-1]+'\\', \\''+desc_hpant[length-1]+'\\', \\''+lien_hpant[length-1]+'\\', '+prix_hpant2[length-1]+', \\'h\\', \\'pant\\');')"
   ]
  },
  {
   "cell_type": "markdown",
   "metadata": {},
   "source": [
    "# SHORT"
   ]
  },
  {
   "cell_type": "code",
   "execution_count": 68,
   "metadata": {},
   "outputs": [],
   "source": [
    "marque_hshort = []\n",
    "desc_hshort = []\n",
    "lien_hshort = []\n",
    "html = urlopen(\"https://www.galerieslafayette.com/c/homme-pret-a-porter-pantalons+et+shorts\")\n",
    "soup = BeautifulSoup(html, \"html.parser\")\n",
    "for marque in soup.find_all('strong',attrs={\"class\" :\"pdt-brand bold-large-title-marque one\"}):\n",
    "    marque_hshort.append((marque).get_text())\n",
    "\n",
    "for link in soup.find_all('a',class_=\"js-pdt-link js-recommendation-event\"):\n",
    "    lien_hshort.append(\"https://www.galerieslafayette.com\" + link.get('href'))\n",
    "for desc in soup.find_all('span',class_=\"pdt-name three\"):\n",
    "    desc_hshort.append((desc).get_text())\n",
    "\n",
    "prix_hshort = []\n",
    "prix_hshort_temp = []\n",
    "\n",
    "for price in soup.find_all('span',attrs={\"class\" :\"price\"}):\n",
    "    prix_hshort_temp.append(re.findall(r\"\\d+,\\d{2}\",str(price)))\n",
    "for elem in prix_hshort_temp:\n",
    "    prix_hshort.append(\" \".join(elem)) "
   ]
  },
  {
   "cell_type": "code",
   "execution_count": 69,
   "metadata": {},
   "outputs": [],
   "source": [
    "# changement de la virgule par un point nécessaire pour sql\n",
    "\n",
    "prix_hshort2 = []\n",
    "for i in prix_hshort:\n",
    "    prix_hshort2.append(i.replace(\",\",\".\"))"
   ]
  },
  {
   "cell_type": "code",
   "execution_count": 74,
   "metadata": {},
   "outputs": [
    {
     "name": "stdout",
     "output_type": "stream",
     "text": [
      "INSERT INTO Vetement (marque, description, lien, prix, genre, item)\n",
      "VALUES\n",
      "('The Kooples', 'Pantalon de costume Psychedelic Diamond', 'https://www.galerieslafayette.com/p/pantalon+de+costume+psychedelic+diamond-the+kooples/49994228/101', 99.00, 'h', 'short'),\n",
      "('The Kooples', 'Pantalon chino coupe carotte', 'https://www.galerieslafayette.com/p/pantalon+chino+coupe+carotte-the+kooples/49920731/320', 79.00, 'h', 'short'),\n",
      "('Polo Ralph Lauren', 'Pantalon de jogging', 'https://www.galerieslafayette.com/p/pantalon+de+jogging-polo+ralph+lauren/54914655/125', 109.00, 'h', 'short'),\n",
      "('La Compagnie du Lin', 'Pantalon droit en lin', 'https://www.galerieslafayette.com/p/pantalon+droit+en+lin-la+compagnie+du+lin/53979699/85', 80.00, 'h', 'short'),\n",
      "('Tommy Hilfiger', 'Pantalon chino Denton straight fit', 'https://www.galerieslafayette.com/p/pantalon+chino+denton+straight+fit-tommy+hilfiger/50597778/131', 74.50, 'h', 'short'),\n",
      "('Dockers', 'Pantalon chino Alpha slim tapered fit', 'https://www.galerieslafayette.com/p/pantalon+chino+alpha+slim+tapered+fit-dockers/49223544/457', 59.40, 'h', 'short'),\n",
      "('Calvin Klein', 'Pantalon chino à ceinture élastiquée', 'https://www.galerieslafayette.com/p/pantalon+chino+a+ceinture+elastiquee-calvin+klein/50068349/125', 54.95, 'h', 'short'),\n",
      "('Galeries Lafayette', 'Pantalon chino Kalight slim fit', 'https://www.galerieslafayette.com/p/pantalon+chino+kalight+slim+fit-galeries+lafayette/49237049/62', 24.99, 'h', 'short'),\n",
      "('Scotch And Soda', 'Pantalon chino Mott skinny fit', 'https://www.galerieslafayette.com/p/pantalon+chino+mott+skinny+fit-scotch+and+soda/49749193/264', 49.50, 'h', 'short'),\n",
      "('Polo Ralph Lauren', 'Pantalon chino slim', 'https://www.galerieslafayette.com/p/pantalon+chino+slim-polo+ralph+lauren/49910467/101', 49.50, 'h', 'short'),\n",
      "('Chevignon', 'Pantalon Cargo Straight', 'https://www.galerieslafayette.com/p/pantalon+cargo+straight-chevignon/300404346503/60', 48.00, 'h', 'short'),\n",
      "('Jack & Jones', 'Pantalon chino Cody', 'https://www.galerieslafayette.com/p/pantalon+chino+cody-jack+jones/49891189/131', 34.99, 'h', 'short'),\n",
      "('Galeries Lafayette', 'Pantalon Kajolin', 'https://www.galerieslafayette.com/p/pantalon+kajolin-galeries+lafayette/48819829/85', 29.99, 'h', 'short'),\n",
      "('Galeries Lafayette', 'Pantalon Kajolin', 'https://www.galerieslafayette.com/p/pantalon+kajolin-galeries+lafayette/48819829/125', 29.99, 'h', 'short'),\n",
      "('Galeries Lafayette', 'Pantalon chino Kadroit straight fit', 'https://www.galerieslafayette.com/p/pantalon+chino+kadroit+straight+fit-galeries+lafayette/47955867/279', 24.99, 'h', 'short'),\n",
      "('Galeries Lafayette', 'Pantalon Karelax', 'https://www.galerieslafayette.com/p/pantalon+karelax-galeries+lafayette/47955914/60', 24.99, 'h', 'short'),\n",
      "('Galeries Lafayette', 'Pantalon Karelax', 'https://www.galerieslafayette.com/p/pantalon+karelax-galeries+lafayette/47955914/119', 24.99, 'h', 'short'),\n",
      "('Dockers', 'Bic Alpha Original Slim Tapered - Stretch Twill', 'https://www.galerieslafayette.com/p/bic+alpha+original+slim+tapered+-+stretch+twill-dockers/33561506/62', 95.00, 'h', 'short'),\n",
      "('Dockers', 'Best Pressed Insignia Extra Slim - Stretch Sateen', 'https://www.galerieslafayette.com/p/best+pressed+insignia+extra+slim+-+stretch+sateen-dockers/33561331/125', 105.00, 'h', 'short'),\n",
      "('One Step', 'Pantalon chino casual fit', 'https://www.galerieslafayette.com/p/pantalon+chino+casual+fit-one+step/50731465/357', 47.50, 'h', 'short'),\n",
      "('Dockers', 'Bic Alpha Original Slim Tapered - Stretch Twill', 'https://www.galerieslafayette.com/p/bic+alpha+original+slim+tapered+-+stretch+twill-dockers/28340550/322', 95.00, 'h', 'short'),\n",
      "('Napapijri', 'Pantalon chino Mana Stretch', 'https://www.galerieslafayette.com/p/pantalon+chino+mana+stretch-napapijri/49521183/356', 49.50, 'h', 'short'),\n",
      "('Dockers', 'Pantalon chino Alpha Khaki skinny fit', 'https://www.galerieslafayette.com/p/pantalon+chino+alpha+khaki+skinny+fit-dockers/49223553/71', 99.00, 'h', 'short'),\n",
      "('Tommy Hilfiger', 'Pantalon chino Denton straight fit', 'https://www.galerieslafayette.com/p/pantalon+chino+denton+straight+fit-tommy+hilfiger/45107850/401', 129.00, 'h', 'short'),\n",
      "('Faguo', 'Chino Brix coton', 'https://www.galerieslafayette.com/p/chino+brix+coton-faguo/300404456081/457', 48.00, 'h', 'short'),\n",
      "('Chevignon', 'Pantalon Chino Straight Coton Lin', 'https://www.galerieslafayette.com/p/pantalon+chino+straight+coton+lin-chevignon/300404677477/384', 63.00, 'h', 'short'),\n",
      "('Agnes B.', 'jeans ringo denim', 'https://www.galerieslafayette.com/p/jeans+ringo+denim-agnes+b+/300404078569/101', 160.00, 'h', 'short'),\n",
      "('Napapijri', 'Pantalon chino Mana Stretch', 'https://www.galerieslafayette.com/p/pantalon+chino+mana+stretch-napapijri/49521183/104', 49.50, 'h', 'short'),\n",
      "('Galeries Lafayette', 'Pantalon chino Radroit straight fit', 'https://www.galerieslafayette.com/p/pantalon+chino+radroit+straight+fit-galeries+lafayette/52764392/405', 49.99, 'h', 'short'),\n",
      "('G-Star', 'Pantalon Bronson Sport loose fit', 'https://www.galerieslafayette.com/p/pantalon+bronson+sport+loose+fit-g-star/52614749/125', 59.95, 'h', 'short'),\n",
      "('Eden Park', 'Pantalon chino en coton regular fit', 'https://www.galerieslafayette.com/p/pantalon+chino+en+coton+regular+fit-eden+park/52310291/72', 72.50, 'h', 'short'),\n",
      "('Teddy Smith', 'Pantalon chino slim fit', 'https://www.galerieslafayette.com/p/pantalon+chino+slim+fit-teddy+smith/29211970/125', 65.00, 'h', 'short'),\n",
      "('Scotch And Soda', 'Pantalon à pinces Blake slim fit', 'https://www.galerieslafayette.com/p/pantalon+a+pinces+blake+slim+fit-scotch+and+soda/49749207/60', 49.50, 'h', 'short'),\n",
      "('Galeries Lafayette', 'Pantalon chino Kaslim slim fit', 'https://www.galerieslafayette.com/p/pantalon+chino+kaslim+slim+fit-galeries+lafayette/47955822/119', 24.99, 'h', 'short'),\n",
      "('Chevignon', 'Pantalon Chino Straight Coton Lin', 'https://www.galerieslafayette.com/p/pantalon+chino+straight+coton+lin-chevignon/300404677477/125', 63.00, 'h', 'short'),\n",
      "('El Ganso', 'Pantalon chino coton, taille haute', 'https://www.galerieslafayette.com/p/pantalon+chino+coton+taille+haute-el+ganso/47467271/123', 85.00, 'h', 'short'),\n",
      "('Dockers', 'Clean Khaki Marina Slim Tapered - Stretch Twill', 'https://www.galerieslafayette.com/p/clean+khaki+marina+slim+tapered+-+stretch+twill-dockers/33561305/60', 95.00, 'h', 'short'),\n",
      "('Dockers', 'Best Pressed Insignia Extra Slim - Stretch Sateen', 'https://www.galerieslafayette.com/p/best+pressed+insignia+extra+slim+-+stretch+sateen-dockers/33561351/60', 105.00, 'h', 'short'),\n",
      "('Pull-In', 'Pantalon homme DENING RIDE RIDESMOKE', 'https://www.galerieslafayette.com/p/pantalon+homme+dening+ride+ridesmoke-pull-in/300403998528/320', 59.50, 'h', 'short'),\n",
      "('Replay', 'Pantalon chino Zeumar slim fit', 'https://www.galerieslafayette.com/p/pantalon+chino+zeumar+slim+fit-replay/54482530/119', 149.00, 'h', 'short'),\n",
      "('The Kooples', 'Pantalon droit', 'https://www.galerieslafayette.com/p/pantalon+droit-the+kooples/42980768/320', 198.00, 'h', 'short'),\n",
      "('Dockers', 'Pantalon chino Alpha slim tapered fit', 'https://www.galerieslafayette.com/p/pantalon+chino+alpha+slim+tapered+fit-dockers/47783502/125', 99.00, 'h', 'short'),\n",
      "('Teddy Smith', 'Pantalon chino slim fit', 'https://www.galerieslafayette.com/p/pantalon+chino+slim+fit-teddy+smith/29211970/72', 65.00, 'h', 'short'),\n",
      "('Pull-In', 'Pantalon homme DENING JUMP PATRIOT', 'https://www.galerieslafayette.com/p/pantalon+homme+dening+jump+patriot-pull-in/300403998592/119', 77.40, 'h', 'short'),\n",
      "('G-Star', 'Pantalon chino Bronson slim fit', 'https://www.galerieslafayette.com/p/pantalon+chino+bronson+slim+fit-g-star/54410372/62', 99.95, 'h', 'short'),\n",
      "('El Ganso', 'Pantalon skinny', 'https://www.galerieslafayette.com/p/pantalon+skinny-el+ganso/47467340/60', 85.00, 'h', 'short'),\n",
      "('El Ganso', 'Pantalon à teneur en laine chino uni', 'https://www.galerieslafayette.com/p/pantalon+a+teneur+en+laine+chino+uni-el+ganso/47467275/230', 95.00, 'h', 'short'),\n",
      "('Chevignon', 'Pantalon Chino Slim', 'https://www.galerieslafayette.com/p/pantalon+chino+slim-chevignon/300404346509/204', 55.00, 'h', 'short'),\n",
      "('Pull-In', 'Pantalon homme DENING RIDE RIDEDARKBLUE', 'https://www.galerieslafayette.com/p/pantalon+homme+dening+ride+ridedarkblue-pull-in/300403998760/119', 64.50, 'h', 'short'),\n",
      "('Tommy Jeans', 'Pantalon chino slim fit', 'https://www.galerieslafayette.com/p/pantalon+chino+slim+fit-tommy+jeans/50632742/104', 52.50, 'h', 'short'),\n",
      "('Replay', 'Pantalon Anbass Corduroy slim fit', 'https://www.galerieslafayette.com/p/pantalon+anbass+corduroy+slim+fit-replay/54482421/279', 145.00, 'h', 'short'),\n",
      "('Galeries Lafayette', 'Pantalon chino Kadroit straight fit', 'https://www.galerieslafayette.com/p/pantalon+chino+kadroit+straight+fit-galeries+lafayette/47955867/266', 24.99, 'h', 'short'),\n",
      "('Galeries Lafayette', 'Pantalon chino Kaslim slim fit', 'https://www.galerieslafayette.com/p/pantalon+chino+kaslim+slim+fit-galeries+lafayette/47955822/233', 24.99, 'h', 'short'),\n",
      "('Pull-In', 'Pantalon homme DENING JUMP JUMPRAW', 'https://www.galerieslafayette.com/p/pantalon+homme+dening+jump+jumpraw-pull-in/300404002793/320', 129.00, 'h', 'short'),\n",
      "('Pull-In', 'Pantalon homme DENING JUMP SAND', 'https://www.galerieslafayette.com/p/pantalon+homme+dening+jump+sand-pull-in/300403998512/60', 59.40, 'h', 'short'),\n",
      "('Dockers', 'Pantalon chino Alpha slim tapered fit', 'https://www.galerieslafayette.com/p/pantalon+chino+alpha+slim+tapered+fit-dockers/47783496/60', 99.00, 'h', 'short'),\n",
      "('Chevignon', 'Pantalon Chino Straight', 'https://www.galerieslafayette.com/p/pantalon+chino+straight-chevignon/300404346474/453', 55.00, 'h', 'short'),\n",
      "('Pull-In', 'Pantalon homme DENING EPIC WORN', 'https://www.galerieslafayette.com/p/pantalon+homme+dening+epic+worn-pull-in/300404152720/230', 59.40, 'h', 'short'),\n",
      "('Galeries Lafayette', 'Pantalon chino Rarelax relaxed fit', 'https://www.galerieslafayette.com/p/pantalon+chino+rarelax+relaxed+fit-galeries+lafayette/52764548/125', 49.99, 'h', 'short');\n"
     ]
    }
   ],
   "source": [
    "length = (len(prix_hshort))\n",
    "print('INSERT INTO Vetement (marque, description, lien, prix, genre, item)')\n",
    "print('VALUES')\n",
    "for i in range(length-2):\n",
    "    print('(\\''+marque_hshort[i]+'\\', \\''+desc_hshort[i]+'\\', \\''+lien_hshort[i]+'\\', '+prix_hshort2[i]+', \\'h\\', \\'short\\'),')\n",
    "print('(\\''+marque_hshort[length-1]+'\\', \\''+desc_hshort[length-1]+'\\', \\''+lien_hshort[length-1]+'\\', '+prix_hshort2[length-1]+', \\'h\\', \\'short\\');')"
   ]
  },
  {
   "cell_type": "code",
   "execution_count": 16,
   "metadata": {},
   "outputs": [],
   "source": [
    "marque_hpara = []\n",
    "desc_hpara = []\n",
    "lien_hpara = []\n",
    "html = urlopen(\"https://www.galerieslafayette.com/s/homme+accessoires+parapluies/ct/homme-accessoires-parapluies\")\n",
    "soup = BeautifulSoup(html, \"html.parser\")\n",
    "for marque in soup.find_all('strong',attrs={\"class\" :\"pdt-brand bold-large-title-marque one\"}):\n",
    "    marque_hpara.append((marque).get_text())\n",
    "\n",
    "for link in soup.find_all('a',class_=\"js-pdt-link js-recommendation-event\"):\n",
    "    lien_hpara.append(\"https://www.galerieslafayette.com\" + link.get('href'))\n",
    "for desc in soup.find_all('span',class_=\"pdt-name three\"):\n",
    "    desc_hpara.append((desc).get_text())\n",
    "\n",
    "prix_hpara = []\n",
    "prix_hpara_temp = []\n",
    "\n",
    "for price in soup.find_all('span',attrs={\"class\" :\"price\"}):\n",
    "    prix_hpara_temp.append(re.findall(r\"\\d+,\\d{2}\",str(price)))\n",
    "for elem in prix_hpara_temp:\n",
    "    prix_hpara.append(\" \".join(elem)) "
   ]
  },
  {
   "cell_type": "code",
   "execution_count": 17,
   "metadata": {},
   "outputs": [],
   "source": [
    "# changement de la virgule par un point nécessaire pour sql\n",
    "\n",
    "prix_hpara2 = []\n",
    "for i in prix_hpara:\n",
    "    prix_hpara2.append(i.replace(\",\",\".\"))"
   ]
  },
  {
   "cell_type": "code",
   "execution_count": 18,
   "metadata": {},
   "outputs": [
    {
     "name": "stdout",
     "output_type": "stream",
     "text": [
      "INSERT INTO Vetement (marque, description, lien, prix, genre, item)\n",
      "VALUES\n",
      "('Pierre Vaux', 'Parapluie pliant automatique à poignée courbe', 'https://www.galerieslafayette.com/p/parapluie+pliant+automatique+a+poignee+courbe-pierre+vaux/14255517/320', 47.20, 'h', 'para'),\n",
      "('Isotoner', 'Parapluie Crook homme', 'https://www.galerieslafayette.com/p/parapluie+crook+homme-isotoner/300402953848/320', 33.90, 'h', 'para'),\n",
      "('Isotoner', 'Parapluie Crook homme', 'https://www.galerieslafayette.com/p/parapluie+crook+homme-isotoner/300401463160/320', 33.90, 'h', 'para'),\n",
      "('Pierre Vaux', 'Parapluie pliant automatique à housse zippée', 'https://www.galerieslafayette.com/p/parapluie+pliant+automatique+a+housse+zippee-pierre+vaux/74069956/320', 50.20, 'h', 'para'),\n",
      "('Isotoner', 'Parapluie Crook X-TRA-SOLIDE', 'https://www.galerieslafayette.com/p/parapluie+crook+x-tra-solide-isotoner/300402953842/320', 36.90, 'h', 'para'),\n",
      "('Esprit', 'Parapluie automatique long', 'https://www.galerieslafayette.com/p/parapluie+automatique+long-esprit/57316960/320', 19.99, 'h', 'para'),\n",
      "('Isotoner', 'PARAPLUIES HOMME Parapluie X-TRA-SOLIDE - ouverture/fermeture automatique', 'https://www.galerieslafayette.com/p/parapluies+homme+parapluie+x-tra-solide+-+ouverture+fermeture+automatique-isotoner/300400967838/320', 36.90, 'h', 'para'),\n",
      "('Isotoner', 'Parapluie homme', 'https://www.galerieslafayette.com/p/parapluie+homme-isotoner/300401463156/320', 29.90, 'h', 'para'),\n",
      "('Isotoner', 'Parapluie Crook X-TRA-SOLIDE', 'https://www.galerieslafayette.com/p/parapluie+crook+x-tra-solide-isotoner/300402953846/60', 36.90, 'h', 'para'),\n",
      "('Isotoner', 'Parapluie Crook X-TRA-SOLIDE', 'https://www.galerieslafayette.com/p/parapluie+crook+x-tra-solide-isotoner/300402953840/320', 36.90, 'h', 'para'),\n",
      "('Isotoner', 'Parapluie plat homme', 'https://www.galerieslafayette.com/p/parapluie+plat+homme-isotoner/300401463154/320', 31.90, 'h', 'para'),\n",
      "('Isotoner', 'PARAPLUIES HOMME Parapluie canne GOLF - ouverture manuelle', 'https://www.galerieslafayette.com/p/parapluies+homme+parapluie+canne+golf+-+ouverture+manuelle-isotoner/300400967842/320', 31.90, 'h', 'para'),\n",
      "('Isotoner', 'Parapluie Crook homme', 'https://www.galerieslafayette.com/p/parapluie+crook+homme-isotoner/300402953844/320', 33.90, 'h', 'para'),\n",
      "('Isotoner', 'Parapluie X-TRA SOLIDE', 'https://www.galerieslafayette.com/p/parapluie+x-tra+solide-isotoner/300402953836/320', 35.90, 'h', 'para');\n"
     ]
    }
   ],
   "source": [
    "length = (len(prix_hpara))\n",
    "print('INSERT INTO Vetement (marque, description, lien, prix, genre, item)')\n",
    "print('VALUES')\n",
    "for i in range(length-2):\n",
    "    print('(\\''+marque_hpara[i]+'\\', \\''+desc_hpara[i]+'\\', \\''+lien_hpara[i]+'\\', '+prix_hpara2[i]+', \\'h\\', \\'para\\'),')\n",
    "print('(\\''+marque_hpara[length-1]+'\\', \\''+desc_hpara[length-1]+'\\', \\''+lien_hpara[length-1]+'\\', '+prix_hpara2[length-1]+', \\'h\\', \\'para\\');')"
   ]
  },
  {
   "cell_type": "markdown",
   "metadata": {},
   "source": [
    "# FEMME"
   ]
  },
  {
   "cell_type": "markdown",
   "metadata": {},
   "source": [
    "# T-SHIRT"
   ]
  },
  {
   "cell_type": "code",
   "execution_count": 77,
   "metadata": {},
   "outputs": [],
   "source": [
    "marque_ftshirt = []\n",
    "desc_ftshirt = []\n",
    "lien_ftshirt = []\n",
    "prix_ftshirt = []\n",
    "html = urlopen(\"https://www.galerieslafayette.com/c/femme-pret-a-porter-tops+et+t-shirts/f/t-shirts\")\n",
    "soup = BeautifulSoup(html, \"html.parser\")\n",
    "for marque in soup.find_all('strong',attrs={\"class\" :\"pdt-brand bold-large-title-marque one\"}):\n",
    "    marque_ftshirt.append((marque).get_text())\n",
    "\n",
    "for link in soup.find_all('a',class_=\"js-pdt-link js-recommendation-event\"):\n",
    "    lien_ftshirt.append(\"https://www.galerieslafayette.com\" + link.get('href'))\n",
    "for desc in soup.find_all('span',class_=\"pdt-name three\"):\n",
    "    desc_ftshirt.append((desc).get_text())\n",
    "    \n",
    "prix_ftshirt = []\n",
    "prix_ftshirt_temp = []\n",
    "\n",
    "for price in soup.find_all('span',attrs={\"class\" :\"price\"}):\n",
    "    prix_ftshirt_temp.append(re.findall(r\"\\d+,\\d{2}\",str(price)))\n",
    "for elem in prix_ftshirt_temp:\n",
    "    prix_ftshirt.append(\" \".join(elem))  "
   ]
  },
  {
   "cell_type": "code",
   "execution_count": 99,
   "metadata": {},
   "outputs": [
    {
     "ename": "KeyboardInterrupt",
     "evalue": "",
     "output_type": "error",
     "traceback": [
      "\u001b[0;31m---------------------------------------------------------------------------\u001b[0m",
      "\u001b[0;31mKeyboardInterrupt\u001b[0m                         Traceback (most recent call last)",
      "\u001b[0;32m<ipython-input-99-aff8a3f9555e>\u001b[0m in \u001b[0;36m<module>\u001b[0;34m()\u001b[0m\n\u001b[1;32m      1\u001b[0m \u001b[0mprix_ftshirt2\u001b[0m \u001b[0;34m=\u001b[0m \u001b[0;34m[\u001b[0m\u001b[0;34m]\u001b[0m\u001b[0;34m\u001b[0m\u001b[0m\n\u001b[1;32m      2\u001b[0m \u001b[0;32mfor\u001b[0m \u001b[0mi\u001b[0m \u001b[0;32min\u001b[0m \u001b[0mprix_ftshirt\u001b[0m\u001b[0;34m:\u001b[0m\u001b[0;34m\u001b[0m\u001b[0m\n\u001b[0;32m----> 3\u001b[0;31m     \u001b[0mprix_ftshirt\u001b[0m\u001b[0;34m.\u001b[0m\u001b[0mappend\u001b[0m\u001b[0;34m(\u001b[0m\u001b[0mi\u001b[0m\u001b[0;34m.\u001b[0m\u001b[0mreplace\u001b[0m\u001b[0;34m(\u001b[0m\u001b[0;34m\",\"\u001b[0m\u001b[0;34m,\u001b[0m\u001b[0;34m\".\"\u001b[0m\u001b[0;34m)\u001b[0m\u001b[0;34m)\u001b[0m\u001b[0;34m\u001b[0m\u001b[0m\n\u001b[0m",
      "\u001b[0;31mKeyboardInterrupt\u001b[0m: "
     ]
    }
   ],
   "source": [
    "# changement de la virgule par un point nécessaire pour sql\n",
    "\n",
    "prix_ftshirt2 = []\n",
    "for i in prix_ftshirt:\n",
    "    prix_ftshirt.append(i.replace(\",\",\".\"))"
   ]
  },
  {
   "cell_type": "code",
   "execution_count": null,
   "metadata": {},
   "outputs": [],
   "source": [
    "length = (len(prix_ftshirt))\n",
    "print('INSERT INTO Vetement (marque, description, lien, prix, genre, item)')\n",
    "print('VALUES')\n",
    "for i in range(length-2):\n",
    "    print('(\\''+marque_ftshirt[i]+'\\', \\''+desc_ftshirt[i]+'\\', \\''+lien_ftshirt[i]+'\\', '+prix_ftshirt2[i]+', \\'f\\', \\'ts\\'),')\n",
    "print('(\\''+marque_ftshirt[length-1]+'\\', \\''+desc_ftshirt[length-1]+'\\', \\''+lien_ftshirt[length-1]+'\\', '+prix_ftshirt2[length-1]+', \\'f\\', \\'ts\\');')"
   ]
  },
  {
   "cell_type": "markdown",
   "metadata": {},
   "source": [
    "# DEBARDEUR"
   ]
  },
  {
   "cell_type": "code",
   "execution_count": 79,
   "metadata": {},
   "outputs": [],
   "source": [
    "marque_fdeb =[]\n",
    "desc_fdeb = []\n",
    "lien_fdeb = []\n",
    "html = urlopen(\"https://www.galerieslafayette.com/c/homme-pret-a-porter-t-shirts+et+polos/f/debardeurs\")\n",
    "soup = BeautifulSoup(html, \"html.parser\")\n",
    "for marque in soup.find_all('strong',attrs={\"class\" :\"pdt-brand bold-large-title-marque one\"}):\n",
    "    marque_fdeb.append((marque).get_text())\n",
    "\n",
    "for link in soup.find_all('a',class_=\"js-pdt-link js-recommendation-event\"):\n",
    "    lien_fdeb.append(\"https://www.galerieslafayette.com\" + link.get('href'))\n",
    "for desc in soup.find_all('span',class_=\"pdt-name three\"):\n",
    "    desc_fdeb.append((desc).get_text())\n",
    "\n",
    "prix_fdeb = []\n",
    "prix_fdeb_temp = []\n",
    "\n",
    "for price in soup.find_all('span',attrs={\"class\" :\"price\"}):\n",
    "    prix_fdeb_temp.append(re.findall(r\"\\d+,\\d{2}\",str(price)))\n",
    "for elem in prix_fdeb_temp:\n",
    "    prix_fdeb.append(\" \".join(elem))  "
   ]
  },
  {
   "cell_type": "code",
   "execution_count": 80,
   "metadata": {},
   "outputs": [],
   "source": [
    "# changement de la virgule par un point nécessaire pour sql\n",
    "\n",
    "prix_fdeb2 = []\n",
    "for i in prix_fdeb:\n",
    "    prix_fdeb2.append(i.replace(\",\",\".\"))"
   ]
  },
  {
   "cell_type": "code",
   "execution_count": null,
   "metadata": {},
   "outputs": [],
   "source": [
    "length = (len(prix_fdeb))\n",
    "print('INSERT INTO Vetement (marque, description, lien, prix, genre, item)')\n",
    "print('VALUES')\n",
    "for i in range(length-2):\n",
    "    print('(\\''+marque_fdeb[i]+'\\', \\''+desc_fdeb[i]+'\\', \\''+lien_fdeb[i]+'\\', '+prix_fdeb2[i]+', \\'f\\', \\'deb\\'),')\n",
    "print('(\\''+marque_fdeb[length-1]+'\\', \\''+desc_fdeb[length-1]+'\\', \\''+lien_fdeb[length-1]+'\\', '+prix_fdeb2[length-1]+', \\'f\\', \\'deb\\');')"
   ]
  },
  {
   "cell_type": "markdown",
   "metadata": {},
   "source": [
    "# PULL"
   ]
  },
  {
   "cell_type": "code",
   "execution_count": 85,
   "metadata": {},
   "outputs": [],
   "source": [
    "marque_fpull = []\n",
    "desc_fpull = []\n",
    "lien_fpull = []\n",
    "html = urlopen(\"https://www.galerieslafayette.com/c/homme-pret-a-porter-maille\")\n",
    "soup = BeautifulSoup(html, \"html.parser\")\n",
    "for marque in soup.find_all('strong',attrs={\"class\" :\"pdt-brand bold-large-title-marque one\"}):\n",
    "    marque_fpull.append((marque).get_text())\n",
    "\n",
    "for link in soup.find_all('a',class_=\"js-pdt-link js-recommendation-event\"):\n",
    "    lien_fpull.append(\"https://www.galerieslafayette.com\" + link.get('href'))\n",
    "for desc in soup.find_all('span',class_=\"pdt-name three\"):\n",
    "    desc_fpull.append((desc).get_text())\n",
    "\n",
    "prix_fpull = []\n",
    "prix_fpull_temp = []\n",
    "\n",
    "for price in soup.find_all('span',attrs={\"class\" :\"price\"}):\n",
    "    prix_fpull_temp.append(re.findall(r\"\\d+,\\d{2}\",str(price)))\n",
    "for elem in prix_fpull_temp:\n",
    "    prix_fpull.append(\" \".join(elem))  "
   ]
  },
  {
   "cell_type": "code",
   "execution_count": 86,
   "metadata": {},
   "outputs": [],
   "source": [
    "# changement de la virgule par un point nécessaire pour sql\n",
    "\n",
    "prix_fpull2 = []\n",
    "for i in prix_fpull:\n",
    "    prix_fpull2.append(i.replace(\",\",\".\"))"
   ]
  },
  {
   "cell_type": "code",
   "execution_count": 88,
   "metadata": {},
   "outputs": [
    {
     "name": "stdout",
     "output_type": "stream",
     "text": [
      "INSERT INTO Vetement (marque, description, lien, prix, genre, item)\n",
      "VALUES\n",
      "('Polo Ralph Lauren', 'Pull en laine mérinos col rond slim fit', 'https://www.galerieslafayette.com/p/pull+en+laine+merinos+col+rond+slim+fit-polo+ralph+lauren/55251915/125', 145.00, 'f', 'pull'),\n",
      "('Eden Park', 'Pull droit col camionneur zippé', 'https://www.galerieslafayette.com/p/pull+droit+col+camionneur+zippe-eden+park/38797980/320', 110.00, 'f', 'pull'),\n",
      "('Zadig & Voltaire', 'Pull en coton droit', 'https://www.galerieslafayette.com/p/pull+en+coton+droit-zadig+voltaire/51134602/232', 97.50, 'f', 'pull'),\n",
      "('The Kooples Sport', 'Sweat en molleton à capuche logotypée et col montant', 'https://www.galerieslafayette.com/p/sweat+en+molleton+a+capuche+logotypee+et+col+montant-the+kooples+sport/49921504/320', 77.50, 'f', 'pull'),\n",
      "('Carhartt Wip', 'Hoodie kang Chase ', 'https://www.galerieslafayette.com/p/hoodie+kang+chase-carhartt+wip/54814919/230', 75.00, 'f', 'pull'),\n",
      "('Polo Ralph Lauren', 'Sweat zippé à capuche', 'https://www.galerieslafayette.com/p/sweat+zippe+a+capuche-polo+ralph+lauren/49945112/230', 72.50, 'f', 'pull'),\n",
      "('Tommy Hilfiger', 'Pull tricolore en coton', 'https://www.galerieslafayette.com/p/pull+tricolore+en+coton-tommy+hilfiger/50594751/206', 67.50, 'f', 'pull'),\n",
      "('Tommy Hilfiger', 'Pull en coton à fines rayures', 'https://www.galerieslafayette.com/p/pull+en+coton+a+fines+rayures-tommy+hilfiger/50594813/125', 62.50, 'f', 'pull'),\n",
      "('Tommy Hilfiger', 'Pull droit en maille texturée', 'https://www.galerieslafayette.com/p/pull+droit+en+maille+texturee-tommy+hilfiger/50594819/125', 62.50, 'f', 'pull'),\n",
      "('Tommy Hilfiger', 'Pull en coton et soie à col V', 'https://www.galerieslafayette.com/p/pull+en+coton+et+soie+a+col+v-tommy+hilfiger/48936786/103', 59.50, 'f', 'pull'),\n",
      "('Tommy Jeans', 'Sweat en coton flammé logotypé relaxed fit', 'https://www.galerieslafayette.com/p/sweat+en+coton+flamme+logotype+relaxed+fit-tommy+jeans/50632105/85', 57.50, 'f', 'pull'),\n",
      "('Tommy Hilfiger', 'Pull en coton façon piqué', 'https://www.galerieslafayette.com/p/pull+en+coton+facon+pique-tommy+hilfiger/49106047/101', 57.50, 'f', 'pull'),\n",
      "('Tommy Jeans', 'Sweat en molleton relaxed fit', 'https://www.galerieslafayette.com/p/sweat+en+molleton+relaxed+fit-tommy+jeans/50632076/125', 52.50, 'f', 'pull'),\n",
      "('Polo Ralph Lauren', 'Sweat éponge', 'https://www.galerieslafayette.com/p/sweat+eponge-polo+ralph+lauren/49888474/125', 52.50, 'f', 'pull'),\n",
      "('Calvin Klein', 'Sweat à bande contrastante siglée', 'https://www.galerieslafayette.com/p/sweat+a+bande+contrastante+siglee-calvin+klein/50689005/85', 52.50, 'f', 'pull'),\n",
      "('Polo Ralph Lauren', 'Sweat éponge', 'https://www.galerieslafayette.com/p/sweat+eponge-polo+ralph+lauren/49888487/401', 52.50, 'f', 'pull'),\n",
      "('Eden Park', 'Sweat en molleton uni', 'https://www.galerieslafayette.com/p/sweat+en+molleton+uni-eden+park/52186284/125', 51.00, 'f', 'pull'),\n",
      "('Tommy Hilfiger', 'Sweat en molleton uni', 'https://www.galerieslafayette.com/p/sweat+en+molleton+uni-tommy+hilfiger/50633127/140', 50.00, 'f', 'pull'),\n",
      "('Diesel', 'Pull K-Pablo', 'https://www.galerieslafayette.com/p/pull+k-pablo-diesel/45608378/125', 49.50, 'f', 'pull'),\n",
      "('Carhartt Wip', 'Sweat Collège', 'https://www.galerieslafayette.com/p/sweat+college-carhartt+wip/48921942/125', 41.40, 'f', 'pull'),\n",
      "('Levi'S', 'Sweat mollletonné zippé à capuche', 'https://www.galerieslafayette.com/p/sweat+mollletonne+zippe+a+capuche-levi+s/48917584/230', 41.40, 'f', 'pull'),\n",
      "('Jack & Jones', 'Pull Naval', 'https://www.galerieslafayette.com/p/pull+naval-jack+jones/49891384/125', 29.98, 'f', 'pull'),\n",
      "('Comptoir GL', 'Pull Loik', 'https://www.galerieslafayette.com/p/pull+loik-comptoir+gl/48766077/125', 25.99, 'f', 'pull'),\n",
      "('Jack & Jones', 'Sweat Terry Premium by Jack & Jones', 'https://www.galerieslafayette.com/p/sweat+terry+premium+by+jack+jones-jack+jones/49891415/125', 15.99, 'f', 'pull'),\n",
      "('Galeries Lafayette', 'Sweat Molaye', 'https://www.galerieslafayette.com/p/sweat+molaye-galeries+lafayette/48782094/119', 19.99, 'f', 'pull'),\n",
      "('Element', 'Sweat en molleton print dessin fantaisie', 'https://www.galerieslafayette.com/p/sweat+en+molleton+print+dessin+fantaisie-element/48958180/62', 32.50, 'f', 'pull'),\n",
      "('Jack & Jones', 'Sweat Hood Noos', 'https://www.galerieslafayette.com/p/sweat+hood+noos-jack+jones/49890928/120', 27.99, 'f', 'pull'),\n",
      "('Comptoir GL', 'Pull Loik', 'https://www.galerieslafayette.com/p/pull+loik-comptoir+gl/48766077/60', 25.99, 'f', 'pull'),\n",
      "('Lacoste', 'Sweat message Roland Garros ', 'https://www.galerieslafayette.com/p/sweat+message+roland+garros-lacoste/49796656/232', 84.00, 'f', 'pull'),\n",
      "('Jack & Jones', 'Pull Luke Premium by Jack & Jones', 'https://www.galerieslafayette.com/p/pull+luke+premium+by+jack+jones-jack+jones/49890918/104', 19.99, 'f', 'pull'),\n",
      "('Lacoste', 'Sweat droit en molleton anti UV', 'https://www.galerieslafayette.com/p/sweat+droit+en+molleton+anti+uv-lacoste/46021299/119', 90.00, 'f', 'pull'),\n",
      "('Comptoir GL', 'Pull Loik', 'https://www.galerieslafayette.com/p/pull+loik-comptoir+gl/48766077/266', 25.99, 'f', 'pull'),\n",
      "('Calvin Klein', 'Sweat capuche photo Andy Warhol ', 'https://www.galerieslafayette.com/p/sweat+capuche+photo+andy+warhol-calvin+klein/55679692/320', 119.90, 'f', 'pull'),\n",
      "('Kaporal Jeans', 'Sweat Fusa', 'https://www.galerieslafayette.com/p/sweat+fusa-kaporal+jeans/53897520/232', 59.00, 'f', 'pull'),\n",
      "('Gant', 'Gilet droit zippé col montant', 'https://www.galerieslafayette.com/p/gilet+droit+zippe+col+montant-gant/51105824/125', 74.50, 'f', 'pull'),\n",
      "('Element', 'Sweat Cornell', 'https://www.galerieslafayette.com/p/sweat+cornell-element/48958200/125', 30.00, 'f', 'pull'),\n",
      "('Nike', 'Pull de running léger', 'https://www.galerieslafayette.com/p/pull+de+running+leger-nike/50985907/264', 100.00, 'f', 'pull'),\n",
      "('Salsa', 'Pull en tricot avec jacquard', 'https://www.galerieslafayette.com/p/pull+en+tricot+avec+jacquard-salsa/300404723926/101', 46.62, 'f', 'pull'),\n",
      "('Harris Wilson', 'Gilet zippé en coton et laine', 'https://www.galerieslafayette.com/p/gilet+zippe+en+coton+et+laine-harris+wilson/46156305/230', 95.00, 'f', 'pull'),\n",
      "('Galeries Lafayette', 'Pull Kuble', 'https://www.galerieslafayette.com/p/pull+kuble-galeries+lafayette/48055538/230', 21.99, 'f', 'pull'),\n",
      "('G-Star', 'Sweat zippé camouflage ', 'https://www.galerieslafayette.com/p/sweat+zippe+camouflage-g-star/54410194/263', 79.95, 'f', 'pull'),\n",
      "('Eden Park', 'Cardigan droit zippé col montant', 'https://www.galerieslafayette.com/p/cardigan+droit+zippe+col+montant-eden+park/39041308/320', 115.00, 'f', 'pull'),\n",
      "('Salsa', 'Pull en maille', 'https://www.galerieslafayette.com/p/pull+en+maille-salsa/300404404440/453', 24.95, 'f', 'pull'),\n",
      "('Galeries Lafayette', 'Pull cachemire Yashive', 'https://www.galerieslafayette.com/p/pull+cachemire+yashive-galeries+lafayette/52585807/62', 99.99, 'f', 'pull'),\n",
      "('Galeries Lafayette', 'Pull Maraye', 'https://www.galerieslafayette.com/p/pull+maraye-galeries+lafayette/47905796/125', 17.99, 'f', 'pull'),\n",
      "('Timberland', 'Gilet coton zippé', 'https://www.galerieslafayette.com/p/gilet+coton+zippe-timberland/50355109/125', 95.00, 'f', 'pull'),\n",
      "('Polo Ralph Lauren', 'Pull torsadé en laine et cachemire', 'https://www.galerieslafayette.com/p/pull+torsade+en+laine+et+cachemire-polo+ralph+lauren/55252121/320', 185.00, 'f', 'pull'),\n",
      "('Lacoste', 'Pull droit en jersey de coton', 'https://www.galerieslafayette.com/p/pull+droit+en+jersey+de+coton-lacoste/41573606/104', 72.00, 'f', 'pull'),\n",
      "('Montagut', 'Gilet homme 100% laine Bernon', 'https://www.galerieslafayette.com/p/gilet+homme+100+laine+bernon-montagut/300401601501/125', 97.30, 'f', 'pull'),\n",
      "('Montagut', 'Gilet 100% laine col montant zippé Benny', 'https://www.galerieslafayette.com/p/gilet+100+laine+col+montant+zippe+benny-montagut/300401660305/119', 118.30, 'f', 'pull'),\n",
      "('Galeries Lafayette', 'Pull Merilev', 'https://www.galerieslafayette.com/p/pull+merilev-galeries+lafayette/47969899/410', 15.99, 'f', 'pull'),\n",
      "('Kitsuné', 'Sweat en molleton à logo tricolore', 'https://www.galerieslafayette.com/p/sweat+en+molleton+a+logo+tricolore-kitsune/50894770/230', 150.00, 'f', 'pull'),\n",
      "('Nike', 'Sweat à capuche Tech Fleece Windrunner', 'https://www.galerieslafayette.com/p/sweat+a+capuche+tech+fleece+windrunner-nike/50985645/230', 100.00, 'f', 'pull'),\n",
      "('Sandro', 'Pull droit en laine mérinos', 'https://www.galerieslafayette.com/p/pull+droit+en+laine+merinos-sandro/45968325/101', 97.50, 'f', 'pull'),\n",
      "('Hilfiger Denim', 'Pull droit en maille fine', 'https://www.galerieslafayette.com/p/pull+droit+en+maille+fine-hilfiger+denim/42893932/104', 95.00, 'f', 'pull'),\n",
      "('Jack & Jones', 'Pull Luke Premium by Jack & Jones', 'https://www.galerieslafayette.com/p/pull+luke+premium+by+jack+jones-jack+jones/49890918/385', 19.99, 'f', 'pull'),\n",
      "('Polo Ralph Lauren', 'Pull en laine mérinos col V slim fit', 'https://www.galerieslafayette.com/p/pull+en+laine+merinos+col+v+slim+fit-polo+ralph+lauren/55251988/140', 145.00, 'f', 'pull'),\n",
      "('Polo Ralph Lauren', 'Sweat molletonné zippé à capuche', 'https://www.galerieslafayette.com/p/sweat+molletonne+zippe+a+capuche-polo+ralph+lauren/54904375/356', 145.00, 'f', 'pull'),\n",
      "('Chevignon', 'Pull Col Rond En Coton', 'https://www.galerieslafayette.com/p/pull+col+rond+en+coton-chevignon/300404345805/101', 32,00, 'f', 'pull');\n"
     ]
    }
   ],
   "source": [
    "length = (len(prix_fpull))\n",
    "print('INSERT INTO Vetement (marque, description, lien, prix, genre, item)')\n",
    "print('VALUES')\n",
    "for i in range(length-2):\n",
    "    print('(\\''+marque_fpull[i]+'\\', \\''+desc_fpull[i]+'\\', \\''+lien_fpull[i]+'\\', '+prix_fpull2[i]+', \\'f\\', \\'pull\\'),')\n",
    "print('(\\''+marque_fpull[length-1]+'\\', \\''+desc_fpull[length-1]+'\\', \\''+lien_fpull[length-1]+'\\', '+prix_fpull2[length-1]+', \\'f\\', \\'pull\\');')"
   ]
  },
  {
   "cell_type": "markdown",
   "metadata": {},
   "source": [
    "# PANTALON"
   ]
  },
  {
   "cell_type": "code",
   "execution_count": 89,
   "metadata": {},
   "outputs": [],
   "source": [
    "marque_fpant = []\n",
    "desc_fpant = []\n",
    "lien_fpant = []\n",
    "html = urlopen(\"https://www.galerieslafayette.com/c/femme-pret-a-porter-jeans\")\n",
    "soup = BeautifulSoup(html, \"html.parser\")\n",
    "for marque in soup.find_all('strong',attrs={\"class\" :\"pdt-brand bold-large-title-marque one\"}):\n",
    "    marque_fpant.append((marque).get_text())\n",
    "\n",
    "for link in soup.find_all('a',class_=\"js-pdt-link js-recommendation-event\"):\n",
    "    lien_fpant.append(\"https://www.galerieslafayette.com\" + link.get('href'))\n",
    "for desc in soup.find_all('span',class_=\"pdt-name three\"):\n",
    "    desc_fpant.append((desc).get_text())\n",
    "    \n",
    "prix_fpant = []\n",
    "prix_fpant_temp = []\n",
    "\n",
    "for price in soup.find_all('span',attrs={\"class\" :\"price\"}):\n",
    "    prix_fpant_temp.append(re.findall(r\"\\d+,\\d{2}\",str(price)))\n",
    "for elem in prix_fpant_temp:\n",
    "    prix_fpant.append(\" \".join(elem))  "
   ]
  },
  {
   "cell_type": "code",
   "execution_count": 90,
   "metadata": {},
   "outputs": [],
   "source": [
    "# changement de la virgule par un point nécessaire pour sql\n",
    "\n",
    "prix_fpant2 = []\n",
    "for i in prix_fpant:\n",
    "    prix_fpant2.append(i.replace(\",\",\".\"))"
   ]
  },
  {
   "cell_type": "code",
   "execution_count": 92,
   "metadata": {},
   "outputs": [
    {
     "name": "stdout",
     "output_type": "stream",
     "text": [
      "INSERT INTO Vetement (marque, description, lien, prix, sexe, genre)\n",
      "VALUES\n",
      "('Levi'S', 'Jeans Levi's 714 straight', 'https://www.galerieslafayette.com/p/jeans+levi+s+714+straight-levi+s/48938175/106', 59.40, 'f', 'pant'),\n",
      "('Levi'S', 'Jeans Levi's 711 skinny fit', 'https://www.galerieslafayette.com/p/jeans+levi+s+711+skinny+fit-levi+s/44772745/101', 65.40, 'f', 'pant'),\n",
      "('Berenice', 'Jeans Berenice Leoni slim', 'https://www.galerieslafayette.com/p/jeans+berenice+leoni+slim-berenice/52509157/101', 79.50, 'f', 'pant'),\n",
      "('Diesel', 'Jeans Diesel Gracey 084QJ stretch skinny fit', 'https://www.galerieslafayette.com/p/jeans+diesel+gracey+084qj+stretch+skinny+fit-diesel/49372123/106', 75.00, 'f', 'pant'),\n",
      "('Maje', 'Jeans Maje Paolo boyfriend fit', 'https://www.galerieslafayette.com/p/jeans+maje+paolo+boyfriend+fit-maje/49825710/106', 70.00, 'f', 'pant'),\n",
      "('Calvin Klein', 'Jeans Calvin Klein Destroy skinny ', 'https://www.galerieslafayette.com/p/jeans+calvin+klein+destroy+skinny-calvin+klein/49868518/106', 69.95, 'f', 'pant'),\n",
      "('Comptoir Des Cotonniers', 'Jeans Comptoir des Cotonniers slim', 'https://www.galerieslafayette.com/p/jeans+comptoir+des+cotonniers+slim-comptoir+des+cotonniers/49917766/244', 62.50, 'f', 'pant'),\n",
      "('Levi'S', 'Jeans Levi's 501 Taper', 'https://www.galerieslafayette.com/p/jeans+levi+s+501+taper-levi+s/44772948/101', 59.40, 'f', 'pant'),\n",
      "('One Step', 'Jeans One Step Le Lena slim 7/8', 'https://www.galerieslafayette.com/p/jeans+one+step+le+lena+slim+7+8-one+step/49753807/119', 54.00, 'f', 'pant'),\n",
      "('Ikks', 'Jeans Ikks Slim Sculpt Up', 'https://www.galerieslafayette.com/p/jeans+ikks+slim+sculpt+up-ikks/49679968/101', 54.00, 'f', 'pant'),\n",
      "('Levi'S', 'Jeans Levi's 714 straight fit', 'https://www.galerieslafayette.com/p/jeans+levi+s+714+straight+fit-levi+s/48938142/106', 49.50, 'f', 'pant'),\n",
      "('Tommy Jeans', 'Jeans Tommy Jeans Santana high rise skinny', 'https://www.galerieslafayette.com/p/jeans+tommy+jeans+santana+high+rise+skinny-tommy+jeans/50432022/85', 49.95, 'f', 'pant'),\n",
      "('Pepe Jeans', 'Jeans Pepe Jeans Mira slim', 'https://www.galerieslafayette.com/p/jeans+pepe+jeans+mira+slim-pepe+jeans/49839404/106', 47.50, 'f', 'pant'),\n",
      "('Salsa', 'Jeans Colette Skinny avec des paillettes', 'https://www.galerieslafayette.com/p/jeans+colette+skinny+avec+des+paillettes-salsa/300404404336/101', 44.95, 'f', 'pant'),\n",
      "('Galeries Lafayette', 'Jeans Galeries Lafayette Cslim', 'https://www.galerieslafayette.com/p/jeans+galeries+lafayette+cslim-galeries+lafayette/48043783/102', 19.99, 'f', 'pant'),\n",
      "('Le Temps Des Cerises', 'Jeans Le Temps Des Cerises slim', 'https://www.galerieslafayette.com/p/jeans+le+temps+des+cerises+slim-le+temps+des+cerises/49796910/85', 34.95, 'f', 'pant'),\n",
      "('Esprit', 'Jeans Esprit slim', 'https://www.galerieslafayette.com/p/jeans+esprit+slim-esprit/49137168/125', 29.99, 'f', 'pant'),\n",
      "('Esprit', 'Jeans Esprit slim fit', 'https://www.galerieslafayette.com/p/jeans+esprit+slim+fit-esprit/49137139/106', 24.99, 'f', 'pant'),\n",
      "('Galeries Lafayette', 'Jeans Galeries Lafayette Pinpin', 'https://www.galerieslafayette.com/p/jeans+galeries+lafayette+pinpin-galeries+lafayette/48051813/60', 23.99, 'f', 'pant'),\n",
      "('Promod', 'Jean skinny GASPARD Blanc', 'https://www.galerieslafayette.com/p/jean+skinny+gaspard+blanc-promod/300404302617/85', 19.95, 'f', 'pant'),\n",
      "('Queen Mom', 'Jean flare', 'https://www.galerieslafayette.com/p/jean+flare-queen+mom/300404690536/101', 79.99, 'f', 'pant'),\n",
      "('Salsa', 'Jeans Wonder Capri avec ?illets', 'https://www.galerieslafayette.com/p/jeans+wonder+capri+avec+illets-salsa/300405241516/101', 99.90, 'f', 'pant'),\n",
      "('Queen Mom', 'Jean slim', 'https://www.galerieslafayette.com/p/jean+slim-queen+mom/300404690677/106', 79.99, 'f', 'pant'),\n",
      "('Galeries Lafayette', 'Jeans Galeries Lafayette Pinpin', 'https://www.galerieslafayette.com/p/jeans+galeries+lafayette+pinpin-galeries+lafayette/48051813/85', 23.99, 'f', 'pant'),\n",
      "('Salsa', 'Jeans Mystery Skinny en denim léger', 'https://www.galerieslafayette.com/p/jeans+mystery+skinny+en+denim+leger-salsa/300405241585/101', 99.90, 'f', 'pant'),\n",
      "('Salsa', 'Jeans Secret Glamour avec déchirures et filet', 'https://www.galerieslafayette.com/p/jeans+secret+glamour+avec+dechirures+et+filet-salsa/300404725548/101', 49.95, 'f', 'pant'),\n",
      "('Queen Mom', 'Jean slim', 'https://www.galerieslafayette.com/p/jean+slim-queen+mom/300404690644/230', 89.99, 'f', 'pant'),\n",
      "('Pepe Jeans', 'Jeans Pepe Jeans Gen Straight', 'https://www.galerieslafayette.com/p/jeans+pepe+jeans+gen+straight-pepe+jeans/49259697/119', 75.00, 'f', 'pant'),\n",
      "('Diesel', 'Jeans Diesel Livier slim', 'https://www.galerieslafayette.com/p/jeans+diesel+livier+slim-diesel/49372387/104', 130.00, 'f', 'pant'),\n",
      "('Comptoir Des Cotonniers', 'Jeans Comptoir des Cotonniers Decadente slim fit', 'https://www.galerieslafayette.com/p/jeans+comptoir+des+cotonniers+decadente+slim+fit-comptoir+des+cotonniers/54960363/320', 115.00, 'f', 'pant'),\n",
      "('Tommy Jeans', 'Jeans Tommy Jeans Santana skinny fit', 'https://www.galerieslafayette.com/p/jeans+tommy+jeans+santana+skinny+fit-tommy+jeans/53693902/322', 99.90, 'f', 'pant'),\n",
      "('Pepe Jeans', 'Jeans Pepe Jeans Gen straight', 'https://www.galerieslafayette.com/p/jeans+pepe+jeans+gen+straight-pepe+jeans/49259707/101', 99.00, 'f', 'pant'),\n",
      "('Levi'S', 'Jeans Levi's 712 slim western', 'https://www.galerieslafayette.com/p/jeans+levi+s+712+slim+western-levi+s/40863751/85', 99.00, 'f', 'pant'),\n",
      "('Salsa', 'Jeans Colette Capri avec détail de fermeture', 'https://www.galerieslafayette.com/p/jeans+colette+capri+avec+detail+de+fermeture-salsa/300405241551/101', 89.90, 'f', 'pant'),\n",
      "('Comptoir Des Cotonniers', 'Jeans Comptoir des Cotonniers Decadente slim fit', 'https://www.galerieslafayette.com/p/jeans+comptoir+des+cotonniers+decadente+slim+fit-comptoir+des+cotonniers/54960363/453', 115.00, 'f', 'pant'),\n",
      "('Salsa', 'Pantalon Shape Up Capri lavage premium', 'https://www.galerieslafayette.com/p/pantalon+shape+up+capri+lavage+premium-salsa/300405241562/101', 99.90, 'f', 'pant'),\n",
      "('Salsa', 'Colette Capri blanche avec déchirures', 'https://www.galerieslafayette.com/p/colette+capri+blanche+avec+dechirures-salsa/300404724850/85', 44.95, 'f', 'pant'),\n",
      "('Morgan', 'Jean slim stretch 7/8 effet délavé', 'https://www.galerieslafayette.com/p/jean+slim+stretch+7+8+effet+delave-morgan/300405003645/320', 39.00, 'f', 'pant'),\n",
      "('Salsa', 'Secret Glamour Push In Capri Premium Wash', 'https://www.galerieslafayette.com/p/secret+glamour+push+in+capri+premium+wash-salsa/300404403258/101', 99.90, 'f', 'pant'),\n",
      "('Diesel', 'Jeans Diesel Skinzee 0813E skinny fit', 'https://www.galerieslafayette.com/p/jeans+diesel+skinzee+0813e+skinny+fit-diesel/12326227/320', 98.00, 'f', 'pant'),\n",
      "('Guess', 'JEAN TAILLE HAUTE FEATHER WEIGHT®', 'https://www.galerieslafayette.com/p/jean+taille+haute+feather+weight+-guess/300404691414/101', 59.50, 'f', 'pant'),\n",
      "('Salsa', 'Pantalons chinos Colette Capri avec micro-print', 'https://www.galerieslafayette.com/p/pantalons+chinos+colette+capri+avec+micro-print-salsa/300404403902/60', 39.95, 'f', 'pant'),\n",
      "('Esprit Maternity', 'Jean droit', 'https://www.galerieslafayette.com/p/jean+droit-esprit+maternity/300402834841/106', 91.99, 'f', 'pant'),\n",
      "('Marc O’Polo', 'Jean ALBY KICK flared', 'https://www.galerieslafayette.com/p/jean+alby+kick+flared-marc+o+polo/300404323581/101', 129.00, 'f', 'pant'),\n",
      "('Queen Mom', 'Jean slim', 'https://www.galerieslafayette.com/p/jean+slim-queen+mom/300404690777/320', 79.99, 'f', 'pant'),\n",
      "('Salsa', 'Jeans Secret Skinny Soft Touch en denim clair', 'https://www.galerieslafayette.com/p/jeans+secret+skinny+soft+touch+en+denim+clair-salsa/300404724986/101', 49.95, 'f', 'pant'),\n",
      "('Marc O’Polo', 'Jean ALBY straight', 'https://www.galerieslafayette.com/p/jean+alby+straight-marc+o+polo/300404251264/101', 109.00, 'f', 'pant'),\n",
      "('Morgan', 'Jean skinny enduit à zips', 'https://www.galerieslafayette.com/p/jean+skinny+enduit+a+zips-morgan/300403804221/320', 45.50, 'f', 'pant'),\n",
      "('Pepe Jeans', 'Jeans Pepe Jeans Pixie Destroy Skinny', 'https://www.galerieslafayette.com/p/jeans+pepe+jeans+pixie+destroy+skinny-pepe+jeans/53450725/106', 99.00, 'f', 'pant'),\n",
      "('Levi'S', 'Jeans Levi's skinny', 'https://www.galerieslafayette.com/p/jeans+levi+s+skinny-levi+s/54476997/101', 99.00, 'f', 'pant'),\n",
      "('Salsa', 'Jean Bliss en denim clair', 'https://www.galerieslafayette.com/p/jean+bliss+en+denim+clair-salsa/300404724724/101', 89.90, 'f', 'pant'),\n",
      "('Topshop', 'Jeans Topshop Jamie Moto slim fit', 'https://www.galerieslafayette.com/p/jeans+topshop+jamie+moto+slim+fit-topshop/48117604/320', 55.00, 'f', 'pant'),\n",
      "('Salsa', 'Jeans Secret Push In Slim enduits', 'https://www.galerieslafayette.com/p/jeans+secret+push+in+slim+enduits-salsa/300404404201/101', 49.95, 'f', 'pant'),\n",
      "('Pepe Jeans', 'Jeans Pepe Jeans slim Regent', 'https://www.galerieslafayette.com/p/jeans+pepe+jeans+slim+regent-pepe+jeans/49839383/101', 47.50, 'f', 'pant'),\n",
      "('Salsa', 'Push In Secret Glamour Slim', 'https://www.galerieslafayette.com/p/push+in+secret+glamour+slim-salsa/300404723524/101', 89.90, 'f', 'pant'),\n",
      "('Desigual', 'Jeans Desigual Louis slim', 'https://www.galerieslafayette.com/p/jeans+desigual+louis+slim-desigual/50330821/101', 49.97, 'f', 'pant'),\n",
      "('Salsa', 'Jean Push Up Wonder delavage premium', 'https://www.galerieslafayette.com/p/jean+push+up+wonder+delavage+premium-salsa/300403837252/103', 59.50, 'f', 'pant'),\n",
      "('Noppies', 'Jean droit Beau', 'https://www.galerieslafayette.com/p/jean+droit+beau-noppies/300404488818/101', 79.99, 'f', 'pant'),\n",
      "('Salsa', 'Jeans Shape Up en denim blanchi', 'https://www.galerieslafayette.com/p/jeans+shape+up+en+denim+blanchi-salsa/300405241317/101', 89.90, 'f', 'pant');\n"
     ]
    }
   ],
   "source": [
    "length = (len(prix_fpant))\n",
    "print('INSERT INTO Vetement (marque, description, lien, prix,genre, item)')\n",
    "print('VALUES')\n",
    "for i in range(length-2):\n",
    "    print('(\\''+marque_fpant[i]+'\\', \\''+desc_fpant[i]+'\\', \\''+lien_fpant[i]+'\\', '+prix_fpant2[i]+', \\'f\\', \\'pant\\'),')\n",
    "print('(\\''+marque_fpant[length-1]+'\\', \\''+desc_fpant[length-1]+'\\', \\''+lien_fpant[length-1]+'\\', '+prix_fpant2[length-1]+', \\'f\\', \\'pant\\');')"
   ]
  },
  {
   "cell_type": "markdown",
   "metadata": {},
   "source": [
    "# JUPE"
   ]
  },
  {
   "cell_type": "code",
   "execution_count": 93,
   "metadata": {},
   "outputs": [],
   "source": [
    "marque_fjupe = []\n",
    "desc_fjupe = []\n",
    "lien_fjupe = []\n",
    "html = urlopen(\"https://www.galerieslafayette.com/c/femme-pret-a-porter-jupes\")\n",
    "soup = BeautifulSoup(html, \"html.parser\")\n",
    "for marque in soup.find_all('strong',attrs={\"class\" :\"pdt-brand bold-large-title-marque one\"}):\n",
    "    marque_fjupe.append((marque).get_text())\n",
    "\n",
    "for link in soup.find_all('a',class_=\"js-pdt-link js-recommendation-event\"):\n",
    "    lien_fjupe.append(\"https://www.galerieslafayette.com\" + link.get('href'))\n",
    "for desc in soup.find_all('span',class_=\"pdt-name three\"):\n",
    "    desc_fjupe.append((desc).get_text())\n",
    "    \n",
    "prix_fjupe = []\n",
    "prix_fjupe_temp = []\n",
    "\n",
    "for price in soup.find_all('span',attrs={\"class\" :\"price\"}):\n",
    "    prix_fjupe_temp.append(re.findall(r\"\\d+,\\d{2}\",str(price)))\n",
    "for elem in prix_fjupe_temp:\n",
    "    prix_fjupe.append(\" \".join(elem))  "
   ]
  },
  {
   "cell_type": "code",
   "execution_count": 94,
   "metadata": {},
   "outputs": [],
   "source": [
    "# changement de la virgule par un point nécessaire pour sql\n",
    "\n",
    "prix_fjupe2 = []\n",
    "for i in prix_fjupe:\n",
    "    prix_fjupe2.append(i.replace(\",\",\".\"))"
   ]
  },
  {
   "cell_type": "code",
   "execution_count": 95,
   "metadata": {},
   "outputs": [
    {
     "name": "stdout",
     "output_type": "stream",
     "text": [
      "INSERT INTO Vetement (marque, description, lien, prix, genre, item)\n",
      "VALUES\n",
      "('Maje', 'Jupe Jupette', 'https://www.galerieslafayette.com/p/jupe+jupette-maje/50035927/453', 135.00, 'f', 'jupe'),\n",
      "('The Kooples', 'Jupe longue en soie à volants print cachemire', 'https://www.galerieslafayette.com/p/jupe+longue+en+soie+a+volants+print+cachemire-the+kooples/49922571/101', 131.00, 'f', 'jupe'),\n",
      "('Devernois', 'Jupe midi ample', 'https://www.galerieslafayette.com/p/jupe+midi+ample-devernois/300405156031/401', 89.00, 'f', 'jupe'),\n",
      "('Maje', 'Jupe Joshua ', 'https://www.galerieslafayette.com/p/jupe+joshua-maje/52543835/57072', 78.00, 'f', 'jupe'),\n",
      "('Sandro', 'Jupe courte à volants', 'https://www.galerieslafayette.com/p/jupe+courte+a+volants-sandro/49828245/125', 72.50, 'f', 'jupe'),\n",
      "('Sandro', 'Jupe avec poches volantées', 'https://www.galerieslafayette.com/p/jupe+avec+poches+volantees-sandro/49828350/401', 62.50, 'f', 'jupe'),\n",
      "('Sandro', 'Jupe avec poches volantées', 'https://www.galerieslafayette.com/p/jupe+avec+poches+volantees-sandro/49828350/457', 62.50, 'f', 'jupe'),\n",
      "('Comptoir Des Cotonniers', 'Jupe plissée soleil', 'https://www.galerieslafayette.com/p/jupe+plissee+soleil-comptoir+des+cotonniers/50837217/85', 62.50, 'f', 'jupe'),\n",
      "('Comptoir Des Cotonniers', 'Jupe plissée à pois', 'https://www.galerieslafayette.com/p/jupe+plissee+a+pois-comptoir+des+cotonniers/50836183/459', 54.00, 'f', 'jupe'),\n",
      "('Caroll', 'Jupe Olivia', 'https://www.galerieslafayette.com/p/jupe+olivia-caroll/52635432/230', 42.50, 'f', 'jupe'),\n",
      "('Princesse tam.tam', 'Jupe midi à rayures Bella Vita', 'https://www.galerieslafayette.com/p/jupe+midi+a+rayures+bella+vita-princesse+tam+tam/54394202/384', 42.50, 'f', 'jupe'),\n",
      "('Galeries Lafayette', 'Jupe Pipa ', 'https://www.galerieslafayette.com/p/jupe+pipa-galeries+lafayette/49073328/125', 19.99, 'f', 'jupe'),\n",
      "('Caroll', 'Jupe Floriane', 'https://www.galerieslafayette.com/p/jupe+floriane-caroll/52634925/125', 38.00, 'f', 'jupe'),\n",
      "('Pepe Jeans', 'Jupe Taylor', 'https://www.galerieslafayette.com/p/jupe+taylor-pepe+jeans/49776181/106', 37.50, 'f', 'jupe'),\n",
      "('Esprit', 'Jupe midi rayée', 'https://www.galerieslafayette.com/p/jupe+midi+rayee-esprit/49930572/384', 35.99, 'f', 'jupe'),\n",
      "('Karl Marc John', 'Jupe en coton Jive', 'https://www.galerieslafayette.com/p/jupe+en+coton+jive-karl+marc+john/52761833/263', 35.00, 'f', 'jupe'),\n",
      "('Sinequanone', 'Jupe crayon Smithfield', 'https://www.galerieslafayette.com/p/jupe+crayon+smithfield-sinequanone/300404302172/322', 35.60, 'f', 'jupe'),\n",
      "('Caroll', 'Jupe Alexander', 'https://www.galerieslafayette.com/p/jupe+alexander-caroll/52635118/453', 28.50, 'f', 'jupe'),\n",
      "('Caroll', 'Jupe Melinda', 'https://www.galerieslafayette.com/p/jupe+melinda-caroll/52635586/279', 27.00, 'f', 'jupe'),\n",
      "('Morgan', 'Jupe crayon en sergé', 'https://www.galerieslafayette.com/p/jupe+crayon+en+serge-morgan/300403884100/125', 25.00, 'f', 'jupe'),\n",
      "('Jodhpur', 'Jupe Cesar', 'https://www.galerieslafayette.com/p/jupe+cesar-jodhpur/47826513/102', 24.99, 'f', 'jupe'),\n",
      "('La Petite Française', 'Jupe Pâquerette', 'https://www.galerieslafayette.com/p/jupe+paquerette-la+petite+francaise/51907933/125', 23.69, 'f', 'jupe'),\n",
      "('Galeries Lafayette', 'Jupe Perangere', 'https://www.galerieslafayette.com/p/jupe+perangere-galeries+lafayette/48048802/116', 20.99, 'f', 'jupe'),\n",
      "('Galeries Lafayette', 'Jupe Paco', 'https://www.galerieslafayette.com/p/jupe+paco-galeries+lafayette/48048751/125', 17.99, 'f', 'jupe'),\n",
      "('La Fiancée du Mekong', 'Jupe courte Minato', 'https://www.galerieslafayette.com/p/jupe+courte+minato-la+fiancee+du+mekong/300404371015/401', 11.97, 'f', 'jupe'),\n",
      "('La Fiancée du Mekong', 'Jupe courte Minato', 'https://www.galerieslafayette.com/p/jupe+courte+minato-la+fiancee+du+mekong/300404371039/60', 11.97, 'f', 'jupe'),\n",
      "('Galeries Lafayette', 'Jupe Paola2', 'https://www.galerieslafayette.com/p/jupe+paola2-galeries+lafayette/49073313/263', 27.98, 'f', 'jupe'),\n",
      "('Galeries Lafayette', 'Jupe Paola2', 'https://www.galerieslafayette.com/p/jupe+paola2-galeries+lafayette/49073313/101', 27.98, 'f', 'jupe'),\n",
      "('Salsa', 'Jupe noire Push In', 'https://www.galerieslafayette.com/p/jupe+noire+push+in-salsa/300404724492/320', 53.67, 'f', 'jupe'),\n",
      "('Esprit', 'Jupe losanges', 'https://www.galerieslafayette.com/p/jupe+losanges-esprit/49931310/117', 41.99, 'f', 'jupe'),\n",
      "('Guess', 'JUPE EN DENIM', 'https://www.galerieslafayette.com/p/jupe+en+denim-guess/300404015295/101', 79.90, 'f', 'jupe'),\n",
      "('Balsamik', 'Balsamik - Jupe droite spécial ventre rond', 'https://www.galerieslafayette.com/p/balsamik+-+jupe+droite+special+ventre+rond-balsamik/300404408623/125', 39.99, 'f', 'jupe'),\n",
      "('La Fiancée du Mekong', 'Jupe évasée fluide en coton Ralia', 'https://www.galerieslafayette.com/p/jupe+evasee+fluide+en+coton+ralia-la+fiancee+du+mekong/300404685379/306', 39.90, 'f', 'jupe'),\n",
      "('Karl Marc John', 'Jupe portefeuille Joyna', 'https://www.galerieslafayette.com/p/jupe+portefeuille+joyna-karl+marc+john/52761854/125', 39.00, 'f', 'jupe'),\n",
      "('Max et Moi', 'Jupe en cuir NUTELLA', 'https://www.galerieslafayette.com/p/jupe+en+cuir+nutella-max+et+moi/300405176697/60', 395.00, 'f', 'jupe'),\n",
      "('Supermom', 'Jupe', 'https://www.galerieslafayette.com/p/jupe-supermom/300403937899/320', 40.99, 'f', 'jupe'),\n",
      "('Maje', 'Jupe Jarod', 'https://www.galerieslafayette.com/p/jupe+jarod-maje/49826203/320', 78.00, 'f', 'jupe'),\n",
      "('Sandro', 'Jupe zippée', 'https://www.galerieslafayette.com/p/jupe+zippee-sandro/49826881/320', 82.50, 'f', 'jupe'),\n",
      "('Liu Jo', 'Jupe courte « Mistero notturno »', 'https://www.galerieslafayette.com/p/jupe+courte+mistero+notturno+-liu+jo/300405194722/401', 155.00, 'f', 'jupe'),\n",
      "('Balsamik', 'Jupe courte, stature + d'1,69m', 'https://www.galerieslafayette.com/p/jupe+courte+stature+d+1+69m-balsamik/300401751335/320', 34.99, 'f', 'jupe'),\n",
      "('Esprit Maternity', 'Jupe en jean', 'https://www.galerieslafayette.com/p/jupe+en+jean-esprit+maternity/300402838460/106', 68.99, 'f', 'jupe'),\n",
      "('Noppies', 'Jupe Ilaisa', 'https://www.galerieslafayette.com/p/jupe+ilaisa-noppies/300403937892/48', 68.99, 'f', 'jupe'),\n",
      "('Guess', 'JUPE PLISSÉE PAILLETTES', 'https://www.galerieslafayette.com/p/jupe+plissee+paillettes-guess/300404898153/256', 119.90, 'f', 'jupe'),\n",
      "('Maje', 'Jupe Jiba', 'https://www.galerieslafayette.com/p/jupe+jiba-maje/50035742/204', 195.00, 'f', 'jupe'),\n",
      "('Topshop', 'Jupe évasée zippée', 'https://www.galerieslafayette.com/p/jupe+evasee+zippee-topshop/50850980/230', 34.00, 'f', 'jupe'),\n",
      "('Devernois', 'Jupe longue imprimée en coton', 'https://www.galerieslafayette.com/p/jupe+longue+imprimee+en+coton-devernois/300404473646/453', 64.00, 'f', 'jupe'),\n",
      "('Closed', 'Jupe culotte Maja', 'https://www.galerieslafayette.com/p/jupe+culotte+maja-closed/45153035/384', 229.00, 'f', 'jupe'),\n",
      "('Karl Marc John', 'Jupe portefeuille Joyna', 'https://www.galerieslafayette.com/p/jupe+portefeuille+joyna-karl+marc+john/52761854/178', 39.00, 'f', 'jupe'),\n",
      "('Max et Moi', 'Jupe POP', 'https://www.galerieslafayette.com/p/jupe+pop-max+et+moi/300405172315/60', 175.00, 'f', 'jupe'),\n",
      "('Kaporal Jeans', 'Jupe Comic Trip', 'https://www.galerieslafayette.com/p/jupe+comic+trip-kaporal+jeans/45671399/320', 60.00, 'f', 'jupe'),\n",
      "('Nike', 'Jupe de sport', 'https://www.galerieslafayette.com/p/jupe+de+sport-nike/51791875/85', 36.00, 'f', 'jupe'),\n",
      "('Msgm', 'Jupe satinée asymétrique ', 'https://www.galerieslafayette.com/p/jupe+satinee+asymetrique-msgm/52423931/256', 127.96, 'f', 'jupe'),\n",
      "('Liu Jo', 'Jupe mi-longue « Leisure »', 'https://www.galerieslafayette.com/p/jupe+mi-longue+leisure+-liu+jo/300404408278/85', 54.50, 'f', 'jupe'),\n",
      "('Queen Mom', 'Jupe', 'https://www.galerieslafayette.com/p/jupe-queen+mom/300404691240/318', 39.99, 'f', 'jupe'),\n",
      "('Pepe Jeans', 'Jupe Rachel', 'https://www.galerieslafayette.com/p/jupe+rachel-pepe+jeans/53450776/320', 85.00, 'f', 'jupe'),\n",
      "('Tara Jarmon', 'Jupe mi longue bleue nuit', 'https://www.galerieslafayette.com/p/jupe+mi+longue+bleue+nuit-tara+jarmon/48062813/127', 235.00, 'f', 'jupe'),\n",
      "('Caroll', 'Jupe boutonnée Sophie', 'https://www.galerieslafayette.com/p/jupe+boutonnee+sophie-caroll/52635243/317', 63.00, 'f', 'jupe'),\n",
      "('Salsa', 'Jupe plissée', 'https://www.galerieslafayette.com/p/jupe+plissee-salsa/300403837177/453', 46.62, 'f', 'jupe'),\n",
      "('Devernois', 'Jupe droite doublée toile de coton lycra', 'https://www.galerieslafayette.com/p/jupe+droite+doublee+toile+de+coton+lycra-devernois/300404473487/60', 100.80, 'f', 'jupe');\n"
     ]
    }
   ],
   "source": [
    "length = (len(prix_fjupe))\n",
    "print('INSERT INTO Vetement (marque, description, lien, prix, genre, item)')\n",
    "print('VALUES')\n",
    "for i in range(length-2):\n",
    "    print('(\\''+marque_fjupe[i]+'\\', \\''+desc_fjupe[i]+'\\', \\''+lien_fjupe[i]+'\\', '+prix_fjupe2[i]+', \\'f\\', \\'jupe\\'),')\n",
    "print('(\\''+marque_fjupe[length-1]+'\\', \\''+desc_fjupe[length-1]+'\\', \\''+lien_fjupe[length-1]+'\\', '+prix_fjupe2[length-1]+', \\'f\\', \\'jupe\\');')"
   ]
  },
  {
   "cell_type": "markdown",
   "metadata": {},
   "source": [
    "# PARAPLUIE"
   ]
  },
  {
   "cell_type": "code",
   "execution_count": 3,
   "metadata": {},
   "outputs": [],
   "source": [
    "marque_fpara = []\n",
    "desc_fpara = []\n",
    "lien_fpara = []\n",
    "html = urlopen(\"https://www.galerieslafayette.com/s/femme+accessoires+parapluies/ct/femme-accessoires-parapluies\")\n",
    "soup = BeautifulSoup(html, \"html.parser\")\n",
    "for marque in soup.find_all('strong',attrs={\"class\" :\"pdt-brand bold-large-title-marque one\"}):\n",
    "    marque_fpara.append((marque).get_text())\n",
    "\n",
    "for link in soup.find_all('a',class_=\"js-pdt-link js-recommendation-event\"):\n",
    "    lien_fpara.append(\"https://www.galerieslafayette.com\" + link.get('href'))\n",
    "for desc in soup.find_all('span',class_=\"pdt-name three\"):\n",
    "    desc_fpara.append((desc).get_text())\n",
    "\n",
    "prix_fpara = []\n",
    "prix_fpara_temp = []\n",
    "\n",
    "for price in soup.find_all('span',attrs={\"class\" :\"price\"}):\n",
    "    prix_fpara_temp.append(re.findall(r\"\\d+,\\d{2}\",str(price)))\n",
    "for elem in prix_fpara_temp:\n",
    "    prix_fpara.append(\" \".join(elem)) "
   ]
  },
  {
   "cell_type": "code",
   "execution_count": 5,
   "metadata": {},
   "outputs": [],
   "source": [
    "# changement de la virgule par un point nécessaire pour sql\n",
    "\n",
    "prix_fpara2 = []\n",
    "for i in prix_fpara:\n",
    "    prix_fpara2.append(i.replace(\",\",\".\"))"
   ]
  },
  {
   "cell_type": "code",
   "execution_count": 15,
   "metadata": {
    "scrolled": true
   },
   "outputs": [
    {
     "name": "stdout",
     "output_type": "stream",
     "text": [
      "INSERT INTO Vetement (marque, description, lien, prix, genre, item)\n",
      "VALUES\n",
      "('Galeries Lafayette', 'Parapluie Karop', 'https://www.galerieslafayette.com/p/parapluie+karop-galeries+lafayette/47607600/320', 19.99, 'f', 'para'),\n",
      "('Jean Paul Gaultier', 'Parapluie automatique rayé', 'https://www.galerieslafayette.com/p/parapluie+automatique+raye-jean+paul+gaultier/38813267/204', 59.00, 'f', 'para'),\n",
      "('Esprit', 'Parapluie', 'https://www.galerieslafayette.com/p/parapluie-esprit/32541781/320', 22.99, 'f', 'para'),\n",
      "('Galeries Lafayette', 'Parapluie Karop', 'https://www.galerieslafayette.com/p/parapluie+karop-galeries+lafayette/47607600/125', 19.99, 'f', 'para'),\n",
      "('Pierre Vaux', 'Micro Parapluie pliant manuel imprimé journal', 'https://www.galerieslafayette.com/p/micro+parapluie+pliant+manuel+imprime+journal-pierre+vaux/78371671/320', 40.50, 'f', 'para'),\n",
      "('Isotoner', 'Parapluie Petit Prix', 'https://www.galerieslafayette.com/p/parapluie+petit+prix-isotoner/300400967848/320', 24.90, 'f', 'para'),\n",
      "('Isotoner', 'PARAPLUIES HOMME Parapluie X-TRA SOLIDE - ouverture/fermeture automatique', 'https://www.galerieslafayette.com/p/parapluies+homme+parapluie+x-tra+solide+-+ouverture+fermeture+automatique-isotoner/300400967844/320', 35.90, 'f', 'para'),\n",
      "('Galeries Lafayette', 'Parapluie Auto', 'https://www.galerieslafayette.com/p/parapluie+auto-galeries+lafayette/36547658/320', 19.99, 'f', 'para'),\n",
      "('Isotoner', 'Parapluie Mini', 'https://www.galerieslafayette.com/p/parapluie+mini-isotoner/300402953882/230', 14.95, 'f', 'para'),\n",
      "('Esprit', 'Parapluie long manuel', 'https://www.galerieslafayette.com/p/parapluie+long+manuel-esprit/57317208/320', 24.99, 'f', 'para'),\n",
      "('Isotoner', 'Parapluie canne', 'https://www.galerieslafayette.com/p/parapluie+canne-isotoner/300401291857/320', 29.90, 'f', 'para'),\n",
      "('Guy De Jean', 'Parapluie long', 'https://www.galerieslafayette.com/p/parapluie+long-guy+de+jean/99469694/320', 125.00, 'f', 'para'),\n",
      "('Galeries Lafayette', 'Parapluie Auto', 'https://www.galerieslafayette.com/p/parapluie+auto-galeries+lafayette/36547658/71', 19.99, 'f', 'para'),\n",
      "('Isotoner', 'Parapluie Petit Prix', 'https://www.galerieslafayette.com/p/parapluie+petit+prix-isotoner/300400967848/125', 24.90, 'f', 'para'),\n",
      "('Isotoner', 'Parapluie Mini', 'https://www.galerieslafayette.com/p/parapluie+mini-isotoner/300401463148/320', 29.90, 'f', 'para'),\n",
      "('Isotoner', 'Parapluie Mini', 'https://www.galerieslafayette.com/p/parapluie+mini-isotoner/300402953916/230', 24.43, 'f', 'para'),\n",
      "('Galeries Lafayette', 'Parapluie', 'https://www.galerieslafayette.com/p/parapluie-galeries+lafayette/28945491/320', 24.99, 'f', 'para'),\n",
      "('Esprit', 'Parapluie long manuel', 'https://www.galerieslafayette.com/p/parapluie+long+manuel-esprit/57317208/119', 24.99, 'f', 'para'),\n",
      "('Guy De Jean', 'Parapluie Mini', 'https://www.galerieslafayette.com/p/parapluie+mini-guy+de+jean/99432650/320', 24.20, 'f', 'para'),\n",
      "('Isotoner', 'Parapluie Cloche transparent - Ouverture manuelle', 'https://www.galerieslafayette.com/p/parapluie+cloche+transparent+-+ouverture+manuelle-isotoner/300401643630/444', 17.94, 'f', 'para'),\n",
      "('Galeries Lafayette', 'Parapluie Auto', 'https://www.galerieslafayette.com/p/parapluie+auto-galeries+lafayette/36547658/401', 19.99, 'f', 'para'),\n",
      "('Isotoner', 'Parapluie X-TRA SOLIDE', 'https://www.galerieslafayette.com/p/parapluie+x-tra+solide-isotoner/300401291861/320', 36.90, 'f', 'para'),\n",
      "('Galeries Lafayette', 'Parapluie manuel 560 New', 'https://www.galerieslafayette.com/p/parapluie+manuel+560+new-galeries+lafayette/44626480/320', 14.99, 'f', 'para'),\n",
      "('Galeries Lafayette', 'Parapluie Kropois', 'https://www.galerieslafayette.com/p/parapluie+kropois-galeries+lafayette/47607607/92', 24.99, 'f', 'para'),\n",
      "('Isotoner', 'Parapluie Cloche transparent', 'https://www.galerieslafayette.com/p/parapluie+cloche+transparent-isotoner/300401463142/320', 29.90, 'f', 'para'),\n",
      "('Burberry', 'Parapluie femme télescopique à motif vintage check', 'https://www.galerieslafayette.com/p/parapluie+femme+telescopique+a+motif+vintage+check-burberry/54654477/278', 230.00, 'f', 'para'),\n",
      "('Galeries Lafayette', 'Parapluie Manu', 'https://www.galerieslafayette.com/p/parapluie+manu-galeries+lafayette/36547648/119', 14.99, 'f', 'para'),\n",
      "('Galeries Lafayette', 'Parapluie', 'https://www.galerieslafayette.com/p/parapluie-galeries+lafayette/28946317/320', 22.99, 'f', 'para'),\n",
      "('Esprit', 'Parapluie', 'https://www.galerieslafayette.com/p/parapluie-esprit/57318057/320', 22.99, 'f', 'para'),\n",
      "('Galeries Lafayette', 'Parapluie', 'https://www.galerieslafayette.com/p/parapluie-galeries+lafayette/28945046/320', 22.99, 'f', 'para'),\n",
      "('Isotoner', 'Parapluie long ouverture manuelle', 'https://www.galerieslafayette.com/p/parapluie+long+ouverture+manuelle-isotoner/77687986/306', 37.50, 'f', 'para'),\n",
      "('Isotoner', 'Parapluie X-TRA SOLIDE', 'https://www.galerieslafayette.com/p/parapluie+x-tra+solide-isotoner/300401463146/320', 35.90, 'f', 'para'),\n",
      "('Galeries Lafayette', 'Parapluie Manu', 'https://www.galerieslafayette.com/p/parapluie+manu-galeries+lafayette/36547648/320', 14.99, 'f', 'para'),\n",
      "('Esprit', 'Parapluie', 'https://www.galerieslafayette.com/p/parapluie-esprit/54426762/320', 22.99, 'f', 'para'),\n",
      "('Isotoner', 'Parapluie Petit Prix', 'https://www.galerieslafayette.com/p/parapluie+petit+prix-isotoner/300400967848/161', 24.90, 'f', 'para'),\n",
      "('Isotoner', 'Parapluie Mini', 'https://www.galerieslafayette.com/p/parapluie+mini-isotoner/300402953896/320', 20.93, 'f', 'para'),\n",
      "('Jean Paul Gaultier', 'Parapluie automatique pliant', 'https://www.galerieslafayette.com/p/parapluie+automatique+pliant-jean+paul+gaultier/64618531/125', 49.90, 'f', 'para'),\n",
      "('Isotoner', 'Parapluie Mini', 'https://www.galerieslafayette.com/p/parapluie+mini-isotoner/300401463144/320', 34.90, 'f', 'para'),\n",
      "('Pierre Vaux', 'Parapluie de golf pliant automatique', 'https://www.galerieslafayette.com/p/parapluie+de+golf+pliant+automatique-pierre+vaux/96505466/320', 35.35, 'f', 'para');\n"
     ]
    }
   ],
   "source": [
    "length = (len(prix_fpara))\n",
    "print('INSERT INTO Vetement (marque, description, lien, prix, genre, item)')\n",
    "print('VALUES')\n",
    "for i in range(length-2):\n",
    "    print('(\\''+marque_fpara[i]+'\\', \\''+desc_fpara[i]+'\\', \\''+lien_fpara[i]+'\\', '+prix_fpara2[i]+', \\'f\\', \\'para\\'),')\n",
    "print('(\\''+marque_fpara[length-1]+'\\', \\''+desc_fpara[length-1]+'\\', \\''+lien_fpara[length-1]+'\\', '+prix_fpara2[length-1]+', \\'f\\', \\'para\\');')"
   ]
  }
 ],
 "metadata": {
  "kernelspec": {
   "display_name": "Python 3",
   "language": "python",
   "name": "python3"
  },
  "language_info": {
   "codemirror_mode": {
    "name": "ipython",
    "version": 3
   },
   "file_extension": ".py",
   "mimetype": "text/x-python",
   "name": "python",
   "nbconvert_exporter": "python",
   "pygments_lexer": "ipython3",
   "version": "3.6.4"
  }
 },
 "nbformat": 4,
 "nbformat_minor": 2
}
