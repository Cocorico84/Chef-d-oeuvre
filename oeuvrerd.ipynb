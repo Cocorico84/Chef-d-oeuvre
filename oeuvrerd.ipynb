{
 "cells": [
  {
   "cell_type": "code",
   "execution_count": 87,
   "metadata": {},
   "outputs": [],
   "source": [
    "import requests\n",
    "import json"
   ]
  },
  {
   "cell_type": "code",
   "execution_count": 115,
   "metadata": {},
   "outputs": [],
   "source": [
    "path_api = \"http://api.openweathermap.org/data/2.5/forecast?q={}&appid=3543ac0c00624ed3bb653359621e5344\"\n",
    "prev = requests.get(path_api.format(ville))\n",
    "data_prev = prev.json()\n",
    "#print(json.dumps(data_prev, sort_keys = True, indent = 4))\n"
   ]
  },
  {
   "cell_type": "code",
   "execution_count": 116,
   "metadata": {},
   "outputs": [],
   "source": [
    "import datetime\n",
    "#ts = 1530565200\n",
    "#print(datetime.datetime.fromtimestamp(ts))"
   ]
  },
  {
   "cell_type": "code",
   "execution_count": 92,
   "metadata": {
    "scrolled": true
   },
   "outputs": [],
   "source": [
    "def convert(kel):\n",
    "    celsius = (kel- 273.15)\n",
    "    return round(celsius, 2)\n",
    "#convert(300)   "
   ]
  },
  {
   "cell_type": "code",
   "execution_count": 93,
   "metadata": {},
   "outputs": [
    {
     "name": "stdout",
     "output_type": "stream",
     "text": [
      "²²²² Bienvenue sur Weather Me ! B) ²²²²\n",
      "**** Le logiciel de prévision météo des 5 prochains jours. ****\n"
     ]
    }
   ],
   "source": [
    "print(\"²²²² Bienvenue sur Weather Me ! B) ²²²²\")\n",
    "print(\"**** Le logiciel de prévision météo des 5 prochains jours. ****\")"
   ]
  },
  {
   "cell_type": "code",
   "execution_count": 94,
   "metadata": {},
   "outputs": [
    {
     "name": "stdout",
     "output_type": "stream",
     "text": [
      "Quelle ville souhaitez-vous connaître la météo : paris\n",
      "Entrée le numéro en deux chiffre (ex: 05, 15) de la journée don vous voulez connaitre les prévision météo: 05\n",
      "Cette fois entrée le mois: 07\n"
     ]
    }
   ],
   "source": [
    "ville = input(\"Quelle ville souhaitez-vous connaître la météo : \")\n",
    "r = requests.get(\"http://api.openweathermap.org/data/2.5/weather?q={}&appid=3543ac0c00624ed3bb653359621e5344\".format(ville))\n",
    "data = r.json()\n",
    "prev = requests.get(\"http://api.openweathermap.org/data/2.5/forecast?q={}&appid=3543ac0c00624ed3bb653359621e5344\".format(ville))\n",
    "data_prev = prev.json()\n",
    "\n",
    "date_jour = input(\"Entrée le numéro en deux chiffre (ex: 05, 15) de la journée don vous voulez connaitre les prévision météo: \")\n",
    "date_mois = input(\"Cette fois entrée le mois: \")\n",
    "date = \"2018-\"+date_mois+\"-\"+date_jour\n"
   ]
  },
  {
   "cell_type": "code",
   "execution_count": 95,
   "metadata": {
    "scrolled": true
   },
   "outputs": [
    {
     "name": "stdout",
     "output_type": "stream",
     "text": [
      "2018-07-05\n",
      "00:00:00\n",
      "20.42°C\n",
      "\n",
      "03:00:00\n",
      "18.58°C\n",
      "\n",
      "06:00:00\n",
      "19.26°C\n",
      "\n",
      "09:00:00\n",
      "22.57°C\n",
      "\n",
      "12:00:00\n",
      "25.86°C\n",
      "\n",
      "15:00:00\n",
      "26.51°C\n",
      "\n",
      "18:00:00\n",
      "24.97°C\n",
      "\n",
      "21:00:00\n",
      "22.11°C\n",
      "\n"
     ]
    }
   ],
   "source": [
    "list_date = []\n",
    "list_celsius = []\n",
    "print(date)\n",
    "for i in range(len(data_prev[\"list\"])):\n",
    "    if date == data_prev[\"list\"][i][\"dt_txt\"][0:10]:\n",
    "        print(data_prev[\"list\"][i][\"dt_txt\"][11:])\n",
    "        print(str(convert(data_prev[\"list\"][i][\"main\"][\"temp\"]))+\"°C\")\n",
    "        list_date.append(data_prev[\"list\"][i][\"dt_txt\"][11:16])\n",
    "        list_celsius.append(convert(data_prev[\"list\"][i][\"main\"][\"temp\"]))\n",
    "        print(\"\")\n",
    "        "
   ]
  },
  {
   "cell_type": "code",
   "execution_count": 96,
   "metadata": {},
   "outputs": [
    {
     "data": {
      "text/plain": [
       "22.535"
      ]
     },
     "execution_count": 96,
     "metadata": {},
     "output_type": "execute_result"
    }
   ],
   "source": [
    "np.mean(list_celsius)"
   ]
  },
  {
   "cell_type": "code",
   "execution_count": 111,
   "metadata": {},
   "outputs": [
    {
     "data": {
      "image/png": "[encoded data removed]",
      "text/plain": [
       "<matplotlib.figure.Figure at 0x7fb9e3148cc0>"
      ]
     },
     "metadata": {},
     "output_type": "display_data"
    }
   ],
   "source": [
    "import matplotlib.pyplot as plt\n",
    "\n",
    "plt.title(\"Meteo\")\n",
    "plt.plot(list_date, list_celsius)\n",
    "plt.xlabel('Temps')\n",
    "plt.ylabel('°C')\n",
    "plt.show()"
   ]
  },
  {
   "cell_type": "code",
   "execution_count": 1,
   "metadata": {},
   "outputs": [],
   "source": [
    "from urllib.request import urlopen\n",
    "from bs4 import BeautifulSoup"
   ]
  },
  {
   "cell_type": "code",
   "execution_count": 2,
   "metadata": {
    "scrolled": true
   },
   "outputs": [
    {
     "ename": "NameError",
     "evalue": "name 'pd' is not defined",
     "output_type": "error",
     "traceback": [
      "\u001b[0;31m---------------------------------------------------------------------------\u001b[0m",
      "\u001b[0;31mNameError\u001b[0m                                 Traceback (most recent call last)",
      "\u001b[0;32m<ipython-input-2-aa4778e3a0b4>\u001b[0m in \u001b[0;36m<module>\u001b[0;34m()\u001b[0m\n\u001b[1;32m     12\u001b[0m     \u001b[0mISO_numérique\u001b[0m\u001b[0;34m.\u001b[0m\u001b[0mappend\u001b[0m\u001b[0;34m(\u001b[0m\u001b[0;34m(\u001b[0m\u001b[0mdesc_all\u001b[0m\u001b[0;34m[\u001b[0m\u001b[0mi\u001b[0m\u001b[0;34m+\u001b[0m\u001b[0;36m3\u001b[0m\u001b[0;34m]\u001b[0m\u001b[0;34m)\u001b[0m\u001b[0;34m.\u001b[0m\u001b[0mget_text\u001b[0m\u001b[0;34m(\u001b[0m\u001b[0;34m)\u001b[0m\u001b[0;34m)\u001b[0m\u001b[0;34m\u001b[0m\u001b[0m\n\u001b[1;32m     13\u001b[0m \u001b[0;34m\u001b[0m\u001b[0m\n\u001b[0;32m---> 14\u001b[0;31m \u001b[0mdf\u001b[0m \u001b[0;34m=\u001b[0m \u001b[0mpd\u001b[0m\u001b[0;34m.\u001b[0m\u001b[0mDataFrame\u001b[0m\u001b[0;34m(\u001b[0m\u001b[0;34m{\u001b[0m\u001b[0;34m\"list_pays\"\u001b[0m \u001b[0;34m:\u001b[0m \u001b[0mlist_pays\u001b[0m\u001b[0;34m,\u001b[0m \u001b[0;34m\"ISO_alpha2\"\u001b[0m \u001b[0;34m:\u001b[0m \u001b[0mISO_alpha2\u001b[0m\u001b[0;34m,\u001b[0m \u001b[0;34m\"ISO_alpha3\"\u001b[0m \u001b[0;34m:\u001b[0m \u001b[0mISO_alpha3\u001b[0m\u001b[0;34m,\u001b[0m \u001b[0;34m\"ISO_numérique\"\u001b[0m \u001b[0;34m:\u001b[0m \u001b[0mISO_numérique\u001b[0m\u001b[0;34m}\u001b[0m \u001b[0;34m,\u001b[0m \u001b[0mcolumns\u001b[0m \u001b[0;34m=\u001b[0m \u001b[0;34m[\u001b[0m\u001b[0;34m\"list_pays\"\u001b[0m\u001b[0;34m,\u001b[0m \u001b[0;34m\"ISO_alpha2\"\u001b[0m\u001b[0;34m,\u001b[0m \u001b[0;34m\"ISO_alpha3\"\u001b[0m\u001b[0;34m,\u001b[0m \u001b[0;34m\"ISO_numérique\"\u001b[0m\u001b[0;34m]\u001b[0m \u001b[0;34m)\u001b[0m\u001b[0;34m\u001b[0m\u001b[0m\n\u001b[0m\u001b[1;32m     15\u001b[0m \u001b[0;31m#df\u001b[0m\u001b[0;34m\u001b[0m\u001b[0;34m\u001b[0m\u001b[0m\n",
      "\u001b[0;31mNameError\u001b[0m: name 'pd' is not defined"
     ]
    }
   ],
   "source": [
    "list_pays = []\n",
    "ISO_alpha2 =[]\n",
    "ISO_alpha3 = []\n",
    "ISO_numérique = []\n",
    "html = urlopen(\"http://www.atlas-monde.net/codes-iso/\")\n",
    "soup = BeautifulSoup(html, \"html.parser\")\n",
    "desc_all = soup.find_all('td')\n",
    "for i in range(4,len(desc_all),4):\n",
    "    list_pays.append((desc_all[i]).get_text())\n",
    "    ISO_alpha2.append((desc_all[i+1]).get_text())\n",
    "    ISO_alpha3.append((desc_all[i+2]).get_text())\n",
    "    ISO_numérique.append((desc_all[i+3]).get_text())\n",
    "     \n",
    "df = pd.DataFrame({\"list_pays\" : list_pays, \"ISO_alpha2\" : ISO_alpha2, \"ISO_alpha3\" : ISO_alpha3, \"ISO_numérique\" : ISO_numérique} , columns = [\"list_pays\", \"ISO_alpha2\", \"ISO_alpha3\", \"ISO_numérique\"] )  \n",
    "#df"
   ]
  },
  {
   "cell_type": "markdown",
   "metadata": {},
   "source": [
    "# HOMMES"
   ]
  },
  {
   "cell_type": "markdown",
   "metadata": {},
   "source": [
    "# T-SHIRT&DEBARDEUR\n"
   ]
  },
  {
   "cell_type": "code",
   "execution_count": 112,
   "metadata": {},
   "outputs": [],
   "source": [
    "marque_htshirt = []\n",
    "desc_htshirt = []\n",
    "lien_htshirt = []\n",
    "html = urlopen(\"https://www.galerieslafayette.com/c/homme-pret-a-porter-t-shirts+et+polos/f/t-shirts\")\n",
    "soup = BeautifulSoup(html, \"html.parser\")\n",
    "for marque in soup.find_all('strong',attrs={\"class\" :\"pdt-brand bold-large-title-marque one\"}):\n",
    "    marque_htshirt.append((marque).get_text())\n",
    "\n",
    "for link in soup.find_all('a',class_=\"js-pdt-link js-recommendation-event\"):\n",
    "    lien_htshirt.append(\"https://www.galerieslafayette.com\" + link.get('href'))\n",
    "for desc in soup.find_all('span',class_=\"pdt-name three\"):\n",
    "    desc_htshirt.append((desc).get_text())\n",
    "\n",
    "prix_htshirt = []\n",
    "prix_htshirt_temp = []\n",
    "\n",
    "for price in soup.find_all('span',attrs={\"class\" :\"price promotion\"}):\n",
    "    prix_htshirt_temp.append(re.findall(r\"\\d+,\\d{2}\",str(price)))\n",
    "for elem in prix_htshirt_temp:\n",
    "    prix_htshirt.append(\" \".join(elem))  "
   ]
  },
  {
   "cell_type": "code",
   "execution_count": 101,
   "metadata": {},
   "outputs": [],
   "source": [
    "marque_hdeb = []\n",
    "desc_hdeb = []\n",
    "lien_hdeb = []\n",
    "html = urlopen(\"https://www.galerieslafayette.com/c/homme-pret-a-porter-t-shirts+et+polos/f/debardeurs\")\n",
    "soup = BeautifulSoup(html, \"html.parser\")\n",
    "for marque in soup.find_all('strong',attrs={\"class\" :\"pdt-brand bold-large-title-marque one\"}):\n",
    "    marque_hdeb.append((marque).get_text())\n",
    "\n",
    "for link in soup.find_all('a',class_=\"js-pdt-link js-recommendation-event\"):\n",
    "    lien_hdeb.append(\"https://www.galerieslafayette.com\" + link.get('href'))\n",
    "for desc in soup.find_all('span',class_=\"pdt-name three\"):\n",
    "    desc_hdeb.append((desc).get_text())\n",
    "    \n",
    "prix_hdeb = []\n",
    "prix_hdeb_temp = []\n",
    "\n",
    "for price in soup.find_all('span',attrs={\"class\" :\"price promotion\"}):\n",
    "    prix_hdeb_temp.append(re.findall(r\"\\d+,\\d{2}\",str(price)))\n",
    "for elem in prix_hdeb_temp:\n",
    "    prix_hdeb.append(\" \".join(elem)) "
   ]
  },
  {
   "cell_type": "markdown",
   "metadata": {},
   "source": [
    "# PULL"
   ]
  },
  {
   "cell_type": "code",
   "execution_count": 113,
   "metadata": {},
   "outputs": [],
   "source": [
    "marque_hpull = []\n",
    "desc_hpull = []\n",
    "lien_hpull = []\n",
    "html = urlopen(\"https://www.galerieslafayette.com/c/homme-pret-a-porter-maille\")\n",
    "soup = BeautifulSoup(html, \"html.parser\")\n",
    "for marque in soup.find_all('strong',attrs={\"class\" :\"pdt-brand bold-large-title-marque one\"}):\n",
    "    marque_hpull.append((marque).get_text())\n",
    "\n",
    "for link in soup.find_all('a',class_=\"js-pdt-link js-recommendation-event\"):\n",
    "    lien_hpull.append(\"https://www.galerieslafayette.com\" + link.get('href'))\n",
    "for desc in soup.find_all('span',class_=\"pdt-name three\"):\n",
    "    desc_hpull.append((desc).get_text())\n",
    "\n",
    "prix_hpull = []\n",
    "prix_hpull_temp = []\n",
    "\n",
    "for price in soup.find_all('span',attrs={\"class\" :\"price promotion\"}):\n",
    "    prix_hpull_temp.append(re.findall(r\"\\d+,\\d{2}\",str(price)))\n",
    "for elem in prix_hpull_temp:\n",
    "    prix_hpull.append(\" \".join(elem)) "
   ]
  },
  {
   "cell_type": "markdown",
   "metadata": {},
   "source": [
    "# PANTALON ET SHORT"
   ]
  },
  {
   "cell_type": "code",
   "execution_count": 103,
   "metadata": {},
   "outputs": [],
   "source": [
    "marque_hpant = []\n",
    "desc_hpant = []\n",
    "lien_hpant = []\n",
    "html = urlopen(\"https://www.galerieslafayette.com/c/homme-pret-a-porter-pantalons+et+shorts\")\n",
    "soup = BeautifulSoup(html, \"html.parser\")\n",
    "for marque in soup.find_all('strong',attrs={\"class\" :\"pdt-brand bold-large-title-marque one\"}):\n",
    "    marque_hpant.append((marque).get_text())\n",
    "\n",
    "for link in soup.find_all('a',class_=\"js-pdt-link js-recommendation-event\"):\n",
    "    lien_hpant.append(\"https://www.galerieslafayette.com\" + link.get('href'))\n",
    "for desc in soup.find_all('span',class_=\"pdt-name three\"):\n",
    "    desc_hpant.append((desc).get_text())"
   ]
  },
  {
   "cell_type": "code",
   "execution_count": 104,
   "metadata": {},
   "outputs": [],
   "source": [
    "marque_hshort = []\n",
    "desc_hshort = []\n",
    "lien_hshort = []\n",
    "html = urlopen(\"https://www.galerieslafayette.com/c/homme-pret-a-porter-pantalons+et+shorts\")\n",
    "soup = BeautifulSoup(html, \"html.parser\")\n",
    "for marque in soup.find_all('strong',attrs={\"class\" :\"pdt-brand bold-large-title-marque one\"}):\n",
    "    marque_hshort.append((marque).get_text())\n",
    "\n",
    "for link in soup.find_all('a',class_=\"js-pdt-link js-recommendation-event\"):\n",
    "    lien_hshort.append(\"https://www.galerieslafayette.com\" + link.get('href'))\n",
    "for desc in soup.find_all('span',class_=\"pdt-name three\"):\n",
    "    desc_hshort.append((desc).get_text())"
   ]
  },
  {
   "cell_type": "markdown",
   "metadata": {},
   "source": [
    "# FEMMME"
   ]
  },
  {
   "cell_type": "markdown",
   "metadata": {},
   "source": [
    "# TSHIRT & DEBARDEUR"
   ]
  },
  {
   "cell_type": "code",
   "execution_count": 105,
   "metadata": {},
   "outputs": [],
   "source": [
    "marque_ftshirt = []\n",
    "desc_ftshirt = []\n",
    "lien_ftshirt = []\n",
    "prix_ftshirt = []\n",
    "html = urlopen(\"https://www.galerieslafayette.com/c/femme-pret-a-porter-tops+et+t-shirts/f/t-shirts\")\n",
    "soup = BeautifulSoup(html, \"html.parser\")\n",
    "for marque in soup.find_all('strong',attrs={\"class\" :\"pdt-brand bold-large-title-marque one\"}):\n",
    "    marque_ftshirt.append((marque).get_text())\n",
    "\n",
    "for link in soup.find_all('a',class_=\"js-pdt-link js-recommendation-event\"):\n",
    "    lien_ftshirt.append(\"https://www.galerieslafayette.com\" + link.get('href'))\n",
    "for desc in soup.find_all('span',class_=\"pdt-name three\"):\n",
    "    desc_ftshirt.append((desc).get_text())\n",
    "    \n",
    "prix_ftshirt = []\n",
    "prix_ftshirt_temp = []\n",
    "\n",
    "for price in soup.find_all('span',attrs={\"class\" :\"price promotion\"}):\n",
    "    prix_ftshirt_temp.append(re.findall(r\"\\d+,\\d{2}\",str(price)))\n",
    "for elem in prix_ftshirt_temp:\n",
    "    prix_ftshirt.append(\" \".join(elem))  "
   ]
  },
  {
   "cell_type": "code",
   "execution_count": 106,
   "metadata": {},
   "outputs": [],
   "source": [
    "marque_fdeb =[]\n",
    "desc_fdeb = []\n",
    "lien_fdeb = []\n",
    "html = urlopen(\"https://www.galerieslafayette.com/c/homme-pret-a-porter-t-shirts+et+polos/f/debardeurs\")\n",
    "soup = BeautifulSoup(html, \"html.parser\")\n",
    "for marque in soup.find_all('strong',attrs={\"class\" :\"pdt-brand bold-large-title-marque one\"}):\n",
    "    marque_fdeb.append((marque).get_text())\n",
    "\n",
    "for link in soup.find_all('a',class_=\"js-pdt-link js-recommendation-event\"):\n",
    "    lien_fdeb.append(\"https://www.galerieslafayette.com\" + link.get('href'))\n",
    "for desc in soup.find_all('span',class_=\"pdt-name three\"):\n",
    "    desc_fdeb.append((desc).get_text())\n",
    "\n",
    "prix_fdeb = []\n",
    "prix_fdeb_temp = []\n",
    "\n",
    "for price in soup.find_all('span',attrs={\"class\" :\"price promotion\"}):\n",
    "    prix_fdeb_temp.append(re.findall(r\"\\d+,\\d{2}\",str(price)))\n",
    "for elem in prix_fdeb_temp:\n",
    "    prix_fdeb.append(\" \".join(elem))  "
   ]
  },
  {
   "cell_type": "markdown",
   "metadata": {},
   "source": [
    "# PULL"
   ]
  },
  {
   "cell_type": "code",
   "execution_count": 107,
   "metadata": {},
   "outputs": [],
   "source": [
    "marque_fpull = []\n",
    "desc_fpull = []\n",
    "lien_fpull = []\n",
    "html = urlopen(\"https://www.galerieslafayette.com/c/homme-pret-a-porter-maille\")\n",
    "soup = BeautifulSoup(html, \"html.parser\")\n",
    "for marque in soup.find_all('strong',attrs={\"class\" :\"pdt-brand bold-large-title-marque one\"}):\n",
    "    marque_fpull.append((marque).get_text())\n",
    "\n",
    "for link in soup.find_all('a',class_=\"js-pdt-link js-recommendation-event\"):\n",
    "    lien_fpull.append(\"https://www.galerieslafayette.com\" + link.get('href'))\n",
    "for desc in soup.find_all('span',class_=\"pdt-name three\"):\n",
    "    desc_fpull.append((desc).get_text())\n",
    "\n",
    "prix_fpull = []\n",
    "prix_fpull_temp = []\n",
    "\n",
    "for price in soup.find_all('span',attrs={\"class\" :\"price promotion\"}):\n",
    "    prix_fpull_temp.append(re.findall(r\"\\d+,\\d{2}\",str(price)))\n",
    "for elem in prix_ftpull_temp:\n",
    "    prix_fpull.append(\" \".join(elem))  "
   ]
  },
  {
   "cell_type": "markdown",
   "metadata": {},
   "source": [
    "# PANTALON & JUPE"
   ]
  },
  {
   "cell_type": "code",
   "execution_count": 108,
   "metadata": {},
   "outputs": [],
   "source": [
    "marque_fpant = []\n",
    "desc_fpant = []\n",
    "lien_fpant = []\n",
    "html = urlopen(\"https://www.galerieslafayette.com/c/femme-pret-a-porter-jeans\")\n",
    "soup = BeautifulSoup(html, \"html.parser\")\n",
    "for marque in soup.find_all('strong',attrs={\"class\" :\"pdt-brand bold-large-title-marque one\"}):\n",
    "    marque_fpant.append((marque).get_text())\n",
    "\n",
    "for link in soup.find_all('a',class_=\"js-pdt-link js-recommendation-event\"):\n",
    "    lien_fpant.append(\"https://www.galerieslafayette.com\" + link.get('href'))\n",
    "for desc in soup.find_all('span',class_=\"pdt-name three\"):\n",
    "    desc_fpant.append((desc).get_text())\n",
    "    \n",
    "prix_fpant = []\n",
    "prix_fpant_temp = []\n",
    "\n",
    "for price in soup.find_all('span',attrs={\"class\" :\"price promotion\"}):\n",
    "    prix_fpant_temp.append(re.findall(r\"\\d+,\\d{2}\",str(price)))\n",
    "for elem in prix_ftshirt_temp:\n",
    "    prix_fpant.append(\" \".join(elem))  "
   ]
  },
  {
   "cell_type": "code",
   "execution_count": 109,
   "metadata": {},
   "outputs": [],
   "source": [
    "marque_fjupe = []\n",
    "desc_fjupe = []\n",
    "lien_fjupe = []\n",
    "html = urlopen(\"https://www.galerieslafayette.com/c/femme-pret-a-porter-jupes\")\n",
    "soup = BeautifulSoup(html, \"html.parser\")\n",
    "for marque in soup.find_all('strong',attrs={\"class\" :\"pdt-brand bold-large-title-marque one\"}):\n",
    "    marque_fjupe.append((marque).get_text())\n",
    "\n",
    "for link in soup.find_all('a',class_=\"js-pdt-link js-recommendation-event\"):\n",
    "    lien_fjupe.append(\"https://www.galerieslafayette.com\" + link.get('href'))\n",
    "for desc in soup.find_all('span',class_=\"pdt-name three\"):\n",
    "    desc_fjupe.append((desc).get_text())\n",
    "    \n",
    "prix_fjupe = []\n",
    "prix_fjupe_temp = []\n",
    "\n",
    "for price in soup.find_all('span',attrs={\"class\" :\"price promotion\"}):\n",
    "    prix_fjupe_temp.append(re.findall(r\"\\d+,\\d{2}\",str(price)))\n",
    "for elem in prix_ftshirt_temp:\n",
    "    prix_fjupe.append(\" \".join(elem))  "
   ]
  },
  {
   "cell_type": "markdown",
   "metadata": {},
   "source": [
    "# PARAPLUIE"
   ]
  },
  {
   "cell_type": "code",
   "execution_count": 110,
   "metadata": {},
   "outputs": [],
   "source": [
    "marque_para = []\n",
    "desc_para = []\n",
    "lien_para = []\n",
    "html = urlopen(\"https://www.galerieslafayette.com/s/parapluies+automatiques/f/parapluies+automatiques\")\n",
    "soup = BeautifulSoup(html, \"html.parser\")\n",
    "for marque in soup.find_all('strong',attrs={\"class\" :\"pdt-brand bold-large-title-marque one\"}):\n",
    "    marque_para.append((marque).get_text())\n",
    "\n",
    "for link in soup.find_all('a',class_=\"js-pdt-link js-recommendation-event\"):\n",
    "    lien_para.append(\"https://www.galerieslafayette.com\" + link.get('href'))\n",
    "for desc in soup.find_all('span',class_=\"pdt-name three\"):\n",
    "    desc_para.append((desc).get_text())\n",
    "\n",
    "prix_para = []\n",
    "prix_para_temp = []\n",
    "\n",
    "for price in soup.find_all('span',attrs={\"class\" :\"price promotion\"}):\n",
    "    prix_para_temp.append(re.findall(r\"\\d+,\\d{2}\",str(price)))\n",
    "for elem in prix_ftshirt_temp:\n",
    "    prix_para.append(\" \".join(elem)) "
   ]
  }
 ],
 "metadata": {
  "kernelspec": {
   "display_name": "Python 3",
   "language": "python",
   "name": "python3"
  },
  "language_info": {
   "codemirror_mode": {
    "name": "ipython",
    "version": 3
   },
   "file_extension": ".py",
   "mimetype": "text/x-python",
   "name": "python",
   "nbconvert_exporter": "python",
   "pygments_lexer": "ipython3",
   "version": "3.6.4"
  }
 },
 "nbformat": 4,
 "nbformat_minor": 2
}
